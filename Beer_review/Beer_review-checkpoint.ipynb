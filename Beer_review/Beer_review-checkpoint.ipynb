{
 "cells": [
  {
   "cell_type": "markdown",
   "metadata": {
    "toc": true
   },
   "source": [
    "<h1>Table of Contents<span class=\"tocSkip\"></span></h1>\n",
    "<div class=\"toc\"><ul class=\"toc-item\"><li><span><a href=\"#Project-Background\" data-toc-modified-id=\"Project-Background-1\"><span class=\"toc-item-num\">1&nbsp;&nbsp;</span>Project Background</a></span></li><li><span><a href=\"#Data-Understanding\" data-toc-modified-id=\"Data-Understanding-2\"><span class=\"toc-item-num\">2&nbsp;&nbsp;</span>Data Understanding</a></span><ul class=\"toc-item\"><li><span><a href=\"#Describe-the-dataset\" data-toc-modified-id=\"Describe-the-dataset-2.1\"><span class=\"toc-item-num\">2.1&nbsp;&nbsp;</span>Describe the dataset</a></span></li><li><span><a href=\"#Data-Cleaning\" data-toc-modified-id=\"Data-Cleaning-2.2\"><span class=\"toc-item-num\">2.2&nbsp;&nbsp;</span>Data Cleaning</a></span><ul class=\"toc-item\"><li><span><a href=\"#Drop-the-missing-value\" data-toc-modified-id=\"Drop-the-missing-value-2.2.1\"><span class=\"toc-item-num\">2.2.1&nbsp;&nbsp;</span>Drop the missing value</a></span></li><li><span><a href=\"#Remove-the-duplicate-items\" data-toc-modified-id=\"Remove-the-duplicate-items-2.2.2\"><span class=\"toc-item-num\">2.2.2&nbsp;&nbsp;</span>Remove the duplicate items</a></span></li><li><span><a href=\"#Remove-outliers\" data-toc-modified-id=\"Remove-outliers-2.2.3\"><span class=\"toc-item-num\">2.2.3&nbsp;&nbsp;</span>Remove outliers</a></span></li><li><span><a href=\"#Correct-the-data-type\" data-toc-modified-id=\"Correct-the-data-type-2.2.4\"><span class=\"toc-item-num\">2.2.4&nbsp;&nbsp;</span>Correct the data type</a></span></li></ul></li></ul></li><li><span><a href=\"#Recommendation-Analysis\" data-toc-modified-id=\"Recommendation-Analysis-3\"><span class=\"toc-item-num\">3&nbsp;&nbsp;</span>Recommendation Analysis</a></span><ul class=\"toc-item\"><li><span><a href=\"#Descriptive-statistics\" data-toc-modified-id=\"Descriptive-statistics-3.1\"><span class=\"toc-item-num\">3.1&nbsp;&nbsp;</span>Descriptive statistics</a></span><ul class=\"toc-item\"><li><span><a href=\"#Histogram-of-numerical-columns\" data-toc-modified-id=\"Histogram-of-numerical-columns-3.1.1\"><span class=\"toc-item-num\">3.1.1&nbsp;&nbsp;</span>Histogram of numerical columns</a></span></li><li><span><a href=\"#Top-10-popular-breweries\" data-toc-modified-id=\"Top-10-popular-breweries-3.1.2\"><span class=\"toc-item-num\">3.1.2&nbsp;&nbsp;</span>Top 10 popular breweries</a></span></li><li><span><a href=\"#The-Top-10-brewery-with-the-most-beer-types\" data-toc-modified-id=\"The-Top-10-brewery-with-the-most-beer-types-3.1.3\"><span class=\"toc-item-num\">3.1.3&nbsp;&nbsp;</span>The Top 10 brewery with the most beer types</a></span></li><li><span><a href=\"#The-Top-10-popular-beers\" data-toc-modified-id=\"The-Top-10-popular-beers-3.1.4\"><span class=\"toc-item-num\">3.1.4&nbsp;&nbsp;</span>The Top 10 popular beers</a></span></li><li><span><a href=\"#The-Top-10-popular-beer-styles\" data-toc-modified-id=\"The-Top-10-popular-beer-styles-3.1.5\"><span class=\"toc-item-num\">3.1.5&nbsp;&nbsp;</span>The Top 10 popular beer styles</a></span></li></ul></li><li><span><a href=\"#Get-the-two-recommendations\" data-toc-modified-id=\"Get-the-two-recommendations-3.2\"><span class=\"toc-item-num\">3.2&nbsp;&nbsp;</span>Get the two recommendations</a></span></li><li><span><a href=\"#Additional-exploration-of-the-dataset\" data-toc-modified-id=\"Additional-exploration-of-the-dataset-3.3\"><span class=\"toc-item-num\">3.3&nbsp;&nbsp;</span>Additional exploration of the dataset</a></span><ul class=\"toc-item\"><li><span><a href=\"#The-correlation-of-review-features\" data-toc-modified-id=\"The-correlation-of-review-features-3.3.1\"><span class=\"toc-item-num\">3.3.1&nbsp;&nbsp;</span>The correlation of review features</a></span></li><li><span><a href=\"#The-time-series-line-chart-of-reviews\" data-toc-modified-id=\"The-time-series-line-chart-of-reviews-3.3.2\"><span class=\"toc-item-num\">3.3.2&nbsp;&nbsp;</span>The time-series line chart of reviews</a></span></li></ul></li></ul></li><li><span><a href=\"#Conclusion\" data-toc-modified-id=\"Conclusion-4\"><span class=\"toc-item-num\">4&nbsp;&nbsp;</span>Conclusion</a></span></li></ul></div>"
   ]
  },
  {
   "cell_type": "markdown",
   "metadata": {},
   "source": [
    "# Project Background\n",
    "Question definition:\n",
    "- To get two recommendations using the dataset, and report to the HR department for weekly report.\n",
    "- To discorver interesting insights from the dataset\n"
   ]
  },
  {
   "cell_type": "markdown",
   "metadata": {},
   "source": [
    "#  Data Understanding\n"
   ]
  },
  {
   "cell_type": "code",
   "execution_count": 1,
   "metadata": {},
   "outputs": [],
   "source": [
    "import pandas as pd\n",
    "import numpy as np\n",
    "import matplotlib.pyplot as plt\n",
    "import seaborn as sns\n",
    "import plotly.graph_objs as go\n",
    "import plotly\n",
    "import plotly.figure_factory as ff\n"
   ]
  },
  {
   "cell_type": "code",
   "execution_count": 2,
   "metadata": {},
   "outputs": [
    {
     "data": {
      "text/html": [
       "<div>\n",
       "<style scoped>\n",
       "    .dataframe tbody tr th:only-of-type {\n",
       "        vertical-align: middle;\n",
       "    }\n",
       "\n",
       "    .dataframe tbody tr th {\n",
       "        vertical-align: top;\n",
       "    }\n",
       "\n",
       "    .dataframe thead th {\n",
       "        text-align: right;\n",
       "    }\n",
       "</style>\n",
       "<table border=\"1\" class=\"dataframe\">\n",
       "  <thead>\n",
       "    <tr style=\"text-align: right;\">\n",
       "      <th></th>\n",
       "      <th>brewery_id</th>\n",
       "      <th>brewery_name</th>\n",
       "      <th>review_time</th>\n",
       "      <th>review_overall</th>\n",
       "      <th>review_aroma</th>\n",
       "      <th>review_appearance</th>\n",
       "      <th>review_profilename</th>\n",
       "      <th>beer_style</th>\n",
       "      <th>review_palate</th>\n",
       "      <th>review_taste</th>\n",
       "      <th>beer_name</th>\n",
       "      <th>beer_abv</th>\n",
       "      <th>beer_beerid</th>\n",
       "    </tr>\n",
       "  </thead>\n",
       "  <tbody>\n",
       "    <tr>\n",
       "      <th>0</th>\n",
       "      <td>10325</td>\n",
       "      <td>Vecchio Birraio</td>\n",
       "      <td>1234817823</td>\n",
       "      <td>1.5</td>\n",
       "      <td>2.0</td>\n",
       "      <td>2.5</td>\n",
       "      <td>stcules</td>\n",
       "      <td>Hefeweizen</td>\n",
       "      <td>1.5</td>\n",
       "      <td>1.5</td>\n",
       "      <td>Sausa Weizen</td>\n",
       "      <td>5.0</td>\n",
       "      <td>47986</td>\n",
       "    </tr>\n",
       "    <tr>\n",
       "      <th>1</th>\n",
       "      <td>10325</td>\n",
       "      <td>Vecchio Birraio</td>\n",
       "      <td>1235915097</td>\n",
       "      <td>3.0</td>\n",
       "      <td>2.5</td>\n",
       "      <td>3.0</td>\n",
       "      <td>stcules</td>\n",
       "      <td>English Strong Ale</td>\n",
       "      <td>3.0</td>\n",
       "      <td>3.0</td>\n",
       "      <td>Red Moon</td>\n",
       "      <td>6.2</td>\n",
       "      <td>48213</td>\n",
       "    </tr>\n",
       "    <tr>\n",
       "      <th>2</th>\n",
       "      <td>10325</td>\n",
       "      <td>Vecchio Birraio</td>\n",
       "      <td>1235916604</td>\n",
       "      <td>3.0</td>\n",
       "      <td>2.5</td>\n",
       "      <td>3.0</td>\n",
       "      <td>stcules</td>\n",
       "      <td>Foreign / Export Stout</td>\n",
       "      <td>3.0</td>\n",
       "      <td>3.0</td>\n",
       "      <td>Black Horse Black Beer</td>\n",
       "      <td>6.5</td>\n",
       "      <td>48215</td>\n",
       "    </tr>\n",
       "    <tr>\n",
       "      <th>3</th>\n",
       "      <td>10325</td>\n",
       "      <td>Vecchio Birraio</td>\n",
       "      <td>1234725145</td>\n",
       "      <td>3.0</td>\n",
       "      <td>3.0</td>\n",
       "      <td>3.5</td>\n",
       "      <td>stcules</td>\n",
       "      <td>German Pilsener</td>\n",
       "      <td>2.5</td>\n",
       "      <td>3.0</td>\n",
       "      <td>Sausa Pils</td>\n",
       "      <td>5.0</td>\n",
       "      <td>47969</td>\n",
       "    </tr>\n",
       "    <tr>\n",
       "      <th>4</th>\n",
       "      <td>1075</td>\n",
       "      <td>Caldera Brewing Company</td>\n",
       "      <td>1293735206</td>\n",
       "      <td>4.0</td>\n",
       "      <td>4.5</td>\n",
       "      <td>4.0</td>\n",
       "      <td>johnmichaelsen</td>\n",
       "      <td>American Double / Imperial IPA</td>\n",
       "      <td>4.0</td>\n",
       "      <td>4.5</td>\n",
       "      <td>Cauldron DIPA</td>\n",
       "      <td>7.7</td>\n",
       "      <td>64883</td>\n",
       "    </tr>\n",
       "  </tbody>\n",
       "</table>\n",
       "</div>"
      ],
      "text/plain": [
       "   brewery_id             brewery_name  review_time  review_overall  \\\n",
       "0       10325          Vecchio Birraio   1234817823             1.5   \n",
       "1       10325          Vecchio Birraio   1235915097             3.0   \n",
       "2       10325          Vecchio Birraio   1235916604             3.0   \n",
       "3       10325          Vecchio Birraio   1234725145             3.0   \n",
       "4        1075  Caldera Brewing Company   1293735206             4.0   \n",
       "\n",
       "   review_aroma  review_appearance review_profilename  \\\n",
       "0           2.0                2.5            stcules   \n",
       "1           2.5                3.0            stcules   \n",
       "2           2.5                3.0            stcules   \n",
       "3           3.0                3.5            stcules   \n",
       "4           4.5                4.0     johnmichaelsen   \n",
       "\n",
       "                       beer_style  review_palate  review_taste  \\\n",
       "0                      Hefeweizen            1.5           1.5   \n",
       "1              English Strong Ale            3.0           3.0   \n",
       "2          Foreign / Export Stout            3.0           3.0   \n",
       "3                 German Pilsener            2.5           3.0   \n",
       "4  American Double / Imperial IPA            4.0           4.5   \n",
       "\n",
       "                beer_name  beer_abv  beer_beerid  \n",
       "0            Sausa Weizen       5.0        47986  \n",
       "1                Red Moon       6.2        48213  \n",
       "2  Black Horse Black Beer       6.5        48215  \n",
       "3              Sausa Pils       5.0        47969  \n",
       "4           Cauldron DIPA       7.7        64883  "
      ]
     },
     "execution_count": 2,
     "metadata": {},
     "output_type": "execute_result"
    }
   ],
   "source": [
    "df = pd.read_csv(\"./beer_reviews.csv\")\n",
    "df.head(5)"
   ]
  },
  {
   "cell_type": "markdown",
   "metadata": {},
   "source": [
    "## Describe the dataset\n"
   ]
  },
  {
   "cell_type": "code",
   "execution_count": 3,
   "metadata": {},
   "outputs": [
    {
     "name": "stdout",
     "output_type": "stream",
     "text": [
      "types of each columns: \n",
      "\n",
      " brewery_id              int64\n",
      "brewery_name           object\n",
      "review_time             int64\n",
      "review_overall        float64\n",
      "review_aroma          float64\n",
      "review_appearance     float64\n",
      "review_profilename     object\n",
      "beer_style             object\n",
      "review_palate         float64\n",
      "review_taste          float64\n",
      "beer_name              object\n",
      "beer_abv              float64\n",
      "beer_beerid             int64\n",
      "dtype: object\n",
      "\n",
      "information of the columns: \n",
      "\n",
      "<class 'pandas.core.frame.DataFrame'>\n",
      "RangeIndex: 1586614 entries, 0 to 1586613\n",
      "Data columns (total 13 columns):\n",
      "brewery_id            1586614 non-null int64\n",
      "brewery_name          1586599 non-null object\n",
      "review_time           1586614 non-null int64\n",
      "review_overall        1586614 non-null float64\n",
      "review_aroma          1586614 non-null float64\n",
      "review_appearance     1586614 non-null float64\n",
      "review_profilename    1586266 non-null object\n",
      "beer_style            1586614 non-null object\n",
      "review_palate         1586614 non-null float64\n",
      "review_taste          1586614 non-null float64\n",
      "beer_name             1586614 non-null object\n",
      "beer_abv              1518829 non-null float64\n",
      "beer_beerid           1586614 non-null int64\n",
      "dtypes: float64(6), int64(3), object(4)\n",
      "memory usage: 157.4+ MB\n",
      "None\n"
     ]
    }
   ],
   "source": [
    "print(\"types of each columns: \\n\\n\",df.dtypes)\n",
    "print(\"\\ninformation of the columns: \\n\")\n",
    "print(df.info())"
   ]
  },
  {
   "cell_type": "code",
   "execution_count": 4,
   "metadata": {},
   "outputs": [
    {
     "name": "stdout",
     "output_type": "stream",
     "text": [
      "Count of unique breweries, by brewery_id:  5840\n",
      "Count of unique breweries, by brewery_name:  5742\n"
     ]
    }
   ],
   "source": [
    "print(\"Count of unique breweries, by brewery_id: \" ,df.brewery_id.nunique())\n",
    "print(\"Count of unique breweries, by brewery_name: \" ,df.brewery_name.nunique())"
   ]
  },
  {
   "cell_type": "code",
   "execution_count": 5,
   "metadata": {},
   "outputs": [
    {
     "name": "stdout",
     "output_type": "stream",
     "text": [
      "Count of unique beers, by beer_id:  66055\n",
      "Count of unique beers, by beer_name:  56857\n"
     ]
    }
   ],
   "source": [
    "print(\"Count of unique beers, by beer_id: \" ,df.beer_beerid.nunique())\n",
    "print(\"Count of unique beers, by beer_name: \" ,df.beer_name.nunique())"
   ]
  },
  {
   "cell_type": "code",
   "execution_count": 6,
   "metadata": {},
   "outputs": [
    {
     "name": "stdout",
     "output_type": "stream",
     "text": [
      "Count of unique users, by review_profilename:  33387\n"
     ]
    }
   ],
   "source": [
    "print(\"Count of unique users, by review_profilename: \" ,df.review_profilename.nunique())"
   ]
  },
  {
   "cell_type": "markdown",
   "metadata": {},
   "source": [
    "From the information above, we can understand the follows:\n",
    "- Columns of the dataset:\n",
    "  - Information of the brewery: brewery_id, brewery_name\n",
    "  \n",
    "  - Information of the beer: beer_name,beer_beerid,beer_abv,beer_style\n",
    "  \n",
    "  - Information of the reviewer: review_profilename\n",
    "  \n",
    "  - All about review: review_time review_overall, review_aroma, review_appearance, review_palate, review_taste\n",
    "  \n",
    "  \n",
    "  \n",
    "  \n",
    "\n",
    "  \n",
    "  \n",
    "- This dataset contains 1.5 million+ reviews of around 60,000 beers from 5000+ wineries.\n",
    "\n",
    "\n",
    "\n",
    "\n",
    "\n",
    "\n",
    "- The review_time column needs to convert the data type from int to datetime."
   ]
  },
  {
   "cell_type": "markdown",
   "metadata": {},
   "source": [
    "## Data Cleaning\n",
    "### Drop the missing value \n"
   ]
  },
  {
   "cell_type": "code",
   "execution_count": 7,
   "metadata": {},
   "outputs": [
    {
     "name": "stdout",
     "output_type": "stream",
     "text": [
      "Overview of missing values in the dataset: /n brewery_id                0\n",
      "brewery_name             15\n",
      "review_time               0\n",
      "review_overall            0\n",
      "review_aroma              0\n",
      "review_appearance         0\n",
      "review_profilename      348\n",
      "beer_style                0\n",
      "review_palate             0\n",
      "review_taste              0\n",
      "beer_name                 0\n",
      "beer_abv              67785\n",
      "beer_beerid               0\n",
      "dtype: int64\n"
     ]
    }
   ],
   "source": [
    "print(\"Overview of missing values in the dataset: /n\",df.isnull().sum())\n"
   ]
  },
  {
   "cell_type": "code",
   "execution_count": 8,
   "metadata": {},
   "outputs": [
    {
     "name": "stdout",
     "output_type": "stream",
     "text": [
      "<class 'pandas.core.frame.DataFrame'>\n",
      "Int64Index: 1518478 entries, 0 to 1586613\n",
      "Data columns (total 13 columns):\n",
      "brewery_id            1518478 non-null int64\n",
      "brewery_name          1518478 non-null object\n",
      "review_time           1518478 non-null int64\n",
      "review_overall        1518478 non-null float64\n",
      "review_aroma          1518478 non-null float64\n",
      "review_appearance     1518478 non-null float64\n",
      "review_profilename    1518478 non-null object\n",
      "beer_style            1518478 non-null object\n",
      "review_palate         1518478 non-null float64\n",
      "review_taste          1518478 non-null float64\n",
      "beer_name             1518478 non-null object\n",
      "beer_abv              1518478 non-null float64\n",
      "beer_beerid           1518478 non-null int64\n",
      "dtypes: float64(6), int64(3), object(4)\n",
      "memory usage: 162.2+ MB\n",
      "After dropping the missing value None\n"
     ]
    }
   ],
   "source": [
    "df=df.dropna()\n",
    "print(\"After dropping the missing value\",df.info())"
   ]
  },
  {
   "cell_type": "markdown",
   "metadata": {},
   "source": [
    "### Remove the duplicate items"
   ]
  },
  {
   "cell_type": "code",
   "execution_count": 9,
   "metadata": {},
   "outputs": [
    {
     "name": "stdout",
     "output_type": "stream",
     "text": [
      "a user review the same beer more than one time, by beer_beerid: \n",
      "         review_profilename                        beer_name  beer_beerid  \\\n",
      "187        barleywinefiend                 Caldera Pale Ale        25414   \n",
      "199        barleywinefiend                 Caldera Pale Ale        25414   \n",
      "389        barleywinefiend                      Caldera IPA        10784   \n",
      "426        barleywinefiend                      Caldera IPA        10784   \n",
      "804              flexabull                    Ashland Amber        10785   \n",
      "...                    ...                              ...          ...   \n",
      "1585815             rayjay  Drake's Drakonic Imperial Stout        12172   \n",
      "1586013        Georgiabeer            Drake's 1500 Pale Ale        25095   \n",
      "1586027        Georgiabeer            Drake's 1500 Pale Ale        25095   \n",
      "1586580             EPseja                  O'Defiant Stout        36388   \n",
      "1586581             EPseja                  O'Defiant Stout        36388   \n",
      "\n",
      "         review_overall  \n",
      "187                 4.0  \n",
      "199                 4.0  \n",
      "389                 4.0  \n",
      "426                 3.5  \n",
      "804                 4.0  \n",
      "...                 ...  \n",
      "1585815             4.5  \n",
      "1586013             4.0  \n",
      "1586027             4.0  \n",
      "1586580             5.0  \n",
      "1586581             5.0  \n",
      "\n",
      "[28379 rows x 4 columns]\n"
     ]
    }
   ],
   "source": [
    "print(\"a user review the same beer more than one time, by beer_beerid: \\n\",df.loc[df.duplicated(['review_profilename','beer_beerid'],keep=False)][['review_profilename','beer_name','beer_beerid','review_overall']])"
   ]
  },
  {
   "cell_type": "code",
   "execution_count": 10,
   "metadata": {},
   "outputs": [
    {
     "name": "stdout",
     "output_type": "stream",
     "text": [
      "a user review the same beer more than one time, by beer_name: \n",
      "         review_profilename  beer_beerid         beer_name  review_overall\n",
      "187        barleywinefiend        25414  Caldera Pale Ale             4.0\n",
      "199        barleywinefiend        25414  Caldera Pale Ale             4.0\n",
      "389        barleywinefiend        10784       Caldera IPA             4.0\n",
      "426        barleywinefiend        10784       Caldera IPA             3.5\n",
      "804              flexabull        10785     Ashland Amber             4.0\n",
      "...                    ...          ...               ...             ...\n",
      "1586560          Billolick        35185    India Pale Ale             4.0\n",
      "1586563           dherling        35185    India Pale Ale             4.0\n",
      "1586564               cbl2        35185    India Pale Ale             4.0\n",
      "1586580             EPseja        36388   O'Defiant Stout             5.0\n",
      "1586581             EPseja        36388   O'Defiant Stout             5.0\n",
      "\n",
      "[41425 rows x 4 columns]\n"
     ]
    }
   ],
   "source": [
    "print(\"a user review the same beer more than one time, by beer_name: \\n\",df.loc[df.duplicated(['review_profilename','beer_name'],keep=False)][['review_profilename','beer_beerid','beer_name',\"review_overall\"]])"
   ]
  },
  {
   "cell_type": "markdown",
   "metadata": {},
   "source": [
    "In this case, some users reviewed the same beer more than one time. We would keep the highest rating that user gave."
   ]
  },
  {
   "cell_type": "code",
   "execution_count": 11,
   "metadata": {},
   "outputs": [],
   "source": [
    "df = df.sort_values(\"review_overall\",ascending=False)\n",
    "df = df.drop_duplicates(subset = ['review_profilename','beer_beerid'],keep='first')\n",
    "df = df.drop_duplicates(subset = ['review_profilename','beer_name'],keep='first')\n"
   ]
  },
  {
   "cell_type": "code",
   "execution_count": 12,
   "metadata": {},
   "outputs": [
    {
     "name": "stdout",
     "output_type": "stream",
     "text": [
      "<class 'pandas.core.frame.DataFrame'>\n",
      "Int64Index: 1496263 entries, 1586613 to 39648\n",
      "Data columns (total 13 columns):\n",
      "brewery_id            1496263 non-null int64\n",
      "brewery_name          1496263 non-null object\n",
      "review_time           1496263 non-null int64\n",
      "review_overall        1496263 non-null float64\n",
      "review_aroma          1496263 non-null float64\n",
      "review_appearance     1496263 non-null float64\n",
      "review_profilename    1496263 non-null object\n",
      "beer_style            1496263 non-null object\n",
      "review_palate         1496263 non-null float64\n",
      "review_taste          1496263 non-null float64\n",
      "beer_name             1496263 non-null object\n",
      "beer_abv              1496263 non-null float64\n",
      "beer_beerid           1496263 non-null int64\n",
      "dtypes: float64(6), int64(3), object(4)\n",
      "memory usage: 159.8+ MB\n"
     ]
    }
   ],
   "source": [
    "df.info()"
   ]
  },
  {
   "cell_type": "markdown",
   "metadata": {},
   "source": [
    "After dropping the duplicated reviews, there are still 1496263 reviews left in the dataset."
   ]
  },
  {
   "cell_type": "markdown",
   "metadata": {},
   "source": [
    "### Remove outliers"
   ]
  },
  {
   "cell_type": "code",
   "execution_count": 13,
   "metadata": {},
   "outputs": [
    {
     "data": {
      "text/html": [
       "<div>\n",
       "<style scoped>\n",
       "    .dataframe tbody tr th:only-of-type {\n",
       "        vertical-align: middle;\n",
       "    }\n",
       "\n",
       "    .dataframe tbody tr th {\n",
       "        vertical-align: top;\n",
       "    }\n",
       "\n",
       "    .dataframe thead th {\n",
       "        text-align: right;\n",
       "    }\n",
       "</style>\n",
       "<table border=\"1\" class=\"dataframe\">\n",
       "  <thead>\n",
       "    <tr style=\"text-align: right;\">\n",
       "      <th></th>\n",
       "      <th>brewery_id</th>\n",
       "      <th>review_time</th>\n",
       "      <th>review_overall</th>\n",
       "      <th>review_aroma</th>\n",
       "      <th>review_appearance</th>\n",
       "      <th>review_palate</th>\n",
       "      <th>review_taste</th>\n",
       "      <th>beer_abv</th>\n",
       "      <th>beer_beerid</th>\n",
       "    </tr>\n",
       "  </thead>\n",
       "  <tbody>\n",
       "    <tr>\n",
       "      <th>count</th>\n",
       "      <td>1496263.00</td>\n",
       "      <td>1.496263e+06</td>\n",
       "      <td>1496263.00</td>\n",
       "      <td>1496263.00</td>\n",
       "      <td>1496263.00</td>\n",
       "      <td>1496263.00</td>\n",
       "      <td>1496263.00</td>\n",
       "      <td>1496263.00</td>\n",
       "      <td>1496263.00</td>\n",
       "    </tr>\n",
       "    <tr>\n",
       "      <th>mean</th>\n",
       "      <td>3068.78</td>\n",
       "      <td>1.225547e+09</td>\n",
       "      <td>3.83</td>\n",
       "      <td>3.75</td>\n",
       "      <td>3.85</td>\n",
       "      <td>3.75</td>\n",
       "      <td>3.80</td>\n",
       "      <td>7.05</td>\n",
       "      <td>21445.02</td>\n",
       "    </tr>\n",
       "    <tr>\n",
       "      <th>std</th>\n",
       "      <td>5541.95</td>\n",
       "      <td>7.574836e+07</td>\n",
       "      <td>0.72</td>\n",
       "      <td>0.70</td>\n",
       "      <td>0.61</td>\n",
       "      <td>0.68</td>\n",
       "      <td>0.73</td>\n",
       "      <td>2.33</td>\n",
       "      <td>21800.60</td>\n",
       "    </tr>\n",
       "    <tr>\n",
       "      <th>min</th>\n",
       "      <td>1.00</td>\n",
       "      <td>8.843904e+08</td>\n",
       "      <td>0.00</td>\n",
       "      <td>1.00</td>\n",
       "      <td>0.00</td>\n",
       "      <td>1.00</td>\n",
       "      <td>1.00</td>\n",
       "      <td>0.01</td>\n",
       "      <td>5.00</td>\n",
       "    </tr>\n",
       "    <tr>\n",
       "      <th>25%</th>\n",
       "      <td>141.00</td>\n",
       "      <td>1.175877e+09</td>\n",
       "      <td>3.50</td>\n",
       "      <td>3.50</td>\n",
       "      <td>3.50</td>\n",
       "      <td>3.50</td>\n",
       "      <td>3.50</td>\n",
       "      <td>5.20</td>\n",
       "      <td>1655.00</td>\n",
       "    </tr>\n",
       "    <tr>\n",
       "      <th>50%</th>\n",
       "      <td>413.00</td>\n",
       "      <td>1.240543e+09</td>\n",
       "      <td>4.00</td>\n",
       "      <td>4.00</td>\n",
       "      <td>4.00</td>\n",
       "      <td>4.00</td>\n",
       "      <td>4.00</td>\n",
       "      <td>6.50</td>\n",
       "      <td>12962.00</td>\n",
       "    </tr>\n",
       "    <tr>\n",
       "      <th>75%</th>\n",
       "      <td>2250.00</td>\n",
       "      <td>1.289228e+09</td>\n",
       "      <td>4.50</td>\n",
       "      <td>4.00</td>\n",
       "      <td>4.00</td>\n",
       "      <td>4.00</td>\n",
       "      <td>4.50</td>\n",
       "      <td>8.50</td>\n",
       "      <td>39286.00</td>\n",
       "    </tr>\n",
       "    <tr>\n",
       "      <th>max</th>\n",
       "      <td>28003.00</td>\n",
       "      <td>1.326285e+09</td>\n",
       "      <td>5.00</td>\n",
       "      <td>5.00</td>\n",
       "      <td>5.00</td>\n",
       "      <td>5.00</td>\n",
       "      <td>5.00</td>\n",
       "      <td>57.70</td>\n",
       "      <td>77316.00</td>\n",
       "    </tr>\n",
       "  </tbody>\n",
       "</table>\n",
       "</div>"
      ],
      "text/plain": [
       "       brewery_id   review_time  review_overall  review_aroma  \\\n",
       "count  1496263.00  1.496263e+06      1496263.00    1496263.00   \n",
       "mean      3068.78  1.225547e+09            3.83          3.75   \n",
       "std       5541.95  7.574836e+07            0.72          0.70   \n",
       "min          1.00  8.843904e+08            0.00          1.00   \n",
       "25%        141.00  1.175877e+09            3.50          3.50   \n",
       "50%        413.00  1.240543e+09            4.00          4.00   \n",
       "75%       2250.00  1.289228e+09            4.50          4.00   \n",
       "max      28003.00  1.326285e+09            5.00          5.00   \n",
       "\n",
       "       review_appearance  review_palate  review_taste    beer_abv  beer_beerid  \n",
       "count         1496263.00     1496263.00    1496263.00  1496263.00   1496263.00  \n",
       "mean                3.85           3.75          3.80        7.05     21445.02  \n",
       "std                 0.61           0.68          0.73        2.33     21800.60  \n",
       "min                 0.00           1.00          1.00        0.01         5.00  \n",
       "25%                 3.50           3.50          3.50        5.20      1655.00  \n",
       "50%                 4.00           4.00          4.00        6.50     12962.00  \n",
       "75%                 4.00           4.00          4.50        8.50     39286.00  \n",
       "max                 5.00           5.00          5.00       57.70     77316.00  "
      ]
     },
     "execution_count": 13,
     "metadata": {},
     "output_type": "execute_result"
    }
   ],
   "source": [
    "round(df.describe(),2)"
   ]
  },
  {
   "cell_type": "markdown",
   "metadata": {},
   "source": [
    "The rating score should be scaled between 1 to 5,however,in the data frame described above, we can find that there are reviews with a score below 1 in the column review_overall and review_apperance. Therefore, we should remove the outliers."
   ]
  },
  {
   "cell_type": "code",
   "execution_count": 14,
   "metadata": {},
   "outputs": [
    {
     "data": {
      "text/html": [
       "<div>\n",
       "<style scoped>\n",
       "    .dataframe tbody tr th:only-of-type {\n",
       "        vertical-align: middle;\n",
       "    }\n",
       "\n",
       "    .dataframe tbody tr th {\n",
       "        vertical-align: top;\n",
       "    }\n",
       "\n",
       "    .dataframe thead th {\n",
       "        text-align: right;\n",
       "    }\n",
       "</style>\n",
       "<table border=\"1\" class=\"dataframe\">\n",
       "  <thead>\n",
       "    <tr style=\"text-align: right;\">\n",
       "      <th></th>\n",
       "      <th>brewery_id</th>\n",
       "      <th>review_time</th>\n",
       "      <th>review_overall</th>\n",
       "      <th>review_aroma</th>\n",
       "      <th>review_appearance</th>\n",
       "      <th>review_palate</th>\n",
       "      <th>review_taste</th>\n",
       "      <th>beer_abv</th>\n",
       "      <th>beer_beerid</th>\n",
       "    </tr>\n",
       "  </thead>\n",
       "  <tbody>\n",
       "    <tr>\n",
       "      <th>count</th>\n",
       "      <td>1496256.00</td>\n",
       "      <td>1.496256e+06</td>\n",
       "      <td>1496256.00</td>\n",
       "      <td>1496256.00</td>\n",
       "      <td>1496256.00</td>\n",
       "      <td>1496256.00</td>\n",
       "      <td>1496256.00</td>\n",
       "      <td>1496256.00</td>\n",
       "      <td>1496256.00</td>\n",
       "    </tr>\n",
       "    <tr>\n",
       "      <th>mean</th>\n",
       "      <td>3068.78</td>\n",
       "      <td>1.225548e+09</td>\n",
       "      <td>3.83</td>\n",
       "      <td>3.75</td>\n",
       "      <td>3.85</td>\n",
       "      <td>3.75</td>\n",
       "      <td>3.80</td>\n",
       "      <td>7.05</td>\n",
       "      <td>21445.10</td>\n",
       "    </tr>\n",
       "    <tr>\n",
       "      <th>std</th>\n",
       "      <td>5541.96</td>\n",
       "      <td>7.574736e+07</td>\n",
       "      <td>0.72</td>\n",
       "      <td>0.70</td>\n",
       "      <td>0.61</td>\n",
       "      <td>0.68</td>\n",
       "      <td>0.73</td>\n",
       "      <td>2.33</td>\n",
       "      <td>21800.62</td>\n",
       "    </tr>\n",
       "    <tr>\n",
       "      <th>min</th>\n",
       "      <td>1.00</td>\n",
       "      <td>8.843904e+08</td>\n",
       "      <td>1.00</td>\n",
       "      <td>1.00</td>\n",
       "      <td>1.00</td>\n",
       "      <td>1.00</td>\n",
       "      <td>1.00</td>\n",
       "      <td>0.01</td>\n",
       "      <td>5.00</td>\n",
       "    </tr>\n",
       "    <tr>\n",
       "      <th>25%</th>\n",
       "      <td>141.00</td>\n",
       "      <td>1.175878e+09</td>\n",
       "      <td>3.50</td>\n",
       "      <td>3.50</td>\n",
       "      <td>3.50</td>\n",
       "      <td>3.50</td>\n",
       "      <td>3.50</td>\n",
       "      <td>5.20</td>\n",
       "      <td>1655.00</td>\n",
       "    </tr>\n",
       "    <tr>\n",
       "      <th>50%</th>\n",
       "      <td>413.00</td>\n",
       "      <td>1.240543e+09</td>\n",
       "      <td>4.00</td>\n",
       "      <td>4.00</td>\n",
       "      <td>4.00</td>\n",
       "      <td>4.00</td>\n",
       "      <td>4.00</td>\n",
       "      <td>6.50</td>\n",
       "      <td>12962.00</td>\n",
       "    </tr>\n",
       "    <tr>\n",
       "      <th>75%</th>\n",
       "      <td>2250.00</td>\n",
       "      <td>1.289228e+09</td>\n",
       "      <td>4.50</td>\n",
       "      <td>4.00</td>\n",
       "      <td>4.00</td>\n",
       "      <td>4.00</td>\n",
       "      <td>4.50</td>\n",
       "      <td>8.50</td>\n",
       "      <td>39286.00</td>\n",
       "    </tr>\n",
       "    <tr>\n",
       "      <th>max</th>\n",
       "      <td>28003.00</td>\n",
       "      <td>1.326285e+09</td>\n",
       "      <td>5.00</td>\n",
       "      <td>5.00</td>\n",
       "      <td>5.00</td>\n",
       "      <td>5.00</td>\n",
       "      <td>5.00</td>\n",
       "      <td>57.70</td>\n",
       "      <td>77316.00</td>\n",
       "    </tr>\n",
       "  </tbody>\n",
       "</table>\n",
       "</div>"
      ],
      "text/plain": [
       "       brewery_id   review_time  review_overall  review_aroma  \\\n",
       "count  1496256.00  1.496256e+06      1496256.00    1496256.00   \n",
       "mean      3068.78  1.225548e+09            3.83          3.75   \n",
       "std       5541.96  7.574736e+07            0.72          0.70   \n",
       "min          1.00  8.843904e+08            1.00          1.00   \n",
       "25%        141.00  1.175878e+09            3.50          3.50   \n",
       "50%        413.00  1.240543e+09            4.00          4.00   \n",
       "75%       2250.00  1.289228e+09            4.50          4.00   \n",
       "max      28003.00  1.326285e+09            5.00          5.00   \n",
       "\n",
       "       review_appearance  review_palate  review_taste    beer_abv  beer_beerid  \n",
       "count         1496256.00     1496256.00    1496256.00  1496256.00   1496256.00  \n",
       "mean                3.85           3.75          3.80        7.05     21445.10  \n",
       "std                 0.61           0.68          0.73        2.33     21800.62  \n",
       "min                 1.00           1.00          1.00        0.01         5.00  \n",
       "25%                 3.50           3.50          3.50        5.20      1655.00  \n",
       "50%                 4.00           4.00          4.00        6.50     12962.00  \n",
       "75%                 4.00           4.00          4.50        8.50     39286.00  \n",
       "max                 5.00           5.00          5.00       57.70     77316.00  "
      ]
     },
     "execution_count": 14,
     "metadata": {},
     "output_type": "execute_result"
    }
   ],
   "source": [
    "df = df.loc[(df.review_overall>=1) & (df.review_appearance>=1)]\n",
    "round(df.describe(),2)"
   ]
  },
  {
   "cell_type": "markdown",
   "metadata": {},
   "source": [
    "### Correct the data type"
   ]
  },
  {
   "cell_type": "code",
   "execution_count": 15,
   "metadata": {},
   "outputs": [],
   "source": [
    "df.review_time = pd.to_datetime (df.review_time,unit = 's')"
   ]
  },
  {
   "cell_type": "code",
   "execution_count": 16,
   "metadata": {},
   "outputs": [
    {
     "data": {
      "text/plain": [
       "brewery_id                     int64\n",
       "brewery_name                  object\n",
       "review_time           datetime64[ns]\n",
       "review_overall               float64\n",
       "review_aroma                 float64\n",
       "review_appearance            float64\n",
       "review_profilename            object\n",
       "beer_style                    object\n",
       "review_palate                float64\n",
       "review_taste                 float64\n",
       "beer_name                     object\n",
       "beer_abv                     float64\n",
       "beer_beerid                    int64\n",
       "dtype: object"
      ]
     },
     "execution_count": 16,
     "metadata": {},
     "output_type": "execute_result"
    }
   ],
   "source": [
    "df.dtypes"
   ]
  },
  {
   "cell_type": "markdown",
   "metadata": {},
   "source": [
    "# Recommendation Analysis"
   ]
  },
  {
   "cell_type": "markdown",
   "metadata": {},
   "source": [
    "## Descriptive statistics"
   ]
  },
  {
   "cell_type": "markdown",
   "metadata": {},
   "source": [
    "### Histogram of numerical columns"
   ]
  },
  {
   "cell_type": "code",
   "execution_count": 24,
   "metadata": {
    "scrolled": true
   },
   "outputs": [
    {
     "data": {
      "text/plain": [
       "array([[<matplotlib.axes._subplots.AxesSubplot object at 0x0000020489ED4CC8>,\n",
       "        <matplotlib.axes._subplots.AxesSubplot object at 0x000002048A219A48>,\n",
       "        <matplotlib.axes._subplots.AxesSubplot object at 0x000002048A1C7F88>],\n",
       "       [<matplotlib.axes._subplots.AxesSubplot object at 0x0000020489F0D608>,\n",
       "        <matplotlib.axes._subplots.AxesSubplot object at 0x000002048FAB8BC8>,\n",
       "        <matplotlib.axes._subplots.AxesSubplot object at 0x000002048A1E6248>],\n",
       "       [<matplotlib.axes._subplots.AxesSubplot object at 0x0000020489DF7D48>,\n",
       "        <matplotlib.axes._subplots.AxesSubplot object at 0x0000020489F7EAC8>,\n",
       "        <matplotlib.axes._subplots.AxesSubplot object at 0x0000020489F81948>]],\n",
       "      dtype=object)"
      ]
     },
     "execution_count": 24,
     "metadata": {},
     "output_type": "execute_result"
    },
    {
     "data": {
      "image/png": "[encoded data removed]",
      "text/plain": [
       "<Figure size 1080x1080 with 9 Axes>"
      ]
     },
     "metadata": {
      "needs_background": "light"
     },
     "output_type": "display_data"
    }
   ],
   "source": [
    "df.hist(figsize=(15,15),color='#007399')"
   ]
  },
  {
   "cell_type": "markdown",
   "metadata": {},
   "source": [
    "- beer_abv(right long-tailed distribution),most of the beers are less than 20% abv.\n",
    "- review_appearance (normal distribution), most beers are rated between 3.5 and 4.5.\n",
    "- review_aroma (normal distribution), most beers are rated between 3.5 and 4.5.\n",
    "- review_plate (normal distribution), most beers are rated between 3.5 and 4.5.\n",
    "- review_taste (normal distribution), most beers are rated between 3.5 and 4.5.\n",
    "- review_overall (normal distribution), As review_overall is the mean of review_appearance, review_aroma, review_plate and review_taste, the overall rate of beers are between 3.5.to 4.5\n",
    "- beer_beerid (right long-tailed distribution), beers with lower id own more reviews.\n",
    "- brewery_id (right long-tailed distribution), breweries with lower id own more reviews."
   ]
  },
  {
   "cell_type": "markdown",
   "metadata": {},
   "source": [
    "### Top 10 popular breweries"
   ]
  },
  {
   "cell_type": "code",
   "execution_count": 27,
   "metadata": {},
   "outputs": [
    {
     "data": {
      "application/vnd.plotly.v1+json": {
       "config": {
        "linkText": "Export to plot.ly",
        "plotlyServerURL": "https://plot.ly",
        "showLink": false
       },
       "data": [
        {
         "hoverinfo": "x",
         "marker": {
          "color": "rgb(1, 77, 102)"
         },
         "opacity": 0.75,
         "orientation": "h",
         "text": [
          "Avery Brewing Company",
          "Lagunitas Brewing Company",
          "Victory Brewing Company",
          "Founders Brewing Company",
          "Rogue Ales",
          "Bell's Brewery, Inc.",
          "Sierra Nevada Brewing Co.",
          "Stone Brewing Co.",
          "Dogfish Head Brewery",
          "Boston Beer Company (Samuel Adams)"
         ],
         "textposition": "inside",
         "type": "bar",
         "x": [
          15816,
          16659,
          19033,
          19655,
          22912,
          24611,
          28235,
          32482,
          33348,
          38533
         ],
         "y": [
          "Avery Brewing Company",
          "Lagunitas Brewing Company",
          "Victory Brewing Company",
          "Founders Brewing Company",
          "Rogue Ales",
          "Bell's Brewery, Inc.",
          "Sierra Nevada Brewing Co.",
          "Stone Brewing Co.",
          "Dogfish Head Brewery",
          "Boston Beer Company (Samuel Adams)"
         ]
        }
       ],
       "layout": {
        "font": {
         "color": "dark gray",
         "family": "Comic Sans MS"
        },
        "margin": {
         "l": 220
        },
        "template": {
         "data": {
          "bar": [
           {
            "error_x": {
             "color": "#2a3f5f"
            },
            "error_y": {
             "color": "#2a3f5f"
            },
            "marker": {
             "line": {
              "color": "#E5ECF6",
              "width": 0.5
             }
            },
            "type": "bar"
           }
          ],
          "barpolar": [
           {
            "marker": {
             "line": {
              "color": "#E5ECF6",
              "width": 0.5
             }
            },
            "type": "barpolar"
           }
          ],
          "carpet": [
           {
            "aaxis": {
             "endlinecolor": "#2a3f5f",
             "gridcolor": "white",
             "linecolor": "white",
             "minorgridcolor": "white",
             "startlinecolor": "#2a3f5f"
            },
            "baxis": {
             "endlinecolor": "#2a3f5f",
             "gridcolor": "white",
             "linecolor": "white",
             "minorgridcolor": "white",
             "startlinecolor": "#2a3f5f"
            },
            "type": "carpet"
           }
          ],
          "choropleth": [
           {
            "colorbar": {
             "outlinewidth": 0,
             "ticks": ""
            },
            "type": "choropleth"
           }
          ],
          "contour": [
           {
            "colorbar": {
             "outlinewidth": 0,
             "ticks": ""
            },
            "colorscale": [
             [
              0,
              "#0d0887"
             ],
             [
              0.1111111111111111,
              "#46039f"
             ],
             [
              0.2222222222222222,
              "#7201a8"
             ],
             [
              0.3333333333333333,
              "#9c179e"
             ],
             [
              0.4444444444444444,
              "#bd3786"
             ],
             [
              0.5555555555555556,
              "#d8576b"
             ],
             [
              0.6666666666666666,
              "#ed7953"
             ],
             [
              0.7777777777777778,
              "#fb9f3a"
             ],
             [
              0.8888888888888888,
              "#fdca26"
             ],
             [
              1,
              "#f0f921"
             ]
            ],
            "type": "contour"
           }
          ],
          "contourcarpet": [
           {
            "colorbar": {
             "outlinewidth": 0,
             "ticks": ""
            },
            "type": "contourcarpet"
           }
          ],
          "heatmap": [
           {
            "colorbar": {
             "outlinewidth": 0,
             "ticks": ""
            },
            "colorscale": [
             [
              0,
              "#0d0887"
             ],
             [
              0.1111111111111111,
              "#46039f"
             ],
             [
              0.2222222222222222,
              "#7201a8"
             ],
             [
              0.3333333333333333,
              "#9c179e"
             ],
             [
              0.4444444444444444,
              "#bd3786"
             ],
             [
              0.5555555555555556,
              "#d8576b"
             ],
             [
              0.6666666666666666,
              "#ed7953"
             ],
             [
              0.7777777777777778,
              "#fb9f3a"
             ],
             [
              0.8888888888888888,
              "#fdca26"
             ],
             [
              1,
              "#f0f921"
             ]
            ],
            "type": "heatmap"
           }
          ],
          "heatmapgl": [
           {
            "colorbar": {
             "outlinewidth": 0,
             "ticks": ""
            },
            "colorscale": [
             [
              0,
              "#0d0887"
             ],
             [
              0.1111111111111111,
              "#46039f"
             ],
             [
              0.2222222222222222,
              "#7201a8"
             ],
             [
              0.3333333333333333,
              "#9c179e"
             ],
             [
              0.4444444444444444,
              "#bd3786"
             ],
             [
              0.5555555555555556,
              "#d8576b"
             ],
             [
              0.6666666666666666,
              "#ed7953"
             ],
             [
              0.7777777777777778,
              "#fb9f3a"
             ],
             [
              0.8888888888888888,
              "#fdca26"
             ],
             [
              1,
              "#f0f921"
             ]
            ],
            "type": "heatmapgl"
           }
          ],
          "histogram": [
           {
            "marker": {
             "colorbar": {
              "outlinewidth": 0,
              "ticks": ""
             }
            },
            "type": "histogram"
           }
          ],
          "histogram2d": [
           {
            "colorbar": {
             "outlinewidth": 0,
             "ticks": ""
            },
            "colorscale": [
             [
              0,
              "#0d0887"
             ],
             [
              0.1111111111111111,
              "#46039f"
             ],
             [
              0.2222222222222222,
              "#7201a8"
             ],
             [
              0.3333333333333333,
              "#9c179e"
             ],
             [
              0.4444444444444444,
              "#bd3786"
             ],
             [
              0.5555555555555556,
              "#d8576b"
             ],
             [
              0.6666666666666666,
              "#ed7953"
             ],
             [
              0.7777777777777778,
              "#fb9f3a"
             ],
             [
              0.8888888888888888,
              "#fdca26"
             ],
             [
              1,
              "#f0f921"
             ]
            ],
            "type": "histogram2d"
           }
          ],
          "histogram2dcontour": [
           {
            "colorbar": {
             "outlinewidth": 0,
             "ticks": ""
            },
            "colorscale": [
             [
              0,
              "#0d0887"
             ],
             [
              0.1111111111111111,
              "#46039f"
             ],
             [
              0.2222222222222222,
              "#7201a8"
             ],
             [
              0.3333333333333333,
              "#9c179e"
             ],
             [
              0.4444444444444444,
              "#bd3786"
             ],
             [
              0.5555555555555556,
              "#d8576b"
             ],
             [
              0.6666666666666666,
              "#ed7953"
             ],
             [
              0.7777777777777778,
              "#fb9f3a"
             ],
             [
              0.8888888888888888,
              "#fdca26"
             ],
             [
              1,
              "#f0f921"
             ]
            ],
            "type": "histogram2dcontour"
           }
          ],
          "mesh3d": [
           {
            "colorbar": {
             "outlinewidth": 0,
             "ticks": ""
            },
            "type": "mesh3d"
           }
          ],
          "parcoords": [
           {
            "line": {
             "colorbar": {
              "outlinewidth": 0,
              "ticks": ""
             }
            },
            "type": "parcoords"
           }
          ],
          "pie": [
           {
            "automargin": true,
            "type": "pie"
           }
          ],
          "scatter": [
           {
            "marker": {
             "colorbar": {
              "outlinewidth": 0,
              "ticks": ""
             }
            },
            "type": "scatter"
           }
          ],
          "scatter3d": [
           {
            "line": {
             "colorbar": {
              "outlinewidth": 0,
              "ticks": ""
             }
            },
            "marker": {
             "colorbar": {
              "outlinewidth": 0,
              "ticks": ""
             }
            },
            "type": "scatter3d"
           }
          ],
          "scattercarpet": [
           {
            "marker": {
             "colorbar": {
              "outlinewidth": 0,
              "ticks": ""
             }
            },
            "type": "scattercarpet"
           }
          ],
          "scattergeo": [
           {
            "marker": {
             "colorbar": {
              "outlinewidth": 0,
              "ticks": ""
             }
            },
            "type": "scattergeo"
           }
          ],
          "scattergl": [
           {
            "marker": {
             "colorbar": {
              "outlinewidth": 0,
              "ticks": ""
             }
            },
            "type": "scattergl"
           }
          ],
          "scattermapbox": [
           {
            "marker": {
             "colorbar": {
              "outlinewidth": 0,
              "ticks": ""
             }
            },
            "type": "scattermapbox"
           }
          ],
          "scatterpolar": [
           {
            "marker": {
             "colorbar": {
              "outlinewidth": 0,
              "ticks": ""
             }
            },
            "type": "scatterpolar"
           }
          ],
          "scatterpolargl": [
           {
            "marker": {
             "colorbar": {
              "outlinewidth": 0,
              "ticks": ""
             }
            },
            "type": "scatterpolargl"
           }
          ],
          "scatterternary": [
           {
            "marker": {
             "colorbar": {
              "outlinewidth": 0,
              "ticks": ""
             }
            },
            "type": "scatterternary"
           }
          ],
          "surface": [
           {
            "colorbar": {
             "outlinewidth": 0,
             "ticks": ""
            },
            "colorscale": [
             [
              0,
              "#0d0887"
             ],
             [
              0.1111111111111111,
              "#46039f"
             ],
             [
              0.2222222222222222,
              "#7201a8"
             ],
             [
              0.3333333333333333,
              "#9c179e"
             ],
             [
              0.4444444444444444,
              "#bd3786"
             ],
             [
              0.5555555555555556,
              "#d8576b"
             ],
             [
              0.6666666666666666,
              "#ed7953"
             ],
             [
              0.7777777777777778,
              "#fb9f3a"
             ],
             [
              0.8888888888888888,
              "#fdca26"
             ],
             [
              1,
              "#f0f921"
             ]
            ],
            "type": "surface"
           }
          ],
          "table": [
           {
            "cells": {
             "fill": {
              "color": "#EBF0F8"
             },
             "line": {
              "color": "white"
             }
            },
            "header": {
             "fill": {
              "color": "#C8D4E3"
             },
             "line": {
              "color": "white"
             }
            },
            "type": "table"
           }
          ]
         },
         "layout": {
          "annotationdefaults": {
           "arrowcolor": "#2a3f5f",
           "arrowhead": 0,
           "arrowwidth": 1
          },
          "coloraxis": {
           "colorbar": {
            "outlinewidth": 0,
            "ticks": ""
           }
          },
          "colorscale": {
           "diverging": [
            [
             0,
             "#8e0152"
            ],
            [
             0.1,
             "#c51b7d"
            ],
            [
             0.2,
             "#de77ae"
            ],
            [
             0.3,
             "#f1b6da"
            ],
            [
             0.4,
             "#fde0ef"
            ],
            [
             0.5,
             "#f7f7f7"
            ],
            [
             0.6,
             "#e6f5d0"
            ],
            [
             0.7,
             "#b8e186"
            ],
            [
             0.8,
             "#7fbc41"
            ],
            [
             0.9,
             "#4d9221"
            ],
            [
             1,
             "#276419"
            ]
           ],
           "sequential": [
            [
             0,
             "#0d0887"
            ],
            [
             0.1111111111111111,
             "#46039f"
            ],
            [
             0.2222222222222222,
             "#7201a8"
            ],
            [
             0.3333333333333333,
             "#9c179e"
            ],
            [
             0.4444444444444444,
             "#bd3786"
            ],
            [
             0.5555555555555556,
             "#d8576b"
            ],
            [
             0.6666666666666666,
             "#ed7953"
            ],
            [
             0.7777777777777778,
             "#fb9f3a"
            ],
            [
             0.8888888888888888,
             "#fdca26"
            ],
            [
             1,
             "#f0f921"
            ]
           ],
           "sequentialminus": [
            [
             0,
             "#0d0887"
            ],
            [
             0.1111111111111111,
             "#46039f"
            ],
            [
             0.2222222222222222,
             "#7201a8"
            ],
            [
             0.3333333333333333,
             "#9c179e"
            ],
            [
             0.4444444444444444,
             "#bd3786"
            ],
            [
             0.5555555555555556,
             "#d8576b"
            ],
            [
             0.6666666666666666,
             "#ed7953"
            ],
            [
             0.7777777777777778,
             "#fb9f3a"
            ],
            [
             0.8888888888888888,
             "#fdca26"
            ],
            [
             1,
             "#f0f921"
            ]
           ]
          },
          "colorway": [
           "#636efa",
           "#EF553B",
           "#00cc96",
           "#ab63fa",
           "#FFA15A",
           "#19d3f3",
           "#FF6692",
           "#B6E880",
           "#FF97FF",
           "#FECB52"
          ],
          "font": {
           "color": "#2a3f5f"
          },
          "geo": {
           "bgcolor": "white",
           "lakecolor": "white",
           "landcolor": "#E5ECF6",
           "showlakes": true,
           "showland": true,
           "subunitcolor": "white"
          },
          "hoverlabel": {
           "align": "left"
          },
          "hovermode": "closest",
          "mapbox": {
           "style": "light"
          },
          "paper_bgcolor": "white",
          "plot_bgcolor": "#E5ECF6",
          "polar": {
           "angularaxis": {
            "gridcolor": "white",
            "linecolor": "white",
            "ticks": ""
           },
           "bgcolor": "#E5ECF6",
           "radialaxis": {
            "gridcolor": "white",
            "linecolor": "white",
            "ticks": ""
           }
          },
          "scene": {
           "xaxis": {
            "backgroundcolor": "#E5ECF6",
            "gridcolor": "white",
            "gridwidth": 2,
            "linecolor": "white",
            "showbackground": true,
            "ticks": "",
            "zerolinecolor": "white"
           },
           "yaxis": {
            "backgroundcolor": "#E5ECF6",
            "gridcolor": "white",
            "gridwidth": 2,
            "linecolor": "white",
            "showbackground": true,
            "ticks": "",
            "zerolinecolor": "white"
           },
           "zaxis": {
            "backgroundcolor": "#E5ECF6",
            "gridcolor": "white",
            "gridwidth": 2,
            "linecolor": "white",
            "showbackground": true,
            "ticks": "",
            "zerolinecolor": "white"
           }
          },
          "shapedefaults": {
           "line": {
            "color": "#2a3f5f"
           }
          },
          "ternary": {
           "aaxis": {
            "gridcolor": "white",
            "linecolor": "white",
            "ticks": ""
           },
           "baxis": {
            "gridcolor": "white",
            "linecolor": "white",
            "ticks": ""
           },
           "bgcolor": "#E5ECF6",
           "caxis": {
            "gridcolor": "white",
            "linecolor": "white",
            "ticks": ""
           }
          },
          "title": {
           "x": 0.05
          },
          "xaxis": {
           "automargin": true,
           "gridcolor": "white",
           "linecolor": "white",
           "ticks": "",
           "title": {
            "standoff": 15
           },
           "zerolinecolor": "white",
           "zerolinewidth": 2
          },
          "yaxis": {
           "automargin": true,
           "gridcolor": "white",
           "linecolor": "white",
           "ticks": "",
           "title": {
            "standoff": 15
           },
           "zerolinecolor": "white",
           "zerolinewidth": 2
          }
         }
        },
        "title": {
         "text": "The Top 10 popular breweries"
        },
        "xaxis": {
         "title": {
          "text": "Count of reviews"
         }
        }
       }
      },
      "text/html": [
       "<div>\n",
       "        \n",
       "        \n",
       "            <div id=\"efa6eeaa-87ce-4e60-8a36-aab9274b99ad\" class=\"plotly-graph-div\" style=\"height:525px; width:100%;\"></div>\n",
       "            <script type=\"text/javascript\">\n",
       "                require([\"plotly\"], function(Plotly) {\n",
       "                    window.PLOTLYENV=window.PLOTLYENV || {};\n",
       "                    \n",
       "                if (document.getElementById(\"efa6eeaa-87ce-4e60-8a36-aab9274b99ad\")) {\n",
       "                    Plotly.newPlot(\n",
       "                        'efa6eeaa-87ce-4e60-8a36-aab9274b99ad',\n",
       "                        [{\"hoverinfo\": \"x\", \"marker\": {\"color\": \"rgb(1, 77, 102)\"}, \"opacity\": 0.75, \"orientation\": \"h\", \"text\": [\"Avery Brewing Company\", \"Lagunitas Brewing Company\", \"Victory Brewing Company\", \"Founders Brewing Company\", \"Rogue Ales\", \"Bell's Brewery, Inc.\", \"Sierra Nevada Brewing Co.\", \"Stone Brewing Co.\", \"Dogfish Head Brewery\", \"Boston Beer Company (Samuel Adams)\"], \"textposition\": \"inside\", \"type\": \"bar\", \"x\": [15816, 16659, 19033, 19655, 22912, 24611, 28235, 32482, 33348, 38533], \"y\": [\"Avery Brewing Company\", \"Lagunitas Brewing Company\", \"Victory Brewing Company\", \"Founders Brewing Company\", \"Rogue Ales\", \"Bell's Brewery, Inc.\", \"Sierra Nevada Brewing Co.\", \"Stone Brewing Co.\", \"Dogfish Head Brewery\", \"Boston Beer Company (Samuel Adams)\"]}],\n",
       "                        {\"font\": {\"color\": \"dark gray\", \"family\": \"Comic Sans MS\"}, \"margin\": {\"l\": 220}, \"template\": {\"data\": {\"bar\": [{\"error_x\": {\"color\": \"#2a3f5f\"}, \"error_y\": {\"color\": \"#2a3f5f\"}, \"marker\": {\"line\": {\"color\": \"#E5ECF6\", \"width\": 0.5}}, \"type\": \"bar\"}], \"barpolar\": [{\"marker\": {\"line\": {\"color\": \"#E5ECF6\", \"width\": 0.5}}, \"type\": \"barpolar\"}], \"carpet\": [{\"aaxis\": {\"endlinecolor\": \"#2a3f5f\", \"gridcolor\": \"white\", \"linecolor\": \"white\", \"minorgridcolor\": \"white\", \"startlinecolor\": \"#2a3f5f\"}, \"baxis\": {\"endlinecolor\": \"#2a3f5f\", \"gridcolor\": \"white\", \"linecolor\": \"white\", \"minorgridcolor\": \"white\", \"startlinecolor\": \"#2a3f5f\"}, \"type\": \"carpet\"}], \"choropleth\": [{\"colorbar\": {\"outlinewidth\": 0, \"ticks\": \"\"}, \"type\": \"choropleth\"}], \"contour\": [{\"colorbar\": {\"outlinewidth\": 0, \"ticks\": \"\"}, \"colorscale\": [[0.0, \"#0d0887\"], [0.1111111111111111, \"#46039f\"], [0.2222222222222222, \"#7201a8\"], [0.3333333333333333, \"#9c179e\"], [0.4444444444444444, \"#bd3786\"], [0.5555555555555556, \"#d8576b\"], [0.6666666666666666, \"#ed7953\"], [0.7777777777777778, \"#fb9f3a\"], [0.8888888888888888, \"#fdca26\"], [1.0, \"#f0f921\"]], \"type\": \"contour\"}], \"contourcarpet\": [{\"colorbar\": {\"outlinewidth\": 0, \"ticks\": \"\"}, \"type\": \"contourcarpet\"}], \"heatmap\": [{\"colorbar\": {\"outlinewidth\": 0, \"ticks\": \"\"}, \"colorscale\": [[0.0, \"#0d0887\"], [0.1111111111111111, \"#46039f\"], [0.2222222222222222, \"#7201a8\"], [0.3333333333333333, \"#9c179e\"], [0.4444444444444444, \"#bd3786\"], [0.5555555555555556, \"#d8576b\"], [0.6666666666666666, \"#ed7953\"], [0.7777777777777778, \"#fb9f3a\"], [0.8888888888888888, \"#fdca26\"], [1.0, \"#f0f921\"]], \"type\": \"heatmap\"}], \"heatmapgl\": [{\"colorbar\": {\"outlinewidth\": 0, \"ticks\": \"\"}, \"colorscale\": [[0.0, \"#0d0887\"], [0.1111111111111111, \"#46039f\"], [0.2222222222222222, \"#7201a8\"], [0.3333333333333333, \"#9c179e\"], [0.4444444444444444, \"#bd3786\"], [0.5555555555555556, \"#d8576b\"], [0.6666666666666666, \"#ed7953\"], [0.7777777777777778, \"#fb9f3a\"], [0.8888888888888888, \"#fdca26\"], [1.0, \"#f0f921\"]], \"type\": \"heatmapgl\"}], \"histogram\": [{\"marker\": {\"colorbar\": {\"outlinewidth\": 0, \"ticks\": \"\"}}, \"type\": \"histogram\"}], \"histogram2d\": [{\"colorbar\": {\"outlinewidth\": 0, \"ticks\": \"\"}, \"colorscale\": [[0.0, \"#0d0887\"], [0.1111111111111111, \"#46039f\"], [0.2222222222222222, \"#7201a8\"], [0.3333333333333333, \"#9c179e\"], [0.4444444444444444, \"#bd3786\"], [0.5555555555555556, \"#d8576b\"], [0.6666666666666666, \"#ed7953\"], [0.7777777777777778, \"#fb9f3a\"], [0.8888888888888888, \"#fdca26\"], [1.0, \"#f0f921\"]], \"type\": \"histogram2d\"}], \"histogram2dcontour\": [{\"colorbar\": {\"outlinewidth\": 0, \"ticks\": \"\"}, \"colorscale\": [[0.0, \"#0d0887\"], [0.1111111111111111, \"#46039f\"], [0.2222222222222222, \"#7201a8\"], [0.3333333333333333, \"#9c179e\"], [0.4444444444444444, \"#bd3786\"], [0.5555555555555556, \"#d8576b\"], [0.6666666666666666, \"#ed7953\"], [0.7777777777777778, \"#fb9f3a\"], [0.8888888888888888, \"#fdca26\"], [1.0, \"#f0f921\"]], \"type\": \"histogram2dcontour\"}], \"mesh3d\": [{\"colorbar\": {\"outlinewidth\": 0, \"ticks\": \"\"}, \"type\": \"mesh3d\"}], \"parcoords\": [{\"line\": {\"colorbar\": {\"outlinewidth\": 0, \"ticks\": \"\"}}, \"type\": \"parcoords\"}], \"pie\": [{\"automargin\": true, \"type\": \"pie\"}], \"scatter\": [{\"marker\": {\"colorbar\": {\"outlinewidth\": 0, \"ticks\": \"\"}}, \"type\": \"scatter\"}], \"scatter3d\": [{\"line\": {\"colorbar\": {\"outlinewidth\": 0, \"ticks\": \"\"}}, \"marker\": {\"colorbar\": {\"outlinewidth\": 0, \"ticks\": \"\"}}, \"type\": \"scatter3d\"}], \"scattercarpet\": [{\"marker\": {\"colorbar\": {\"outlinewidth\": 0, \"ticks\": \"\"}}, \"type\": \"scattercarpet\"}], \"scattergeo\": [{\"marker\": {\"colorbar\": {\"outlinewidth\": 0, \"ticks\": \"\"}}, \"type\": \"scattergeo\"}], \"scattergl\": [{\"marker\": {\"colorbar\": {\"outlinewidth\": 0, \"ticks\": \"\"}}, \"type\": \"scattergl\"}], \"scattermapbox\": [{\"marker\": {\"colorbar\": {\"outlinewidth\": 0, \"ticks\": \"\"}}, \"type\": \"scattermapbox\"}], \"scatterpolar\": [{\"marker\": {\"colorbar\": {\"outlinewidth\": 0, \"ticks\": \"\"}}, \"type\": \"scatterpolar\"}], \"scatterpolargl\": [{\"marker\": {\"colorbar\": {\"outlinewidth\": 0, \"ticks\": \"\"}}, \"type\": \"scatterpolargl\"}], \"scatterternary\": [{\"marker\": {\"colorbar\": {\"outlinewidth\": 0, \"ticks\": \"\"}}, \"type\": \"scatterternary\"}], \"surface\": [{\"colorbar\": {\"outlinewidth\": 0, \"ticks\": \"\"}, \"colorscale\": [[0.0, \"#0d0887\"], [0.1111111111111111, \"#46039f\"], [0.2222222222222222, \"#7201a8\"], [0.3333333333333333, \"#9c179e\"], [0.4444444444444444, \"#bd3786\"], [0.5555555555555556, \"#d8576b\"], [0.6666666666666666, \"#ed7953\"], [0.7777777777777778, \"#fb9f3a\"], [0.8888888888888888, \"#fdca26\"], [1.0, \"#f0f921\"]], \"type\": \"surface\"}], \"table\": [{\"cells\": {\"fill\": {\"color\": \"#EBF0F8\"}, \"line\": {\"color\": \"white\"}}, \"header\": {\"fill\": {\"color\": \"#C8D4E3\"}, \"line\": {\"color\": \"white\"}}, \"type\": \"table\"}]}, \"layout\": {\"annotationdefaults\": {\"arrowcolor\": \"#2a3f5f\", \"arrowhead\": 0, \"arrowwidth\": 1}, \"coloraxis\": {\"colorbar\": {\"outlinewidth\": 0, \"ticks\": \"\"}}, \"colorscale\": {\"diverging\": [[0, \"#8e0152\"], [0.1, \"#c51b7d\"], [0.2, \"#de77ae\"], [0.3, \"#f1b6da\"], [0.4, \"#fde0ef\"], [0.5, \"#f7f7f7\"], [0.6, \"#e6f5d0\"], [0.7, \"#b8e186\"], [0.8, \"#7fbc41\"], [0.9, \"#4d9221\"], [1, \"#276419\"]], \"sequential\": [[0.0, \"#0d0887\"], [0.1111111111111111, \"#46039f\"], [0.2222222222222222, \"#7201a8\"], [0.3333333333333333, \"#9c179e\"], [0.4444444444444444, \"#bd3786\"], [0.5555555555555556, \"#d8576b\"], [0.6666666666666666, \"#ed7953\"], [0.7777777777777778, \"#fb9f3a\"], [0.8888888888888888, \"#fdca26\"], [1.0, \"#f0f921\"]], \"sequentialminus\": [[0.0, \"#0d0887\"], [0.1111111111111111, \"#46039f\"], [0.2222222222222222, \"#7201a8\"], [0.3333333333333333, \"#9c179e\"], [0.4444444444444444, \"#bd3786\"], [0.5555555555555556, \"#d8576b\"], [0.6666666666666666, \"#ed7953\"], [0.7777777777777778, \"#fb9f3a\"], [0.8888888888888888, \"#fdca26\"], [1.0, \"#f0f921\"]]}, \"colorway\": [\"#636efa\", \"#EF553B\", \"#00cc96\", \"#ab63fa\", \"#FFA15A\", \"#19d3f3\", \"#FF6692\", \"#B6E880\", \"#FF97FF\", \"#FECB52\"], \"font\": {\"color\": \"#2a3f5f\"}, \"geo\": {\"bgcolor\": \"white\", \"lakecolor\": \"white\", \"landcolor\": \"#E5ECF6\", \"showlakes\": true, \"showland\": true, \"subunitcolor\": \"white\"}, \"hoverlabel\": {\"align\": \"left\"}, \"hovermode\": \"closest\", \"mapbox\": {\"style\": \"light\"}, \"paper_bgcolor\": \"white\", \"plot_bgcolor\": \"#E5ECF6\", \"polar\": {\"angularaxis\": {\"gridcolor\": \"white\", \"linecolor\": \"white\", \"ticks\": \"\"}, \"bgcolor\": \"#E5ECF6\", \"radialaxis\": {\"gridcolor\": \"white\", \"linecolor\": \"white\", \"ticks\": \"\"}}, \"scene\": {\"xaxis\": {\"backgroundcolor\": \"#E5ECF6\", \"gridcolor\": \"white\", \"gridwidth\": 2, \"linecolor\": \"white\", \"showbackground\": true, \"ticks\": \"\", \"zerolinecolor\": \"white\"}, \"yaxis\": {\"backgroundcolor\": \"#E5ECF6\", \"gridcolor\": \"white\", \"gridwidth\": 2, \"linecolor\": \"white\", \"showbackground\": true, \"ticks\": \"\", \"zerolinecolor\": \"white\"}, \"zaxis\": {\"backgroundcolor\": \"#E5ECF6\", \"gridcolor\": \"white\", \"gridwidth\": 2, \"linecolor\": \"white\", \"showbackground\": true, \"ticks\": \"\", \"zerolinecolor\": \"white\"}}, \"shapedefaults\": {\"line\": {\"color\": \"#2a3f5f\"}}, \"ternary\": {\"aaxis\": {\"gridcolor\": \"white\", \"linecolor\": \"white\", \"ticks\": \"\"}, \"baxis\": {\"gridcolor\": \"white\", \"linecolor\": \"white\", \"ticks\": \"\"}, \"bgcolor\": \"#E5ECF6\", \"caxis\": {\"gridcolor\": \"white\", \"linecolor\": \"white\", \"ticks\": \"\"}}, \"title\": {\"x\": 0.05}, \"xaxis\": {\"automargin\": true, \"gridcolor\": \"white\", \"linecolor\": \"white\", \"ticks\": \"\", \"title\": {\"standoff\": 15}, \"zerolinecolor\": \"white\", \"zerolinewidth\": 2}, \"yaxis\": {\"automargin\": true, \"gridcolor\": \"white\", \"linecolor\": \"white\", \"ticks\": \"\", \"title\": {\"standoff\": 15}, \"zerolinecolor\": \"white\", \"zerolinewidth\": 2}}}, \"title\": {\"text\": \"The Top 10 popular breweries\"}, \"xaxis\": {\"title\": {\"text\": \"Count of reviews\"}}},\n",
       "                        {\"responsive\": true}\n",
       "                    ).then(function(){\n",
       "                            \n",
       "var gd = document.getElementById('efa6eeaa-87ce-4e60-8a36-aab9274b99ad');\n",
       "var x = new MutationObserver(function (mutations, observer) {{\n",
       "        var display = window.getComputedStyle(gd).display;\n",
       "        if (!display || display === 'none') {{\n",
       "            console.log([gd, 'removed!']);\n",
       "            Plotly.purge(gd);\n",
       "            observer.disconnect();\n",
       "        }}\n",
       "}});\n",
       "\n",
       "// Listen for the removal of the full notebook cells\n",
       "var notebookContainer = gd.closest('#notebook-container');\n",
       "if (notebookContainer) {{\n",
       "    x.observe(notebookContainer, {childList: true});\n",
       "}}\n",
       "\n",
       "// Listen for the clearing of the current output cell\n",
       "var outputEl = gd.closest('.output');\n",
       "if (outputEl) {{\n",
       "    x.observe(outputEl, {childList: true});\n",
       "}}\n",
       "\n",
       "                        })\n",
       "                };\n",
       "                });\n",
       "            </script>\n",
       "        </div>"
      ]
     },
     "metadata": {},
     "output_type": "display_data"
    }
   ],
   "source": [
    "bar = go.Bar(x=df.brewery_name.value_counts().head(10).sort_values(ascending=True),\n",
    "             y=df.brewery_name.value_counts().head(10).sort_values(ascending=True).index,\n",
    "             hoverinfo = 'x',\n",
    "             text=df.brewery_name.value_counts().head(10).sort_values(ascending=True).index,\n",
    "             textposition = 'inside',\n",
    "             orientation = 'h',\n",
    "             opacity=0.75, \n",
    "             marker=dict(color='rgb(1, 77, 102)'))\n",
    "\n",
    "layout = go.Layout(title='The Top 10 popular breweries',\n",
    "                   xaxis=dict(title=\"Count of reviews\",),\n",
    "                   margin = dict(l = 220),\n",
    "                   font=dict(family='Comic Sans MS',\n",
    "                            color='dark gray'))\n",
    "\n",
    "fig = go.Figure(data=bar, layout=layout)\n",
    "\n",
    "# Plot it\n",
    "plotly.offline.iplot(fig)"
   ]
  },
  {
   "cell_type": "markdown",
   "metadata": {},
   "source": [
    "### The Top 10 brewery with the most beer types"
   ]
  },
  {
   "cell_type": "code",
   "execution_count": 28,
   "metadata": {},
   "outputs": [
    {
     "data": {
      "application/vnd.plotly.v1+json": {
       "config": {
        "linkText": "Export to plot.ly",
        "plotlyServerURL": "https://plot.ly",
        "showLink": false
       },
       "data": [
        {
         "hoverinfo": "x",
         "marker": {
          "color": "rgb(1, 77, 102)"
         },
         "opacity": 0.75,
         "orientation": "h",
         "text": [
          "Kuhnhenn Brewing Company",
          "The Bruery",
          "John Harvard's Brewery & Ale House",
          "Cigar City Brewing",
          "Mikkeller ApS",
          "Port Brewing Company / Pizza Port",
          "Minneapolis Town Hall Brewery",
          "Iron Hill Brewery & Restaurant",
          "Goose Island Beer Co.",
          "Rock Bottom Restaurant & Brewery"
         ],
         "textposition": "inside",
         "type": "bar",
         "x": [
          142,
          143,
          151,
          171,
          184,
          194,
          242,
          267,
          303,
          517
         ],
         "y": [
          "Kuhnhenn Brewing Company",
          "The Bruery",
          "John Harvard's Brewery & Ale House",
          "Cigar City Brewing",
          "Mikkeller ApS",
          "Port Brewing Company / Pizza Port",
          "Minneapolis Town Hall Brewery",
          "Iron Hill Brewery & Restaurant",
          "Goose Island Beer Co.",
          "Rock Bottom Restaurant & Brewery"
         ]
        }
       ],
       "layout": {
        "font": {
         "color": "dark gray",
         "family": "Comic Sans MS"
        },
        "margin": {
         "l": 220
        },
        "template": {
         "data": {
          "bar": [
           {
            "error_x": {
             "color": "#2a3f5f"
            },
            "error_y": {
             "color": "#2a3f5f"
            },
            "marker": {
             "line": {
              "color": "#E5ECF6",
              "width": 0.5
             }
            },
            "type": "bar"
           }
          ],
          "barpolar": [
           {
            "marker": {
             "line": {
              "color": "#E5ECF6",
              "width": 0.5
             }
            },
            "type": "barpolar"
           }
          ],
          "carpet": [
           {
            "aaxis": {
             "endlinecolor": "#2a3f5f",
             "gridcolor": "white",
             "linecolor": "white",
             "minorgridcolor": "white",
             "startlinecolor": "#2a3f5f"
            },
            "baxis": {
             "endlinecolor": "#2a3f5f",
             "gridcolor": "white",
             "linecolor": "white",
             "minorgridcolor": "white",
             "startlinecolor": "#2a3f5f"
            },
            "type": "carpet"
           }
          ],
          "choropleth": [
           {
            "colorbar": {
             "outlinewidth": 0,
             "ticks": ""
            },
            "type": "choropleth"
           }
          ],
          "contour": [
           {
            "colorbar": {
             "outlinewidth": 0,
             "ticks": ""
            },
            "colorscale": [
             [
              0,
              "#0d0887"
             ],
             [
              0.1111111111111111,
              "#46039f"
             ],
             [
              0.2222222222222222,
              "#7201a8"
             ],
             [
              0.3333333333333333,
              "#9c179e"
             ],
             [
              0.4444444444444444,
              "#bd3786"
             ],
             [
              0.5555555555555556,
              "#d8576b"
             ],
             [
              0.6666666666666666,
              "#ed7953"
             ],
             [
              0.7777777777777778,
              "#fb9f3a"
             ],
             [
              0.8888888888888888,
              "#fdca26"
             ],
             [
              1,
              "#f0f921"
             ]
            ],
            "type": "contour"
           }
          ],
          "contourcarpet": [
           {
            "colorbar": {
             "outlinewidth": 0,
             "ticks": ""
            },
            "type": "contourcarpet"
           }
          ],
          "heatmap": [
           {
            "colorbar": {
             "outlinewidth": 0,
             "ticks": ""
            },
            "colorscale": [
             [
              0,
              "#0d0887"
             ],
             [
              0.1111111111111111,
              "#46039f"
             ],
             [
              0.2222222222222222,
              "#7201a8"
             ],
             [
              0.3333333333333333,
              "#9c179e"
             ],
             [
              0.4444444444444444,
              "#bd3786"
             ],
             [
              0.5555555555555556,
              "#d8576b"
             ],
             [
              0.6666666666666666,
              "#ed7953"
             ],
             [
              0.7777777777777778,
              "#fb9f3a"
             ],
             [
              0.8888888888888888,
              "#fdca26"
             ],
             [
              1,
              "#f0f921"
             ]
            ],
            "type": "heatmap"
           }
          ],
          "heatmapgl": [
           {
            "colorbar": {
             "outlinewidth": 0,
             "ticks": ""
            },
            "colorscale": [
             [
              0,
              "#0d0887"
             ],
             [
              0.1111111111111111,
              "#46039f"
             ],
             [
              0.2222222222222222,
              "#7201a8"
             ],
             [
              0.3333333333333333,
              "#9c179e"
             ],
             [
              0.4444444444444444,
              "#bd3786"
             ],
             [
              0.5555555555555556,
              "#d8576b"
             ],
             [
              0.6666666666666666,
              "#ed7953"
             ],
             [
              0.7777777777777778,
              "#fb9f3a"
             ],
             [
              0.8888888888888888,
              "#fdca26"
             ],
             [
              1,
              "#f0f921"
             ]
            ],
            "type": "heatmapgl"
           }
          ],
          "histogram": [
           {
            "marker": {
             "colorbar": {
              "outlinewidth": 0,
              "ticks": ""
             }
            },
            "type": "histogram"
           }
          ],
          "histogram2d": [
           {
            "colorbar": {
             "outlinewidth": 0,
             "ticks": ""
            },
            "colorscale": [
             [
              0,
              "#0d0887"
             ],
             [
              0.1111111111111111,
              "#46039f"
             ],
             [
              0.2222222222222222,
              "#7201a8"
             ],
             [
              0.3333333333333333,
              "#9c179e"
             ],
             [
              0.4444444444444444,
              "#bd3786"
             ],
             [
              0.5555555555555556,
              "#d8576b"
             ],
             [
              0.6666666666666666,
              "#ed7953"
             ],
             [
              0.7777777777777778,
              "#fb9f3a"
             ],
             [
              0.8888888888888888,
              "#fdca26"
             ],
             [
              1,
              "#f0f921"
             ]
            ],
            "type": "histogram2d"
           }
          ],
          "histogram2dcontour": [
           {
            "colorbar": {
             "outlinewidth": 0,
             "ticks": ""
            },
            "colorscale": [
             [
              0,
              "#0d0887"
             ],
             [
              0.1111111111111111,
              "#46039f"
             ],
             [
              0.2222222222222222,
              "#7201a8"
             ],
             [
              0.3333333333333333,
              "#9c179e"
             ],
             [
              0.4444444444444444,
              "#bd3786"
             ],
             [
              0.5555555555555556,
              "#d8576b"
             ],
             [
              0.6666666666666666,
              "#ed7953"
             ],
             [
              0.7777777777777778,
              "#fb9f3a"
             ],
             [
              0.8888888888888888,
              "#fdca26"
             ],
             [
              1,
              "#f0f921"
             ]
            ],
            "type": "histogram2dcontour"
           }
          ],
          "mesh3d": [
           {
            "colorbar": {
             "outlinewidth": 0,
             "ticks": ""
            },
            "type": "mesh3d"
           }
          ],
          "parcoords": [
           {
            "line": {
             "colorbar": {
              "outlinewidth": 0,
              "ticks": ""
             }
            },
            "type": "parcoords"
           }
          ],
          "pie": [
           {
            "automargin": true,
            "type": "pie"
           }
          ],
          "scatter": [
           {
            "marker": {
             "colorbar": {
              "outlinewidth": 0,
              "ticks": ""
             }
            },
            "type": "scatter"
           }
          ],
          "scatter3d": [
           {
            "line": {
             "colorbar": {
              "outlinewidth": 0,
              "ticks": ""
             }
            },
            "marker": {
             "colorbar": {
              "outlinewidth": 0,
              "ticks": ""
             }
            },
            "type": "scatter3d"
           }
          ],
          "scattercarpet": [
           {
            "marker": {
             "colorbar": {
              "outlinewidth": 0,
              "ticks": ""
             }
            },
            "type": "scattercarpet"
           }
          ],
          "scattergeo": [
           {
            "marker": {
             "colorbar": {
              "outlinewidth": 0,
              "ticks": ""
             }
            },
            "type": "scattergeo"
           }
          ],
          "scattergl": [
           {
            "marker": {
             "colorbar": {
              "outlinewidth": 0,
              "ticks": ""
             }
            },
            "type": "scattergl"
           }
          ],
          "scattermapbox": [
           {
            "marker": {
             "colorbar": {
              "outlinewidth": 0,
              "ticks": ""
             }
            },
            "type": "scattermapbox"
           }
          ],
          "scatterpolar": [
           {
            "marker": {
             "colorbar": {
              "outlinewidth": 0,
              "ticks": ""
             }
            },
            "type": "scatterpolar"
           }
          ],
          "scatterpolargl": [
           {
            "marker": {
             "colorbar": {
              "outlinewidth": 0,
              "ticks": ""
             }
            },
            "type": "scatterpolargl"
           }
          ],
          "scatterternary": [
           {
            "marker": {
             "colorbar": {
              "outlinewidth": 0,
              "ticks": ""
             }
            },
            "type": "scatterternary"
           }
          ],
          "surface": [
           {
            "colorbar": {
             "outlinewidth": 0,
             "ticks": ""
            },
            "colorscale": [
             [
              0,
              "#0d0887"
             ],
             [
              0.1111111111111111,
              "#46039f"
             ],
             [
              0.2222222222222222,
              "#7201a8"
             ],
             [
              0.3333333333333333,
              "#9c179e"
             ],
             [
              0.4444444444444444,
              "#bd3786"
             ],
             [
              0.5555555555555556,
              "#d8576b"
             ],
             [
              0.6666666666666666,
              "#ed7953"
             ],
             [
              0.7777777777777778,
              "#fb9f3a"
             ],
             [
              0.8888888888888888,
              "#fdca26"
             ],
             [
              1,
              "#f0f921"
             ]
            ],
            "type": "surface"
           }
          ],
          "table": [
           {
            "cells": {
             "fill": {
              "color": "#EBF0F8"
             },
             "line": {
              "color": "white"
             }
            },
            "header": {
             "fill": {
              "color": "#C8D4E3"
             },
             "line": {
              "color": "white"
             }
            },
            "type": "table"
           }
          ]
         },
         "layout": {
          "annotationdefaults": {
           "arrowcolor": "#2a3f5f",
           "arrowhead": 0,
           "arrowwidth": 1
          },
          "coloraxis": {
           "colorbar": {
            "outlinewidth": 0,
            "ticks": ""
           }
          },
          "colorscale": {
           "diverging": [
            [
             0,
             "#8e0152"
            ],
            [
             0.1,
             "#c51b7d"
            ],
            [
             0.2,
             "#de77ae"
            ],
            [
             0.3,
             "#f1b6da"
            ],
            [
             0.4,
             "#fde0ef"
            ],
            [
             0.5,
             "#f7f7f7"
            ],
            [
             0.6,
             "#e6f5d0"
            ],
            [
             0.7,
             "#b8e186"
            ],
            [
             0.8,
             "#7fbc41"
            ],
            [
             0.9,
             "#4d9221"
            ],
            [
             1,
             "#276419"
            ]
           ],
           "sequential": [
            [
             0,
             "#0d0887"
            ],
            [
             0.1111111111111111,
             "#46039f"
            ],
            [
             0.2222222222222222,
             "#7201a8"
            ],
            [
             0.3333333333333333,
             "#9c179e"
            ],
            [
             0.4444444444444444,
             "#bd3786"
            ],
            [
             0.5555555555555556,
             "#d8576b"
            ],
            [
             0.6666666666666666,
             "#ed7953"
            ],
            [
             0.7777777777777778,
             "#fb9f3a"
            ],
            [
             0.8888888888888888,
             "#fdca26"
            ],
            [
             1,
             "#f0f921"
            ]
           ],
           "sequentialminus": [
            [
             0,
             "#0d0887"
            ],
            [
             0.1111111111111111,
             "#46039f"
            ],
            [
             0.2222222222222222,
             "#7201a8"
            ],
            [
             0.3333333333333333,
             "#9c179e"
            ],
            [
             0.4444444444444444,
             "#bd3786"
            ],
            [
             0.5555555555555556,
             "#d8576b"
            ],
            [
             0.6666666666666666,
             "#ed7953"
            ],
            [
             0.7777777777777778,
             "#fb9f3a"
            ],
            [
             0.8888888888888888,
             "#fdca26"
            ],
            [
             1,
             "#f0f921"
            ]
           ]
          },
          "colorway": [
           "#636efa",
           "#EF553B",
           "#00cc96",
           "#ab63fa",
           "#FFA15A",
           "#19d3f3",
           "#FF6692",
           "#B6E880",
           "#FF97FF",
           "#FECB52"
          ],
          "font": {
           "color": "#2a3f5f"
          },
          "geo": {
           "bgcolor": "white",
           "lakecolor": "white",
           "landcolor": "#E5ECF6",
           "showlakes": true,
           "showland": true,
           "subunitcolor": "white"
          },
          "hoverlabel": {
           "align": "left"
          },
          "hovermode": "closest",
          "mapbox": {
           "style": "light"
          },
          "paper_bgcolor": "white",
          "plot_bgcolor": "#E5ECF6",
          "polar": {
           "angularaxis": {
            "gridcolor": "white",
            "linecolor": "white",
            "ticks": ""
           },
           "bgcolor": "#E5ECF6",
           "radialaxis": {
            "gridcolor": "white",
            "linecolor": "white",
            "ticks": ""
           }
          },
          "scene": {
           "xaxis": {
            "backgroundcolor": "#E5ECF6",
            "gridcolor": "white",
            "gridwidth": 2,
            "linecolor": "white",
            "showbackground": true,
            "ticks": "",
            "zerolinecolor": "white"
           },
           "yaxis": {
            "backgroundcolor": "#E5ECF6",
            "gridcolor": "white",
            "gridwidth": 2,
            "linecolor": "white",
            "showbackground": true,
            "ticks": "",
            "zerolinecolor": "white"
           },
           "zaxis": {
            "backgroundcolor": "#E5ECF6",
            "gridcolor": "white",
            "gridwidth": 2,
            "linecolor": "white",
            "showbackground": true,
            "ticks": "",
            "zerolinecolor": "white"
           }
          },
          "shapedefaults": {
           "line": {
            "color": "#2a3f5f"
           }
          },
          "ternary": {
           "aaxis": {
            "gridcolor": "white",
            "linecolor": "white",
            "ticks": ""
           },
           "baxis": {
            "gridcolor": "white",
            "linecolor": "white",
            "ticks": ""
           },
           "bgcolor": "#E5ECF6",
           "caxis": {
            "gridcolor": "white",
            "linecolor": "white",
            "ticks": ""
           }
          },
          "title": {
           "x": 0.05
          },
          "xaxis": {
           "automargin": true,
           "gridcolor": "white",
           "linecolor": "white",
           "ticks": "",
           "title": {
            "standoff": 15
           },
           "zerolinecolor": "white",
           "zerolinewidth": 2
          },
          "yaxis": {
           "automargin": true,
           "gridcolor": "white",
           "linecolor": "white",
           "ticks": "",
           "title": {
            "standoff": 15
           },
           "zerolinecolor": "white",
           "zerolinewidth": 2
          }
         }
        },
        "title": {
         "text": "The TOP 10 brewery with the most beer types"
        },
        "xaxis": {
         "title": {
          "text": "Count of beer types"
         }
        }
       }
      },
      "text/html": [
       "<div>\n",
       "        \n",
       "        \n",
       "            <div id=\"352d5f14-7e39-47ed-9549-ccbcfd66efc8\" class=\"plotly-graph-div\" style=\"height:525px; width:100%;\"></div>\n",
       "            <script type=\"text/javascript\">\n",
       "                require([\"plotly\"], function(Plotly) {\n",
       "                    window.PLOTLYENV=window.PLOTLYENV || {};\n",
       "                    \n",
       "                if (document.getElementById(\"352d5f14-7e39-47ed-9549-ccbcfd66efc8\")) {\n",
       "                    Plotly.newPlot(\n",
       "                        '352d5f14-7e39-47ed-9549-ccbcfd66efc8',\n",
       "                        [{\"hoverinfo\": \"x\", \"marker\": {\"color\": \"rgb(1, 77, 102)\"}, \"opacity\": 0.75, \"orientation\": \"h\", \"text\": [\"Kuhnhenn Brewing Company\", \"The Bruery\", \"John Harvard's Brewery & Ale House\", \"Cigar City Brewing\", \"Mikkeller ApS\", \"Port Brewing Company / Pizza Port\", \"Minneapolis Town Hall Brewery\", \"Iron Hill Brewery & Restaurant\", \"Goose Island Beer Co.\", \"Rock Bottom Restaurant & Brewery\"], \"textposition\": \"inside\", \"type\": \"bar\", \"x\": [142, 143, 151, 171, 184, 194, 242, 267, 303, 517], \"y\": [\"Kuhnhenn Brewing Company\", \"The Bruery\", \"John Harvard's Brewery & Ale House\", \"Cigar City Brewing\", \"Mikkeller ApS\", \"Port Brewing Company / Pizza Port\", \"Minneapolis Town Hall Brewery\", \"Iron Hill Brewery & Restaurant\", \"Goose Island Beer Co.\", \"Rock Bottom Restaurant & Brewery\"]}],\n",
       "                        {\"font\": {\"color\": \"dark gray\", \"family\": \"Comic Sans MS\"}, \"margin\": {\"l\": 220}, \"template\": {\"data\": {\"bar\": [{\"error_x\": {\"color\": \"#2a3f5f\"}, \"error_y\": {\"color\": \"#2a3f5f\"}, \"marker\": {\"line\": {\"color\": \"#E5ECF6\", \"width\": 0.5}}, \"type\": \"bar\"}], \"barpolar\": [{\"marker\": {\"line\": {\"color\": \"#E5ECF6\", \"width\": 0.5}}, \"type\": \"barpolar\"}], \"carpet\": [{\"aaxis\": {\"endlinecolor\": \"#2a3f5f\", \"gridcolor\": \"white\", \"linecolor\": \"white\", \"minorgridcolor\": \"white\", \"startlinecolor\": \"#2a3f5f\"}, \"baxis\": {\"endlinecolor\": \"#2a3f5f\", \"gridcolor\": \"white\", \"linecolor\": \"white\", \"minorgridcolor\": \"white\", \"startlinecolor\": \"#2a3f5f\"}, \"type\": \"carpet\"}], \"choropleth\": [{\"colorbar\": {\"outlinewidth\": 0, \"ticks\": \"\"}, \"type\": \"choropleth\"}], \"contour\": [{\"colorbar\": {\"outlinewidth\": 0, \"ticks\": \"\"}, \"colorscale\": [[0.0, \"#0d0887\"], [0.1111111111111111, \"#46039f\"], [0.2222222222222222, \"#7201a8\"], [0.3333333333333333, \"#9c179e\"], [0.4444444444444444, \"#bd3786\"], [0.5555555555555556, \"#d8576b\"], [0.6666666666666666, \"#ed7953\"], [0.7777777777777778, \"#fb9f3a\"], [0.8888888888888888, \"#fdca26\"], [1.0, \"#f0f921\"]], \"type\": \"contour\"}], \"contourcarpet\": [{\"colorbar\": {\"outlinewidth\": 0, \"ticks\": \"\"}, \"type\": \"contourcarpet\"}], \"heatmap\": [{\"colorbar\": {\"outlinewidth\": 0, \"ticks\": \"\"}, \"colorscale\": [[0.0, \"#0d0887\"], [0.1111111111111111, \"#46039f\"], [0.2222222222222222, \"#7201a8\"], [0.3333333333333333, \"#9c179e\"], [0.4444444444444444, \"#bd3786\"], [0.5555555555555556, \"#d8576b\"], [0.6666666666666666, \"#ed7953\"], [0.7777777777777778, \"#fb9f3a\"], [0.8888888888888888, \"#fdca26\"], [1.0, \"#f0f921\"]], \"type\": \"heatmap\"}], \"heatmapgl\": [{\"colorbar\": {\"outlinewidth\": 0, \"ticks\": \"\"}, \"colorscale\": [[0.0, \"#0d0887\"], [0.1111111111111111, \"#46039f\"], [0.2222222222222222, \"#7201a8\"], [0.3333333333333333, \"#9c179e\"], [0.4444444444444444, \"#bd3786\"], [0.5555555555555556, \"#d8576b\"], [0.6666666666666666, \"#ed7953\"], [0.7777777777777778, \"#fb9f3a\"], [0.8888888888888888, \"#fdca26\"], [1.0, \"#f0f921\"]], \"type\": \"heatmapgl\"}], \"histogram\": [{\"marker\": {\"colorbar\": {\"outlinewidth\": 0, \"ticks\": \"\"}}, \"type\": \"histogram\"}], \"histogram2d\": [{\"colorbar\": {\"outlinewidth\": 0, \"ticks\": \"\"}, \"colorscale\": [[0.0, \"#0d0887\"], [0.1111111111111111, \"#46039f\"], [0.2222222222222222, \"#7201a8\"], [0.3333333333333333, \"#9c179e\"], [0.4444444444444444, \"#bd3786\"], [0.5555555555555556, \"#d8576b\"], [0.6666666666666666, \"#ed7953\"], [0.7777777777777778, \"#fb9f3a\"], [0.8888888888888888, \"#fdca26\"], [1.0, \"#f0f921\"]], \"type\": \"histogram2d\"}], \"histogram2dcontour\": [{\"colorbar\": {\"outlinewidth\": 0, \"ticks\": \"\"}, \"colorscale\": [[0.0, \"#0d0887\"], [0.1111111111111111, \"#46039f\"], [0.2222222222222222, \"#7201a8\"], [0.3333333333333333, \"#9c179e\"], [0.4444444444444444, \"#bd3786\"], [0.5555555555555556, \"#d8576b\"], [0.6666666666666666, \"#ed7953\"], [0.7777777777777778, \"#fb9f3a\"], [0.8888888888888888, \"#fdca26\"], [1.0, \"#f0f921\"]], \"type\": \"histogram2dcontour\"}], \"mesh3d\": [{\"colorbar\": {\"outlinewidth\": 0, \"ticks\": \"\"}, \"type\": \"mesh3d\"}], \"parcoords\": [{\"line\": {\"colorbar\": {\"outlinewidth\": 0, \"ticks\": \"\"}}, \"type\": \"parcoords\"}], \"pie\": [{\"automargin\": true, \"type\": \"pie\"}], \"scatter\": [{\"marker\": {\"colorbar\": {\"outlinewidth\": 0, \"ticks\": \"\"}}, \"type\": \"scatter\"}], \"scatter3d\": [{\"line\": {\"colorbar\": {\"outlinewidth\": 0, \"ticks\": \"\"}}, \"marker\": {\"colorbar\": {\"outlinewidth\": 0, \"ticks\": \"\"}}, \"type\": \"scatter3d\"}], \"scattercarpet\": [{\"marker\": {\"colorbar\": {\"outlinewidth\": 0, \"ticks\": \"\"}}, \"type\": \"scattercarpet\"}], \"scattergeo\": [{\"marker\": {\"colorbar\": {\"outlinewidth\": 0, \"ticks\": \"\"}}, \"type\": \"scattergeo\"}], \"scattergl\": [{\"marker\": {\"colorbar\": {\"outlinewidth\": 0, \"ticks\": \"\"}}, \"type\": \"scattergl\"}], \"scattermapbox\": [{\"marker\": {\"colorbar\": {\"outlinewidth\": 0, \"ticks\": \"\"}}, \"type\": \"scattermapbox\"}], \"scatterpolar\": [{\"marker\": {\"colorbar\": {\"outlinewidth\": 0, \"ticks\": \"\"}}, \"type\": \"scatterpolar\"}], \"scatterpolargl\": [{\"marker\": {\"colorbar\": {\"outlinewidth\": 0, \"ticks\": \"\"}}, \"type\": \"scatterpolargl\"}], \"scatterternary\": [{\"marker\": {\"colorbar\": {\"outlinewidth\": 0, \"ticks\": \"\"}}, \"type\": \"scatterternary\"}], \"surface\": [{\"colorbar\": {\"outlinewidth\": 0, \"ticks\": \"\"}, \"colorscale\": [[0.0, \"#0d0887\"], [0.1111111111111111, \"#46039f\"], [0.2222222222222222, \"#7201a8\"], [0.3333333333333333, \"#9c179e\"], [0.4444444444444444, \"#bd3786\"], [0.5555555555555556, \"#d8576b\"], [0.6666666666666666, \"#ed7953\"], [0.7777777777777778, \"#fb9f3a\"], [0.8888888888888888, \"#fdca26\"], [1.0, \"#f0f921\"]], \"type\": \"surface\"}], \"table\": [{\"cells\": {\"fill\": {\"color\": \"#EBF0F8\"}, \"line\": {\"color\": \"white\"}}, \"header\": {\"fill\": {\"color\": \"#C8D4E3\"}, \"line\": {\"color\": \"white\"}}, \"type\": \"table\"}]}, \"layout\": {\"annotationdefaults\": {\"arrowcolor\": \"#2a3f5f\", \"arrowhead\": 0, \"arrowwidth\": 1}, \"coloraxis\": {\"colorbar\": {\"outlinewidth\": 0, \"ticks\": \"\"}}, \"colorscale\": {\"diverging\": [[0, \"#8e0152\"], [0.1, \"#c51b7d\"], [0.2, \"#de77ae\"], [0.3, \"#f1b6da\"], [0.4, \"#fde0ef\"], [0.5, \"#f7f7f7\"], [0.6, \"#e6f5d0\"], [0.7, \"#b8e186\"], [0.8, \"#7fbc41\"], [0.9, \"#4d9221\"], [1, \"#276419\"]], \"sequential\": [[0.0, \"#0d0887\"], [0.1111111111111111, \"#46039f\"], [0.2222222222222222, \"#7201a8\"], [0.3333333333333333, \"#9c179e\"], [0.4444444444444444, \"#bd3786\"], [0.5555555555555556, \"#d8576b\"], [0.6666666666666666, \"#ed7953\"], [0.7777777777777778, \"#fb9f3a\"], [0.8888888888888888, \"#fdca26\"], [1.0, \"#f0f921\"]], \"sequentialminus\": [[0.0, \"#0d0887\"], [0.1111111111111111, \"#46039f\"], [0.2222222222222222, \"#7201a8\"], [0.3333333333333333, \"#9c179e\"], [0.4444444444444444, \"#bd3786\"], [0.5555555555555556, \"#d8576b\"], [0.6666666666666666, \"#ed7953\"], [0.7777777777777778, \"#fb9f3a\"], [0.8888888888888888, \"#fdca26\"], [1.0, \"#f0f921\"]]}, \"colorway\": [\"#636efa\", \"#EF553B\", \"#00cc96\", \"#ab63fa\", \"#FFA15A\", \"#19d3f3\", \"#FF6692\", \"#B6E880\", \"#FF97FF\", \"#FECB52\"], \"font\": {\"color\": \"#2a3f5f\"}, \"geo\": {\"bgcolor\": \"white\", \"lakecolor\": \"white\", \"landcolor\": \"#E5ECF6\", \"showlakes\": true, \"showland\": true, \"subunitcolor\": \"white\"}, \"hoverlabel\": {\"align\": \"left\"}, \"hovermode\": \"closest\", \"mapbox\": {\"style\": \"light\"}, \"paper_bgcolor\": \"white\", \"plot_bgcolor\": \"#E5ECF6\", \"polar\": {\"angularaxis\": {\"gridcolor\": \"white\", \"linecolor\": \"white\", \"ticks\": \"\"}, \"bgcolor\": \"#E5ECF6\", \"radialaxis\": {\"gridcolor\": \"white\", \"linecolor\": \"white\", \"ticks\": \"\"}}, \"scene\": {\"xaxis\": {\"backgroundcolor\": \"#E5ECF6\", \"gridcolor\": \"white\", \"gridwidth\": 2, \"linecolor\": \"white\", \"showbackground\": true, \"ticks\": \"\", \"zerolinecolor\": \"white\"}, \"yaxis\": {\"backgroundcolor\": \"#E5ECF6\", \"gridcolor\": \"white\", \"gridwidth\": 2, \"linecolor\": \"white\", \"showbackground\": true, \"ticks\": \"\", \"zerolinecolor\": \"white\"}, \"zaxis\": {\"backgroundcolor\": \"#E5ECF6\", \"gridcolor\": \"white\", \"gridwidth\": 2, \"linecolor\": \"white\", \"showbackground\": true, \"ticks\": \"\", \"zerolinecolor\": \"white\"}}, \"shapedefaults\": {\"line\": {\"color\": \"#2a3f5f\"}}, \"ternary\": {\"aaxis\": {\"gridcolor\": \"white\", \"linecolor\": \"white\", \"ticks\": \"\"}, \"baxis\": {\"gridcolor\": \"white\", \"linecolor\": \"white\", \"ticks\": \"\"}, \"bgcolor\": \"#E5ECF6\", \"caxis\": {\"gridcolor\": \"white\", \"linecolor\": \"white\", \"ticks\": \"\"}}, \"title\": {\"x\": 0.05}, \"xaxis\": {\"automargin\": true, \"gridcolor\": \"white\", \"linecolor\": \"white\", \"ticks\": \"\", \"title\": {\"standoff\": 15}, \"zerolinecolor\": \"white\", \"zerolinewidth\": 2}, \"yaxis\": {\"automargin\": true, \"gridcolor\": \"white\", \"linecolor\": \"white\", \"ticks\": \"\", \"title\": {\"standoff\": 15}, \"zerolinecolor\": \"white\", \"zerolinewidth\": 2}}}, \"title\": {\"text\": \"The TOP 10 brewery with the most beer types\"}, \"xaxis\": {\"title\": {\"text\": \"Count of beer types\"}}},\n",
       "                        {\"responsive\": true}\n",
       "                    ).then(function(){\n",
       "                            \n",
       "var gd = document.getElementById('352d5f14-7e39-47ed-9549-ccbcfd66efc8');\n",
       "var x = new MutationObserver(function (mutations, observer) {{\n",
       "        var display = window.getComputedStyle(gd).display;\n",
       "        if (!display || display === 'none') {{\n",
       "            console.log([gd, 'removed!']);\n",
       "            Plotly.purge(gd);\n",
       "            observer.disconnect();\n",
       "        }}\n",
       "}});\n",
       "\n",
       "// Listen for the removal of the full notebook cells\n",
       "var notebookContainer = gd.closest('#notebook-container');\n",
       "if (notebookContainer) {{\n",
       "    x.observe(notebookContainer, {childList: true});\n",
       "}}\n",
       "\n",
       "// Listen for the clearing of the current output cell\n",
       "var outputEl = gd.closest('.output');\n",
       "if (outputEl) {{\n",
       "    x.observe(outputEl, {childList: true});\n",
       "}}\n",
       "\n",
       "                        })\n",
       "                };\n",
       "                });\n",
       "            </script>\n",
       "        </div>"
      ]
     },
     "metadata": {},
     "output_type": "display_data"
    }
   ],
   "source": [
    "brewery_type = df.groupby('brewery_name')\n",
    "brewery_type = brewery_type.agg({\"beer_name\":\"nunique\"})\n",
    "brewery_type = brewery_type.reset_index()\n",
    "\n",
    "\n",
    "bar2 = go.Bar(x=brewery_type.sort_values(by=\"beer_name\",ascending=False).head(10).sort_values(by=\"beer_name\",ascending=True).beer_name,\n",
    "              y=brewery_type.sort_values(by=\"beer_name\",ascending=False).head(10).sort_values(by=\"beer_name\",ascending=True).brewery_name,\n",
    "              hoverinfo = 'x',\n",
    "              text=brewery_type.sort_values(by=\"beer_name\",ascending=False).head(10).sort_values(by=\"beer_name\",ascending=True).brewery_name,\n",
    "              textposition = 'inside',\n",
    "              orientation = 'h',\n",
    "              opacity=0.75, \n",
    "              marker=dict(color='rgb(1, 77, 102)'))\n",
    "\n",
    "layout = go.Layout(title='The TOP 10 brewery with the most beer types',\n",
    "                   xaxis=dict(title=\"Count of beer types\",),\n",
    "                   margin = dict(l = 220),\n",
    "                   font=dict(family='Comic Sans MS',\n",
    "                            color='dark gray'))\n",
    "\n",
    "fig = go.Figure(data=bar2, layout=layout)\n",
    "\n",
    "# Plot it\n",
    "plotly.offline.iplot(fig)"
   ]
  },
  {
   "cell_type": "markdown",
   "metadata": {},
   "source": [
    "### The Top 10 popular beers"
   ]
  },
  {
   "cell_type": "code",
   "execution_count": 29,
   "metadata": {},
   "outputs": [
    {
     "data": {
      "application/vnd.plotly.v1+json": {
       "config": {
        "linkText": "Export to plot.ly",
        "plotlyServerURL": "https://plot.ly",
        "showLink": false
       },
       "data": [
        {
         "hoverinfo": "x",
         "marker": {
          "color": "rgb(1, 77, 102)"
         },
         "opacity": 0.75,
         "orientation": "h",
         "text": [
          "Duvel",
          "La Fin Du Monde",
          "Sierra Nevada Pale Ale",
          "Stone IPA (India Pale Ale)",
          "Two Hearted Ale",
          "Arrogant Bastard Ale",
          "Stone Ruination IPA",
          "Sierra Nevada Celebration Ale",
          "Old Rasputin Russian Imperial Stout",
          "90 Minute IPA"
         ],
         "textposition": "inside",
         "type": "bar",
         "x": [
          2448,
          2480,
          2526,
          2526,
          2631,
          2633,
          2644,
          2929,
          3038,
          3206
         ],
         "y": [
          "Duvel",
          "La Fin Du Monde",
          "Sierra Nevada Pale Ale",
          "Stone IPA (India Pale Ale)",
          "Two Hearted Ale",
          "Arrogant Bastard Ale",
          "Stone Ruination IPA",
          "Sierra Nevada Celebration Ale",
          "Old Rasputin Russian Imperial Stout",
          "90 Minute IPA"
         ]
        }
       ],
       "layout": {
        "font": {
         "color": "dark gray",
         "family": "Comic Sans MS"
        },
        "margin": {
         "l": 220
        },
        "template": {
         "data": {
          "bar": [
           {
            "error_x": {
             "color": "#2a3f5f"
            },
            "error_y": {
             "color": "#2a3f5f"
            },
            "marker": {
             "line": {
              "color": "#E5ECF6",
              "width": 0.5
             }
            },
            "type": "bar"
           }
          ],
          "barpolar": [
           {
            "marker": {
             "line": {
              "color": "#E5ECF6",
              "width": 0.5
             }
            },
            "type": "barpolar"
           }
          ],
          "carpet": [
           {
            "aaxis": {
             "endlinecolor": "#2a3f5f",
             "gridcolor": "white",
             "linecolor": "white",
             "minorgridcolor": "white",
             "startlinecolor": "#2a3f5f"
            },
            "baxis": {
             "endlinecolor": "#2a3f5f",
             "gridcolor": "white",
             "linecolor": "white",
             "minorgridcolor": "white",
             "startlinecolor": "#2a3f5f"
            },
            "type": "carpet"
           }
          ],
          "choropleth": [
           {
            "colorbar": {
             "outlinewidth": 0,
             "ticks": ""
            },
            "type": "choropleth"
           }
          ],
          "contour": [
           {
            "colorbar": {
             "outlinewidth": 0,
             "ticks": ""
            },
            "colorscale": [
             [
              0,
              "#0d0887"
             ],
             [
              0.1111111111111111,
              "#46039f"
             ],
             [
              0.2222222222222222,
              "#7201a8"
             ],
             [
              0.3333333333333333,
              "#9c179e"
             ],
             [
              0.4444444444444444,
              "#bd3786"
             ],
             [
              0.5555555555555556,
              "#d8576b"
             ],
             [
              0.6666666666666666,
              "#ed7953"
             ],
             [
              0.7777777777777778,
              "#fb9f3a"
             ],
             [
              0.8888888888888888,
              "#fdca26"
             ],
             [
              1,
              "#f0f921"
             ]
            ],
            "type": "contour"
           }
          ],
          "contourcarpet": [
           {
            "colorbar": {
             "outlinewidth": 0,
             "ticks": ""
            },
            "type": "contourcarpet"
           }
          ],
          "heatmap": [
           {
            "colorbar": {
             "outlinewidth": 0,
             "ticks": ""
            },
            "colorscale": [
             [
              0,
              "#0d0887"
             ],
             [
              0.1111111111111111,
              "#46039f"
             ],
             [
              0.2222222222222222,
              "#7201a8"
             ],
             [
              0.3333333333333333,
              "#9c179e"
             ],
             [
              0.4444444444444444,
              "#bd3786"
             ],
             [
              0.5555555555555556,
              "#d8576b"
             ],
             [
              0.6666666666666666,
              "#ed7953"
             ],
             [
              0.7777777777777778,
              "#fb9f3a"
             ],
             [
              0.8888888888888888,
              "#fdca26"
             ],
             [
              1,
              "#f0f921"
             ]
            ],
            "type": "heatmap"
           }
          ],
          "heatmapgl": [
           {
            "colorbar": {
             "outlinewidth": 0,
             "ticks": ""
            },
            "colorscale": [
             [
              0,
              "#0d0887"
             ],
             [
              0.1111111111111111,
              "#46039f"
             ],
             [
              0.2222222222222222,
              "#7201a8"
             ],
             [
              0.3333333333333333,
              "#9c179e"
             ],
             [
              0.4444444444444444,
              "#bd3786"
             ],
             [
              0.5555555555555556,
              "#d8576b"
             ],
             [
              0.6666666666666666,
              "#ed7953"
             ],
             [
              0.7777777777777778,
              "#fb9f3a"
             ],
             [
              0.8888888888888888,
              "#fdca26"
             ],
             [
              1,
              "#f0f921"
             ]
            ],
            "type": "heatmapgl"
           }
          ],
          "histogram": [
           {
            "marker": {
             "colorbar": {
              "outlinewidth": 0,
              "ticks": ""
             }
            },
            "type": "histogram"
           }
          ],
          "histogram2d": [
           {
            "colorbar": {
             "outlinewidth": 0,
             "ticks": ""
            },
            "colorscale": [
             [
              0,
              "#0d0887"
             ],
             [
              0.1111111111111111,
              "#46039f"
             ],
             [
              0.2222222222222222,
              "#7201a8"
             ],
             [
              0.3333333333333333,
              "#9c179e"
             ],
             [
              0.4444444444444444,
              "#bd3786"
             ],
             [
              0.5555555555555556,
              "#d8576b"
             ],
             [
              0.6666666666666666,
              "#ed7953"
             ],
             [
              0.7777777777777778,
              "#fb9f3a"
             ],
             [
              0.8888888888888888,
              "#fdca26"
             ],
             [
              1,
              "#f0f921"
             ]
            ],
            "type": "histogram2d"
           }
          ],
          "histogram2dcontour": [
           {
            "colorbar": {
             "outlinewidth": 0,
             "ticks": ""
            },
            "colorscale": [
             [
              0,
              "#0d0887"
             ],
             [
              0.1111111111111111,
              "#46039f"
             ],
             [
              0.2222222222222222,
              "#7201a8"
             ],
             [
              0.3333333333333333,
              "#9c179e"
             ],
             [
              0.4444444444444444,
              "#bd3786"
             ],
             [
              0.5555555555555556,
              "#d8576b"
             ],
             [
              0.6666666666666666,
              "#ed7953"
             ],
             [
              0.7777777777777778,
              "#fb9f3a"
             ],
             [
              0.8888888888888888,
              "#fdca26"
             ],
             [
              1,
              "#f0f921"
             ]
            ],
            "type": "histogram2dcontour"
           }
          ],
          "mesh3d": [
           {
            "colorbar": {
             "outlinewidth": 0,
             "ticks": ""
            },
            "type": "mesh3d"
           }
          ],
          "parcoords": [
           {
            "line": {
             "colorbar": {
              "outlinewidth": 0,
              "ticks": ""
             }
            },
            "type": "parcoords"
           }
          ],
          "pie": [
           {
            "automargin": true,
            "type": "pie"
           }
          ],
          "scatter": [
           {
            "marker": {
             "colorbar": {
              "outlinewidth": 0,
              "ticks": ""
             }
            },
            "type": "scatter"
           }
          ],
          "scatter3d": [
           {
            "line": {
             "colorbar": {
              "outlinewidth": 0,
              "ticks": ""
             }
            },
            "marker": {
             "colorbar": {
              "outlinewidth": 0,
              "ticks": ""
             }
            },
            "type": "scatter3d"
           }
          ],
          "scattercarpet": [
           {
            "marker": {
             "colorbar": {
              "outlinewidth": 0,
              "ticks": ""
             }
            },
            "type": "scattercarpet"
           }
          ],
          "scattergeo": [
           {
            "marker": {
             "colorbar": {
              "outlinewidth": 0,
              "ticks": ""
             }
            },
            "type": "scattergeo"
           }
          ],
          "scattergl": [
           {
            "marker": {
             "colorbar": {
              "outlinewidth": 0,
              "ticks": ""
             }
            },
            "type": "scattergl"
           }
          ],
          "scattermapbox": [
           {
            "marker": {
             "colorbar": {
              "outlinewidth": 0,
              "ticks": ""
             }
            },
            "type": "scattermapbox"
           }
          ],
          "scatterpolar": [
           {
            "marker": {
             "colorbar": {
              "outlinewidth": 0,
              "ticks": ""
             }
            },
            "type": "scatterpolar"
           }
          ],
          "scatterpolargl": [
           {
            "marker": {
             "colorbar": {
              "outlinewidth": 0,
              "ticks": ""
             }
            },
            "type": "scatterpolargl"
           }
          ],
          "scatterternary": [
           {
            "marker": {
             "colorbar": {
              "outlinewidth": 0,
              "ticks": ""
             }
            },
            "type": "scatterternary"
           }
          ],
          "surface": [
           {
            "colorbar": {
             "outlinewidth": 0,
             "ticks": ""
            },
            "colorscale": [
             [
              0,
              "#0d0887"
             ],
             [
              0.1111111111111111,
              "#46039f"
             ],
             [
              0.2222222222222222,
              "#7201a8"
             ],
             [
              0.3333333333333333,
              "#9c179e"
             ],
             [
              0.4444444444444444,
              "#bd3786"
             ],
             [
              0.5555555555555556,
              "#d8576b"
             ],
             [
              0.6666666666666666,
              "#ed7953"
             ],
             [
              0.7777777777777778,
              "#fb9f3a"
             ],
             [
              0.8888888888888888,
              "#fdca26"
             ],
             [
              1,
              "#f0f921"
             ]
            ],
            "type": "surface"
           }
          ],
          "table": [
           {
            "cells": {
             "fill": {
              "color": "#EBF0F8"
             },
             "line": {
              "color": "white"
             }
            },
            "header": {
             "fill": {
              "color": "#C8D4E3"
             },
             "line": {
              "color": "white"
             }
            },
            "type": "table"
           }
          ]
         },
         "layout": {
          "annotationdefaults": {
           "arrowcolor": "#2a3f5f",
           "arrowhead": 0,
           "arrowwidth": 1
          },
          "coloraxis": {
           "colorbar": {
            "outlinewidth": 0,
            "ticks": ""
           }
          },
          "colorscale": {
           "diverging": [
            [
             0,
             "#8e0152"
            ],
            [
             0.1,
             "#c51b7d"
            ],
            [
             0.2,
             "#de77ae"
            ],
            [
             0.3,
             "#f1b6da"
            ],
            [
             0.4,
             "#fde0ef"
            ],
            [
             0.5,
             "#f7f7f7"
            ],
            [
             0.6,
             "#e6f5d0"
            ],
            [
             0.7,
             "#b8e186"
            ],
            [
             0.8,
             "#7fbc41"
            ],
            [
             0.9,
             "#4d9221"
            ],
            [
             1,
             "#276419"
            ]
           ],
           "sequential": [
            [
             0,
             "#0d0887"
            ],
            [
             0.1111111111111111,
             "#46039f"
            ],
            [
             0.2222222222222222,
             "#7201a8"
            ],
            [
             0.3333333333333333,
             "#9c179e"
            ],
            [
             0.4444444444444444,
             "#bd3786"
            ],
            [
             0.5555555555555556,
             "#d8576b"
            ],
            [
             0.6666666666666666,
             "#ed7953"
            ],
            [
             0.7777777777777778,
             "#fb9f3a"
            ],
            [
             0.8888888888888888,
             "#fdca26"
            ],
            [
             1,
             "#f0f921"
            ]
           ],
           "sequentialminus": [
            [
             0,
             "#0d0887"
            ],
            [
             0.1111111111111111,
             "#46039f"
            ],
            [
             0.2222222222222222,
             "#7201a8"
            ],
            [
             0.3333333333333333,
             "#9c179e"
            ],
            [
             0.4444444444444444,
             "#bd3786"
            ],
            [
             0.5555555555555556,
             "#d8576b"
            ],
            [
             0.6666666666666666,
             "#ed7953"
            ],
            [
             0.7777777777777778,
             "#fb9f3a"
            ],
            [
             0.8888888888888888,
             "#fdca26"
            ],
            [
             1,
             "#f0f921"
            ]
           ]
          },
          "colorway": [
           "#636efa",
           "#EF553B",
           "#00cc96",
           "#ab63fa",
           "#FFA15A",
           "#19d3f3",
           "#FF6692",
           "#B6E880",
           "#FF97FF",
           "#FECB52"
          ],
          "font": {
           "color": "#2a3f5f"
          },
          "geo": {
           "bgcolor": "white",
           "lakecolor": "white",
           "landcolor": "#E5ECF6",
           "showlakes": true,
           "showland": true,
           "subunitcolor": "white"
          },
          "hoverlabel": {
           "align": "left"
          },
          "hovermode": "closest",
          "mapbox": {
           "style": "light"
          },
          "paper_bgcolor": "white",
          "plot_bgcolor": "#E5ECF6",
          "polar": {
           "angularaxis": {
            "gridcolor": "white",
            "linecolor": "white",
            "ticks": ""
           },
           "bgcolor": "#E5ECF6",
           "radialaxis": {
            "gridcolor": "white",
            "linecolor": "white",
            "ticks": ""
           }
          },
          "scene": {
           "xaxis": {
            "backgroundcolor": "#E5ECF6",
            "gridcolor": "white",
            "gridwidth": 2,
            "linecolor": "white",
            "showbackground": true,
            "ticks": "",
            "zerolinecolor": "white"
           },
           "yaxis": {
            "backgroundcolor": "#E5ECF6",
            "gridcolor": "white",
            "gridwidth": 2,
            "linecolor": "white",
            "showbackground": true,
            "ticks": "",
            "zerolinecolor": "white"
           },
           "zaxis": {
            "backgroundcolor": "#E5ECF6",
            "gridcolor": "white",
            "gridwidth": 2,
            "linecolor": "white",
            "showbackground": true,
            "ticks": "",
            "zerolinecolor": "white"
           }
          },
          "shapedefaults": {
           "line": {
            "color": "#2a3f5f"
           }
          },
          "ternary": {
           "aaxis": {
            "gridcolor": "white",
            "linecolor": "white",
            "ticks": ""
           },
           "baxis": {
            "gridcolor": "white",
            "linecolor": "white",
            "ticks": ""
           },
           "bgcolor": "#E5ECF6",
           "caxis": {
            "gridcolor": "white",
            "linecolor": "white",
            "ticks": ""
           }
          },
          "title": {
           "x": 0.05
          },
          "xaxis": {
           "automargin": true,
           "gridcolor": "white",
           "linecolor": "white",
           "ticks": "",
           "title": {
            "standoff": 15
           },
           "zerolinecolor": "white",
           "zerolinewidth": 2
          },
          "yaxis": {
           "automargin": true,
           "gridcolor": "white",
           "linecolor": "white",
           "ticks": "",
           "title": {
            "standoff": 15
           },
           "zerolinecolor": "white",
           "zerolinewidth": 2
          }
         }
        },
        "title": {
         "text": "The Top 10 popular beers"
        },
        "xaxis": {
         "title": {
          "text": "Count of reviews"
         }
        }
       }
      },
      "text/html": [
       "<div>\n",
       "        \n",
       "        \n",
       "            <div id=\"d432c16c-6faa-45a7-9a2d-cfadcb31c89d\" class=\"plotly-graph-div\" style=\"height:525px; width:100%;\"></div>\n",
       "            <script type=\"text/javascript\">\n",
       "                require([\"plotly\"], function(Plotly) {\n",
       "                    window.PLOTLYENV=window.PLOTLYENV || {};\n",
       "                    \n",
       "                if (document.getElementById(\"d432c16c-6faa-45a7-9a2d-cfadcb31c89d\")) {\n",
       "                    Plotly.newPlot(\n",
       "                        'd432c16c-6faa-45a7-9a2d-cfadcb31c89d',\n",
       "                        [{\"hoverinfo\": \"x\", \"marker\": {\"color\": \"rgb(1, 77, 102)\"}, \"opacity\": 0.75, \"orientation\": \"h\", \"text\": [\"Duvel\", \"La Fin Du Monde\", \"Sierra Nevada Pale Ale\", \"Stone IPA (India Pale Ale)\", \"Two Hearted Ale\", \"Arrogant Bastard Ale\", \"Stone Ruination IPA\", \"Sierra Nevada Celebration Ale\", \"Old Rasputin Russian Imperial Stout\", \"90 Minute IPA\"], \"textposition\": \"inside\", \"type\": \"bar\", \"x\": [2448, 2480, 2526, 2526, 2631, 2633, 2644, 2929, 3038, 3206], \"y\": [\"Duvel\", \"La Fin Du Monde\", \"Sierra Nevada Pale Ale\", \"Stone IPA (India Pale Ale)\", \"Two Hearted Ale\", \"Arrogant Bastard Ale\", \"Stone Ruination IPA\", \"Sierra Nevada Celebration Ale\", \"Old Rasputin Russian Imperial Stout\", \"90 Minute IPA\"]}],\n",
       "                        {\"font\": {\"color\": \"dark gray\", \"family\": \"Comic Sans MS\"}, \"margin\": {\"l\": 220}, \"template\": {\"data\": {\"bar\": [{\"error_x\": {\"color\": \"#2a3f5f\"}, \"error_y\": {\"color\": \"#2a3f5f\"}, \"marker\": {\"line\": {\"color\": \"#E5ECF6\", \"width\": 0.5}}, \"type\": \"bar\"}], \"barpolar\": [{\"marker\": {\"line\": {\"color\": \"#E5ECF6\", \"width\": 0.5}}, \"type\": \"barpolar\"}], \"carpet\": [{\"aaxis\": {\"endlinecolor\": \"#2a3f5f\", \"gridcolor\": \"white\", \"linecolor\": \"white\", \"minorgridcolor\": \"white\", \"startlinecolor\": \"#2a3f5f\"}, \"baxis\": {\"endlinecolor\": \"#2a3f5f\", \"gridcolor\": \"white\", \"linecolor\": \"white\", \"minorgridcolor\": \"white\", \"startlinecolor\": \"#2a3f5f\"}, \"type\": \"carpet\"}], \"choropleth\": [{\"colorbar\": {\"outlinewidth\": 0, \"ticks\": \"\"}, \"type\": \"choropleth\"}], \"contour\": [{\"colorbar\": {\"outlinewidth\": 0, \"ticks\": \"\"}, \"colorscale\": [[0.0, \"#0d0887\"], [0.1111111111111111, \"#46039f\"], [0.2222222222222222, \"#7201a8\"], [0.3333333333333333, \"#9c179e\"], [0.4444444444444444, \"#bd3786\"], [0.5555555555555556, \"#d8576b\"], [0.6666666666666666, \"#ed7953\"], [0.7777777777777778, \"#fb9f3a\"], [0.8888888888888888, \"#fdca26\"], [1.0, \"#f0f921\"]], \"type\": \"contour\"}], \"contourcarpet\": [{\"colorbar\": {\"outlinewidth\": 0, \"ticks\": \"\"}, \"type\": \"contourcarpet\"}], \"heatmap\": [{\"colorbar\": {\"outlinewidth\": 0, \"ticks\": \"\"}, \"colorscale\": [[0.0, \"#0d0887\"], [0.1111111111111111, \"#46039f\"], [0.2222222222222222, \"#7201a8\"], [0.3333333333333333, \"#9c179e\"], [0.4444444444444444, \"#bd3786\"], [0.5555555555555556, \"#d8576b\"], [0.6666666666666666, \"#ed7953\"], [0.7777777777777778, \"#fb9f3a\"], [0.8888888888888888, \"#fdca26\"], [1.0, \"#f0f921\"]], \"type\": \"heatmap\"}], \"heatmapgl\": [{\"colorbar\": {\"outlinewidth\": 0, \"ticks\": \"\"}, \"colorscale\": [[0.0, \"#0d0887\"], [0.1111111111111111, \"#46039f\"], [0.2222222222222222, \"#7201a8\"], [0.3333333333333333, \"#9c179e\"], [0.4444444444444444, \"#bd3786\"], [0.5555555555555556, \"#d8576b\"], [0.6666666666666666, \"#ed7953\"], [0.7777777777777778, \"#fb9f3a\"], [0.8888888888888888, \"#fdca26\"], [1.0, \"#f0f921\"]], \"type\": \"heatmapgl\"}], \"histogram\": [{\"marker\": {\"colorbar\": {\"outlinewidth\": 0, \"ticks\": \"\"}}, \"type\": \"histogram\"}], \"histogram2d\": [{\"colorbar\": {\"outlinewidth\": 0, \"ticks\": \"\"}, \"colorscale\": [[0.0, \"#0d0887\"], [0.1111111111111111, \"#46039f\"], [0.2222222222222222, \"#7201a8\"], [0.3333333333333333, \"#9c179e\"], [0.4444444444444444, \"#bd3786\"], [0.5555555555555556, \"#d8576b\"], [0.6666666666666666, \"#ed7953\"], [0.7777777777777778, \"#fb9f3a\"], [0.8888888888888888, \"#fdca26\"], [1.0, \"#f0f921\"]], \"type\": \"histogram2d\"}], \"histogram2dcontour\": [{\"colorbar\": {\"outlinewidth\": 0, \"ticks\": \"\"}, \"colorscale\": [[0.0, \"#0d0887\"], [0.1111111111111111, \"#46039f\"], [0.2222222222222222, \"#7201a8\"], [0.3333333333333333, \"#9c179e\"], [0.4444444444444444, \"#bd3786\"], [0.5555555555555556, \"#d8576b\"], [0.6666666666666666, \"#ed7953\"], [0.7777777777777778, \"#fb9f3a\"], [0.8888888888888888, \"#fdca26\"], [1.0, \"#f0f921\"]], \"type\": \"histogram2dcontour\"}], \"mesh3d\": [{\"colorbar\": {\"outlinewidth\": 0, \"ticks\": \"\"}, \"type\": \"mesh3d\"}], \"parcoords\": [{\"line\": {\"colorbar\": {\"outlinewidth\": 0, \"ticks\": \"\"}}, \"type\": \"parcoords\"}], \"pie\": [{\"automargin\": true, \"type\": \"pie\"}], \"scatter\": [{\"marker\": {\"colorbar\": {\"outlinewidth\": 0, \"ticks\": \"\"}}, \"type\": \"scatter\"}], \"scatter3d\": [{\"line\": {\"colorbar\": {\"outlinewidth\": 0, \"ticks\": \"\"}}, \"marker\": {\"colorbar\": {\"outlinewidth\": 0, \"ticks\": \"\"}}, \"type\": \"scatter3d\"}], \"scattercarpet\": [{\"marker\": {\"colorbar\": {\"outlinewidth\": 0, \"ticks\": \"\"}}, \"type\": \"scattercarpet\"}], \"scattergeo\": [{\"marker\": {\"colorbar\": {\"outlinewidth\": 0, \"ticks\": \"\"}}, \"type\": \"scattergeo\"}], \"scattergl\": [{\"marker\": {\"colorbar\": {\"outlinewidth\": 0, \"ticks\": \"\"}}, \"type\": \"scattergl\"}], \"scattermapbox\": [{\"marker\": {\"colorbar\": {\"outlinewidth\": 0, \"ticks\": \"\"}}, \"type\": \"scattermapbox\"}], \"scatterpolar\": [{\"marker\": {\"colorbar\": {\"outlinewidth\": 0, \"ticks\": \"\"}}, \"type\": \"scatterpolar\"}], \"scatterpolargl\": [{\"marker\": {\"colorbar\": {\"outlinewidth\": 0, \"ticks\": \"\"}}, \"type\": \"scatterpolargl\"}], \"scatterternary\": [{\"marker\": {\"colorbar\": {\"outlinewidth\": 0, \"ticks\": \"\"}}, \"type\": \"scatterternary\"}], \"surface\": [{\"colorbar\": {\"outlinewidth\": 0, \"ticks\": \"\"}, \"colorscale\": [[0.0, \"#0d0887\"], [0.1111111111111111, \"#46039f\"], [0.2222222222222222, \"#7201a8\"], [0.3333333333333333, \"#9c179e\"], [0.4444444444444444, \"#bd3786\"], [0.5555555555555556, \"#d8576b\"], [0.6666666666666666, \"#ed7953\"], [0.7777777777777778, \"#fb9f3a\"], [0.8888888888888888, \"#fdca26\"], [1.0, \"#f0f921\"]], \"type\": \"surface\"}], \"table\": [{\"cells\": {\"fill\": {\"color\": \"#EBF0F8\"}, \"line\": {\"color\": \"white\"}}, \"header\": {\"fill\": {\"color\": \"#C8D4E3\"}, \"line\": {\"color\": \"white\"}}, \"type\": \"table\"}]}, \"layout\": {\"annotationdefaults\": {\"arrowcolor\": \"#2a3f5f\", \"arrowhead\": 0, \"arrowwidth\": 1}, \"coloraxis\": {\"colorbar\": {\"outlinewidth\": 0, \"ticks\": \"\"}}, \"colorscale\": {\"diverging\": [[0, \"#8e0152\"], [0.1, \"#c51b7d\"], [0.2, \"#de77ae\"], [0.3, \"#f1b6da\"], [0.4, \"#fde0ef\"], [0.5, \"#f7f7f7\"], [0.6, \"#e6f5d0\"], [0.7, \"#b8e186\"], [0.8, \"#7fbc41\"], [0.9, \"#4d9221\"], [1, \"#276419\"]], \"sequential\": [[0.0, \"#0d0887\"], [0.1111111111111111, \"#46039f\"], [0.2222222222222222, \"#7201a8\"], [0.3333333333333333, \"#9c179e\"], [0.4444444444444444, \"#bd3786\"], [0.5555555555555556, \"#d8576b\"], [0.6666666666666666, \"#ed7953\"], [0.7777777777777778, \"#fb9f3a\"], [0.8888888888888888, \"#fdca26\"], [1.0, \"#f0f921\"]], \"sequentialminus\": [[0.0, \"#0d0887\"], [0.1111111111111111, \"#46039f\"], [0.2222222222222222, \"#7201a8\"], [0.3333333333333333, \"#9c179e\"], [0.4444444444444444, \"#bd3786\"], [0.5555555555555556, \"#d8576b\"], [0.6666666666666666, \"#ed7953\"], [0.7777777777777778, \"#fb9f3a\"], [0.8888888888888888, \"#fdca26\"], [1.0, \"#f0f921\"]]}, \"colorway\": [\"#636efa\", \"#EF553B\", \"#00cc96\", \"#ab63fa\", \"#FFA15A\", \"#19d3f3\", \"#FF6692\", \"#B6E880\", \"#FF97FF\", \"#FECB52\"], \"font\": {\"color\": \"#2a3f5f\"}, \"geo\": {\"bgcolor\": \"white\", \"lakecolor\": \"white\", \"landcolor\": \"#E5ECF6\", \"showlakes\": true, \"showland\": true, \"subunitcolor\": \"white\"}, \"hoverlabel\": {\"align\": \"left\"}, \"hovermode\": \"closest\", \"mapbox\": {\"style\": \"light\"}, \"paper_bgcolor\": \"white\", \"plot_bgcolor\": \"#E5ECF6\", \"polar\": {\"angularaxis\": {\"gridcolor\": \"white\", \"linecolor\": \"white\", \"ticks\": \"\"}, \"bgcolor\": \"#E5ECF6\", \"radialaxis\": {\"gridcolor\": \"white\", \"linecolor\": \"white\", \"ticks\": \"\"}}, \"scene\": {\"xaxis\": {\"backgroundcolor\": \"#E5ECF6\", \"gridcolor\": \"white\", \"gridwidth\": 2, \"linecolor\": \"white\", \"showbackground\": true, \"ticks\": \"\", \"zerolinecolor\": \"white\"}, \"yaxis\": {\"backgroundcolor\": \"#E5ECF6\", \"gridcolor\": \"white\", \"gridwidth\": 2, \"linecolor\": \"white\", \"showbackground\": true, \"ticks\": \"\", \"zerolinecolor\": \"white\"}, \"zaxis\": {\"backgroundcolor\": \"#E5ECF6\", \"gridcolor\": \"white\", \"gridwidth\": 2, \"linecolor\": \"white\", \"showbackground\": true, \"ticks\": \"\", \"zerolinecolor\": \"white\"}}, \"shapedefaults\": {\"line\": {\"color\": \"#2a3f5f\"}}, \"ternary\": {\"aaxis\": {\"gridcolor\": \"white\", \"linecolor\": \"white\", \"ticks\": \"\"}, \"baxis\": {\"gridcolor\": \"white\", \"linecolor\": \"white\", \"ticks\": \"\"}, \"bgcolor\": \"#E5ECF6\", \"caxis\": {\"gridcolor\": \"white\", \"linecolor\": \"white\", \"ticks\": \"\"}}, \"title\": {\"x\": 0.05}, \"xaxis\": {\"automargin\": true, \"gridcolor\": \"white\", \"linecolor\": \"white\", \"ticks\": \"\", \"title\": {\"standoff\": 15}, \"zerolinecolor\": \"white\", \"zerolinewidth\": 2}, \"yaxis\": {\"automargin\": true, \"gridcolor\": \"white\", \"linecolor\": \"white\", \"ticks\": \"\", \"title\": {\"standoff\": 15}, \"zerolinecolor\": \"white\", \"zerolinewidth\": 2}}}, \"title\": {\"text\": \"The Top 10 popular beers\"}, \"xaxis\": {\"title\": {\"text\": \"Count of reviews\"}}},\n",
       "                        {\"responsive\": true}\n",
       "                    ).then(function(){\n",
       "                            \n",
       "var gd = document.getElementById('d432c16c-6faa-45a7-9a2d-cfadcb31c89d');\n",
       "var x = new MutationObserver(function (mutations, observer) {{\n",
       "        var display = window.getComputedStyle(gd).display;\n",
       "        if (!display || display === 'none') {{\n",
       "            console.log([gd, 'removed!']);\n",
       "            Plotly.purge(gd);\n",
       "            observer.disconnect();\n",
       "        }}\n",
       "}});\n",
       "\n",
       "// Listen for the removal of the full notebook cells\n",
       "var notebookContainer = gd.closest('#notebook-container');\n",
       "if (notebookContainer) {{\n",
       "    x.observe(notebookContainer, {childList: true});\n",
       "}}\n",
       "\n",
       "// Listen for the clearing of the current output cell\n",
       "var outputEl = gd.closest('.output');\n",
       "if (outputEl) {{\n",
       "    x.observe(outputEl, {childList: true});\n",
       "}}\n",
       "\n",
       "                        })\n",
       "                };\n",
       "                });\n",
       "            </script>\n",
       "        </div>"
      ]
     },
     "metadata": {},
     "output_type": "display_data"
    }
   ],
   "source": [
    "bar3 = go.Bar(x=df.beer_name.value_counts().head(10).sort_values(ascending=True),\n",
    "              y=df.beer_name.value_counts().head(10).sort_values(ascending=True).index,\n",
    "              hoverinfo = 'x',\n",
    "              text=df.beer_name.value_counts().head(10).sort_values(ascending=True).index,\n",
    "              textposition = 'inside',\n",
    "              orientation = 'h',\n",
    "              opacity=0.75, \n",
    "              marker=dict(color='rgb(1, 77, 102)'))\n",
    "\n",
    "layout = go.Layout(title='The Top 10 popular beers',\n",
    "                   xaxis=dict(title=\"Count of reviews\",),\n",
    "                   margin = dict(l = 220),\n",
    "                   font=dict(family='Comic Sans MS',\n",
    "                            color='dark gray'))\n",
    "\n",
    "fig = go.Figure(data=bar3, layout=layout)\n",
    "\n",
    "# Plot it\n",
    "plotly.offline.iplot(fig)"
   ]
  },
  {
   "cell_type": "markdown",
   "metadata": {},
   "source": [
    "### The Top 10 popular beer styles"
   ]
  },
  {
   "cell_type": "code",
   "execution_count": 30,
   "metadata": {},
   "outputs": [
    {
     "data": {
      "application/vnd.plotly.v1+json": {
       "config": {
        "linkText": "Export to plot.ly",
        "plotlyServerURL": "https://plot.ly",
        "showLink": false
       },
       "data": [
        {
         "hoverinfo": "x",
         "marker": {
          "color": "rgb(1, 77, 102)"
         },
         "opacity": 0.75,
         "orientation": "h",
         "text": [
          "Belgian Strong Pale Ale",
          "Fruit / Vegetable Beer",
          "Belgian Strong Dark Ale",
          "American Amber / Red Ale",
          "American Porter",
          "American Double / Imperial Stout",
          "Russian Imperial Stout",
          "American Pale Ale (APA)",
          "American Double / Imperial IPA",
          "American IPA"
         ],
         "textposition": "inside",
         "type": "bar",
         "x": [
          31064,
          31784,
          37181,
          41197,
          45960,
          49254,
          52323,
          56749,
          83635,
          110451
         ],
         "y": [
          "Belgian Strong Pale Ale",
          "Fruit / Vegetable Beer",
          "Belgian Strong Dark Ale",
          "American Amber / Red Ale",
          "American Porter",
          "American Double / Imperial Stout",
          "Russian Imperial Stout",
          "American Pale Ale (APA)",
          "American Double / Imperial IPA",
          "American IPA"
         ]
        }
       ],
       "layout": {
        "font": {
         "color": "dark gray",
         "family": "Comic Sans MS"
        },
        "margin": {
         "l": 220
        },
        "template": {
         "data": {
          "bar": [
           {
            "error_x": {
             "color": "#2a3f5f"
            },
            "error_y": {
             "color": "#2a3f5f"
            },
            "marker": {
             "line": {
              "color": "#E5ECF6",
              "width": 0.5
             }
            },
            "type": "bar"
           }
          ],
          "barpolar": [
           {
            "marker": {
             "line": {
              "color": "#E5ECF6",
              "width": 0.5
             }
            },
            "type": "barpolar"
           }
          ],
          "carpet": [
           {
            "aaxis": {
             "endlinecolor": "#2a3f5f",
             "gridcolor": "white",
             "linecolor": "white",
             "minorgridcolor": "white",
             "startlinecolor": "#2a3f5f"
            },
            "baxis": {
             "endlinecolor": "#2a3f5f",
             "gridcolor": "white",
             "linecolor": "white",
             "minorgridcolor": "white",
             "startlinecolor": "#2a3f5f"
            },
            "type": "carpet"
           }
          ],
          "choropleth": [
           {
            "colorbar": {
             "outlinewidth": 0,
             "ticks": ""
            },
            "type": "choropleth"
           }
          ],
          "contour": [
           {
            "colorbar": {
             "outlinewidth": 0,
             "ticks": ""
            },
            "colorscale": [
             [
              0,
              "#0d0887"
             ],
             [
              0.1111111111111111,
              "#46039f"
             ],
             [
              0.2222222222222222,
              "#7201a8"
             ],
             [
              0.3333333333333333,
              "#9c179e"
             ],
             [
              0.4444444444444444,
              "#bd3786"
             ],
             [
              0.5555555555555556,
              "#d8576b"
             ],
             [
              0.6666666666666666,
              "#ed7953"
             ],
             [
              0.7777777777777778,
              "#fb9f3a"
             ],
             [
              0.8888888888888888,
              "#fdca26"
             ],
             [
              1,
              "#f0f921"
             ]
            ],
            "type": "contour"
           }
          ],
          "contourcarpet": [
           {
            "colorbar": {
             "outlinewidth": 0,
             "ticks": ""
            },
            "type": "contourcarpet"
           }
          ],
          "heatmap": [
           {
            "colorbar": {
             "outlinewidth": 0,
             "ticks": ""
            },
            "colorscale": [
             [
              0,
              "#0d0887"
             ],
             [
              0.1111111111111111,
              "#46039f"
             ],
             [
              0.2222222222222222,
              "#7201a8"
             ],
             [
              0.3333333333333333,
              "#9c179e"
             ],
             [
              0.4444444444444444,
              "#bd3786"
             ],
             [
              0.5555555555555556,
              "#d8576b"
             ],
             [
              0.6666666666666666,
              "#ed7953"
             ],
             [
              0.7777777777777778,
              "#fb9f3a"
             ],
             [
              0.8888888888888888,
              "#fdca26"
             ],
             [
              1,
              "#f0f921"
             ]
            ],
            "type": "heatmap"
           }
          ],
          "heatmapgl": [
           {
            "colorbar": {
             "outlinewidth": 0,
             "ticks": ""
            },
            "colorscale": [
             [
              0,
              "#0d0887"
             ],
             [
              0.1111111111111111,
              "#46039f"
             ],
             [
              0.2222222222222222,
              "#7201a8"
             ],
             [
              0.3333333333333333,
              "#9c179e"
             ],
             [
              0.4444444444444444,
              "#bd3786"
             ],
             [
              0.5555555555555556,
              "#d8576b"
             ],
             [
              0.6666666666666666,
              "#ed7953"
             ],
             [
              0.7777777777777778,
              "#fb9f3a"
             ],
             [
              0.8888888888888888,
              "#fdca26"
             ],
             [
              1,
              "#f0f921"
             ]
            ],
            "type": "heatmapgl"
           }
          ],
          "histogram": [
           {
            "marker": {
             "colorbar": {
              "outlinewidth": 0,
              "ticks": ""
             }
            },
            "type": "histogram"
           }
          ],
          "histogram2d": [
           {
            "colorbar": {
             "outlinewidth": 0,
             "ticks": ""
            },
            "colorscale": [
             [
              0,
              "#0d0887"
             ],
             [
              0.1111111111111111,
              "#46039f"
             ],
             [
              0.2222222222222222,
              "#7201a8"
             ],
             [
              0.3333333333333333,
              "#9c179e"
             ],
             [
              0.4444444444444444,
              "#bd3786"
             ],
             [
              0.5555555555555556,
              "#d8576b"
             ],
             [
              0.6666666666666666,
              "#ed7953"
             ],
             [
              0.7777777777777778,
              "#fb9f3a"
             ],
             [
              0.8888888888888888,
              "#fdca26"
             ],
             [
              1,
              "#f0f921"
             ]
            ],
            "type": "histogram2d"
           }
          ],
          "histogram2dcontour": [
           {
            "colorbar": {
             "outlinewidth": 0,
             "ticks": ""
            },
            "colorscale": [
             [
              0,
              "#0d0887"
             ],
             [
              0.1111111111111111,
              "#46039f"
             ],
             [
              0.2222222222222222,
              "#7201a8"
             ],
             [
              0.3333333333333333,
              "#9c179e"
             ],
             [
              0.4444444444444444,
              "#bd3786"
             ],
             [
              0.5555555555555556,
              "#d8576b"
             ],
             [
              0.6666666666666666,
              "#ed7953"
             ],
             [
              0.7777777777777778,
              "#fb9f3a"
             ],
             [
              0.8888888888888888,
              "#fdca26"
             ],
             [
              1,
              "#f0f921"
             ]
            ],
            "type": "histogram2dcontour"
           }
          ],
          "mesh3d": [
           {
            "colorbar": {
             "outlinewidth": 0,
             "ticks": ""
            },
            "type": "mesh3d"
           }
          ],
          "parcoords": [
           {
            "line": {
             "colorbar": {
              "outlinewidth": 0,
              "ticks": ""
             }
            },
            "type": "parcoords"
           }
          ],
          "pie": [
           {
            "automargin": true,
            "type": "pie"
           }
          ],
          "scatter": [
           {
            "marker": {
             "colorbar": {
              "outlinewidth": 0,
              "ticks": ""
             }
            },
            "type": "scatter"
           }
          ],
          "scatter3d": [
           {
            "line": {
             "colorbar": {
              "outlinewidth": 0,
              "ticks": ""
             }
            },
            "marker": {
             "colorbar": {
              "outlinewidth": 0,
              "ticks": ""
             }
            },
            "type": "scatter3d"
           }
          ],
          "scattercarpet": [
           {
            "marker": {
             "colorbar": {
              "outlinewidth": 0,
              "ticks": ""
             }
            },
            "type": "scattercarpet"
           }
          ],
          "scattergeo": [
           {
            "marker": {
             "colorbar": {
              "outlinewidth": 0,
              "ticks": ""
             }
            },
            "type": "scattergeo"
           }
          ],
          "scattergl": [
           {
            "marker": {
             "colorbar": {
              "outlinewidth": 0,
              "ticks": ""
             }
            },
            "type": "scattergl"
           }
          ],
          "scattermapbox": [
           {
            "marker": {
             "colorbar": {
              "outlinewidth": 0,
              "ticks": ""
             }
            },
            "type": "scattermapbox"
           }
          ],
          "scatterpolar": [
           {
            "marker": {
             "colorbar": {
              "outlinewidth": 0,
              "ticks": ""
             }
            },
            "type": "scatterpolar"
           }
          ],
          "scatterpolargl": [
           {
            "marker": {
             "colorbar": {
              "outlinewidth": 0,
              "ticks": ""
             }
            },
            "type": "scatterpolargl"
           }
          ],
          "scatterternary": [
           {
            "marker": {
             "colorbar": {
              "outlinewidth": 0,
              "ticks": ""
             }
            },
            "type": "scatterternary"
           }
          ],
          "surface": [
           {
            "colorbar": {
             "outlinewidth": 0,
             "ticks": ""
            },
            "colorscale": [
             [
              0,
              "#0d0887"
             ],
             [
              0.1111111111111111,
              "#46039f"
             ],
             [
              0.2222222222222222,
              "#7201a8"
             ],
             [
              0.3333333333333333,
              "#9c179e"
             ],
             [
              0.4444444444444444,
              "#bd3786"
             ],
             [
              0.5555555555555556,
              "#d8576b"
             ],
             [
              0.6666666666666666,
              "#ed7953"
             ],
             [
              0.7777777777777778,
              "#fb9f3a"
             ],
             [
              0.8888888888888888,
              "#fdca26"
             ],
             [
              1,
              "#f0f921"
             ]
            ],
            "type": "surface"
           }
          ],
          "table": [
           {
            "cells": {
             "fill": {
              "color": "#EBF0F8"
             },
             "line": {
              "color": "white"
             }
            },
            "header": {
             "fill": {
              "color": "#C8D4E3"
             },
             "line": {
              "color": "white"
             }
            },
            "type": "table"
           }
          ]
         },
         "layout": {
          "annotationdefaults": {
           "arrowcolor": "#2a3f5f",
           "arrowhead": 0,
           "arrowwidth": 1
          },
          "coloraxis": {
           "colorbar": {
            "outlinewidth": 0,
            "ticks": ""
           }
          },
          "colorscale": {
           "diverging": [
            [
             0,
             "#8e0152"
            ],
            [
             0.1,
             "#c51b7d"
            ],
            [
             0.2,
             "#de77ae"
            ],
            [
             0.3,
             "#f1b6da"
            ],
            [
             0.4,
             "#fde0ef"
            ],
            [
             0.5,
             "#f7f7f7"
            ],
            [
             0.6,
             "#e6f5d0"
            ],
            [
             0.7,
             "#b8e186"
            ],
            [
             0.8,
             "#7fbc41"
            ],
            [
             0.9,
             "#4d9221"
            ],
            [
             1,
             "#276419"
            ]
           ],
           "sequential": [
            [
             0,
             "#0d0887"
            ],
            [
             0.1111111111111111,
             "#46039f"
            ],
            [
             0.2222222222222222,
             "#7201a8"
            ],
            [
             0.3333333333333333,
             "#9c179e"
            ],
            [
             0.4444444444444444,
             "#bd3786"
            ],
            [
             0.5555555555555556,
             "#d8576b"
            ],
            [
             0.6666666666666666,
             "#ed7953"
            ],
            [
             0.7777777777777778,
             "#fb9f3a"
            ],
            [
             0.8888888888888888,
             "#fdca26"
            ],
            [
             1,
             "#f0f921"
            ]
           ],
           "sequentialminus": [
            [
             0,
             "#0d0887"
            ],
            [
             0.1111111111111111,
             "#46039f"
            ],
            [
             0.2222222222222222,
             "#7201a8"
            ],
            [
             0.3333333333333333,
             "#9c179e"
            ],
            [
             0.4444444444444444,
             "#bd3786"
            ],
            [
             0.5555555555555556,
             "#d8576b"
            ],
            [
             0.6666666666666666,
             "#ed7953"
            ],
            [
             0.7777777777777778,
             "#fb9f3a"
            ],
            [
             0.8888888888888888,
             "#fdca26"
            ],
            [
             1,
             "#f0f921"
            ]
           ]
          },
          "colorway": [
           "#636efa",
           "#EF553B",
           "#00cc96",
           "#ab63fa",
           "#FFA15A",
           "#19d3f3",
           "#FF6692",
           "#B6E880",
           "#FF97FF",
           "#FECB52"
          ],
          "font": {
           "color": "#2a3f5f"
          },
          "geo": {
           "bgcolor": "white",
           "lakecolor": "white",
           "landcolor": "#E5ECF6",
           "showlakes": true,
           "showland": true,
           "subunitcolor": "white"
          },
          "hoverlabel": {
           "align": "left"
          },
          "hovermode": "closest",
          "mapbox": {
           "style": "light"
          },
          "paper_bgcolor": "white",
          "plot_bgcolor": "#E5ECF6",
          "polar": {
           "angularaxis": {
            "gridcolor": "white",
            "linecolor": "white",
            "ticks": ""
           },
           "bgcolor": "#E5ECF6",
           "radialaxis": {
            "gridcolor": "white",
            "linecolor": "white",
            "ticks": ""
           }
          },
          "scene": {
           "xaxis": {
            "backgroundcolor": "#E5ECF6",
            "gridcolor": "white",
            "gridwidth": 2,
            "linecolor": "white",
            "showbackground": true,
            "ticks": "",
            "zerolinecolor": "white"
           },
           "yaxis": {
            "backgroundcolor": "#E5ECF6",
            "gridcolor": "white",
            "gridwidth": 2,
            "linecolor": "white",
            "showbackground": true,
            "ticks": "",
            "zerolinecolor": "white"
           },
           "zaxis": {
            "backgroundcolor": "#E5ECF6",
            "gridcolor": "white",
            "gridwidth": 2,
            "linecolor": "white",
            "showbackground": true,
            "ticks": "",
            "zerolinecolor": "white"
           }
          },
          "shapedefaults": {
           "line": {
            "color": "#2a3f5f"
           }
          },
          "ternary": {
           "aaxis": {
            "gridcolor": "white",
            "linecolor": "white",
            "ticks": ""
           },
           "baxis": {
            "gridcolor": "white",
            "linecolor": "white",
            "ticks": ""
           },
           "bgcolor": "#E5ECF6",
           "caxis": {
            "gridcolor": "white",
            "linecolor": "white",
            "ticks": ""
           }
          },
          "title": {
           "x": 0.05
          },
          "xaxis": {
           "automargin": true,
           "gridcolor": "white",
           "linecolor": "white",
           "ticks": "",
           "title": {
            "standoff": 15
           },
           "zerolinecolor": "white",
           "zerolinewidth": 2
          },
          "yaxis": {
           "automargin": true,
           "gridcolor": "white",
           "linecolor": "white",
           "ticks": "",
           "title": {
            "standoff": 15
           },
           "zerolinecolor": "white",
           "zerolinewidth": 2
          }
         }
        },
        "title": {
         "text": "The Top 10 popular beers styles"
        },
        "xaxis": {
         "title": {
          "text": "Count of reviews"
         }
        }
       }
      },
      "text/html": [
       "<div>\n",
       "        \n",
       "        \n",
       "            <div id=\"10dc938f-b640-405e-ac89-f58e492b52d6\" class=\"plotly-graph-div\" style=\"height:525px; width:100%;\"></div>\n",
       "            <script type=\"text/javascript\">\n",
       "                require([\"plotly\"], function(Plotly) {\n",
       "                    window.PLOTLYENV=window.PLOTLYENV || {};\n",
       "                    \n",
       "                if (document.getElementById(\"10dc938f-b640-405e-ac89-f58e492b52d6\")) {\n",
       "                    Plotly.newPlot(\n",
       "                        '10dc938f-b640-405e-ac89-f58e492b52d6',\n",
       "                        [{\"hoverinfo\": \"x\", \"marker\": {\"color\": \"rgb(1, 77, 102)\"}, \"opacity\": 0.75, \"orientation\": \"h\", \"text\": [\"Belgian Strong Pale Ale\", \"Fruit / Vegetable Beer\", \"Belgian Strong Dark Ale\", \"American Amber / Red Ale\", \"American Porter\", \"American Double / Imperial Stout\", \"Russian Imperial Stout\", \"American Pale Ale (APA)\", \"American Double / Imperial IPA\", \"American IPA\"], \"textposition\": \"inside\", \"type\": \"bar\", \"x\": [31064, 31784, 37181, 41197, 45960, 49254, 52323, 56749, 83635, 110451], \"y\": [\"Belgian Strong Pale Ale\", \"Fruit / Vegetable Beer\", \"Belgian Strong Dark Ale\", \"American Amber / Red Ale\", \"American Porter\", \"American Double / Imperial Stout\", \"Russian Imperial Stout\", \"American Pale Ale (APA)\", \"American Double / Imperial IPA\", \"American IPA\"]}],\n",
       "                        {\"font\": {\"color\": \"dark gray\", \"family\": \"Comic Sans MS\"}, \"margin\": {\"l\": 220}, \"template\": {\"data\": {\"bar\": [{\"error_x\": {\"color\": \"#2a3f5f\"}, \"error_y\": {\"color\": \"#2a3f5f\"}, \"marker\": {\"line\": {\"color\": \"#E5ECF6\", \"width\": 0.5}}, \"type\": \"bar\"}], \"barpolar\": [{\"marker\": {\"line\": {\"color\": \"#E5ECF6\", \"width\": 0.5}}, \"type\": \"barpolar\"}], \"carpet\": [{\"aaxis\": {\"endlinecolor\": \"#2a3f5f\", \"gridcolor\": \"white\", \"linecolor\": \"white\", \"minorgridcolor\": \"white\", \"startlinecolor\": \"#2a3f5f\"}, \"baxis\": {\"endlinecolor\": \"#2a3f5f\", \"gridcolor\": \"white\", \"linecolor\": \"white\", \"minorgridcolor\": \"white\", \"startlinecolor\": \"#2a3f5f\"}, \"type\": \"carpet\"}], \"choropleth\": [{\"colorbar\": {\"outlinewidth\": 0, \"ticks\": \"\"}, \"type\": \"choropleth\"}], \"contour\": [{\"colorbar\": {\"outlinewidth\": 0, \"ticks\": \"\"}, \"colorscale\": [[0.0, \"#0d0887\"], [0.1111111111111111, \"#46039f\"], [0.2222222222222222, \"#7201a8\"], [0.3333333333333333, \"#9c179e\"], [0.4444444444444444, \"#bd3786\"], [0.5555555555555556, \"#d8576b\"], [0.6666666666666666, \"#ed7953\"], [0.7777777777777778, \"#fb9f3a\"], [0.8888888888888888, \"#fdca26\"], [1.0, \"#f0f921\"]], \"type\": \"contour\"}], \"contourcarpet\": [{\"colorbar\": {\"outlinewidth\": 0, \"ticks\": \"\"}, \"type\": \"contourcarpet\"}], \"heatmap\": [{\"colorbar\": {\"outlinewidth\": 0, \"ticks\": \"\"}, \"colorscale\": [[0.0, \"#0d0887\"], [0.1111111111111111, \"#46039f\"], [0.2222222222222222, \"#7201a8\"], [0.3333333333333333, \"#9c179e\"], [0.4444444444444444, \"#bd3786\"], [0.5555555555555556, \"#d8576b\"], [0.6666666666666666, \"#ed7953\"], [0.7777777777777778, \"#fb9f3a\"], [0.8888888888888888, \"#fdca26\"], [1.0, \"#f0f921\"]], \"type\": \"heatmap\"}], \"heatmapgl\": [{\"colorbar\": {\"outlinewidth\": 0, \"ticks\": \"\"}, \"colorscale\": [[0.0, \"#0d0887\"], [0.1111111111111111, \"#46039f\"], [0.2222222222222222, \"#7201a8\"], [0.3333333333333333, \"#9c179e\"], [0.4444444444444444, \"#bd3786\"], [0.5555555555555556, \"#d8576b\"], [0.6666666666666666, \"#ed7953\"], [0.7777777777777778, \"#fb9f3a\"], [0.8888888888888888, \"#fdca26\"], [1.0, \"#f0f921\"]], \"type\": \"heatmapgl\"}], \"histogram\": [{\"marker\": {\"colorbar\": {\"outlinewidth\": 0, \"ticks\": \"\"}}, \"type\": \"histogram\"}], \"histogram2d\": [{\"colorbar\": {\"outlinewidth\": 0, \"ticks\": \"\"}, \"colorscale\": [[0.0, \"#0d0887\"], [0.1111111111111111, \"#46039f\"], [0.2222222222222222, \"#7201a8\"], [0.3333333333333333, \"#9c179e\"], [0.4444444444444444, \"#bd3786\"], [0.5555555555555556, \"#d8576b\"], [0.6666666666666666, \"#ed7953\"], [0.7777777777777778, \"#fb9f3a\"], [0.8888888888888888, \"#fdca26\"], [1.0, \"#f0f921\"]], \"type\": \"histogram2d\"}], \"histogram2dcontour\": [{\"colorbar\": {\"outlinewidth\": 0, \"ticks\": \"\"}, \"colorscale\": [[0.0, \"#0d0887\"], [0.1111111111111111, \"#46039f\"], [0.2222222222222222, \"#7201a8\"], [0.3333333333333333, \"#9c179e\"], [0.4444444444444444, \"#bd3786\"], [0.5555555555555556, \"#d8576b\"], [0.6666666666666666, \"#ed7953\"], [0.7777777777777778, \"#fb9f3a\"], [0.8888888888888888, \"#fdca26\"], [1.0, \"#f0f921\"]], \"type\": \"histogram2dcontour\"}], \"mesh3d\": [{\"colorbar\": {\"outlinewidth\": 0, \"ticks\": \"\"}, \"type\": \"mesh3d\"}], \"parcoords\": [{\"line\": {\"colorbar\": {\"outlinewidth\": 0, \"ticks\": \"\"}}, \"type\": \"parcoords\"}], \"pie\": [{\"automargin\": true, \"type\": \"pie\"}], \"scatter\": [{\"marker\": {\"colorbar\": {\"outlinewidth\": 0, \"ticks\": \"\"}}, \"type\": \"scatter\"}], \"scatter3d\": [{\"line\": {\"colorbar\": {\"outlinewidth\": 0, \"ticks\": \"\"}}, \"marker\": {\"colorbar\": {\"outlinewidth\": 0, \"ticks\": \"\"}}, \"type\": \"scatter3d\"}], \"scattercarpet\": [{\"marker\": {\"colorbar\": {\"outlinewidth\": 0, \"ticks\": \"\"}}, \"type\": \"scattercarpet\"}], \"scattergeo\": [{\"marker\": {\"colorbar\": {\"outlinewidth\": 0, \"ticks\": \"\"}}, \"type\": \"scattergeo\"}], \"scattergl\": [{\"marker\": {\"colorbar\": {\"outlinewidth\": 0, \"ticks\": \"\"}}, \"type\": \"scattergl\"}], \"scattermapbox\": [{\"marker\": {\"colorbar\": {\"outlinewidth\": 0, \"ticks\": \"\"}}, \"type\": \"scattermapbox\"}], \"scatterpolar\": [{\"marker\": {\"colorbar\": {\"outlinewidth\": 0, \"ticks\": \"\"}}, \"type\": \"scatterpolar\"}], \"scatterpolargl\": [{\"marker\": {\"colorbar\": {\"outlinewidth\": 0, \"ticks\": \"\"}}, \"type\": \"scatterpolargl\"}], \"scatterternary\": [{\"marker\": {\"colorbar\": {\"outlinewidth\": 0, \"ticks\": \"\"}}, \"type\": \"scatterternary\"}], \"surface\": [{\"colorbar\": {\"outlinewidth\": 0, \"ticks\": \"\"}, \"colorscale\": [[0.0, \"#0d0887\"], [0.1111111111111111, \"#46039f\"], [0.2222222222222222, \"#7201a8\"], [0.3333333333333333, \"#9c179e\"], [0.4444444444444444, \"#bd3786\"], [0.5555555555555556, \"#d8576b\"], [0.6666666666666666, \"#ed7953\"], [0.7777777777777778, \"#fb9f3a\"], [0.8888888888888888, \"#fdca26\"], [1.0, \"#f0f921\"]], \"type\": \"surface\"}], \"table\": [{\"cells\": {\"fill\": {\"color\": \"#EBF0F8\"}, \"line\": {\"color\": \"white\"}}, \"header\": {\"fill\": {\"color\": \"#C8D4E3\"}, \"line\": {\"color\": \"white\"}}, \"type\": \"table\"}]}, \"layout\": {\"annotationdefaults\": {\"arrowcolor\": \"#2a3f5f\", \"arrowhead\": 0, \"arrowwidth\": 1}, \"coloraxis\": {\"colorbar\": {\"outlinewidth\": 0, \"ticks\": \"\"}}, \"colorscale\": {\"diverging\": [[0, \"#8e0152\"], [0.1, \"#c51b7d\"], [0.2, \"#de77ae\"], [0.3, \"#f1b6da\"], [0.4, \"#fde0ef\"], [0.5, \"#f7f7f7\"], [0.6, \"#e6f5d0\"], [0.7, \"#b8e186\"], [0.8, \"#7fbc41\"], [0.9, \"#4d9221\"], [1, \"#276419\"]], \"sequential\": [[0.0, \"#0d0887\"], [0.1111111111111111, \"#46039f\"], [0.2222222222222222, \"#7201a8\"], [0.3333333333333333, \"#9c179e\"], [0.4444444444444444, \"#bd3786\"], [0.5555555555555556, \"#d8576b\"], [0.6666666666666666, \"#ed7953\"], [0.7777777777777778, \"#fb9f3a\"], [0.8888888888888888, \"#fdca26\"], [1.0, \"#f0f921\"]], \"sequentialminus\": [[0.0, \"#0d0887\"], [0.1111111111111111, \"#46039f\"], [0.2222222222222222, \"#7201a8\"], [0.3333333333333333, \"#9c179e\"], [0.4444444444444444, \"#bd3786\"], [0.5555555555555556, \"#d8576b\"], [0.6666666666666666, \"#ed7953\"], [0.7777777777777778, \"#fb9f3a\"], [0.8888888888888888, \"#fdca26\"], [1.0, \"#f0f921\"]]}, \"colorway\": [\"#636efa\", \"#EF553B\", \"#00cc96\", \"#ab63fa\", \"#FFA15A\", \"#19d3f3\", \"#FF6692\", \"#B6E880\", \"#FF97FF\", \"#FECB52\"], \"font\": {\"color\": \"#2a3f5f\"}, \"geo\": {\"bgcolor\": \"white\", \"lakecolor\": \"white\", \"landcolor\": \"#E5ECF6\", \"showlakes\": true, \"showland\": true, \"subunitcolor\": \"white\"}, \"hoverlabel\": {\"align\": \"left\"}, \"hovermode\": \"closest\", \"mapbox\": {\"style\": \"light\"}, \"paper_bgcolor\": \"white\", \"plot_bgcolor\": \"#E5ECF6\", \"polar\": {\"angularaxis\": {\"gridcolor\": \"white\", \"linecolor\": \"white\", \"ticks\": \"\"}, \"bgcolor\": \"#E5ECF6\", \"radialaxis\": {\"gridcolor\": \"white\", \"linecolor\": \"white\", \"ticks\": \"\"}}, \"scene\": {\"xaxis\": {\"backgroundcolor\": \"#E5ECF6\", \"gridcolor\": \"white\", \"gridwidth\": 2, \"linecolor\": \"white\", \"showbackground\": true, \"ticks\": \"\", \"zerolinecolor\": \"white\"}, \"yaxis\": {\"backgroundcolor\": \"#E5ECF6\", \"gridcolor\": \"white\", \"gridwidth\": 2, \"linecolor\": \"white\", \"showbackground\": true, \"ticks\": \"\", \"zerolinecolor\": \"white\"}, \"zaxis\": {\"backgroundcolor\": \"#E5ECF6\", \"gridcolor\": \"white\", \"gridwidth\": 2, \"linecolor\": \"white\", \"showbackground\": true, \"ticks\": \"\", \"zerolinecolor\": \"white\"}}, \"shapedefaults\": {\"line\": {\"color\": \"#2a3f5f\"}}, \"ternary\": {\"aaxis\": {\"gridcolor\": \"white\", \"linecolor\": \"white\", \"ticks\": \"\"}, \"baxis\": {\"gridcolor\": \"white\", \"linecolor\": \"white\", \"ticks\": \"\"}, \"bgcolor\": \"#E5ECF6\", \"caxis\": {\"gridcolor\": \"white\", \"linecolor\": \"white\", \"ticks\": \"\"}}, \"title\": {\"x\": 0.05}, \"xaxis\": {\"automargin\": true, \"gridcolor\": \"white\", \"linecolor\": \"white\", \"ticks\": \"\", \"title\": {\"standoff\": 15}, \"zerolinecolor\": \"white\", \"zerolinewidth\": 2}, \"yaxis\": {\"automargin\": true, \"gridcolor\": \"white\", \"linecolor\": \"white\", \"ticks\": \"\", \"title\": {\"standoff\": 15}, \"zerolinecolor\": \"white\", \"zerolinewidth\": 2}}}, \"title\": {\"text\": \"The Top 10 popular beers styles\"}, \"xaxis\": {\"title\": {\"text\": \"Count of reviews\"}}},\n",
       "                        {\"responsive\": true}\n",
       "                    ).then(function(){\n",
       "                            \n",
       "var gd = document.getElementById('10dc938f-b640-405e-ac89-f58e492b52d6');\n",
       "var x = new MutationObserver(function (mutations, observer) {{\n",
       "        var display = window.getComputedStyle(gd).display;\n",
       "        if (!display || display === 'none') {{\n",
       "            console.log([gd, 'removed!']);\n",
       "            Plotly.purge(gd);\n",
       "            observer.disconnect();\n",
       "        }}\n",
       "}});\n",
       "\n",
       "// Listen for the removal of the full notebook cells\n",
       "var notebookContainer = gd.closest('#notebook-container');\n",
       "if (notebookContainer) {{\n",
       "    x.observe(notebookContainer, {childList: true});\n",
       "}}\n",
       "\n",
       "// Listen for the clearing of the current output cell\n",
       "var outputEl = gd.closest('.output');\n",
       "if (outputEl) {{\n",
       "    x.observe(outputEl, {childList: true});\n",
       "}}\n",
       "\n",
       "                        })\n",
       "                };\n",
       "                });\n",
       "            </script>\n",
       "        </div>"
      ]
     },
     "metadata": {},
     "output_type": "display_data"
    }
   ],
   "source": [
    "bar4 = go.Bar(x=df.beer_style.value_counts().head(10).sort_values(ascending=True),\n",
    "              y=df.beer_style.value_counts().head(10).sort_values(ascending=True).index,\n",
    "              hoverinfo = 'x',\n",
    "              text=df.beer_style.value_counts().head(10).sort_values(ascending=True).index,\n",
    "              textposition = 'inside',\n",
    "              orientation = 'h',\n",
    "              opacity=0.75, \n",
    "              marker=dict(color='rgb(1, 77, 102)'))\n",
    "\n",
    "layout = go.Layout(title='The Top 10 popular beers styles',\n",
    "                   xaxis=dict(title=\"Count of reviews\",),\n",
    "                   margin = dict(l = 220),\n",
    "                   font=dict(family='Comic Sans MS',\n",
    "                            color='dark gray'))\n",
    "\n",
    "fig = go.Figure(data=bar4, layout=layout)\n",
    "\n",
    "# Plot it\n",
    "plotly.offline.iplot(fig)"
   ]
  },
  {
   "cell_type": "markdown",
   "metadata": {},
   "source": [
    "The bar plots list the Top 10 popular breweries, beer, and beer types, as well as the Top 10 breweries who produce the most types of beer.\n",
    "\n",
    "It is worth noting that the list of the TOP 10 popular breweries and the TOP 10 breweries that produce the most beer types do not overlap.\n",
    "\n",
    "Is there a correlation between the popularity of the brewery and the type of beer produced by the brewery?"
   ]
  },
  {
   "cell_type": "code",
   "execution_count": 36,
   "metadata": {},
   "outputs": [
    {
     "name": "stdout",
     "output_type": "stream",
     "text": [
      "The correlation of reviews and beer types:  0.4913182530951361\n"
     ]
    }
   ],
   "source": [
    "popular= df.brewery_name.value_counts().sort_index()\n",
    "popular = popular.reset_index()\n",
    "print(\"The correlation of reviews and beer types: \",brewery_type.beer_name.corr(popular.brewery_name))"
   ]
  },
  {
   "cell_type": "code",
   "execution_count": null,
   "metadata": {},
   "outputs": [],
   "source": [
    "### Distribution of beer_abv"
   ]
  },
  {
   "cell_type": "code",
   "execution_count": 82,
   "metadata": {},
   "outputs": [
    {
     "data": {
      "text/plain": [
       "Text(0.5, 0, 'beer abv %')"
      ]
     },
     "execution_count": 82,
     "metadata": {},
     "output_type": "execute_result"
    },
    {
     "data": {
      "image/png": "[encoded data removed]",
      "text/plain": [
       "<Figure size 1080x720 with 1 Axes>"
      ]
     },
     "metadata": {
      "needs_background": "light"
     },
     "output_type": "display_data"
    }
   ],
   "source": [
    "plt.figure(figsize=(15,10))\n",
    "plt.title(\"Distribution of beer abv\")\n",
    "sns.distplot(df.beer_abv)\n",
    "plt.xlabel(\"beer abv %\")"
   ]
  },
  {
   "cell_type": "markdown",
   "metadata": {},
   "source": [
    "## Get the two recommendations"
   ]
  },
  {
   "cell_type": "code",
   "execution_count": 37,
   "metadata": {
    "scrolled": true
   },
   "outputs": [
    {
     "name": "stdout",
     "output_type": "stream",
     "text": [
      "Review count of each beer \n",
      "  count    44075.000000\n",
      "mean        33.947952\n",
      "std        133.729996\n",
      "min          1.000000\n",
      "25%          1.000000\n",
      "50%          3.000000\n",
      "75%         12.000000\n",
      "max       3206.000000\n",
      "Name: beer_name, dtype: float64\n"
     ]
    }
   ],
   "source": [
    "print(\"Review count of each beer \\n \",df.beer_name.value_counts().describe())"
   ]
  },
  {
   "cell_type": "code",
   "execution_count": 38,
   "metadata": {},
   "outputs": [
    {
     "name": "stdout",
     "output_type": "stream",
     "text": [
      "Beers with review_overall more than 4: \n",
      "                                      review_overall          \n",
      "                                              count      mean\n",
      "beer_name                                                    \n",
      "\"Hop Obama\" Ale                                  28  4.160714\n",
      "\"Little John's Myth\" Robust Porter                2  4.250000\n",
      "\"Not Guilty\" 1924 Deer Brand                      7  4.071429\n",
      "\"Not Your Bock\" Maibock                           1  4.500000\n",
      "\"Stout Stoat\" Stout                               2  4.250000\n",
      "...                                             ...       ...\n",
      "Über Alt                                         15  4.166667\n",
      "Über Blonde                                       1  4.500000\n",
      "Über Pils                                       228  4.057018\n",
      "ÜberSun (Imperial Summer Wheat Beer)            233  4.060086\n",
      "Ω-naught (Omeganaught)                            3  4.166667\n",
      "\n",
      "[9354 rows x 2 columns]\n",
      "Beers with review_overall more than 4, and number of review less than 30: \n",
      "                                    review_overall          \n",
      "                                            count      mean\n",
      "beer_name                                                  \n",
      "\"Hop Obama\" Ale                                28  4.160714\n",
      "\"Little John's Myth\" Robust Porter              2  4.250000\n",
      "\"Not Guilty\" 1924 Deer Brand                    7  4.071429\n",
      "\"Not Your Bock\" Maibock                         1  4.500000\n",
      "\"Stout Stoat\" Stout                             2  4.250000\n",
      "...                                           ...       ...\n",
      "Ølfabrikken Winter Porter                      17  4.176471\n",
      "Úlfur                                           3  4.333333\n",
      "Über Alt                                       15  4.166667\n",
      "Über Blonde                                     1  4.500000\n",
      "Ω-naught (Omeganaught)                          3  4.166667\n",
      "\n",
      "[7754 rows x 2 columns]\n"
     ]
    }
   ],
   "source": [
    "reshape=df[['review_overall','beer_name']].groupby(\"beer_name\").agg(['count','mean'])\n",
    "print(\"Beers with review_overall more than 4: \\n\",reshape[reshape['review_overall',  'mean']>4])\n",
    "print(\"Beers with review_overall more than 4, and number of review less than 30: \\n\",reshape[reshape['review_overall',  'mean']>4][reshape[reshape['review_overall',  'mean']>4]['review_overall',  'count']<30])"
   ]
  },
  {
   "cell_type": "markdown",
   "metadata": {},
   "source": [
    " From the information above we can understand:\n",
    "- Although there are some beers with 3000+ reviews, however, half of the beers are with review less than 3.\n",
    "\n",
    "\n",
    "- There are more than 9000 beers with a rating of more than 4, however, 7754 of them are with less than 30 reviews.\n",
    "\n",
    "\n",
    "\n",
    "As we assume that when the number of reviews is less than 30, the beer's rating is biased.\n",
    "Therefore, in the following steps, I will filter out beers with less than 30 reviews, then pick the top 2 beers with the highest rate."
   ]
  },
  {
   "cell_type": "markdown",
   "metadata": {},
   "source": [
    "Based on the TOP rating we got from the last section, I will choose the two beer with the highest average review_overall from the TOP 10 popular beer types list and produced by TOP 10 popular breweries for recommendation."
   ]
  },
  {
   "cell_type": "code",
   "execution_count": 39,
   "metadata": {},
   "outputs": [],
   "source": [
    "top10_breweries=df.brewery_name.value_counts().head(10).reset_index()\n",
    "top10_styles=df.beer_style.value_counts().head(10).reset_index()\n",
    "subset = df[df['brewery_name'].isin(top10_breweries['index'])& df['beer_style'].isin(top10_styles['index'])]\n"
   ]
  },
  {
   "cell_type": "code",
   "execution_count": 40,
   "metadata": {},
   "outputs": [
    {
     "data": {
      "text/html": [
       "<div>\n",
       "<style scoped>\n",
       "    .dataframe tbody tr th:only-of-type {\n",
       "        vertical-align: middle;\n",
       "    }\n",
       "\n",
       "    .dataframe tbody tr th {\n",
       "        vertical-align: top;\n",
       "    }\n",
       "\n",
       "    .dataframe thead tr th {\n",
       "        text-align: left;\n",
       "    }\n",
       "\n",
       "    .dataframe thead tr:last-of-type th {\n",
       "        text-align: right;\n",
       "    }\n",
       "</style>\n",
       "<table border=\"1\" class=\"dataframe\">\n",
       "  <thead>\n",
       "    <tr>\n",
       "      <th></th>\n",
       "      <th colspan=\"2\" halign=\"left\">review_overall</th>\n",
       "    </tr>\n",
       "    <tr>\n",
       "      <th></th>\n",
       "      <th>count</th>\n",
       "      <th>mean</th>\n",
       "    </tr>\n",
       "    <tr>\n",
       "      <th>beer_name</th>\n",
       "      <th></th>\n",
       "      <th></th>\n",
       "    </tr>\n",
       "  </thead>\n",
       "  <tbody>\n",
       "    <tr>\n",
       "      <th>Founders CBS Imperial Stout</th>\n",
       "      <td>618</td>\n",
       "      <td>4.597087</td>\n",
       "    </tr>\n",
       "    <tr>\n",
       "      <th>Founders KBS (Kentucky Breakfast Stout)</th>\n",
       "      <td>1875</td>\n",
       "      <td>4.402667</td>\n",
       "    </tr>\n",
       "  </tbody>\n",
       "</table>\n",
       "</div>"
      ],
      "text/plain": [
       "                                        review_overall          \n",
       "                                                 count      mean\n",
       "beer_name                                                       \n",
       "Founders CBS Imperial Stout                        618  4.597087\n",
       "Founders KBS (Kentucky Breakfast Stout)           1875  4.402667"
      ]
     },
     "execution_count": 40,
     "metadata": {},
     "output_type": "execute_result"
    }
   ],
   "source": [
    "reshaped_subset = subset[['review_overall','beer_name']].groupby(\"beer_name\").agg(['count','mean'])\n",
    "reshaped_subset = reshaped_subset[reshaped_subset['review_overall',  'count']>30]\n",
    "reshaped_subset.columns\n",
    "reshaped_subset.sort_values(('review_overall',  'mean'),ascending=False).head(2)\n"
   ]
  },
  {
   "cell_type": "code",
   "execution_count": 74,
   "metadata": {},
   "outputs": [],
   "source": [
    "categories=['review_overall','review_aroma', 'review_appearance', 'review_palate', 'review_taste']\n",
    "r1=df[df.beer_name==\"Founders CBS Imperial Stout\"]\n",
    "r2=df[df.beer_name==\"Founders KBS (Kentucky Breakfast Stout)\"]\n",
    "r1_value=[r1.review_overall.mean().round(2),r1.review_aroma.mean().round(2),r1.review_appearance.mean().round(2),r1.review_palate.mean().round(2),r1.review_taste.mean().round(2)]\n",
    "r2_value=[r2.review_overall.mean().round(2),r2.review_aroma.mean().round(2),r2.review_appearance.mean().round(2),r2.review_palate.mean().round(2),r2.review_taste.mean().round(2)]\n"
   ]
  },
  {
   "cell_type": "code",
   "execution_count": 75,
   "metadata": {},
   "outputs": [
    {
     "data": {
      "application/vnd.plotly.v1+json": {
       "config": {
        "plotlyServerURL": "https://plot.ly"
       },
       "data": [
        {
         "fill": "toself",
         "name": "Founders CBS Imperial Stout",
         "r": [
          4.6,
          4.56,
          4.46,
          4.58,
          4.7
         ],
         "theta": [
          "review_overall",
          "review_aroma",
          "review_appearance",
          "review_palate",
          "review_taste"
         ],
         "type": "scatterpolar"
        }
       ],
       "layout": {
        "polar": {
         "radialaxis": {
          "range": [
           0,
           5
          ],
          "visible": true
         }
        },
        "showlegend": false,
        "template": {
         "data": {
          "bar": [
           {
            "error_x": {
             "color": "#2a3f5f"
            },
            "error_y": {
             "color": "#2a3f5f"
            },
            "marker": {
             "line": {
              "color": "#E5ECF6",
              "width": 0.5
             }
            },
            "type": "bar"
           }
          ],
          "barpolar": [
           {
            "marker": {
             "line": {
              "color": "#E5ECF6",
              "width": 0.5
             }
            },
            "type": "barpolar"
           }
          ],
          "carpet": [
           {
            "aaxis": {
             "endlinecolor": "#2a3f5f",
             "gridcolor": "white",
             "linecolor": "white",
             "minorgridcolor": "white",
             "startlinecolor": "#2a3f5f"
            },
            "baxis": {
             "endlinecolor": "#2a3f5f",
             "gridcolor": "white",
             "linecolor": "white",
             "minorgridcolor": "white",
             "startlinecolor": "#2a3f5f"
            },
            "type": "carpet"
           }
          ],
          "choropleth": [
           {
            "colorbar": {
             "outlinewidth": 0,
             "ticks": ""
            },
            "type": "choropleth"
           }
          ],
          "contour": [
           {
            "colorbar": {
             "outlinewidth": 0,
             "ticks": ""
            },
            "colorscale": [
             [
              0,
              "#0d0887"
             ],
             [
              0.1111111111111111,
              "#46039f"
             ],
             [
              0.2222222222222222,
              "#7201a8"
             ],
             [
              0.3333333333333333,
              "#9c179e"
             ],
             [
              0.4444444444444444,
              "#bd3786"
             ],
             [
              0.5555555555555556,
              "#d8576b"
             ],
             [
              0.6666666666666666,
              "#ed7953"
             ],
             [
              0.7777777777777778,
              "#fb9f3a"
             ],
             [
              0.8888888888888888,
              "#fdca26"
             ],
             [
              1,
              "#f0f921"
             ]
            ],
            "type": "contour"
           }
          ],
          "contourcarpet": [
           {
            "colorbar": {
             "outlinewidth": 0,
             "ticks": ""
            },
            "type": "contourcarpet"
           }
          ],
          "heatmap": [
           {
            "colorbar": {
             "outlinewidth": 0,
             "ticks": ""
            },
            "colorscale": [
             [
              0,
              "#0d0887"
             ],
             [
              0.1111111111111111,
              "#46039f"
             ],
             [
              0.2222222222222222,
              "#7201a8"
             ],
             [
              0.3333333333333333,
              "#9c179e"
             ],
             [
              0.4444444444444444,
              "#bd3786"
             ],
             [
              0.5555555555555556,
              "#d8576b"
             ],
             [
              0.6666666666666666,
              "#ed7953"
             ],
             [
              0.7777777777777778,
              "#fb9f3a"
             ],
             [
              0.8888888888888888,
              "#fdca26"
             ],
             [
              1,
              "#f0f921"
             ]
            ],
            "type": "heatmap"
           }
          ],
          "heatmapgl": [
           {
            "colorbar": {
             "outlinewidth": 0,
             "ticks": ""
            },
            "colorscale": [
             [
              0,
              "#0d0887"
             ],
             [
              0.1111111111111111,
              "#46039f"
             ],
             [
              0.2222222222222222,
              "#7201a8"
             ],
             [
              0.3333333333333333,
              "#9c179e"
             ],
             [
              0.4444444444444444,
              "#bd3786"
             ],
             [
              0.5555555555555556,
              "#d8576b"
             ],
             [
              0.6666666666666666,
              "#ed7953"
             ],
             [
              0.7777777777777778,
              "#fb9f3a"
             ],
             [
              0.8888888888888888,
              "#fdca26"
             ],
             [
              1,
              "#f0f921"
             ]
            ],
            "type": "heatmapgl"
           }
          ],
          "histogram": [
           {
            "marker": {
             "colorbar": {
              "outlinewidth": 0,
              "ticks": ""
             }
            },
            "type": "histogram"
           }
          ],
          "histogram2d": [
           {
            "colorbar": {
             "outlinewidth": 0,
             "ticks": ""
            },
            "colorscale": [
             [
              0,
              "#0d0887"
             ],
             [
              0.1111111111111111,
              "#46039f"
             ],
             [
              0.2222222222222222,
              "#7201a8"
             ],
             [
              0.3333333333333333,
              "#9c179e"
             ],
             [
              0.4444444444444444,
              "#bd3786"
             ],
             [
              0.5555555555555556,
              "#d8576b"
             ],
             [
              0.6666666666666666,
              "#ed7953"
             ],
             [
              0.7777777777777778,
              "#fb9f3a"
             ],
             [
              0.8888888888888888,
              "#fdca26"
             ],
             [
              1,
              "#f0f921"
             ]
            ],
            "type": "histogram2d"
           }
          ],
          "histogram2dcontour": [
           {
            "colorbar": {
             "outlinewidth": 0,
             "ticks": ""
            },
            "colorscale": [
             [
              0,
              "#0d0887"
             ],
             [
              0.1111111111111111,
              "#46039f"
             ],
             [
              0.2222222222222222,
              "#7201a8"
             ],
             [
              0.3333333333333333,
              "#9c179e"
             ],
             [
              0.4444444444444444,
              "#bd3786"
             ],
             [
              0.5555555555555556,
              "#d8576b"
             ],
             [
              0.6666666666666666,
              "#ed7953"
             ],
             [
              0.7777777777777778,
              "#fb9f3a"
             ],
             [
              0.8888888888888888,
              "#fdca26"
             ],
             [
              1,
              "#f0f921"
             ]
            ],
            "type": "histogram2dcontour"
           }
          ],
          "mesh3d": [
           {
            "colorbar": {
             "outlinewidth": 0,
             "ticks": ""
            },
            "type": "mesh3d"
           }
          ],
          "parcoords": [
           {
            "line": {
             "colorbar": {
              "outlinewidth": 0,
              "ticks": ""
             }
            },
            "type": "parcoords"
           }
          ],
          "pie": [
           {
            "automargin": true,
            "type": "pie"
           }
          ],
          "scatter": [
           {
            "marker": {
             "colorbar": {
              "outlinewidth": 0,
              "ticks": ""
             }
            },
            "type": "scatter"
           }
          ],
          "scatter3d": [
           {
            "line": {
             "colorbar": {
              "outlinewidth": 0,
              "ticks": ""
             }
            },
            "marker": {
             "colorbar": {
              "outlinewidth": 0,
              "ticks": ""
             }
            },
            "type": "scatter3d"
           }
          ],
          "scattercarpet": [
           {
            "marker": {
             "colorbar": {
              "outlinewidth": 0,
              "ticks": ""
             }
            },
            "type": "scattercarpet"
           }
          ],
          "scattergeo": [
           {
            "marker": {
             "colorbar": {
              "outlinewidth": 0,
              "ticks": ""
             }
            },
            "type": "scattergeo"
           }
          ],
          "scattergl": [
           {
            "marker": {
             "colorbar": {
              "outlinewidth": 0,
              "ticks": ""
             }
            },
            "type": "scattergl"
           }
          ],
          "scattermapbox": [
           {
            "marker": {
             "colorbar": {
              "outlinewidth": 0,
              "ticks": ""
             }
            },
            "type": "scattermapbox"
           }
          ],
          "scatterpolar": [
           {
            "marker": {
             "colorbar": {
              "outlinewidth": 0,
              "ticks": ""
             }
            },
            "type": "scatterpolar"
           }
          ],
          "scatterpolargl": [
           {
            "marker": {
             "colorbar": {
              "outlinewidth": 0,
              "ticks": ""
             }
            },
            "type": "scatterpolargl"
           }
          ],
          "scatterternary": [
           {
            "marker": {
             "colorbar": {
              "outlinewidth": 0,
              "ticks": ""
             }
            },
            "type": "scatterternary"
           }
          ],
          "surface": [
           {
            "colorbar": {
             "outlinewidth": 0,
             "ticks": ""
            },
            "colorscale": [
             [
              0,
              "#0d0887"
             ],
             [
              0.1111111111111111,
              "#46039f"
             ],
             [
              0.2222222222222222,
              "#7201a8"
             ],
             [
              0.3333333333333333,
              "#9c179e"
             ],
             [
              0.4444444444444444,
              "#bd3786"
             ],
             [
              0.5555555555555556,
              "#d8576b"
             ],
             [
              0.6666666666666666,
              "#ed7953"
             ],
             [
              0.7777777777777778,
              "#fb9f3a"
             ],
             [
              0.8888888888888888,
              "#fdca26"
             ],
             [
              1,
              "#f0f921"
             ]
            ],
            "type": "surface"
           }
          ],
          "table": [
           {
            "cells": {
             "fill": {
              "color": "#EBF0F8"
             },
             "line": {
              "color": "white"
             }
            },
            "header": {
             "fill": {
              "color": "#C8D4E3"
             },
             "line": {
              "color": "white"
             }
            },
            "type": "table"
           }
          ]
         },
         "layout": {
          "annotationdefaults": {
           "arrowcolor": "#2a3f5f",
           "arrowhead": 0,
           "arrowwidth": 1
          },
          "coloraxis": {
           "colorbar": {
            "outlinewidth": 0,
            "ticks": ""
           }
          },
          "colorscale": {
           "diverging": [
            [
             0,
             "#8e0152"
            ],
            [
             0.1,
             "#c51b7d"
            ],
            [
             0.2,
             "#de77ae"
            ],
            [
             0.3,
             "#f1b6da"
            ],
            [
             0.4,
             "#fde0ef"
            ],
            [
             0.5,
             "#f7f7f7"
            ],
            [
             0.6,
             "#e6f5d0"
            ],
            [
             0.7,
             "#b8e186"
            ],
            [
             0.8,
             "#7fbc41"
            ],
            [
             0.9,
             "#4d9221"
            ],
            [
             1,
             "#276419"
            ]
           ],
           "sequential": [
            [
             0,
             "#0d0887"
            ],
            [
             0.1111111111111111,
             "#46039f"
            ],
            [
             0.2222222222222222,
             "#7201a8"
            ],
            [
             0.3333333333333333,
             "#9c179e"
            ],
            [
             0.4444444444444444,
             "#bd3786"
            ],
            [
             0.5555555555555556,
             "#d8576b"
            ],
            [
             0.6666666666666666,
             "#ed7953"
            ],
            [
             0.7777777777777778,
             "#fb9f3a"
            ],
            [
             0.8888888888888888,
             "#fdca26"
            ],
            [
             1,
             "#f0f921"
            ]
           ],
           "sequentialminus": [
            [
             0,
             "#0d0887"
            ],
            [
             0.1111111111111111,
             "#46039f"
            ],
            [
             0.2222222222222222,
             "#7201a8"
            ],
            [
             0.3333333333333333,
             "#9c179e"
            ],
            [
             0.4444444444444444,
             "#bd3786"
            ],
            [
             0.5555555555555556,
             "#d8576b"
            ],
            [
             0.6666666666666666,
             "#ed7953"
            ],
            [
             0.7777777777777778,
             "#fb9f3a"
            ],
            [
             0.8888888888888888,
             "#fdca26"
            ],
            [
             1,
             "#f0f921"
            ]
           ]
          },
          "colorway": [
           "#636efa",
           "#EF553B",
           "#00cc96",
           "#ab63fa",
           "#FFA15A",
           "#19d3f3",
           "#FF6692",
           "#B6E880",
           "#FF97FF",
           "#FECB52"
          ],
          "font": {
           "color": "#2a3f5f"
          },
          "geo": {
           "bgcolor": "white",
           "lakecolor": "white",
           "landcolor": "#E5ECF6",
           "showlakes": true,
           "showland": true,
           "subunitcolor": "white"
          },
          "hoverlabel": {
           "align": "left"
          },
          "hovermode": "closest",
          "mapbox": {
           "style": "light"
          },
          "paper_bgcolor": "white",
          "plot_bgcolor": "#E5ECF6",
          "polar": {
           "angularaxis": {
            "gridcolor": "white",
            "linecolor": "white",
            "ticks": ""
           },
           "bgcolor": "#E5ECF6",
           "radialaxis": {
            "gridcolor": "white",
            "linecolor": "white",
            "ticks": ""
           }
          },
          "scene": {
           "xaxis": {
            "backgroundcolor": "#E5ECF6",
            "gridcolor": "white",
            "gridwidth": 2,
            "linecolor": "white",
            "showbackground": true,
            "ticks": "",
            "zerolinecolor": "white"
           },
           "yaxis": {
            "backgroundcolor": "#E5ECF6",
            "gridcolor": "white",
            "gridwidth": 2,
            "linecolor": "white",
            "showbackground": true,
            "ticks": "",
            "zerolinecolor": "white"
           },
           "zaxis": {
            "backgroundcolor": "#E5ECF6",
            "gridcolor": "white",
            "gridwidth": 2,
            "linecolor": "white",
            "showbackground": true,
            "ticks": "",
            "zerolinecolor": "white"
           }
          },
          "shapedefaults": {
           "line": {
            "color": "#2a3f5f"
           }
          },
          "ternary": {
           "aaxis": {
            "gridcolor": "white",
            "linecolor": "white",
            "ticks": ""
           },
           "baxis": {
            "gridcolor": "white",
            "linecolor": "white",
            "ticks": ""
           },
           "bgcolor": "#E5ECF6",
           "caxis": {
            "gridcolor": "white",
            "linecolor": "white",
            "ticks": ""
           }
          },
          "title": {
           "x": 0.05
          },
          "xaxis": {
           "automargin": true,
           "gridcolor": "white",
           "linecolor": "white",
           "ticks": "",
           "title": {
            "standoff": 15
           },
           "zerolinecolor": "white",
           "zerolinewidth": 2
          },
          "yaxis": {
           "automargin": true,
           "gridcolor": "white",
           "linecolor": "white",
           "ticks": "",
           "title": {
            "standoff": 15
           },
           "zerolinecolor": "white",
           "zerolinewidth": 2
          }
         }
        },
        "title": {
         "text": "Radar chart of review features - Founders CBS Imperial Stout"
        }
       }
      },
      "text/html": [
       "<div>\n",
       "        \n",
       "        \n",
       "            <div id=\"c5e77a8a-4191-44ff-8780-ab5fb2949a72\" class=\"plotly-graph-div\" style=\"height:525px; width:100%;\"></div>\n",
       "            <script type=\"text/javascript\">\n",
       "                require([\"plotly\"], function(Plotly) {\n",
       "                    window.PLOTLYENV=window.PLOTLYENV || {};\n",
       "                    \n",
       "                if (document.getElementById(\"c5e77a8a-4191-44ff-8780-ab5fb2949a72\")) {\n",
       "                    Plotly.newPlot(\n",
       "                        'c5e77a8a-4191-44ff-8780-ab5fb2949a72',\n",
       "                        [{\"fill\": \"toself\", \"name\": \"Founders CBS Imperial Stout\", \"r\": [4.6, 4.56, 4.46, 4.58, 4.7], \"theta\": [\"review_overall\", \"review_aroma\", \"review_appearance\", \"review_palate\", \"review_taste\"], \"type\": \"scatterpolar\"}],\n",
       "                        {\"polar\": {\"radialaxis\": {\"range\": [0, 5], \"visible\": true}}, \"showlegend\": false, \"template\": {\"data\": {\"bar\": [{\"error_x\": {\"color\": \"#2a3f5f\"}, \"error_y\": {\"color\": \"#2a3f5f\"}, \"marker\": {\"line\": {\"color\": \"#E5ECF6\", \"width\": 0.5}}, \"type\": \"bar\"}], \"barpolar\": [{\"marker\": {\"line\": {\"color\": \"#E5ECF6\", \"width\": 0.5}}, \"type\": \"barpolar\"}], \"carpet\": [{\"aaxis\": {\"endlinecolor\": \"#2a3f5f\", \"gridcolor\": \"white\", \"linecolor\": \"white\", \"minorgridcolor\": \"white\", \"startlinecolor\": \"#2a3f5f\"}, \"baxis\": {\"endlinecolor\": \"#2a3f5f\", \"gridcolor\": \"white\", \"linecolor\": \"white\", \"minorgridcolor\": \"white\", \"startlinecolor\": \"#2a3f5f\"}, \"type\": \"carpet\"}], \"choropleth\": [{\"colorbar\": {\"outlinewidth\": 0, \"ticks\": \"\"}, \"type\": \"choropleth\"}], \"contour\": [{\"colorbar\": {\"outlinewidth\": 0, \"ticks\": \"\"}, \"colorscale\": [[0.0, \"#0d0887\"], [0.1111111111111111, \"#46039f\"], [0.2222222222222222, \"#7201a8\"], [0.3333333333333333, \"#9c179e\"], [0.4444444444444444, \"#bd3786\"], [0.5555555555555556, \"#d8576b\"], [0.6666666666666666, \"#ed7953\"], [0.7777777777777778, \"#fb9f3a\"], [0.8888888888888888, \"#fdca26\"], [1.0, \"#f0f921\"]], \"type\": \"contour\"}], \"contourcarpet\": [{\"colorbar\": {\"outlinewidth\": 0, \"ticks\": \"\"}, \"type\": \"contourcarpet\"}], \"heatmap\": [{\"colorbar\": {\"outlinewidth\": 0, \"ticks\": \"\"}, \"colorscale\": [[0.0, \"#0d0887\"], [0.1111111111111111, \"#46039f\"], [0.2222222222222222, \"#7201a8\"], [0.3333333333333333, \"#9c179e\"], [0.4444444444444444, \"#bd3786\"], [0.5555555555555556, \"#d8576b\"], [0.6666666666666666, \"#ed7953\"], [0.7777777777777778, \"#fb9f3a\"], [0.8888888888888888, \"#fdca26\"], [1.0, \"#f0f921\"]], \"type\": \"heatmap\"}], \"heatmapgl\": [{\"colorbar\": {\"outlinewidth\": 0, \"ticks\": \"\"}, \"colorscale\": [[0.0, \"#0d0887\"], [0.1111111111111111, \"#46039f\"], [0.2222222222222222, \"#7201a8\"], [0.3333333333333333, \"#9c179e\"], [0.4444444444444444, \"#bd3786\"], [0.5555555555555556, \"#d8576b\"], [0.6666666666666666, \"#ed7953\"], [0.7777777777777778, \"#fb9f3a\"], [0.8888888888888888, \"#fdca26\"], [1.0, \"#f0f921\"]], \"type\": \"heatmapgl\"}], \"histogram\": [{\"marker\": {\"colorbar\": {\"outlinewidth\": 0, \"ticks\": \"\"}}, \"type\": \"histogram\"}], \"histogram2d\": [{\"colorbar\": {\"outlinewidth\": 0, \"ticks\": \"\"}, \"colorscale\": [[0.0, \"#0d0887\"], [0.1111111111111111, \"#46039f\"], [0.2222222222222222, \"#7201a8\"], [0.3333333333333333, \"#9c179e\"], [0.4444444444444444, \"#bd3786\"], [0.5555555555555556, \"#d8576b\"], [0.6666666666666666, \"#ed7953\"], [0.7777777777777778, \"#fb9f3a\"], [0.8888888888888888, \"#fdca26\"], [1.0, \"#f0f921\"]], \"type\": \"histogram2d\"}], \"histogram2dcontour\": [{\"colorbar\": {\"outlinewidth\": 0, \"ticks\": \"\"}, \"colorscale\": [[0.0, \"#0d0887\"], [0.1111111111111111, \"#46039f\"], [0.2222222222222222, \"#7201a8\"], [0.3333333333333333, \"#9c179e\"], [0.4444444444444444, \"#bd3786\"], [0.5555555555555556, \"#d8576b\"], [0.6666666666666666, \"#ed7953\"], [0.7777777777777778, \"#fb9f3a\"], [0.8888888888888888, \"#fdca26\"], [1.0, \"#f0f921\"]], \"type\": \"histogram2dcontour\"}], \"mesh3d\": [{\"colorbar\": {\"outlinewidth\": 0, \"ticks\": \"\"}, \"type\": \"mesh3d\"}], \"parcoords\": [{\"line\": {\"colorbar\": {\"outlinewidth\": 0, \"ticks\": \"\"}}, \"type\": \"parcoords\"}], \"pie\": [{\"automargin\": true, \"type\": \"pie\"}], \"scatter\": [{\"marker\": {\"colorbar\": {\"outlinewidth\": 0, \"ticks\": \"\"}}, \"type\": \"scatter\"}], \"scatter3d\": [{\"line\": {\"colorbar\": {\"outlinewidth\": 0, \"ticks\": \"\"}}, \"marker\": {\"colorbar\": {\"outlinewidth\": 0, \"ticks\": \"\"}}, \"type\": \"scatter3d\"}], \"scattercarpet\": [{\"marker\": {\"colorbar\": {\"outlinewidth\": 0, \"ticks\": \"\"}}, \"type\": \"scattercarpet\"}], \"scattergeo\": [{\"marker\": {\"colorbar\": {\"outlinewidth\": 0, \"ticks\": \"\"}}, \"type\": \"scattergeo\"}], \"scattergl\": [{\"marker\": {\"colorbar\": {\"outlinewidth\": 0, \"ticks\": \"\"}}, \"type\": \"scattergl\"}], \"scattermapbox\": [{\"marker\": {\"colorbar\": {\"outlinewidth\": 0, \"ticks\": \"\"}}, \"type\": \"scattermapbox\"}], \"scatterpolar\": [{\"marker\": {\"colorbar\": {\"outlinewidth\": 0, \"ticks\": \"\"}}, \"type\": \"scatterpolar\"}], \"scatterpolargl\": [{\"marker\": {\"colorbar\": {\"outlinewidth\": 0, \"ticks\": \"\"}}, \"type\": \"scatterpolargl\"}], \"scatterternary\": [{\"marker\": {\"colorbar\": {\"outlinewidth\": 0, \"ticks\": \"\"}}, \"type\": \"scatterternary\"}], \"surface\": [{\"colorbar\": {\"outlinewidth\": 0, \"ticks\": \"\"}, \"colorscale\": [[0.0, \"#0d0887\"], [0.1111111111111111, \"#46039f\"], [0.2222222222222222, \"#7201a8\"], [0.3333333333333333, \"#9c179e\"], [0.4444444444444444, \"#bd3786\"], [0.5555555555555556, \"#d8576b\"], [0.6666666666666666, \"#ed7953\"], [0.7777777777777778, \"#fb9f3a\"], [0.8888888888888888, \"#fdca26\"], [1.0, \"#f0f921\"]], \"type\": \"surface\"}], \"table\": [{\"cells\": {\"fill\": {\"color\": \"#EBF0F8\"}, \"line\": {\"color\": \"white\"}}, \"header\": {\"fill\": {\"color\": \"#C8D4E3\"}, \"line\": {\"color\": \"white\"}}, \"type\": \"table\"}]}, \"layout\": {\"annotationdefaults\": {\"arrowcolor\": \"#2a3f5f\", \"arrowhead\": 0, \"arrowwidth\": 1}, \"coloraxis\": {\"colorbar\": {\"outlinewidth\": 0, \"ticks\": \"\"}}, \"colorscale\": {\"diverging\": [[0, \"#8e0152\"], [0.1, \"#c51b7d\"], [0.2, \"#de77ae\"], [0.3, \"#f1b6da\"], [0.4, \"#fde0ef\"], [0.5, \"#f7f7f7\"], [0.6, \"#e6f5d0\"], [0.7, \"#b8e186\"], [0.8, \"#7fbc41\"], [0.9, \"#4d9221\"], [1, \"#276419\"]], \"sequential\": [[0.0, \"#0d0887\"], [0.1111111111111111, \"#46039f\"], [0.2222222222222222, \"#7201a8\"], [0.3333333333333333, \"#9c179e\"], [0.4444444444444444, \"#bd3786\"], [0.5555555555555556, \"#d8576b\"], [0.6666666666666666, \"#ed7953\"], [0.7777777777777778, \"#fb9f3a\"], [0.8888888888888888, \"#fdca26\"], [1.0, \"#f0f921\"]], \"sequentialminus\": [[0.0, \"#0d0887\"], [0.1111111111111111, \"#46039f\"], [0.2222222222222222, \"#7201a8\"], [0.3333333333333333, \"#9c179e\"], [0.4444444444444444, \"#bd3786\"], [0.5555555555555556, \"#d8576b\"], [0.6666666666666666, \"#ed7953\"], [0.7777777777777778, \"#fb9f3a\"], [0.8888888888888888, \"#fdca26\"], [1.0, \"#f0f921\"]]}, \"colorway\": [\"#636efa\", \"#EF553B\", \"#00cc96\", \"#ab63fa\", \"#FFA15A\", \"#19d3f3\", \"#FF6692\", \"#B6E880\", \"#FF97FF\", \"#FECB52\"], \"font\": {\"color\": \"#2a3f5f\"}, \"geo\": {\"bgcolor\": \"white\", \"lakecolor\": \"white\", \"landcolor\": \"#E5ECF6\", \"showlakes\": true, \"showland\": true, \"subunitcolor\": \"white\"}, \"hoverlabel\": {\"align\": \"left\"}, \"hovermode\": \"closest\", \"mapbox\": {\"style\": \"light\"}, \"paper_bgcolor\": \"white\", \"plot_bgcolor\": \"#E5ECF6\", \"polar\": {\"angularaxis\": {\"gridcolor\": \"white\", \"linecolor\": \"white\", \"ticks\": \"\"}, \"bgcolor\": \"#E5ECF6\", \"radialaxis\": {\"gridcolor\": \"white\", \"linecolor\": \"white\", \"ticks\": \"\"}}, \"scene\": {\"xaxis\": {\"backgroundcolor\": \"#E5ECF6\", \"gridcolor\": \"white\", \"gridwidth\": 2, \"linecolor\": \"white\", \"showbackground\": true, \"ticks\": \"\", \"zerolinecolor\": \"white\"}, \"yaxis\": {\"backgroundcolor\": \"#E5ECF6\", \"gridcolor\": \"white\", \"gridwidth\": 2, \"linecolor\": \"white\", \"showbackground\": true, \"ticks\": \"\", \"zerolinecolor\": \"white\"}, \"zaxis\": {\"backgroundcolor\": \"#E5ECF6\", \"gridcolor\": \"white\", \"gridwidth\": 2, \"linecolor\": \"white\", \"showbackground\": true, \"ticks\": \"\", \"zerolinecolor\": \"white\"}}, \"shapedefaults\": {\"line\": {\"color\": \"#2a3f5f\"}}, \"ternary\": {\"aaxis\": {\"gridcolor\": \"white\", \"linecolor\": \"white\", \"ticks\": \"\"}, \"baxis\": {\"gridcolor\": \"white\", \"linecolor\": \"white\", \"ticks\": \"\"}, \"bgcolor\": \"#E5ECF6\", \"caxis\": {\"gridcolor\": \"white\", \"linecolor\": \"white\", \"ticks\": \"\"}}, \"title\": {\"x\": 0.05}, \"xaxis\": {\"automargin\": true, \"gridcolor\": \"white\", \"linecolor\": \"white\", \"ticks\": \"\", \"title\": {\"standoff\": 15}, \"zerolinecolor\": \"white\", \"zerolinewidth\": 2}, \"yaxis\": {\"automargin\": true, \"gridcolor\": \"white\", \"linecolor\": \"white\", \"ticks\": \"\", \"title\": {\"standoff\": 15}, \"zerolinecolor\": \"white\", \"zerolinewidth\": 2}}}, \"title\": {\"text\": \"Radar chart of review features - Founders CBS Imperial Stout\"}},\n",
       "                        {\"responsive\": true}\n",
       "                    ).then(function(){\n",
       "                            \n",
       "var gd = document.getElementById('c5e77a8a-4191-44ff-8780-ab5fb2949a72');\n",
       "var x = new MutationObserver(function (mutations, observer) {{\n",
       "        var display = window.getComputedStyle(gd).display;\n",
       "        if (!display || display === 'none') {{\n",
       "            console.log([gd, 'removed!']);\n",
       "            Plotly.purge(gd);\n",
       "            observer.disconnect();\n",
       "        }}\n",
       "}});\n",
       "\n",
       "// Listen for the removal of the full notebook cells\n",
       "var notebookContainer = gd.closest('#notebook-container');\n",
       "if (notebookContainer) {{\n",
       "    x.observe(notebookContainer, {childList: true});\n",
       "}}\n",
       "\n",
       "// Listen for the clearing of the current output cell\n",
       "var outputEl = gd.closest('.output');\n",
       "if (outputEl) {{\n",
       "    x.observe(outputEl, {childList: true});\n",
       "}}\n",
       "\n",
       "                        })\n",
       "                };\n",
       "                });\n",
       "            </script>\n",
       "        </div>"
      ]
     },
     "metadata": {},
     "output_type": "display_data"
    }
   ],
   "source": [
    "fig = go.Figure()\n",
    "\n",
    "fig.add_trace(go.Scatterpolar(\n",
    "      r=r1_value,\n",
    "      theta=categories,\n",
    "      fill='toself',\n",
    "      name='Founders CBS Imperial Stout'\n",
    "))\n",
    "\n",
    "fig.update_layout(title=\"Radar chart of review features - Founders CBS Imperial Stout\",\n",
    "  polar=dict(\n",
    "    radialaxis=dict(\n",
    "      visible=True,\n",
    "      range=[0, 5]\n",
    "    )),\n",
    "  showlegend=False\n",
    ")\n",
    "\n",
    "fig.show()"
   ]
  },
  {
   "cell_type": "code",
   "execution_count": 76,
   "metadata": {},
   "outputs": [
    {
     "data": {
      "application/vnd.plotly.v1+json": {
       "config": {
        "plotlyServerURL": "https://plot.ly"
       },
       "data": [
        {
         "fill": "toself",
         "name": "Founders KBS (Kentucky Breakfast Stout)",
         "r": [
          4.4,
          4.57,
          4.38,
          4.48,
          4.63
         ],
         "theta": [
          "review_overall",
          "review_aroma",
          "review_appearance",
          "review_palate",
          "review_taste"
         ],
         "type": "scatterpolar"
        }
       ],
       "layout": {
        "polar": {
         "radialaxis": {
          "range": [
           0,
           5
          ],
          "visible": true
         }
        },
        "showlegend": false,
        "template": {
         "data": {
          "bar": [
           {
            "error_x": {
             "color": "#2a3f5f"
            },
            "error_y": {
             "color": "#2a3f5f"
            },
            "marker": {
             "line": {
              "color": "#E5ECF6",
              "width": 0.5
             }
            },
            "type": "bar"
           }
          ],
          "barpolar": [
           {
            "marker": {
             "line": {
              "color": "#E5ECF6",
              "width": 0.5
             }
            },
            "type": "barpolar"
           }
          ],
          "carpet": [
           {
            "aaxis": {
             "endlinecolor": "#2a3f5f",
             "gridcolor": "white",
             "linecolor": "white",
             "minorgridcolor": "white",
             "startlinecolor": "#2a3f5f"
            },
            "baxis": {
             "endlinecolor": "#2a3f5f",
             "gridcolor": "white",
             "linecolor": "white",
             "minorgridcolor": "white",
             "startlinecolor": "#2a3f5f"
            },
            "type": "carpet"
           }
          ],
          "choropleth": [
           {
            "colorbar": {
             "outlinewidth": 0,
             "ticks": ""
            },
            "type": "choropleth"
           }
          ],
          "contour": [
           {
            "colorbar": {
             "outlinewidth": 0,
             "ticks": ""
            },
            "colorscale": [
             [
              0,
              "#0d0887"
             ],
             [
              0.1111111111111111,
              "#46039f"
             ],
             [
              0.2222222222222222,
              "#7201a8"
             ],
             [
              0.3333333333333333,
              "#9c179e"
             ],
             [
              0.4444444444444444,
              "#bd3786"
             ],
             [
              0.5555555555555556,
              "#d8576b"
             ],
             [
              0.6666666666666666,
              "#ed7953"
             ],
             [
              0.7777777777777778,
              "#fb9f3a"
             ],
             [
              0.8888888888888888,
              "#fdca26"
             ],
             [
              1,
              "#f0f921"
             ]
            ],
            "type": "contour"
           }
          ],
          "contourcarpet": [
           {
            "colorbar": {
             "outlinewidth": 0,
             "ticks": ""
            },
            "type": "contourcarpet"
           }
          ],
          "heatmap": [
           {
            "colorbar": {
             "outlinewidth": 0,
             "ticks": ""
            },
            "colorscale": [
             [
              0,
              "#0d0887"
             ],
             [
              0.1111111111111111,
              "#46039f"
             ],
             [
              0.2222222222222222,
              "#7201a8"
             ],
             [
              0.3333333333333333,
              "#9c179e"
             ],
             [
              0.4444444444444444,
              "#bd3786"
             ],
             [
              0.5555555555555556,
              "#d8576b"
             ],
             [
              0.6666666666666666,
              "#ed7953"
             ],
             [
              0.7777777777777778,
              "#fb9f3a"
             ],
             [
              0.8888888888888888,
              "#fdca26"
             ],
             [
              1,
              "#f0f921"
             ]
            ],
            "type": "heatmap"
           }
          ],
          "heatmapgl": [
           {
            "colorbar": {
             "outlinewidth": 0,
             "ticks": ""
            },
            "colorscale": [
             [
              0,
              "#0d0887"
             ],
             [
              0.1111111111111111,
              "#46039f"
             ],
             [
              0.2222222222222222,
              "#7201a8"
             ],
             [
              0.3333333333333333,
              "#9c179e"
             ],
             [
              0.4444444444444444,
              "#bd3786"
             ],
             [
              0.5555555555555556,
              "#d8576b"
             ],
             [
              0.6666666666666666,
              "#ed7953"
             ],
             [
              0.7777777777777778,
              "#fb9f3a"
             ],
             [
              0.8888888888888888,
              "#fdca26"
             ],
             [
              1,
              "#f0f921"
             ]
            ],
            "type": "heatmapgl"
           }
          ],
          "histogram": [
           {
            "marker": {
             "colorbar": {
              "outlinewidth": 0,
              "ticks": ""
             }
            },
            "type": "histogram"
           }
          ],
          "histogram2d": [
           {
            "colorbar": {
             "outlinewidth": 0,
             "ticks": ""
            },
            "colorscale": [
             [
              0,
              "#0d0887"
             ],
             [
              0.1111111111111111,
              "#46039f"
             ],
             [
              0.2222222222222222,
              "#7201a8"
             ],
             [
              0.3333333333333333,
              "#9c179e"
             ],
             [
              0.4444444444444444,
              "#bd3786"
             ],
             [
              0.5555555555555556,
              "#d8576b"
             ],
             [
              0.6666666666666666,
              "#ed7953"
             ],
             [
              0.7777777777777778,
              "#fb9f3a"
             ],
             [
              0.8888888888888888,
              "#fdca26"
             ],
             [
              1,
              "#f0f921"
             ]
            ],
            "type": "histogram2d"
           }
          ],
          "histogram2dcontour": [
           {
            "colorbar": {
             "outlinewidth": 0,
             "ticks": ""
            },
            "colorscale": [
             [
              0,
              "#0d0887"
             ],
             [
              0.1111111111111111,
              "#46039f"
             ],
             [
              0.2222222222222222,
              "#7201a8"
             ],
             [
              0.3333333333333333,
              "#9c179e"
             ],
             [
              0.4444444444444444,
              "#bd3786"
             ],
             [
              0.5555555555555556,
              "#d8576b"
             ],
             [
              0.6666666666666666,
              "#ed7953"
             ],
             [
              0.7777777777777778,
              "#fb9f3a"
             ],
             [
              0.8888888888888888,
              "#fdca26"
             ],
             [
              1,
              "#f0f921"
             ]
            ],
            "type": "histogram2dcontour"
           }
          ],
          "mesh3d": [
           {
            "colorbar": {
             "outlinewidth": 0,
             "ticks": ""
            },
            "type": "mesh3d"
           }
          ],
          "parcoords": [
           {
            "line": {
             "colorbar": {
              "outlinewidth": 0,
              "ticks": ""
             }
            },
            "type": "parcoords"
           }
          ],
          "pie": [
           {
            "automargin": true,
            "type": "pie"
           }
          ],
          "scatter": [
           {
            "marker": {
             "colorbar": {
              "outlinewidth": 0,
              "ticks": ""
             }
            },
            "type": "scatter"
           }
          ],
          "scatter3d": [
           {
            "line": {
             "colorbar": {
              "outlinewidth": 0,
              "ticks": ""
             }
            },
            "marker": {
             "colorbar": {
              "outlinewidth": 0,
              "ticks": ""
             }
            },
            "type": "scatter3d"
           }
          ],
          "scattercarpet": [
           {
            "marker": {
             "colorbar": {
              "outlinewidth": 0,
              "ticks": ""
             }
            },
            "type": "scattercarpet"
           }
          ],
          "scattergeo": [
           {
            "marker": {
             "colorbar": {
              "outlinewidth": 0,
              "ticks": ""
             }
            },
            "type": "scattergeo"
           }
          ],
          "scattergl": [
           {
            "marker": {
             "colorbar": {
              "outlinewidth": 0,
              "ticks": ""
             }
            },
            "type": "scattergl"
           }
          ],
          "scattermapbox": [
           {
            "marker": {
             "colorbar": {
              "outlinewidth": 0,
              "ticks": ""
             }
            },
            "type": "scattermapbox"
           }
          ],
          "scatterpolar": [
           {
            "marker": {
             "colorbar": {
              "outlinewidth": 0,
              "ticks": ""
             }
            },
            "type": "scatterpolar"
           }
          ],
          "scatterpolargl": [
           {
            "marker": {
             "colorbar": {
              "outlinewidth": 0,
              "ticks": ""
             }
            },
            "type": "scatterpolargl"
           }
          ],
          "scatterternary": [
           {
            "marker": {
             "colorbar": {
              "outlinewidth": 0,
              "ticks": ""
             }
            },
            "type": "scatterternary"
           }
          ],
          "surface": [
           {
            "colorbar": {
             "outlinewidth": 0,
             "ticks": ""
            },
            "colorscale": [
             [
              0,
              "#0d0887"
             ],
             [
              0.1111111111111111,
              "#46039f"
             ],
             [
              0.2222222222222222,
              "#7201a8"
             ],
             [
              0.3333333333333333,
              "#9c179e"
             ],
             [
              0.4444444444444444,
              "#bd3786"
             ],
             [
              0.5555555555555556,
              "#d8576b"
             ],
             [
              0.6666666666666666,
              "#ed7953"
             ],
             [
              0.7777777777777778,
              "#fb9f3a"
             ],
             [
              0.8888888888888888,
              "#fdca26"
             ],
             [
              1,
              "#f0f921"
             ]
            ],
            "type": "surface"
           }
          ],
          "table": [
           {
            "cells": {
             "fill": {
              "color": "#EBF0F8"
             },
             "line": {
              "color": "white"
             }
            },
            "header": {
             "fill": {
              "color": "#C8D4E3"
             },
             "line": {
              "color": "white"
             }
            },
            "type": "table"
           }
          ]
         },
         "layout": {
          "annotationdefaults": {
           "arrowcolor": "#2a3f5f",
           "arrowhead": 0,
           "arrowwidth": 1
          },
          "coloraxis": {
           "colorbar": {
            "outlinewidth": 0,
            "ticks": ""
           }
          },
          "colorscale": {
           "diverging": [
            [
             0,
             "#8e0152"
            ],
            [
             0.1,
             "#c51b7d"
            ],
            [
             0.2,
             "#de77ae"
            ],
            [
             0.3,
             "#f1b6da"
            ],
            [
             0.4,
             "#fde0ef"
            ],
            [
             0.5,
             "#f7f7f7"
            ],
            [
             0.6,
             "#e6f5d0"
            ],
            [
             0.7,
             "#b8e186"
            ],
            [
             0.8,
             "#7fbc41"
            ],
            [
             0.9,
             "#4d9221"
            ],
            [
             1,
             "#276419"
            ]
           ],
           "sequential": [
            [
             0,
             "#0d0887"
            ],
            [
             0.1111111111111111,
             "#46039f"
            ],
            [
             0.2222222222222222,
             "#7201a8"
            ],
            [
             0.3333333333333333,
             "#9c179e"
            ],
            [
             0.4444444444444444,
             "#bd3786"
            ],
            [
             0.5555555555555556,
             "#d8576b"
            ],
            [
             0.6666666666666666,
             "#ed7953"
            ],
            [
             0.7777777777777778,
             "#fb9f3a"
            ],
            [
             0.8888888888888888,
             "#fdca26"
            ],
            [
             1,
             "#f0f921"
            ]
           ],
           "sequentialminus": [
            [
             0,
             "#0d0887"
            ],
            [
             0.1111111111111111,
             "#46039f"
            ],
            [
             0.2222222222222222,
             "#7201a8"
            ],
            [
             0.3333333333333333,
             "#9c179e"
            ],
            [
             0.4444444444444444,
             "#bd3786"
            ],
            [
             0.5555555555555556,
             "#d8576b"
            ],
            [
             0.6666666666666666,
             "#ed7953"
            ],
            [
             0.7777777777777778,
             "#fb9f3a"
            ],
            [
             0.8888888888888888,
             "#fdca26"
            ],
            [
             1,
             "#f0f921"
            ]
           ]
          },
          "colorway": [
           "#636efa",
           "#EF553B",
           "#00cc96",
           "#ab63fa",
           "#FFA15A",
           "#19d3f3",
           "#FF6692",
           "#B6E880",
           "#FF97FF",
           "#FECB52"
          ],
          "font": {
           "color": "#2a3f5f"
          },
          "geo": {
           "bgcolor": "white",
           "lakecolor": "white",
           "landcolor": "#E5ECF6",
           "showlakes": true,
           "showland": true,
           "subunitcolor": "white"
          },
          "hoverlabel": {
           "align": "left"
          },
          "hovermode": "closest",
          "mapbox": {
           "style": "light"
          },
          "paper_bgcolor": "white",
          "plot_bgcolor": "#E5ECF6",
          "polar": {
           "angularaxis": {
            "gridcolor": "white",
            "linecolor": "white",
            "ticks": ""
           },
           "bgcolor": "#E5ECF6",
           "radialaxis": {
            "gridcolor": "white",
            "linecolor": "white",
            "ticks": ""
           }
          },
          "scene": {
           "xaxis": {
            "backgroundcolor": "#E5ECF6",
            "gridcolor": "white",
            "gridwidth": 2,
            "linecolor": "white",
            "showbackground": true,
            "ticks": "",
            "zerolinecolor": "white"
           },
           "yaxis": {
            "backgroundcolor": "#E5ECF6",
            "gridcolor": "white",
            "gridwidth": 2,
            "linecolor": "white",
            "showbackground": true,
            "ticks": "",
            "zerolinecolor": "white"
           },
           "zaxis": {
            "backgroundcolor": "#E5ECF6",
            "gridcolor": "white",
            "gridwidth": 2,
            "linecolor": "white",
            "showbackground": true,
            "ticks": "",
            "zerolinecolor": "white"
           }
          },
          "shapedefaults": {
           "line": {
            "color": "#2a3f5f"
           }
          },
          "ternary": {
           "aaxis": {
            "gridcolor": "white",
            "linecolor": "white",
            "ticks": ""
           },
           "baxis": {
            "gridcolor": "white",
            "linecolor": "white",
            "ticks": ""
           },
           "bgcolor": "#E5ECF6",
           "caxis": {
            "gridcolor": "white",
            "linecolor": "white",
            "ticks": ""
           }
          },
          "title": {
           "x": 0.05
          },
          "xaxis": {
           "automargin": true,
           "gridcolor": "white",
           "linecolor": "white",
           "ticks": "",
           "title": {
            "standoff": 15
           },
           "zerolinecolor": "white",
           "zerolinewidth": 2
          },
          "yaxis": {
           "automargin": true,
           "gridcolor": "white",
           "linecolor": "white",
           "ticks": "",
           "title": {
            "standoff": 15
           },
           "zerolinecolor": "white",
           "zerolinewidth": 2
          }
         }
        },
        "title": {
         "text": "Radar chart of review features - Founders KBS (Kentucky Breakfast StoutReceommendation 2"
        }
       }
      },
      "text/html": [
       "<div>\n",
       "        \n",
       "        \n",
       "            <div id=\"1dc0bc9d-6e58-4501-8ec1-6aec579e6276\" class=\"plotly-graph-div\" style=\"height:525px; width:100%;\"></div>\n",
       "            <script type=\"text/javascript\">\n",
       "                require([\"plotly\"], function(Plotly) {\n",
       "                    window.PLOTLYENV=window.PLOTLYENV || {};\n",
       "                    \n",
       "                if (document.getElementById(\"1dc0bc9d-6e58-4501-8ec1-6aec579e6276\")) {\n",
       "                    Plotly.newPlot(\n",
       "                        '1dc0bc9d-6e58-4501-8ec1-6aec579e6276',\n",
       "                        [{\"fill\": \"toself\", \"name\": \"Founders KBS (Kentucky Breakfast Stout)\", \"r\": [4.4, 4.57, 4.38, 4.48, 4.63], \"theta\": [\"review_overall\", \"review_aroma\", \"review_appearance\", \"review_palate\", \"review_taste\"], \"type\": \"scatterpolar\"}],\n",
       "                        {\"polar\": {\"radialaxis\": {\"range\": [0, 5], \"visible\": true}}, \"showlegend\": false, \"template\": {\"data\": {\"bar\": [{\"error_x\": {\"color\": \"#2a3f5f\"}, \"error_y\": {\"color\": \"#2a3f5f\"}, \"marker\": {\"line\": {\"color\": \"#E5ECF6\", \"width\": 0.5}}, \"type\": \"bar\"}], \"barpolar\": [{\"marker\": {\"line\": {\"color\": \"#E5ECF6\", \"width\": 0.5}}, \"type\": \"barpolar\"}], \"carpet\": [{\"aaxis\": {\"endlinecolor\": \"#2a3f5f\", \"gridcolor\": \"white\", \"linecolor\": \"white\", \"minorgridcolor\": \"white\", \"startlinecolor\": \"#2a3f5f\"}, \"baxis\": {\"endlinecolor\": \"#2a3f5f\", \"gridcolor\": \"white\", \"linecolor\": \"white\", \"minorgridcolor\": \"white\", \"startlinecolor\": \"#2a3f5f\"}, \"type\": \"carpet\"}], \"choropleth\": [{\"colorbar\": {\"outlinewidth\": 0, \"ticks\": \"\"}, \"type\": \"choropleth\"}], \"contour\": [{\"colorbar\": {\"outlinewidth\": 0, \"ticks\": \"\"}, \"colorscale\": [[0.0, \"#0d0887\"], [0.1111111111111111, \"#46039f\"], [0.2222222222222222, \"#7201a8\"], [0.3333333333333333, \"#9c179e\"], [0.4444444444444444, \"#bd3786\"], [0.5555555555555556, \"#d8576b\"], [0.6666666666666666, \"#ed7953\"], [0.7777777777777778, \"#fb9f3a\"], [0.8888888888888888, \"#fdca26\"], [1.0, \"#f0f921\"]], \"type\": \"contour\"}], \"contourcarpet\": [{\"colorbar\": {\"outlinewidth\": 0, \"ticks\": \"\"}, \"type\": \"contourcarpet\"}], \"heatmap\": [{\"colorbar\": {\"outlinewidth\": 0, \"ticks\": \"\"}, \"colorscale\": [[0.0, \"#0d0887\"], [0.1111111111111111, \"#46039f\"], [0.2222222222222222, \"#7201a8\"], [0.3333333333333333, \"#9c179e\"], [0.4444444444444444, \"#bd3786\"], [0.5555555555555556, \"#d8576b\"], [0.6666666666666666, \"#ed7953\"], [0.7777777777777778, \"#fb9f3a\"], [0.8888888888888888, \"#fdca26\"], [1.0, \"#f0f921\"]], \"type\": \"heatmap\"}], \"heatmapgl\": [{\"colorbar\": {\"outlinewidth\": 0, \"ticks\": \"\"}, \"colorscale\": [[0.0, \"#0d0887\"], [0.1111111111111111, \"#46039f\"], [0.2222222222222222, \"#7201a8\"], [0.3333333333333333, \"#9c179e\"], [0.4444444444444444, \"#bd3786\"], [0.5555555555555556, \"#d8576b\"], [0.6666666666666666, \"#ed7953\"], [0.7777777777777778, \"#fb9f3a\"], [0.8888888888888888, \"#fdca26\"], [1.0, \"#f0f921\"]], \"type\": \"heatmapgl\"}], \"histogram\": [{\"marker\": {\"colorbar\": {\"outlinewidth\": 0, \"ticks\": \"\"}}, \"type\": \"histogram\"}], \"histogram2d\": [{\"colorbar\": {\"outlinewidth\": 0, \"ticks\": \"\"}, \"colorscale\": [[0.0, \"#0d0887\"], [0.1111111111111111, \"#46039f\"], [0.2222222222222222, \"#7201a8\"], [0.3333333333333333, \"#9c179e\"], [0.4444444444444444, \"#bd3786\"], [0.5555555555555556, \"#d8576b\"], [0.6666666666666666, \"#ed7953\"], [0.7777777777777778, \"#fb9f3a\"], [0.8888888888888888, \"#fdca26\"], [1.0, \"#f0f921\"]], \"type\": \"histogram2d\"}], \"histogram2dcontour\": [{\"colorbar\": {\"outlinewidth\": 0, \"ticks\": \"\"}, \"colorscale\": [[0.0, \"#0d0887\"], [0.1111111111111111, \"#46039f\"], [0.2222222222222222, \"#7201a8\"], [0.3333333333333333, \"#9c179e\"], [0.4444444444444444, \"#bd3786\"], [0.5555555555555556, \"#d8576b\"], [0.6666666666666666, \"#ed7953\"], [0.7777777777777778, \"#fb9f3a\"], [0.8888888888888888, \"#fdca26\"], [1.0, \"#f0f921\"]], \"type\": \"histogram2dcontour\"}], \"mesh3d\": [{\"colorbar\": {\"outlinewidth\": 0, \"ticks\": \"\"}, \"type\": \"mesh3d\"}], \"parcoords\": [{\"line\": {\"colorbar\": {\"outlinewidth\": 0, \"ticks\": \"\"}}, \"type\": \"parcoords\"}], \"pie\": [{\"automargin\": true, \"type\": \"pie\"}], \"scatter\": [{\"marker\": {\"colorbar\": {\"outlinewidth\": 0, \"ticks\": \"\"}}, \"type\": \"scatter\"}], \"scatter3d\": [{\"line\": {\"colorbar\": {\"outlinewidth\": 0, \"ticks\": \"\"}}, \"marker\": {\"colorbar\": {\"outlinewidth\": 0, \"ticks\": \"\"}}, \"type\": \"scatter3d\"}], \"scattercarpet\": [{\"marker\": {\"colorbar\": {\"outlinewidth\": 0, \"ticks\": \"\"}}, \"type\": \"scattercarpet\"}], \"scattergeo\": [{\"marker\": {\"colorbar\": {\"outlinewidth\": 0, \"ticks\": \"\"}}, \"type\": \"scattergeo\"}], \"scattergl\": [{\"marker\": {\"colorbar\": {\"outlinewidth\": 0, \"ticks\": \"\"}}, \"type\": \"scattergl\"}], \"scattermapbox\": [{\"marker\": {\"colorbar\": {\"outlinewidth\": 0, \"ticks\": \"\"}}, \"type\": \"scattermapbox\"}], \"scatterpolar\": [{\"marker\": {\"colorbar\": {\"outlinewidth\": 0, \"ticks\": \"\"}}, \"type\": \"scatterpolar\"}], \"scatterpolargl\": [{\"marker\": {\"colorbar\": {\"outlinewidth\": 0, \"ticks\": \"\"}}, \"type\": \"scatterpolargl\"}], \"scatterternary\": [{\"marker\": {\"colorbar\": {\"outlinewidth\": 0, \"ticks\": \"\"}}, \"type\": \"scatterternary\"}], \"surface\": [{\"colorbar\": {\"outlinewidth\": 0, \"ticks\": \"\"}, \"colorscale\": [[0.0, \"#0d0887\"], [0.1111111111111111, \"#46039f\"], [0.2222222222222222, \"#7201a8\"], [0.3333333333333333, \"#9c179e\"], [0.4444444444444444, \"#bd3786\"], [0.5555555555555556, \"#d8576b\"], [0.6666666666666666, \"#ed7953\"], [0.7777777777777778, \"#fb9f3a\"], [0.8888888888888888, \"#fdca26\"], [1.0, \"#f0f921\"]], \"type\": \"surface\"}], \"table\": [{\"cells\": {\"fill\": {\"color\": \"#EBF0F8\"}, \"line\": {\"color\": \"white\"}}, \"header\": {\"fill\": {\"color\": \"#C8D4E3\"}, \"line\": {\"color\": \"white\"}}, \"type\": \"table\"}]}, \"layout\": {\"annotationdefaults\": {\"arrowcolor\": \"#2a3f5f\", \"arrowhead\": 0, \"arrowwidth\": 1}, \"coloraxis\": {\"colorbar\": {\"outlinewidth\": 0, \"ticks\": \"\"}}, \"colorscale\": {\"diverging\": [[0, \"#8e0152\"], [0.1, \"#c51b7d\"], [0.2, \"#de77ae\"], [0.3, \"#f1b6da\"], [0.4, \"#fde0ef\"], [0.5, \"#f7f7f7\"], [0.6, \"#e6f5d0\"], [0.7, \"#b8e186\"], [0.8, \"#7fbc41\"], [0.9, \"#4d9221\"], [1, \"#276419\"]], \"sequential\": [[0.0, \"#0d0887\"], [0.1111111111111111, \"#46039f\"], [0.2222222222222222, \"#7201a8\"], [0.3333333333333333, \"#9c179e\"], [0.4444444444444444, \"#bd3786\"], [0.5555555555555556, \"#d8576b\"], [0.6666666666666666, \"#ed7953\"], [0.7777777777777778, \"#fb9f3a\"], [0.8888888888888888, \"#fdca26\"], [1.0, \"#f0f921\"]], \"sequentialminus\": [[0.0, \"#0d0887\"], [0.1111111111111111, \"#46039f\"], [0.2222222222222222, \"#7201a8\"], [0.3333333333333333, \"#9c179e\"], [0.4444444444444444, \"#bd3786\"], [0.5555555555555556, \"#d8576b\"], [0.6666666666666666, \"#ed7953\"], [0.7777777777777778, \"#fb9f3a\"], [0.8888888888888888, \"#fdca26\"], [1.0, \"#f0f921\"]]}, \"colorway\": [\"#636efa\", \"#EF553B\", \"#00cc96\", \"#ab63fa\", \"#FFA15A\", \"#19d3f3\", \"#FF6692\", \"#B6E880\", \"#FF97FF\", \"#FECB52\"], \"font\": {\"color\": \"#2a3f5f\"}, \"geo\": {\"bgcolor\": \"white\", \"lakecolor\": \"white\", \"landcolor\": \"#E5ECF6\", \"showlakes\": true, \"showland\": true, \"subunitcolor\": \"white\"}, \"hoverlabel\": {\"align\": \"left\"}, \"hovermode\": \"closest\", \"mapbox\": {\"style\": \"light\"}, \"paper_bgcolor\": \"white\", \"plot_bgcolor\": \"#E5ECF6\", \"polar\": {\"angularaxis\": {\"gridcolor\": \"white\", \"linecolor\": \"white\", \"ticks\": \"\"}, \"bgcolor\": \"#E5ECF6\", \"radialaxis\": {\"gridcolor\": \"white\", \"linecolor\": \"white\", \"ticks\": \"\"}}, \"scene\": {\"xaxis\": {\"backgroundcolor\": \"#E5ECF6\", \"gridcolor\": \"white\", \"gridwidth\": 2, \"linecolor\": \"white\", \"showbackground\": true, \"ticks\": \"\", \"zerolinecolor\": \"white\"}, \"yaxis\": {\"backgroundcolor\": \"#E5ECF6\", \"gridcolor\": \"white\", \"gridwidth\": 2, \"linecolor\": \"white\", \"showbackground\": true, \"ticks\": \"\", \"zerolinecolor\": \"white\"}, \"zaxis\": {\"backgroundcolor\": \"#E5ECF6\", \"gridcolor\": \"white\", \"gridwidth\": 2, \"linecolor\": \"white\", \"showbackground\": true, \"ticks\": \"\", \"zerolinecolor\": \"white\"}}, \"shapedefaults\": {\"line\": {\"color\": \"#2a3f5f\"}}, \"ternary\": {\"aaxis\": {\"gridcolor\": \"white\", \"linecolor\": \"white\", \"ticks\": \"\"}, \"baxis\": {\"gridcolor\": \"white\", \"linecolor\": \"white\", \"ticks\": \"\"}, \"bgcolor\": \"#E5ECF6\", \"caxis\": {\"gridcolor\": \"white\", \"linecolor\": \"white\", \"ticks\": \"\"}}, \"title\": {\"x\": 0.05}, \"xaxis\": {\"automargin\": true, \"gridcolor\": \"white\", \"linecolor\": \"white\", \"ticks\": \"\", \"title\": {\"standoff\": 15}, \"zerolinecolor\": \"white\", \"zerolinewidth\": 2}, \"yaxis\": {\"automargin\": true, \"gridcolor\": \"white\", \"linecolor\": \"white\", \"ticks\": \"\", \"title\": {\"standoff\": 15}, \"zerolinecolor\": \"white\", \"zerolinewidth\": 2}}}, \"title\": {\"text\": \"Radar chart of review features - Founders KBS (Kentucky Breakfast StoutReceommendation 2\"}},\n",
       "                        {\"responsive\": true}\n",
       "                    ).then(function(){\n",
       "                            \n",
       "var gd = document.getElementById('1dc0bc9d-6e58-4501-8ec1-6aec579e6276');\n",
       "var x = new MutationObserver(function (mutations, observer) {{\n",
       "        var display = window.getComputedStyle(gd).display;\n",
       "        if (!display || display === 'none') {{\n",
       "            console.log([gd, 'removed!']);\n",
       "            Plotly.purge(gd);\n",
       "            observer.disconnect();\n",
       "        }}\n",
       "}});\n",
       "\n",
       "// Listen for the removal of the full notebook cells\n",
       "var notebookContainer = gd.closest('#notebook-container');\n",
       "if (notebookContainer) {{\n",
       "    x.observe(notebookContainer, {childList: true});\n",
       "}}\n",
       "\n",
       "// Listen for the clearing of the current output cell\n",
       "var outputEl = gd.closest('.output');\n",
       "if (outputEl) {{\n",
       "    x.observe(outputEl, {childList: true});\n",
       "}}\n",
       "\n",
       "                        })\n",
       "                };\n",
       "                });\n",
       "            </script>\n",
       "        </div>"
      ]
     },
     "metadata": {},
     "output_type": "display_data"
    }
   ],
   "source": [
    "fig = go.Figure()\n",
    "fig.add_trace(go.Scatterpolar(\n",
    "      r=r2_value,\n",
    "      theta=categories,\n",
    "      fill='toself',\n",
    "      name='Founders KBS (Kentucky Breakfast Stout)'\n",
    "))\n",
    "fig.update_layout(title=\"Radar chart of review features - Founders KBS (Kentucky Breakfast StoutReceommendation 2\",\n",
    "  polar=dict(\n",
    "    radialaxis=dict(\n",
    "      visible=True,\n",
    "      range=[0, 5]\n",
    "    )),\n",
    "  showlegend=False\n",
    ")\n",
    "\n",
    "fig.show()"
   ]
  },
  {
   "cell_type": "code",
   "execution_count": 70,
   "metadata": {},
   "outputs": [
    {
     "name": "stdout",
     "output_type": "stream",
     "text": [
      "Breweries of the beer recommendations:  ['Founders Brewing Company'] ['Founders Brewing Company']\n",
      "Styles of the recommendations:  ['American Double / Imperial Stout'] ['American Double / Imperial Stout']\n"
     ]
    }
   ],
   "source": [
    "print(\"Breweries of the beer recommendations: \",df[df.beer_name==\"Founders KBS (Kentucky Breakfast Stout)\"].brewery_name.unique(),df[df.beer_name==\"Founders CBS Imperial Stout\"].brewery_name.unique())\n",
    "print(\"Styles of the recommendations: \",df[df.beer_name==\"Founders KBS (Kentucky Breakfast Stout)\"].beer_style.unique(),df[df.beer_name==\"Founders CBS Imperial Stout\"].beer_style.unique() )"
   ]
  },
  {
   "cell_type": "code",
   "execution_count": 44,
   "metadata": {},
   "outputs": [
    {
     "data": {
      "text/plain": [
       "Founders Breakfast Stout                   2443\n",
       "Founders KBS (Kentucky Breakfast Stout)    1875\n",
       "Founders Red's Rye PA                      1376\n",
       "Founders Centennial IPA                    1366\n",
       "Founders Dirty Bastard                     1247\n",
       "                                           ... \n",
       "Founders Zythos IPA                           1\n",
       "Founders Cream Ale                            1\n",
       "Founders Mild Mountain Brown                  1\n",
       "Founders Crimson Dynamo                       1\n",
       "Founders Dry Hopped Honey Wheat               1\n",
       "Name: beer_name, Length: 130, dtype: int64"
      ]
     },
     "execution_count": 44,
     "metadata": {},
     "output_type": "execute_result"
    }
   ],
   "source": [
    "df[df.brewery_name=='Founders Brewing Company'].beer_name.value_counts()"
   ]
  },
  {
   "cell_type": "code",
   "execution_count": 45,
   "metadata": {},
   "outputs": [
    {
     "data": {
      "application/vnd.plotly.v1+json": {
       "config": {
        "linkText": "Export to plot.ly",
        "plotlyServerURL": "https://plot.ly",
        "showLink": false
       },
       "data": [
        {
         "hoverinfo": "x",
         "marker": {
          "color": "rgb(1, 77, 102)"
         },
         "opacity": 0.75,
         "orientation": "h",
         "text": [
          "Founders Black Rye",
          "Founders Rübæus",
          "Founders Blushing Monk",
          "Founders Nemesis 2009",
          "Founders Nemesis 2010",
          "Founders Cerise",
          "Founders Pale Ale",
          "Founders CBS Imperial Stout",
          "Founders Harvest Ale",
          "Founders Curmudgeon (Old Ale)",
          "Founders Porter",
          "Founders Backwoods Bastard",
          "Founders Devil Dancer",
          "Founders Imperial Stout",
          "Founders Double Trouble",
          "Founders Dirty Bastard",
          "Founders Centennial IPA",
          "Founders Red's Rye PA",
          "Founders KBS (Kentucky Breakfast Stout)",
          "Founders Breakfast Stout"
         ],
         "textposition": "inside",
         "type": "bar",
         "x": [
          295,
          301,
          398,
          429,
          454,
          488,
          611,
          618,
          666,
          774,
          894,
          1003,
          1055,
          1064,
          1148,
          1247,
          1366,
          1376,
          1875,
          2443
         ],
         "y": [
          "Founders Black Rye",
          "Founders Rübæus",
          "Founders Blushing Monk",
          "Founders Nemesis 2009",
          "Founders Nemesis 2010",
          "Founders Cerise",
          "Founders Pale Ale",
          "Founders CBS Imperial Stout",
          "Founders Harvest Ale",
          "Founders Curmudgeon (Old Ale)",
          "Founders Porter",
          "Founders Backwoods Bastard",
          "Founders Devil Dancer",
          "Founders Imperial Stout",
          "Founders Double Trouble",
          "Founders Dirty Bastard",
          "Founders Centennial IPA",
          "Founders Red's Rye PA",
          "Founders KBS (Kentucky Breakfast Stout)",
          "Founders Breakfast Stout"
         ]
        }
       ],
       "layout": {
        "font": {
         "color": "dark gray",
         "family": "Comic Sans MS"
        },
        "margin": {
         "l": 220
        },
        "template": {
         "data": {
          "bar": [
           {
            "error_x": {
             "color": "#2a3f5f"
            },
            "error_y": {
             "color": "#2a3f5f"
            },
            "marker": {
             "line": {
              "color": "#E5ECF6",
              "width": 0.5
             }
            },
            "type": "bar"
           }
          ],
          "barpolar": [
           {
            "marker": {
             "line": {
              "color": "#E5ECF6",
              "width": 0.5
             }
            },
            "type": "barpolar"
           }
          ],
          "carpet": [
           {
            "aaxis": {
             "endlinecolor": "#2a3f5f",
             "gridcolor": "white",
             "linecolor": "white",
             "minorgridcolor": "white",
             "startlinecolor": "#2a3f5f"
            },
            "baxis": {
             "endlinecolor": "#2a3f5f",
             "gridcolor": "white",
             "linecolor": "white",
             "minorgridcolor": "white",
             "startlinecolor": "#2a3f5f"
            },
            "type": "carpet"
           }
          ],
          "choropleth": [
           {
            "colorbar": {
             "outlinewidth": 0,
             "ticks": ""
            },
            "type": "choropleth"
           }
          ],
          "contour": [
           {
            "colorbar": {
             "outlinewidth": 0,
             "ticks": ""
            },
            "colorscale": [
             [
              0,
              "#0d0887"
             ],
             [
              0.1111111111111111,
              "#46039f"
             ],
             [
              0.2222222222222222,
              "#7201a8"
             ],
             [
              0.3333333333333333,
              "#9c179e"
             ],
             [
              0.4444444444444444,
              "#bd3786"
             ],
             [
              0.5555555555555556,
              "#d8576b"
             ],
             [
              0.6666666666666666,
              "#ed7953"
             ],
             [
              0.7777777777777778,
              "#fb9f3a"
             ],
             [
              0.8888888888888888,
              "#fdca26"
             ],
             [
              1,
              "#f0f921"
             ]
            ],
            "type": "contour"
           }
          ],
          "contourcarpet": [
           {
            "colorbar": {
             "outlinewidth": 0,
             "ticks": ""
            },
            "type": "contourcarpet"
           }
          ],
          "heatmap": [
           {
            "colorbar": {
             "outlinewidth": 0,
             "ticks": ""
            },
            "colorscale": [
             [
              0,
              "#0d0887"
             ],
             [
              0.1111111111111111,
              "#46039f"
             ],
             [
              0.2222222222222222,
              "#7201a8"
             ],
             [
              0.3333333333333333,
              "#9c179e"
             ],
             [
              0.4444444444444444,
              "#bd3786"
             ],
             [
              0.5555555555555556,
              "#d8576b"
             ],
             [
              0.6666666666666666,
              "#ed7953"
             ],
             [
              0.7777777777777778,
              "#fb9f3a"
             ],
             [
              0.8888888888888888,
              "#fdca26"
             ],
             [
              1,
              "#f0f921"
             ]
            ],
            "type": "heatmap"
           }
          ],
          "heatmapgl": [
           {
            "colorbar": {
             "outlinewidth": 0,
             "ticks": ""
            },
            "colorscale": [
             [
              0,
              "#0d0887"
             ],
             [
              0.1111111111111111,
              "#46039f"
             ],
             [
              0.2222222222222222,
              "#7201a8"
             ],
             [
              0.3333333333333333,
              "#9c179e"
             ],
             [
              0.4444444444444444,
              "#bd3786"
             ],
             [
              0.5555555555555556,
              "#d8576b"
             ],
             [
              0.6666666666666666,
              "#ed7953"
             ],
             [
              0.7777777777777778,
              "#fb9f3a"
             ],
             [
              0.8888888888888888,
              "#fdca26"
             ],
             [
              1,
              "#f0f921"
             ]
            ],
            "type": "heatmapgl"
           }
          ],
          "histogram": [
           {
            "marker": {
             "colorbar": {
              "outlinewidth": 0,
              "ticks": ""
             }
            },
            "type": "histogram"
           }
          ],
          "histogram2d": [
           {
            "colorbar": {
             "outlinewidth": 0,
             "ticks": ""
            },
            "colorscale": [
             [
              0,
              "#0d0887"
             ],
             [
              0.1111111111111111,
              "#46039f"
             ],
             [
              0.2222222222222222,
              "#7201a8"
             ],
             [
              0.3333333333333333,
              "#9c179e"
             ],
             [
              0.4444444444444444,
              "#bd3786"
             ],
             [
              0.5555555555555556,
              "#d8576b"
             ],
             [
              0.6666666666666666,
              "#ed7953"
             ],
             [
              0.7777777777777778,
              "#fb9f3a"
             ],
             [
              0.8888888888888888,
              "#fdca26"
             ],
             [
              1,
              "#f0f921"
             ]
            ],
            "type": "histogram2d"
           }
          ],
          "histogram2dcontour": [
           {
            "colorbar": {
             "outlinewidth": 0,
             "ticks": ""
            },
            "colorscale": [
             [
              0,
              "#0d0887"
             ],
             [
              0.1111111111111111,
              "#46039f"
             ],
             [
              0.2222222222222222,
              "#7201a8"
             ],
             [
              0.3333333333333333,
              "#9c179e"
             ],
             [
              0.4444444444444444,
              "#bd3786"
             ],
             [
              0.5555555555555556,
              "#d8576b"
             ],
             [
              0.6666666666666666,
              "#ed7953"
             ],
             [
              0.7777777777777778,
              "#fb9f3a"
             ],
             [
              0.8888888888888888,
              "#fdca26"
             ],
             [
              1,
              "#f0f921"
             ]
            ],
            "type": "histogram2dcontour"
           }
          ],
          "mesh3d": [
           {
            "colorbar": {
             "outlinewidth": 0,
             "ticks": ""
            },
            "type": "mesh3d"
           }
          ],
          "parcoords": [
           {
            "line": {
             "colorbar": {
              "outlinewidth": 0,
              "ticks": ""
             }
            },
            "type": "parcoords"
           }
          ],
          "pie": [
           {
            "automargin": true,
            "type": "pie"
           }
          ],
          "scatter": [
           {
            "marker": {
             "colorbar": {
              "outlinewidth": 0,
              "ticks": ""
             }
            },
            "type": "scatter"
           }
          ],
          "scatter3d": [
           {
            "line": {
             "colorbar": {
              "outlinewidth": 0,
              "ticks": ""
             }
            },
            "marker": {
             "colorbar": {
              "outlinewidth": 0,
              "ticks": ""
             }
            },
            "type": "scatter3d"
           }
          ],
          "scattercarpet": [
           {
            "marker": {
             "colorbar": {
              "outlinewidth": 0,
              "ticks": ""
             }
            },
            "type": "scattercarpet"
           }
          ],
          "scattergeo": [
           {
            "marker": {
             "colorbar": {
              "outlinewidth": 0,
              "ticks": ""
             }
            },
            "type": "scattergeo"
           }
          ],
          "scattergl": [
           {
            "marker": {
             "colorbar": {
              "outlinewidth": 0,
              "ticks": ""
             }
            },
            "type": "scattergl"
           }
          ],
          "scattermapbox": [
           {
            "marker": {
             "colorbar": {
              "outlinewidth": 0,
              "ticks": ""
             }
            },
            "type": "scattermapbox"
           }
          ],
          "scatterpolar": [
           {
            "marker": {
             "colorbar": {
              "outlinewidth": 0,
              "ticks": ""
             }
            },
            "type": "scatterpolar"
           }
          ],
          "scatterpolargl": [
           {
            "marker": {
             "colorbar": {
              "outlinewidth": 0,
              "ticks": ""
             }
            },
            "type": "scatterpolargl"
           }
          ],
          "scatterternary": [
           {
            "marker": {
             "colorbar": {
              "outlinewidth": 0,
              "ticks": ""
             }
            },
            "type": "scatterternary"
           }
          ],
          "surface": [
           {
            "colorbar": {
             "outlinewidth": 0,
             "ticks": ""
            },
            "colorscale": [
             [
              0,
              "#0d0887"
             ],
             [
              0.1111111111111111,
              "#46039f"
             ],
             [
              0.2222222222222222,
              "#7201a8"
             ],
             [
              0.3333333333333333,
              "#9c179e"
             ],
             [
              0.4444444444444444,
              "#bd3786"
             ],
             [
              0.5555555555555556,
              "#d8576b"
             ],
             [
              0.6666666666666666,
              "#ed7953"
             ],
             [
              0.7777777777777778,
              "#fb9f3a"
             ],
             [
              0.8888888888888888,
              "#fdca26"
             ],
             [
              1,
              "#f0f921"
             ]
            ],
            "type": "surface"
           }
          ],
          "table": [
           {
            "cells": {
             "fill": {
              "color": "#EBF0F8"
             },
             "line": {
              "color": "white"
             }
            },
            "header": {
             "fill": {
              "color": "#C8D4E3"
             },
             "line": {
              "color": "white"
             }
            },
            "type": "table"
           }
          ]
         },
         "layout": {
          "annotationdefaults": {
           "arrowcolor": "#2a3f5f",
           "arrowhead": 0,
           "arrowwidth": 1
          },
          "coloraxis": {
           "colorbar": {
            "outlinewidth": 0,
            "ticks": ""
           }
          },
          "colorscale": {
           "diverging": [
            [
             0,
             "#8e0152"
            ],
            [
             0.1,
             "#c51b7d"
            ],
            [
             0.2,
             "#de77ae"
            ],
            [
             0.3,
             "#f1b6da"
            ],
            [
             0.4,
             "#fde0ef"
            ],
            [
             0.5,
             "#f7f7f7"
            ],
            [
             0.6,
             "#e6f5d0"
            ],
            [
             0.7,
             "#b8e186"
            ],
            [
             0.8,
             "#7fbc41"
            ],
            [
             0.9,
             "#4d9221"
            ],
            [
             1,
             "#276419"
            ]
           ],
           "sequential": [
            [
             0,
             "#0d0887"
            ],
            [
             0.1111111111111111,
             "#46039f"
            ],
            [
             0.2222222222222222,
             "#7201a8"
            ],
            [
             0.3333333333333333,
             "#9c179e"
            ],
            [
             0.4444444444444444,
             "#bd3786"
            ],
            [
             0.5555555555555556,
             "#d8576b"
            ],
            [
             0.6666666666666666,
             "#ed7953"
            ],
            [
             0.7777777777777778,
             "#fb9f3a"
            ],
            [
             0.8888888888888888,
             "#fdca26"
            ],
            [
             1,
             "#f0f921"
            ]
           ],
           "sequentialminus": [
            [
             0,
             "#0d0887"
            ],
            [
             0.1111111111111111,
             "#46039f"
            ],
            [
             0.2222222222222222,
             "#7201a8"
            ],
            [
             0.3333333333333333,
             "#9c179e"
            ],
            [
             0.4444444444444444,
             "#bd3786"
            ],
            [
             0.5555555555555556,
             "#d8576b"
            ],
            [
             0.6666666666666666,
             "#ed7953"
            ],
            [
             0.7777777777777778,
             "#fb9f3a"
            ],
            [
             0.8888888888888888,
             "#fdca26"
            ],
            [
             1,
             "#f0f921"
            ]
           ]
          },
          "colorway": [
           "#636efa",
           "#EF553B",
           "#00cc96",
           "#ab63fa",
           "#FFA15A",
           "#19d3f3",
           "#FF6692",
           "#B6E880",
           "#FF97FF",
           "#FECB52"
          ],
          "font": {
           "color": "#2a3f5f"
          },
          "geo": {
           "bgcolor": "white",
           "lakecolor": "white",
           "landcolor": "#E5ECF6",
           "showlakes": true,
           "showland": true,
           "subunitcolor": "white"
          },
          "hoverlabel": {
           "align": "left"
          },
          "hovermode": "closest",
          "mapbox": {
           "style": "light"
          },
          "paper_bgcolor": "white",
          "plot_bgcolor": "#E5ECF6",
          "polar": {
           "angularaxis": {
            "gridcolor": "white",
            "linecolor": "white",
            "ticks": ""
           },
           "bgcolor": "#E5ECF6",
           "radialaxis": {
            "gridcolor": "white",
            "linecolor": "white",
            "ticks": ""
           }
          },
          "scene": {
           "xaxis": {
            "backgroundcolor": "#E5ECF6",
            "gridcolor": "white",
            "gridwidth": 2,
            "linecolor": "white",
            "showbackground": true,
            "ticks": "",
            "zerolinecolor": "white"
           },
           "yaxis": {
            "backgroundcolor": "#E5ECF6",
            "gridcolor": "white",
            "gridwidth": 2,
            "linecolor": "white",
            "showbackground": true,
            "ticks": "",
            "zerolinecolor": "white"
           },
           "zaxis": {
            "backgroundcolor": "#E5ECF6",
            "gridcolor": "white",
            "gridwidth": 2,
            "linecolor": "white",
            "showbackground": true,
            "ticks": "",
            "zerolinecolor": "white"
           }
          },
          "shapedefaults": {
           "line": {
            "color": "#2a3f5f"
           }
          },
          "ternary": {
           "aaxis": {
            "gridcolor": "white",
            "linecolor": "white",
            "ticks": ""
           },
           "baxis": {
            "gridcolor": "white",
            "linecolor": "white",
            "ticks": ""
           },
           "bgcolor": "#E5ECF6",
           "caxis": {
            "gridcolor": "white",
            "linecolor": "white",
            "ticks": ""
           }
          },
          "title": {
           "x": 0.05
          },
          "xaxis": {
           "automargin": true,
           "gridcolor": "white",
           "linecolor": "white",
           "ticks": "",
           "title": {
            "standoff": 15
           },
           "zerolinecolor": "white",
           "zerolinewidth": 2
          },
          "yaxis": {
           "automargin": true,
           "gridcolor": "white",
           "linecolor": "white",
           "ticks": "",
           "title": {
            "standoff": 15
           },
           "zerolinecolor": "white",
           "zerolinewidth": 2
          }
         }
        },
        "title": {
         "text": "The Top 15 bestsellers of Founders Brewing Company"
        },
        "xaxis": {
         "title": {
          "text": "Count of reviews"
         }
        }
       }
      },
      "text/html": [
       "<div>\n",
       "        \n",
       "        \n",
       "            <div id=\"55aa4bf3-9292-435d-978b-058fb5009355\" class=\"plotly-graph-div\" style=\"height:525px; width:100%;\"></div>\n",
       "            <script type=\"text/javascript\">\n",
       "                require([\"plotly\"], function(Plotly) {\n",
       "                    window.PLOTLYENV=window.PLOTLYENV || {};\n",
       "                    \n",
       "                if (document.getElementById(\"55aa4bf3-9292-435d-978b-058fb5009355\")) {\n",
       "                    Plotly.newPlot(\n",
       "                        '55aa4bf3-9292-435d-978b-058fb5009355',\n",
       "                        [{\"hoverinfo\": \"x\", \"marker\": {\"color\": \"rgb(1, 77, 102)\"}, \"opacity\": 0.75, \"orientation\": \"h\", \"text\": [\"Founders Black Rye\", \"Founders R\\u00fcb\\u00e6us\", \"Founders Blushing Monk\", \"Founders Nemesis 2009\", \"Founders Nemesis 2010\", \"Founders Cerise\", \"Founders Pale Ale\", \"Founders CBS Imperial Stout\", \"Founders Harvest Ale\", \"Founders Curmudgeon (Old Ale)\", \"Founders Porter\", \"Founders Backwoods Bastard\", \"Founders Devil Dancer\", \"Founders Imperial Stout\", \"Founders Double Trouble\", \"Founders Dirty Bastard\", \"Founders Centennial IPA\", \"Founders Red's Rye PA\", \"Founders KBS (Kentucky Breakfast Stout)\", \"Founders Breakfast Stout\"], \"textposition\": \"inside\", \"type\": \"bar\", \"x\": [295, 301, 398, 429, 454, 488, 611, 618, 666, 774, 894, 1003, 1055, 1064, 1148, 1247, 1366, 1376, 1875, 2443], \"y\": [\"Founders Black Rye\", \"Founders R\\u00fcb\\u00e6us\", \"Founders Blushing Monk\", \"Founders Nemesis 2009\", \"Founders Nemesis 2010\", \"Founders Cerise\", \"Founders Pale Ale\", \"Founders CBS Imperial Stout\", \"Founders Harvest Ale\", \"Founders Curmudgeon (Old Ale)\", \"Founders Porter\", \"Founders Backwoods Bastard\", \"Founders Devil Dancer\", \"Founders Imperial Stout\", \"Founders Double Trouble\", \"Founders Dirty Bastard\", \"Founders Centennial IPA\", \"Founders Red's Rye PA\", \"Founders KBS (Kentucky Breakfast Stout)\", \"Founders Breakfast Stout\"]}],\n",
       "                        {\"font\": {\"color\": \"dark gray\", \"family\": \"Comic Sans MS\"}, \"margin\": {\"l\": 220}, \"template\": {\"data\": {\"bar\": [{\"error_x\": {\"color\": \"#2a3f5f\"}, \"error_y\": {\"color\": \"#2a3f5f\"}, \"marker\": {\"line\": {\"color\": \"#E5ECF6\", \"width\": 0.5}}, \"type\": \"bar\"}], \"barpolar\": [{\"marker\": {\"line\": {\"color\": \"#E5ECF6\", \"width\": 0.5}}, \"type\": \"barpolar\"}], \"carpet\": [{\"aaxis\": {\"endlinecolor\": \"#2a3f5f\", \"gridcolor\": \"white\", \"linecolor\": \"white\", \"minorgridcolor\": \"white\", \"startlinecolor\": \"#2a3f5f\"}, \"baxis\": {\"endlinecolor\": \"#2a3f5f\", \"gridcolor\": \"white\", \"linecolor\": \"white\", \"minorgridcolor\": \"white\", \"startlinecolor\": \"#2a3f5f\"}, \"type\": \"carpet\"}], \"choropleth\": [{\"colorbar\": {\"outlinewidth\": 0, \"ticks\": \"\"}, \"type\": \"choropleth\"}], \"contour\": [{\"colorbar\": {\"outlinewidth\": 0, \"ticks\": \"\"}, \"colorscale\": [[0.0, \"#0d0887\"], [0.1111111111111111, \"#46039f\"], [0.2222222222222222, \"#7201a8\"], [0.3333333333333333, \"#9c179e\"], [0.4444444444444444, \"#bd3786\"], [0.5555555555555556, \"#d8576b\"], [0.6666666666666666, \"#ed7953\"], [0.7777777777777778, \"#fb9f3a\"], [0.8888888888888888, \"#fdca26\"], [1.0, \"#f0f921\"]], \"type\": \"contour\"}], \"contourcarpet\": [{\"colorbar\": {\"outlinewidth\": 0, \"ticks\": \"\"}, \"type\": \"contourcarpet\"}], \"heatmap\": [{\"colorbar\": {\"outlinewidth\": 0, \"ticks\": \"\"}, \"colorscale\": [[0.0, \"#0d0887\"], [0.1111111111111111, \"#46039f\"], [0.2222222222222222, \"#7201a8\"], [0.3333333333333333, \"#9c179e\"], [0.4444444444444444, \"#bd3786\"], [0.5555555555555556, \"#d8576b\"], [0.6666666666666666, \"#ed7953\"], [0.7777777777777778, \"#fb9f3a\"], [0.8888888888888888, \"#fdca26\"], [1.0, \"#f0f921\"]], \"type\": \"heatmap\"}], \"heatmapgl\": [{\"colorbar\": {\"outlinewidth\": 0, \"ticks\": \"\"}, \"colorscale\": [[0.0, \"#0d0887\"], [0.1111111111111111, \"#46039f\"], [0.2222222222222222, \"#7201a8\"], [0.3333333333333333, \"#9c179e\"], [0.4444444444444444, \"#bd3786\"], [0.5555555555555556, \"#d8576b\"], [0.6666666666666666, \"#ed7953\"], [0.7777777777777778, \"#fb9f3a\"], [0.8888888888888888, \"#fdca26\"], [1.0, \"#f0f921\"]], \"type\": \"heatmapgl\"}], \"histogram\": [{\"marker\": {\"colorbar\": {\"outlinewidth\": 0, \"ticks\": \"\"}}, \"type\": \"histogram\"}], \"histogram2d\": [{\"colorbar\": {\"outlinewidth\": 0, \"ticks\": \"\"}, \"colorscale\": [[0.0, \"#0d0887\"], [0.1111111111111111, \"#46039f\"], [0.2222222222222222, \"#7201a8\"], [0.3333333333333333, \"#9c179e\"], [0.4444444444444444, \"#bd3786\"], [0.5555555555555556, \"#d8576b\"], [0.6666666666666666, \"#ed7953\"], [0.7777777777777778, \"#fb9f3a\"], [0.8888888888888888, \"#fdca26\"], [1.0, \"#f0f921\"]], \"type\": \"histogram2d\"}], \"histogram2dcontour\": [{\"colorbar\": {\"outlinewidth\": 0, \"ticks\": \"\"}, \"colorscale\": [[0.0, \"#0d0887\"], [0.1111111111111111, \"#46039f\"], [0.2222222222222222, \"#7201a8\"], [0.3333333333333333, \"#9c179e\"], [0.4444444444444444, \"#bd3786\"], [0.5555555555555556, \"#d8576b\"], [0.6666666666666666, \"#ed7953\"], [0.7777777777777778, \"#fb9f3a\"], [0.8888888888888888, \"#fdca26\"], [1.0, \"#f0f921\"]], \"type\": \"histogram2dcontour\"}], \"mesh3d\": [{\"colorbar\": {\"outlinewidth\": 0, \"ticks\": \"\"}, \"type\": \"mesh3d\"}], \"parcoords\": [{\"line\": {\"colorbar\": {\"outlinewidth\": 0, \"ticks\": \"\"}}, \"type\": \"parcoords\"}], \"pie\": [{\"automargin\": true, \"type\": \"pie\"}], \"scatter\": [{\"marker\": {\"colorbar\": {\"outlinewidth\": 0, \"ticks\": \"\"}}, \"type\": \"scatter\"}], \"scatter3d\": [{\"line\": {\"colorbar\": {\"outlinewidth\": 0, \"ticks\": \"\"}}, \"marker\": {\"colorbar\": {\"outlinewidth\": 0, \"ticks\": \"\"}}, \"type\": \"scatter3d\"}], \"scattercarpet\": [{\"marker\": {\"colorbar\": {\"outlinewidth\": 0, \"ticks\": \"\"}}, \"type\": \"scattercarpet\"}], \"scattergeo\": [{\"marker\": {\"colorbar\": {\"outlinewidth\": 0, \"ticks\": \"\"}}, \"type\": \"scattergeo\"}], \"scattergl\": [{\"marker\": {\"colorbar\": {\"outlinewidth\": 0, \"ticks\": \"\"}}, \"type\": \"scattergl\"}], \"scattermapbox\": [{\"marker\": {\"colorbar\": {\"outlinewidth\": 0, \"ticks\": \"\"}}, \"type\": \"scattermapbox\"}], \"scatterpolar\": [{\"marker\": {\"colorbar\": {\"outlinewidth\": 0, \"ticks\": \"\"}}, \"type\": \"scatterpolar\"}], \"scatterpolargl\": [{\"marker\": {\"colorbar\": {\"outlinewidth\": 0, \"ticks\": \"\"}}, \"type\": \"scatterpolargl\"}], \"scatterternary\": [{\"marker\": {\"colorbar\": {\"outlinewidth\": 0, \"ticks\": \"\"}}, \"type\": \"scatterternary\"}], \"surface\": [{\"colorbar\": {\"outlinewidth\": 0, \"ticks\": \"\"}, \"colorscale\": [[0.0, \"#0d0887\"], [0.1111111111111111, \"#46039f\"], [0.2222222222222222, \"#7201a8\"], [0.3333333333333333, \"#9c179e\"], [0.4444444444444444, \"#bd3786\"], [0.5555555555555556, \"#d8576b\"], [0.6666666666666666, \"#ed7953\"], [0.7777777777777778, \"#fb9f3a\"], [0.8888888888888888, \"#fdca26\"], [1.0, \"#f0f921\"]], \"type\": \"surface\"}], \"table\": [{\"cells\": {\"fill\": {\"color\": \"#EBF0F8\"}, \"line\": {\"color\": \"white\"}}, \"header\": {\"fill\": {\"color\": \"#C8D4E3\"}, \"line\": {\"color\": \"white\"}}, \"type\": \"table\"}]}, \"layout\": {\"annotationdefaults\": {\"arrowcolor\": \"#2a3f5f\", \"arrowhead\": 0, \"arrowwidth\": 1}, \"coloraxis\": {\"colorbar\": {\"outlinewidth\": 0, \"ticks\": \"\"}}, \"colorscale\": {\"diverging\": [[0, \"#8e0152\"], [0.1, \"#c51b7d\"], [0.2, \"#de77ae\"], [0.3, \"#f1b6da\"], [0.4, \"#fde0ef\"], [0.5, \"#f7f7f7\"], [0.6, \"#e6f5d0\"], [0.7, \"#b8e186\"], [0.8, \"#7fbc41\"], [0.9, \"#4d9221\"], [1, \"#276419\"]], \"sequential\": [[0.0, \"#0d0887\"], [0.1111111111111111, \"#46039f\"], [0.2222222222222222, \"#7201a8\"], [0.3333333333333333, \"#9c179e\"], [0.4444444444444444, \"#bd3786\"], [0.5555555555555556, \"#d8576b\"], [0.6666666666666666, \"#ed7953\"], [0.7777777777777778, \"#fb9f3a\"], [0.8888888888888888, \"#fdca26\"], [1.0, \"#f0f921\"]], \"sequentialminus\": [[0.0, \"#0d0887\"], [0.1111111111111111, \"#46039f\"], [0.2222222222222222, \"#7201a8\"], [0.3333333333333333, \"#9c179e\"], [0.4444444444444444, \"#bd3786\"], [0.5555555555555556, \"#d8576b\"], [0.6666666666666666, \"#ed7953\"], [0.7777777777777778, \"#fb9f3a\"], [0.8888888888888888, \"#fdca26\"], [1.0, \"#f0f921\"]]}, \"colorway\": [\"#636efa\", \"#EF553B\", \"#00cc96\", \"#ab63fa\", \"#FFA15A\", \"#19d3f3\", \"#FF6692\", \"#B6E880\", \"#FF97FF\", \"#FECB52\"], \"font\": {\"color\": \"#2a3f5f\"}, \"geo\": {\"bgcolor\": \"white\", \"lakecolor\": \"white\", \"landcolor\": \"#E5ECF6\", \"showlakes\": true, \"showland\": true, \"subunitcolor\": \"white\"}, \"hoverlabel\": {\"align\": \"left\"}, \"hovermode\": \"closest\", \"mapbox\": {\"style\": \"light\"}, \"paper_bgcolor\": \"white\", \"plot_bgcolor\": \"#E5ECF6\", \"polar\": {\"angularaxis\": {\"gridcolor\": \"white\", \"linecolor\": \"white\", \"ticks\": \"\"}, \"bgcolor\": \"#E5ECF6\", \"radialaxis\": {\"gridcolor\": \"white\", \"linecolor\": \"white\", \"ticks\": \"\"}}, \"scene\": {\"xaxis\": {\"backgroundcolor\": \"#E5ECF6\", \"gridcolor\": \"white\", \"gridwidth\": 2, \"linecolor\": \"white\", \"showbackground\": true, \"ticks\": \"\", \"zerolinecolor\": \"white\"}, \"yaxis\": {\"backgroundcolor\": \"#E5ECF6\", \"gridcolor\": \"white\", \"gridwidth\": 2, \"linecolor\": \"white\", \"showbackground\": true, \"ticks\": \"\", \"zerolinecolor\": \"white\"}, \"zaxis\": {\"backgroundcolor\": \"#E5ECF6\", \"gridcolor\": \"white\", \"gridwidth\": 2, \"linecolor\": \"white\", \"showbackground\": true, \"ticks\": \"\", \"zerolinecolor\": \"white\"}}, \"shapedefaults\": {\"line\": {\"color\": \"#2a3f5f\"}}, \"ternary\": {\"aaxis\": {\"gridcolor\": \"white\", \"linecolor\": \"white\", \"ticks\": \"\"}, \"baxis\": {\"gridcolor\": \"white\", \"linecolor\": \"white\", \"ticks\": \"\"}, \"bgcolor\": \"#E5ECF6\", \"caxis\": {\"gridcolor\": \"white\", \"linecolor\": \"white\", \"ticks\": \"\"}}, \"title\": {\"x\": 0.05}, \"xaxis\": {\"automargin\": true, \"gridcolor\": \"white\", \"linecolor\": \"white\", \"ticks\": \"\", \"title\": {\"standoff\": 15}, \"zerolinecolor\": \"white\", \"zerolinewidth\": 2}, \"yaxis\": {\"automargin\": true, \"gridcolor\": \"white\", \"linecolor\": \"white\", \"ticks\": \"\", \"title\": {\"standoff\": 15}, \"zerolinecolor\": \"white\", \"zerolinewidth\": 2}}}, \"title\": {\"text\": \"The Top 15 bestsellers of Founders Brewing Company\"}, \"xaxis\": {\"title\": {\"text\": \"Count of reviews\"}}},\n",
       "                        {\"responsive\": true}\n",
       "                    ).then(function(){\n",
       "                            \n",
       "var gd = document.getElementById('55aa4bf3-9292-435d-978b-058fb5009355');\n",
       "var x = new MutationObserver(function (mutations, observer) {{\n",
       "        var display = window.getComputedStyle(gd).display;\n",
       "        if (!display || display === 'none') {{\n",
       "            console.log([gd, 'removed!']);\n",
       "            Plotly.purge(gd);\n",
       "            observer.disconnect();\n",
       "        }}\n",
       "}});\n",
       "\n",
       "// Listen for the removal of the full notebook cells\n",
       "var notebookContainer = gd.closest('#notebook-container');\n",
       "if (notebookContainer) {{\n",
       "    x.observe(notebookContainer, {childList: true});\n",
       "}}\n",
       "\n",
       "// Listen for the clearing of the current output cell\n",
       "var outputEl = gd.closest('.output');\n",
       "if (outputEl) {{\n",
       "    x.observe(outputEl, {childList: true});\n",
       "}}\n",
       "\n",
       "                        })\n",
       "                };\n",
       "                });\n",
       "            </script>\n",
       "        </div>"
      ]
     },
     "metadata": {},
     "output_type": "display_data"
    }
   ],
   "source": [
    "bar5 = go.Bar(x=df[df.brewery_name=='Founders Brewing Company'].beer_name.value_counts().head(20).sort_values(ascending=True),\n",
    "              y=df[df.brewery_name=='Founders Brewing Company'].beer_name.value_counts().head(20).sort_values(ascending=True).index,\n",
    "              hoverinfo = 'x',\n",
    "              text=df[df.brewery_name=='Founders Brewing Company'].beer_name.value_counts().head(20).sort_values(ascending=True).index,\n",
    "              textposition = 'inside',\n",
    "              orientation = 'h',\n",
    "              opacity=0.75, \n",
    "              marker=dict(color='rgb(1, 77, 102)'))\n",
    "\n",
    "layout = go.Layout(title='The Top 15 bestsellers of Founders Brewing Company',\n",
    "                   xaxis=dict(title=\"Count of reviews\",),\n",
    "                   margin = dict(l = 220),\n",
    "                   font=dict(family='Comic Sans MS',\n",
    "                            color='dark gray'))\n",
    "\n",
    "fig = go.Figure(data=bar5, layout=layout)\n",
    "\n",
    "# Plot it\n",
    "plotly.offline.iplot(fig)"
   ]
  },
  {
   "cell_type": "markdown",
   "metadata": {},
   "source": [
    "## Additional exploration of the dataset"
   ]
  },
  {
   "cell_type": "markdown",
   "metadata": {},
   "source": [
    "### The correlation of review features\n",
    "\n",
    "The review_overall is calculated by review_appearance, review_aroma, review_palate, review_taste. We use these features to measure whether a beer is worth recommending. \n",
    "\n",
    "However, we are not sure whether review_overall is the mean of the other four features. Maybe some of these features are more important and deserve a higher weight in the review_overall. Therefore, I will do a correlation heatmap of the review features and learn something from it."
   ]
  },
  {
   "cell_type": "code",
   "execution_count": 47,
   "metadata": {},
   "outputs": [
    {
     "data": {
      "application/vnd.plotly.v1+json": {
       "config": {
        "plotlyServerURL": "https://plot.ly"
       },
       "data": [
        {
         "colorscale": [
          [
           0,
           "navy"
          ],
          [
           1,
           "plum"
          ]
         ],
         "reversescale": false,
         "showscale": false,
         "type": "heatmap",
         "x": [
          "review_appearance",
          "review_aroma",
          "review_palate",
          "review_taste",
          "review_overall"
         ],
         "y": [
          "review_appearance",
          "review_aroma",
          "review_palate",
          "review_taste",
          "review_overall"
         ],
         "z": [
          [
           1,
           0.56,
           0.56,
           0.54,
           0.5
          ],
          [
           0.56,
           1,
           0.61,
           0.71,
           0.61
          ],
          [
           0.56,
           0.61,
           1,
           0.73,
           0.7
          ],
          [
           0.54,
           0.71,
           0.73,
           1,
           0.79
          ],
          [
           0.5,
           0.61,
           0.7,
           0.79,
           1
          ]
         ]
        }
       ],
       "layout": {
        "annotations": [
         {
          "font": {
           "color": "black"
          },
          "showarrow": false,
          "text": "1.0",
          "x": "review_appearance",
          "xref": "x",
          "y": "review_appearance",
          "yref": "y"
         },
         {
          "font": {
           "color": "white"
          },
          "showarrow": false,
          "text": "0.56",
          "x": "review_aroma",
          "xref": "x",
          "y": "review_appearance",
          "yref": "y"
         },
         {
          "font": {
           "color": "white"
          },
          "showarrow": false,
          "text": "0.56",
          "x": "review_palate",
          "xref": "x",
          "y": "review_appearance",
          "yref": "y"
         },
         {
          "font": {
           "color": "white"
          },
          "showarrow": false,
          "text": "0.54",
          "x": "review_taste",
          "xref": "x",
          "y": "review_appearance",
          "yref": "y"
         },
         {
          "font": {
           "color": "white"
          },
          "showarrow": false,
          "text": "0.5",
          "x": "review_overall",
          "xref": "x",
          "y": "review_appearance",
          "yref": "y"
         },
         {
          "font": {
           "color": "white"
          },
          "showarrow": false,
          "text": "0.56",
          "x": "review_appearance",
          "xref": "x",
          "y": "review_aroma",
          "yref": "y"
         },
         {
          "font": {
           "color": "black"
          },
          "showarrow": false,
          "text": "1.0",
          "x": "review_aroma",
          "xref": "x",
          "y": "review_aroma",
          "yref": "y"
         },
         {
          "font": {
           "color": "white"
          },
          "showarrow": false,
          "text": "0.61",
          "x": "review_palate",
          "xref": "x",
          "y": "review_aroma",
          "yref": "y"
         },
         {
          "font": {
           "color": "white"
          },
          "showarrow": false,
          "text": "0.71",
          "x": "review_taste",
          "xref": "x",
          "y": "review_aroma",
          "yref": "y"
         },
         {
          "font": {
           "color": "white"
          },
          "showarrow": false,
          "text": "0.61",
          "x": "review_overall",
          "xref": "x",
          "y": "review_aroma",
          "yref": "y"
         },
         {
          "font": {
           "color": "white"
          },
          "showarrow": false,
          "text": "0.56",
          "x": "review_appearance",
          "xref": "x",
          "y": "review_palate",
          "yref": "y"
         },
         {
          "font": {
           "color": "white"
          },
          "showarrow": false,
          "text": "0.61",
          "x": "review_aroma",
          "xref": "x",
          "y": "review_palate",
          "yref": "y"
         },
         {
          "font": {
           "color": "black"
          },
          "showarrow": false,
          "text": "1.0",
          "x": "review_palate",
          "xref": "x",
          "y": "review_palate",
          "yref": "y"
         },
         {
          "font": {
           "color": "white"
          },
          "showarrow": false,
          "text": "0.73",
          "x": "review_taste",
          "xref": "x",
          "y": "review_palate",
          "yref": "y"
         },
         {
          "font": {
           "color": "white"
          },
          "showarrow": false,
          "text": "0.7",
          "x": "review_overall",
          "xref": "x",
          "y": "review_palate",
          "yref": "y"
         },
         {
          "font": {
           "color": "white"
          },
          "showarrow": false,
          "text": "0.54",
          "x": "review_appearance",
          "xref": "x",
          "y": "review_taste",
          "yref": "y"
         },
         {
          "font": {
           "color": "white"
          },
          "showarrow": false,
          "text": "0.71",
          "x": "review_aroma",
          "xref": "x",
          "y": "review_taste",
          "yref": "y"
         },
         {
          "font": {
           "color": "white"
          },
          "showarrow": false,
          "text": "0.73",
          "x": "review_palate",
          "xref": "x",
          "y": "review_taste",
          "yref": "y"
         },
         {
          "font": {
           "color": "black"
          },
          "showarrow": false,
          "text": "1.0",
          "x": "review_taste",
          "xref": "x",
          "y": "review_taste",
          "yref": "y"
         },
         {
          "font": {
           "color": "black"
          },
          "showarrow": false,
          "text": "0.79",
          "x": "review_overall",
          "xref": "x",
          "y": "review_taste",
          "yref": "y"
         },
         {
          "font": {
           "color": "white"
          },
          "showarrow": false,
          "text": "0.5",
          "x": "review_appearance",
          "xref": "x",
          "y": "review_overall",
          "yref": "y"
         },
         {
          "font": {
           "color": "white"
          },
          "showarrow": false,
          "text": "0.61",
          "x": "review_aroma",
          "xref": "x",
          "y": "review_overall",
          "yref": "y"
         },
         {
          "font": {
           "color": "white"
          },
          "showarrow": false,
          "text": "0.7",
          "x": "review_palate",
          "xref": "x",
          "y": "review_overall",
          "yref": "y"
         },
         {
          "font": {
           "color": "black"
          },
          "showarrow": false,
          "text": "0.79",
          "x": "review_taste",
          "xref": "x",
          "y": "review_overall",
          "yref": "y"
         },
         {
          "font": {
           "color": "black"
          },
          "showarrow": false,
          "text": "1.0",
          "x": "review_overall",
          "xref": "x",
          "y": "review_overall",
          "yref": "y"
         }
        ],
        "template": {
         "data": {
          "bar": [
           {
            "error_x": {
             "color": "#2a3f5f"
            },
            "error_y": {
             "color": "#2a3f5f"
            },
            "marker": {
             "line": {
              "color": "#E5ECF6",
              "width": 0.5
             }
            },
            "type": "bar"
           }
          ],
          "barpolar": [
           {
            "marker": {
             "line": {
              "color": "#E5ECF6",
              "width": 0.5
             }
            },
            "type": "barpolar"
           }
          ],
          "carpet": [
           {
            "aaxis": {
             "endlinecolor": "#2a3f5f",
             "gridcolor": "white",
             "linecolor": "white",
             "minorgridcolor": "white",
             "startlinecolor": "#2a3f5f"
            },
            "baxis": {
             "endlinecolor": "#2a3f5f",
             "gridcolor": "white",
             "linecolor": "white",
             "minorgridcolor": "white",
             "startlinecolor": "#2a3f5f"
            },
            "type": "carpet"
           }
          ],
          "choropleth": [
           {
            "colorbar": {
             "outlinewidth": 0,
             "ticks": ""
            },
            "type": "choropleth"
           }
          ],
          "contour": [
           {
            "colorbar": {
             "outlinewidth": 0,
             "ticks": ""
            },
            "colorscale": [
             [
              0,
              "#0d0887"
             ],
             [
              0.1111111111111111,
              "#46039f"
             ],
             [
              0.2222222222222222,
              "#7201a8"
             ],
             [
              0.3333333333333333,
              "#9c179e"
             ],
             [
              0.4444444444444444,
              "#bd3786"
             ],
             [
              0.5555555555555556,
              "#d8576b"
             ],
             [
              0.6666666666666666,
              "#ed7953"
             ],
             [
              0.7777777777777778,
              "#fb9f3a"
             ],
             [
              0.8888888888888888,
              "#fdca26"
             ],
             [
              1,
              "#f0f921"
             ]
            ],
            "type": "contour"
           }
          ],
          "contourcarpet": [
           {
            "colorbar": {
             "outlinewidth": 0,
             "ticks": ""
            },
            "type": "contourcarpet"
           }
          ],
          "heatmap": [
           {
            "colorbar": {
             "outlinewidth": 0,
             "ticks": ""
            },
            "colorscale": [
             [
              0,
              "#0d0887"
             ],
             [
              0.1111111111111111,
              "#46039f"
             ],
             [
              0.2222222222222222,
              "#7201a8"
             ],
             [
              0.3333333333333333,
              "#9c179e"
             ],
             [
              0.4444444444444444,
              "#bd3786"
             ],
             [
              0.5555555555555556,
              "#d8576b"
             ],
             [
              0.6666666666666666,
              "#ed7953"
             ],
             [
              0.7777777777777778,
              "#fb9f3a"
             ],
             [
              0.8888888888888888,
              "#fdca26"
             ],
             [
              1,
              "#f0f921"
             ]
            ],
            "type": "heatmap"
           }
          ],
          "heatmapgl": [
           {
            "colorbar": {
             "outlinewidth": 0,
             "ticks": ""
            },
            "colorscale": [
             [
              0,
              "#0d0887"
             ],
             [
              0.1111111111111111,
              "#46039f"
             ],
             [
              0.2222222222222222,
              "#7201a8"
             ],
             [
              0.3333333333333333,
              "#9c179e"
             ],
             [
              0.4444444444444444,
              "#bd3786"
             ],
             [
              0.5555555555555556,
              "#d8576b"
             ],
             [
              0.6666666666666666,
              "#ed7953"
             ],
             [
              0.7777777777777778,
              "#fb9f3a"
             ],
             [
              0.8888888888888888,
              "#fdca26"
             ],
             [
              1,
              "#f0f921"
             ]
            ],
            "type": "heatmapgl"
           }
          ],
          "histogram": [
           {
            "marker": {
             "colorbar": {
              "outlinewidth": 0,
              "ticks": ""
             }
            },
            "type": "histogram"
           }
          ],
          "histogram2d": [
           {
            "colorbar": {
             "outlinewidth": 0,
             "ticks": ""
            },
            "colorscale": [
             [
              0,
              "#0d0887"
             ],
             [
              0.1111111111111111,
              "#46039f"
             ],
             [
              0.2222222222222222,
              "#7201a8"
             ],
             [
              0.3333333333333333,
              "#9c179e"
             ],
             [
              0.4444444444444444,
              "#bd3786"
             ],
             [
              0.5555555555555556,
              "#d8576b"
             ],
             [
              0.6666666666666666,
              "#ed7953"
             ],
             [
              0.7777777777777778,
              "#fb9f3a"
             ],
             [
              0.8888888888888888,
              "#fdca26"
             ],
             [
              1,
              "#f0f921"
             ]
            ],
            "type": "histogram2d"
           }
          ],
          "histogram2dcontour": [
           {
            "colorbar": {
             "outlinewidth": 0,
             "ticks": ""
            },
            "colorscale": [
             [
              0,
              "#0d0887"
             ],
             [
              0.1111111111111111,
              "#46039f"
             ],
             [
              0.2222222222222222,
              "#7201a8"
             ],
             [
              0.3333333333333333,
              "#9c179e"
             ],
             [
              0.4444444444444444,
              "#bd3786"
             ],
             [
              0.5555555555555556,
              "#d8576b"
             ],
             [
              0.6666666666666666,
              "#ed7953"
             ],
             [
              0.7777777777777778,
              "#fb9f3a"
             ],
             [
              0.8888888888888888,
              "#fdca26"
             ],
             [
              1,
              "#f0f921"
             ]
            ],
            "type": "histogram2dcontour"
           }
          ],
          "mesh3d": [
           {
            "colorbar": {
             "outlinewidth": 0,
             "ticks": ""
            },
            "type": "mesh3d"
           }
          ],
          "parcoords": [
           {
            "line": {
             "colorbar": {
              "outlinewidth": 0,
              "ticks": ""
             }
            },
            "type": "parcoords"
           }
          ],
          "pie": [
           {
            "automargin": true,
            "type": "pie"
           }
          ],
          "scatter": [
           {
            "marker": {
             "colorbar": {
              "outlinewidth": 0,
              "ticks": ""
             }
            },
            "type": "scatter"
           }
          ],
          "scatter3d": [
           {
            "line": {
             "colorbar": {
              "outlinewidth": 0,
              "ticks": ""
             }
            },
            "marker": {
             "colorbar": {
              "outlinewidth": 0,
              "ticks": ""
             }
            },
            "type": "scatter3d"
           }
          ],
          "scattercarpet": [
           {
            "marker": {
             "colorbar": {
              "outlinewidth": 0,
              "ticks": ""
             }
            },
            "type": "scattercarpet"
           }
          ],
          "scattergeo": [
           {
            "marker": {
             "colorbar": {
              "outlinewidth": 0,
              "ticks": ""
             }
            },
            "type": "scattergeo"
           }
          ],
          "scattergl": [
           {
            "marker": {
             "colorbar": {
              "outlinewidth": 0,
              "ticks": ""
             }
            },
            "type": "scattergl"
           }
          ],
          "scattermapbox": [
           {
            "marker": {
             "colorbar": {
              "outlinewidth": 0,
              "ticks": ""
             }
            },
            "type": "scattermapbox"
           }
          ],
          "scatterpolar": [
           {
            "marker": {
             "colorbar": {
              "outlinewidth": 0,
              "ticks": ""
             }
            },
            "type": "scatterpolar"
           }
          ],
          "scatterpolargl": [
           {
            "marker": {
             "colorbar": {
              "outlinewidth": 0,
              "ticks": ""
             }
            },
            "type": "scatterpolargl"
           }
          ],
          "scatterternary": [
           {
            "marker": {
             "colorbar": {
              "outlinewidth": 0,
              "ticks": ""
             }
            },
            "type": "scatterternary"
           }
          ],
          "surface": [
           {
            "colorbar": {
             "outlinewidth": 0,
             "ticks": ""
            },
            "colorscale": [
             [
              0,
              "#0d0887"
             ],
             [
              0.1111111111111111,
              "#46039f"
             ],
             [
              0.2222222222222222,
              "#7201a8"
             ],
             [
              0.3333333333333333,
              "#9c179e"
             ],
             [
              0.4444444444444444,
              "#bd3786"
             ],
             [
              0.5555555555555556,
              "#d8576b"
             ],
             [
              0.6666666666666666,
              "#ed7953"
             ],
             [
              0.7777777777777778,
              "#fb9f3a"
             ],
             [
              0.8888888888888888,
              "#fdca26"
             ],
             [
              1,
              "#f0f921"
             ]
            ],
            "type": "surface"
           }
          ],
          "table": [
           {
            "cells": {
             "fill": {
              "color": "#EBF0F8"
             },
             "line": {
              "color": "white"
             }
            },
            "header": {
             "fill": {
              "color": "#C8D4E3"
             },
             "line": {
              "color": "white"
             }
            },
            "type": "table"
           }
          ]
         },
         "layout": {
          "annotationdefaults": {
           "arrowcolor": "#2a3f5f",
           "arrowhead": 0,
           "arrowwidth": 1
          },
          "coloraxis": {
           "colorbar": {
            "outlinewidth": 0,
            "ticks": ""
           }
          },
          "colorscale": {
           "diverging": [
            [
             0,
             "#8e0152"
            ],
            [
             0.1,
             "#c51b7d"
            ],
            [
             0.2,
             "#de77ae"
            ],
            [
             0.3,
             "#f1b6da"
            ],
            [
             0.4,
             "#fde0ef"
            ],
            [
             0.5,
             "#f7f7f7"
            ],
            [
             0.6,
             "#e6f5d0"
            ],
            [
             0.7,
             "#b8e186"
            ],
            [
             0.8,
             "#7fbc41"
            ],
            [
             0.9,
             "#4d9221"
            ],
            [
             1,
             "#276419"
            ]
           ],
           "sequential": [
            [
             0,
             "#0d0887"
            ],
            [
             0.1111111111111111,
             "#46039f"
            ],
            [
             0.2222222222222222,
             "#7201a8"
            ],
            [
             0.3333333333333333,
             "#9c179e"
            ],
            [
             0.4444444444444444,
             "#bd3786"
            ],
            [
             0.5555555555555556,
             "#d8576b"
            ],
            [
             0.6666666666666666,
             "#ed7953"
            ],
            [
             0.7777777777777778,
             "#fb9f3a"
            ],
            [
             0.8888888888888888,
             "#fdca26"
            ],
            [
             1,
             "#f0f921"
            ]
           ],
           "sequentialminus": [
            [
             0,
             "#0d0887"
            ],
            [
             0.1111111111111111,
             "#46039f"
            ],
            [
             0.2222222222222222,
             "#7201a8"
            ],
            [
             0.3333333333333333,
             "#9c179e"
            ],
            [
             0.4444444444444444,
             "#bd3786"
            ],
            [
             0.5555555555555556,
             "#d8576b"
            ],
            [
             0.6666666666666666,
             "#ed7953"
            ],
            [
             0.7777777777777778,
             "#fb9f3a"
            ],
            [
             0.8888888888888888,
             "#fdca26"
            ],
            [
             1,
             "#f0f921"
            ]
           ]
          },
          "colorway": [
           "#636efa",
           "#EF553B",
           "#00cc96",
           "#ab63fa",
           "#FFA15A",
           "#19d3f3",
           "#FF6692",
           "#B6E880",
           "#FF97FF",
           "#FECB52"
          ],
          "font": {
           "color": "#2a3f5f"
          },
          "geo": {
           "bgcolor": "white",
           "lakecolor": "white",
           "landcolor": "#E5ECF6",
           "showlakes": true,
           "showland": true,
           "subunitcolor": "white"
          },
          "hoverlabel": {
           "align": "left"
          },
          "hovermode": "closest",
          "mapbox": {
           "style": "light"
          },
          "paper_bgcolor": "white",
          "plot_bgcolor": "#E5ECF6",
          "polar": {
           "angularaxis": {
            "gridcolor": "white",
            "linecolor": "white",
            "ticks": ""
           },
           "bgcolor": "#E5ECF6",
           "radialaxis": {
            "gridcolor": "white",
            "linecolor": "white",
            "ticks": ""
           }
          },
          "scene": {
           "xaxis": {
            "backgroundcolor": "#E5ECF6",
            "gridcolor": "white",
            "gridwidth": 2,
            "linecolor": "white",
            "showbackground": true,
            "ticks": "",
            "zerolinecolor": "white"
           },
           "yaxis": {
            "backgroundcolor": "#E5ECF6",
            "gridcolor": "white",
            "gridwidth": 2,
            "linecolor": "white",
            "showbackground": true,
            "ticks": "",
            "zerolinecolor": "white"
           },
           "zaxis": {
            "backgroundcolor": "#E5ECF6",
            "gridcolor": "white",
            "gridwidth": 2,
            "linecolor": "white",
            "showbackground": true,
            "ticks": "",
            "zerolinecolor": "white"
           }
          },
          "shapedefaults": {
           "line": {
            "color": "#2a3f5f"
           }
          },
          "ternary": {
           "aaxis": {
            "gridcolor": "white",
            "linecolor": "white",
            "ticks": ""
           },
           "baxis": {
            "gridcolor": "white",
            "linecolor": "white",
            "ticks": ""
           },
           "bgcolor": "#E5ECF6",
           "caxis": {
            "gridcolor": "white",
            "linecolor": "white",
            "ticks": ""
           }
          },
          "title": {
           "x": 0.05
          },
          "xaxis": {
           "automargin": true,
           "gridcolor": "white",
           "linecolor": "white",
           "ticks": "",
           "title": {
            "standoff": 15
           },
           "zerolinecolor": "white",
           "zerolinewidth": 2
          },
          "yaxis": {
           "automargin": true,
           "gridcolor": "white",
           "linecolor": "white",
           "ticks": "",
           "title": {
            "standoff": 15
           },
           "zerolinecolor": "white",
           "zerolinewidth": 2
          }
         }
        },
        "xaxis": {
         "dtick": 1,
         "gridcolor": "rgb(0, 0, 0)",
         "side": "top",
         "ticks": ""
        },
        "yaxis": {
         "dtick": 1,
         "ticks": "",
         "ticksuffix": "  "
        }
       }
      },
      "text/html": [
       "<div>\n",
       "        \n",
       "        \n",
       "            <div id=\"846ea245-033e-4396-9dce-abab61862671\" class=\"plotly-graph-div\" style=\"height:525px; width:100%;\"></div>\n",
       "            <script type=\"text/javascript\">\n",
       "                require([\"plotly\"], function(Plotly) {\n",
       "                    window.PLOTLYENV=window.PLOTLYENV || {};\n",
       "                    \n",
       "                if (document.getElementById(\"846ea245-033e-4396-9dce-abab61862671\")) {\n",
       "                    Plotly.newPlot(\n",
       "                        '846ea245-033e-4396-9dce-abab61862671',\n",
       "                        [{\"colorscale\": [[0, \"navy\"], [1, \"plum\"]], \"reversescale\": false, \"showscale\": false, \"type\": \"heatmap\", \"x\": [\"review_appearance\", \"review_aroma\", \"review_palate\", \"review_taste\", \"review_overall\"], \"y\": [\"review_appearance\", \"review_aroma\", \"review_palate\", \"review_taste\", \"review_overall\"], \"z\": [[1.0, 0.56, 0.56, 0.54, 0.5], [0.56, 1.0, 0.61, 0.71, 0.61], [0.56, 0.61, 1.0, 0.73, 0.7], [0.54, 0.71, 0.73, 1.0, 0.79], [0.5, 0.61, 0.7, 0.79, 1.0]]}],\n",
       "                        {\"annotations\": [{\"font\": {\"color\": \"black\"}, \"showarrow\": false, \"text\": \"1.0\", \"x\": \"review_appearance\", \"xref\": \"x\", \"y\": \"review_appearance\", \"yref\": \"y\"}, {\"font\": {\"color\": \"white\"}, \"showarrow\": false, \"text\": \"0.56\", \"x\": \"review_aroma\", \"xref\": \"x\", \"y\": \"review_appearance\", \"yref\": \"y\"}, {\"font\": {\"color\": \"white\"}, \"showarrow\": false, \"text\": \"0.56\", \"x\": \"review_palate\", \"xref\": \"x\", \"y\": \"review_appearance\", \"yref\": \"y\"}, {\"font\": {\"color\": \"white\"}, \"showarrow\": false, \"text\": \"0.54\", \"x\": \"review_taste\", \"xref\": \"x\", \"y\": \"review_appearance\", \"yref\": \"y\"}, {\"font\": {\"color\": \"white\"}, \"showarrow\": false, \"text\": \"0.5\", \"x\": \"review_overall\", \"xref\": \"x\", \"y\": \"review_appearance\", \"yref\": \"y\"}, {\"font\": {\"color\": \"white\"}, \"showarrow\": false, \"text\": \"0.56\", \"x\": \"review_appearance\", \"xref\": \"x\", \"y\": \"review_aroma\", \"yref\": \"y\"}, {\"font\": {\"color\": \"black\"}, \"showarrow\": false, \"text\": \"1.0\", \"x\": \"review_aroma\", \"xref\": \"x\", \"y\": \"review_aroma\", \"yref\": \"y\"}, {\"font\": {\"color\": \"white\"}, \"showarrow\": false, \"text\": \"0.61\", \"x\": \"review_palate\", \"xref\": \"x\", \"y\": \"review_aroma\", \"yref\": \"y\"}, {\"font\": {\"color\": \"white\"}, \"showarrow\": false, \"text\": \"0.71\", \"x\": \"review_taste\", \"xref\": \"x\", \"y\": \"review_aroma\", \"yref\": \"y\"}, {\"font\": {\"color\": \"white\"}, \"showarrow\": false, \"text\": \"0.61\", \"x\": \"review_overall\", \"xref\": \"x\", \"y\": \"review_aroma\", \"yref\": \"y\"}, {\"font\": {\"color\": \"white\"}, \"showarrow\": false, \"text\": \"0.56\", \"x\": \"review_appearance\", \"xref\": \"x\", \"y\": \"review_palate\", \"yref\": \"y\"}, {\"font\": {\"color\": \"white\"}, \"showarrow\": false, \"text\": \"0.61\", \"x\": \"review_aroma\", \"xref\": \"x\", \"y\": \"review_palate\", \"yref\": \"y\"}, {\"font\": {\"color\": \"black\"}, \"showarrow\": false, \"text\": \"1.0\", \"x\": \"review_palate\", \"xref\": \"x\", \"y\": \"review_palate\", \"yref\": \"y\"}, {\"font\": {\"color\": \"white\"}, \"showarrow\": false, \"text\": \"0.73\", \"x\": \"review_taste\", \"xref\": \"x\", \"y\": \"review_palate\", \"yref\": \"y\"}, {\"font\": {\"color\": \"white\"}, \"showarrow\": false, \"text\": \"0.7\", \"x\": \"review_overall\", \"xref\": \"x\", \"y\": \"review_palate\", \"yref\": \"y\"}, {\"font\": {\"color\": \"white\"}, \"showarrow\": false, \"text\": \"0.54\", \"x\": \"review_appearance\", \"xref\": \"x\", \"y\": \"review_taste\", \"yref\": \"y\"}, {\"font\": {\"color\": \"white\"}, \"showarrow\": false, \"text\": \"0.71\", \"x\": \"review_aroma\", \"xref\": \"x\", \"y\": \"review_taste\", \"yref\": \"y\"}, {\"font\": {\"color\": \"white\"}, \"showarrow\": false, \"text\": \"0.73\", \"x\": \"review_palate\", \"xref\": \"x\", \"y\": \"review_taste\", \"yref\": \"y\"}, {\"font\": {\"color\": \"black\"}, \"showarrow\": false, \"text\": \"1.0\", \"x\": \"review_taste\", \"xref\": \"x\", \"y\": \"review_taste\", \"yref\": \"y\"}, {\"font\": {\"color\": \"black\"}, \"showarrow\": false, \"text\": \"0.79\", \"x\": \"review_overall\", \"xref\": \"x\", \"y\": \"review_taste\", \"yref\": \"y\"}, {\"font\": {\"color\": \"white\"}, \"showarrow\": false, \"text\": \"0.5\", \"x\": \"review_appearance\", \"xref\": \"x\", \"y\": \"review_overall\", \"yref\": \"y\"}, {\"font\": {\"color\": \"white\"}, \"showarrow\": false, \"text\": \"0.61\", \"x\": \"review_aroma\", \"xref\": \"x\", \"y\": \"review_overall\", \"yref\": \"y\"}, {\"font\": {\"color\": \"white\"}, \"showarrow\": false, \"text\": \"0.7\", \"x\": \"review_palate\", \"xref\": \"x\", \"y\": \"review_overall\", \"yref\": \"y\"}, {\"font\": {\"color\": \"black\"}, \"showarrow\": false, \"text\": \"0.79\", \"x\": \"review_taste\", \"xref\": \"x\", \"y\": \"review_overall\", \"yref\": \"y\"}, {\"font\": {\"color\": \"black\"}, \"showarrow\": false, \"text\": \"1.0\", \"x\": \"review_overall\", \"xref\": \"x\", \"y\": \"review_overall\", \"yref\": \"y\"}], \"template\": {\"data\": {\"bar\": [{\"error_x\": {\"color\": \"#2a3f5f\"}, \"error_y\": {\"color\": \"#2a3f5f\"}, \"marker\": {\"line\": {\"color\": \"#E5ECF6\", \"width\": 0.5}}, \"type\": \"bar\"}], \"barpolar\": [{\"marker\": {\"line\": {\"color\": \"#E5ECF6\", \"width\": 0.5}}, \"type\": \"barpolar\"}], \"carpet\": [{\"aaxis\": {\"endlinecolor\": \"#2a3f5f\", \"gridcolor\": \"white\", \"linecolor\": \"white\", \"minorgridcolor\": \"white\", \"startlinecolor\": \"#2a3f5f\"}, \"baxis\": {\"endlinecolor\": \"#2a3f5f\", \"gridcolor\": \"white\", \"linecolor\": \"white\", \"minorgridcolor\": \"white\", \"startlinecolor\": \"#2a3f5f\"}, \"type\": \"carpet\"}], \"choropleth\": [{\"colorbar\": {\"outlinewidth\": 0, \"ticks\": \"\"}, \"type\": \"choropleth\"}], \"contour\": [{\"colorbar\": {\"outlinewidth\": 0, \"ticks\": \"\"}, \"colorscale\": [[0.0, \"#0d0887\"], [0.1111111111111111, \"#46039f\"], [0.2222222222222222, \"#7201a8\"], [0.3333333333333333, \"#9c179e\"], [0.4444444444444444, \"#bd3786\"], [0.5555555555555556, \"#d8576b\"], [0.6666666666666666, \"#ed7953\"], [0.7777777777777778, \"#fb9f3a\"], [0.8888888888888888, \"#fdca26\"], [1.0, \"#f0f921\"]], \"type\": \"contour\"}], \"contourcarpet\": [{\"colorbar\": {\"outlinewidth\": 0, \"ticks\": \"\"}, \"type\": \"contourcarpet\"}], \"heatmap\": [{\"colorbar\": {\"outlinewidth\": 0, \"ticks\": \"\"}, \"colorscale\": [[0.0, \"#0d0887\"], [0.1111111111111111, \"#46039f\"], [0.2222222222222222, \"#7201a8\"], [0.3333333333333333, \"#9c179e\"], [0.4444444444444444, \"#bd3786\"], [0.5555555555555556, \"#d8576b\"], [0.6666666666666666, \"#ed7953\"], [0.7777777777777778, \"#fb9f3a\"], [0.8888888888888888, \"#fdca26\"], [1.0, \"#f0f921\"]], \"type\": \"heatmap\"}], \"heatmapgl\": [{\"colorbar\": {\"outlinewidth\": 0, \"ticks\": \"\"}, \"colorscale\": [[0.0, \"#0d0887\"], [0.1111111111111111, \"#46039f\"], [0.2222222222222222, \"#7201a8\"], [0.3333333333333333, \"#9c179e\"], [0.4444444444444444, \"#bd3786\"], [0.5555555555555556, \"#d8576b\"], [0.6666666666666666, \"#ed7953\"], [0.7777777777777778, \"#fb9f3a\"], [0.8888888888888888, \"#fdca26\"], [1.0, \"#f0f921\"]], \"type\": \"heatmapgl\"}], \"histogram\": [{\"marker\": {\"colorbar\": {\"outlinewidth\": 0, \"ticks\": \"\"}}, \"type\": \"histogram\"}], \"histogram2d\": [{\"colorbar\": {\"outlinewidth\": 0, \"ticks\": \"\"}, \"colorscale\": [[0.0, \"#0d0887\"], [0.1111111111111111, \"#46039f\"], [0.2222222222222222, \"#7201a8\"], [0.3333333333333333, \"#9c179e\"], [0.4444444444444444, \"#bd3786\"], [0.5555555555555556, \"#d8576b\"], [0.6666666666666666, \"#ed7953\"], [0.7777777777777778, \"#fb9f3a\"], [0.8888888888888888, \"#fdca26\"], [1.0, \"#f0f921\"]], \"type\": \"histogram2d\"}], \"histogram2dcontour\": [{\"colorbar\": {\"outlinewidth\": 0, \"ticks\": \"\"}, \"colorscale\": [[0.0, \"#0d0887\"], [0.1111111111111111, \"#46039f\"], [0.2222222222222222, \"#7201a8\"], [0.3333333333333333, \"#9c179e\"], [0.4444444444444444, \"#bd3786\"], [0.5555555555555556, \"#d8576b\"], [0.6666666666666666, \"#ed7953\"], [0.7777777777777778, \"#fb9f3a\"], [0.8888888888888888, \"#fdca26\"], [1.0, \"#f0f921\"]], \"type\": \"histogram2dcontour\"}], \"mesh3d\": [{\"colorbar\": {\"outlinewidth\": 0, \"ticks\": \"\"}, \"type\": \"mesh3d\"}], \"parcoords\": [{\"line\": {\"colorbar\": {\"outlinewidth\": 0, \"ticks\": \"\"}}, \"type\": \"parcoords\"}], \"pie\": [{\"automargin\": true, \"type\": \"pie\"}], \"scatter\": [{\"marker\": {\"colorbar\": {\"outlinewidth\": 0, \"ticks\": \"\"}}, \"type\": \"scatter\"}], \"scatter3d\": [{\"line\": {\"colorbar\": {\"outlinewidth\": 0, \"ticks\": \"\"}}, \"marker\": {\"colorbar\": {\"outlinewidth\": 0, \"ticks\": \"\"}}, \"type\": \"scatter3d\"}], \"scattercarpet\": [{\"marker\": {\"colorbar\": {\"outlinewidth\": 0, \"ticks\": \"\"}}, \"type\": \"scattercarpet\"}], \"scattergeo\": [{\"marker\": {\"colorbar\": {\"outlinewidth\": 0, \"ticks\": \"\"}}, \"type\": \"scattergeo\"}], \"scattergl\": [{\"marker\": {\"colorbar\": {\"outlinewidth\": 0, \"ticks\": \"\"}}, \"type\": \"scattergl\"}], \"scattermapbox\": [{\"marker\": {\"colorbar\": {\"outlinewidth\": 0, \"ticks\": \"\"}}, \"type\": \"scattermapbox\"}], \"scatterpolar\": [{\"marker\": {\"colorbar\": {\"outlinewidth\": 0, \"ticks\": \"\"}}, \"type\": \"scatterpolar\"}], \"scatterpolargl\": [{\"marker\": {\"colorbar\": {\"outlinewidth\": 0, \"ticks\": \"\"}}, \"type\": \"scatterpolargl\"}], \"scatterternary\": [{\"marker\": {\"colorbar\": {\"outlinewidth\": 0, \"ticks\": \"\"}}, \"type\": \"scatterternary\"}], \"surface\": [{\"colorbar\": {\"outlinewidth\": 0, \"ticks\": \"\"}, \"colorscale\": [[0.0, \"#0d0887\"], [0.1111111111111111, \"#46039f\"], [0.2222222222222222, \"#7201a8\"], [0.3333333333333333, \"#9c179e\"], [0.4444444444444444, \"#bd3786\"], [0.5555555555555556, \"#d8576b\"], [0.6666666666666666, \"#ed7953\"], [0.7777777777777778, \"#fb9f3a\"], [0.8888888888888888, \"#fdca26\"], [1.0, \"#f0f921\"]], \"type\": \"surface\"}], \"table\": [{\"cells\": {\"fill\": {\"color\": \"#EBF0F8\"}, \"line\": {\"color\": \"white\"}}, \"header\": {\"fill\": {\"color\": \"#C8D4E3\"}, \"line\": {\"color\": \"white\"}}, \"type\": \"table\"}]}, \"layout\": {\"annotationdefaults\": {\"arrowcolor\": \"#2a3f5f\", \"arrowhead\": 0, \"arrowwidth\": 1}, \"coloraxis\": {\"colorbar\": {\"outlinewidth\": 0, \"ticks\": \"\"}}, \"colorscale\": {\"diverging\": [[0, \"#8e0152\"], [0.1, \"#c51b7d\"], [0.2, \"#de77ae\"], [0.3, \"#f1b6da\"], [0.4, \"#fde0ef\"], [0.5, \"#f7f7f7\"], [0.6, \"#e6f5d0\"], [0.7, \"#b8e186\"], [0.8, \"#7fbc41\"], [0.9, \"#4d9221\"], [1, \"#276419\"]], \"sequential\": [[0.0, \"#0d0887\"], [0.1111111111111111, \"#46039f\"], [0.2222222222222222, \"#7201a8\"], [0.3333333333333333, \"#9c179e\"], [0.4444444444444444, \"#bd3786\"], [0.5555555555555556, \"#d8576b\"], [0.6666666666666666, \"#ed7953\"], [0.7777777777777778, \"#fb9f3a\"], [0.8888888888888888, \"#fdca26\"], [1.0, \"#f0f921\"]], \"sequentialminus\": [[0.0, \"#0d0887\"], [0.1111111111111111, \"#46039f\"], [0.2222222222222222, \"#7201a8\"], [0.3333333333333333, \"#9c179e\"], [0.4444444444444444, \"#bd3786\"], [0.5555555555555556, \"#d8576b\"], [0.6666666666666666, \"#ed7953\"], [0.7777777777777778, \"#fb9f3a\"], [0.8888888888888888, \"#fdca26\"], [1.0, \"#f0f921\"]]}, \"colorway\": [\"#636efa\", \"#EF553B\", \"#00cc96\", \"#ab63fa\", \"#FFA15A\", \"#19d3f3\", \"#FF6692\", \"#B6E880\", \"#FF97FF\", \"#FECB52\"], \"font\": {\"color\": \"#2a3f5f\"}, \"geo\": {\"bgcolor\": \"white\", \"lakecolor\": \"white\", \"landcolor\": \"#E5ECF6\", \"showlakes\": true, \"showland\": true, \"subunitcolor\": \"white\"}, \"hoverlabel\": {\"align\": \"left\"}, \"hovermode\": \"closest\", \"mapbox\": {\"style\": \"light\"}, \"paper_bgcolor\": \"white\", \"plot_bgcolor\": \"#E5ECF6\", \"polar\": {\"angularaxis\": {\"gridcolor\": \"white\", \"linecolor\": \"white\", \"ticks\": \"\"}, \"bgcolor\": \"#E5ECF6\", \"radialaxis\": {\"gridcolor\": \"white\", \"linecolor\": \"white\", \"ticks\": \"\"}}, \"scene\": {\"xaxis\": {\"backgroundcolor\": \"#E5ECF6\", \"gridcolor\": \"white\", \"gridwidth\": 2, \"linecolor\": \"white\", \"showbackground\": true, \"ticks\": \"\", \"zerolinecolor\": \"white\"}, \"yaxis\": {\"backgroundcolor\": \"#E5ECF6\", \"gridcolor\": \"white\", \"gridwidth\": 2, \"linecolor\": \"white\", \"showbackground\": true, \"ticks\": \"\", \"zerolinecolor\": \"white\"}, \"zaxis\": {\"backgroundcolor\": \"#E5ECF6\", \"gridcolor\": \"white\", \"gridwidth\": 2, \"linecolor\": \"white\", \"showbackground\": true, \"ticks\": \"\", \"zerolinecolor\": \"white\"}}, \"shapedefaults\": {\"line\": {\"color\": \"#2a3f5f\"}}, \"ternary\": {\"aaxis\": {\"gridcolor\": \"white\", \"linecolor\": \"white\", \"ticks\": \"\"}, \"baxis\": {\"gridcolor\": \"white\", \"linecolor\": \"white\", \"ticks\": \"\"}, \"bgcolor\": \"#E5ECF6\", \"caxis\": {\"gridcolor\": \"white\", \"linecolor\": \"white\", \"ticks\": \"\"}}, \"title\": {\"x\": 0.05}, \"xaxis\": {\"automargin\": true, \"gridcolor\": \"white\", \"linecolor\": \"white\", \"ticks\": \"\", \"title\": {\"standoff\": 15}, \"zerolinecolor\": \"white\", \"zerolinewidth\": 2}, \"yaxis\": {\"automargin\": true, \"gridcolor\": \"white\", \"linecolor\": \"white\", \"ticks\": \"\", \"title\": {\"standoff\": 15}, \"zerolinecolor\": \"white\", \"zerolinewidth\": 2}}}, \"xaxis\": {\"dtick\": 1, \"gridcolor\": \"rgb(0, 0, 0)\", \"side\": \"top\", \"ticks\": \"\"}, \"yaxis\": {\"dtick\": 1, \"ticks\": \"\", \"ticksuffix\": \"  \"}},\n",
       "                        {\"responsive\": true}\n",
       "                    ).then(function(){\n",
       "                            \n",
       "var gd = document.getElementById('846ea245-033e-4396-9dce-abab61862671');\n",
       "var x = new MutationObserver(function (mutations, observer) {{\n",
       "        var display = window.getComputedStyle(gd).display;\n",
       "        if (!display || display === 'none') {{\n",
       "            console.log([gd, 'removed!']);\n",
       "            Plotly.purge(gd);\n",
       "            observer.disconnect();\n",
       "        }}\n",
       "}});\n",
       "\n",
       "// Listen for the removal of the full notebook cells\n",
       "var notebookContainer = gd.closest('#notebook-container');\n",
       "if (notebookContainer) {{\n",
       "    x.observe(notebookContainer, {childList: true});\n",
       "}}\n",
       "\n",
       "// Listen for the clearing of the current output cell\n",
       "var outputEl = gd.closest('.output');\n",
       "if (outputEl) {{\n",
       "    x.observe(outputEl, {childList: true});\n",
       "}}\n",
       "\n",
       "                        })\n",
       "                };\n",
       "                });\n",
       "            </script>\n",
       "        </div>"
      ]
     },
     "metadata": {},
     "output_type": "display_data"
    }
   ],
   "source": [
    "corr= df[[\"review_appearance\",\"review_aroma\",\"review_palate\",\"review_taste\", \"review_overall\"]].corr()\n",
    "corr\n",
    "x=list(corr.index)\n",
    "y=list(corr.columns)\n",
    "\n",
    "fig = ff.create_annotated_heatmap(x=x,y=y,z=corr.values.round(2),colorscale=[[0, 'navy'], [1, 'plum']],font_colors = ['white', 'black'])\n",
    "\n",
    "fig.show()"
   ]
  },
  {
   "cell_type": "markdown",
   "metadata": {},
   "source": [
    "The heatmap above shows the correlation of review features.\n",
    "The lighter the color, the higher the correlation between the two features.\n",
    "\n",
    "We can get the information as follows:\n",
    "- review_taste has the highest correlation with review_overall, at 0.79, followed by review_palate, at 0.7. \n",
    "- the palate and taste of a beer show a high relevance at 0.73.\n",
    "- Although all of the four features show a strong correlation with the overall rating, due to the different correlation coefficients, different weights need to be given to a beer when calculating the overall rating."
   ]
  },
  {
   "cell_type": "markdown",
   "metadata": {},
   "source": [
    "### The time-series line chart of reviews\n",
    "\n",
    "In the above analysis, we ignored the column \"review_time\". Time-series data always contains a lot of information describing the trend. Here, I will make a line chart to see how the number of reviews changes over time."
   ]
  },
  {
   "cell_type": "code",
   "execution_count": 32,
   "metadata": {},
   "outputs": [
    {
     "data": {
      "application/vnd.plotly.v1+json": {
       "config": {
        "plotlyServerURL": "https://plot.ly"
       },
       "data": [
        {
         "type": "scatter",
         "x": [
          "1998-01-10",
          "1998-01-13",
          "1998-01-21",
          "1998-02-06",
          "1998-02-11",
          "1998-02-14",
          "1998-02-17",
          "1998-02-18",
          "1998-02-21",
          "1998-02-22",
          "1998-03-02",
          "1998-03-03",
          "1998-03-06",
          "1998-03-07",
          "1998-03-09",
          "1998-03-24",
          "1998-04-09",
          "1998-04-16",
          "1998-04-23",
          "1998-04-30",
          "1998-05-05",
          "1998-05-07",
          "1998-05-10",
          "1998-05-12",
          "1998-05-19",
          "1998-05-25",
          "1998-06-01",
          "1998-06-09",
          "1998-06-10",
          "1998-06-16",
          "1998-06-23",
          "1998-07-07",
          "1998-07-29",
          "1998-07-30",
          "1998-08-04",
          "1998-08-13",
          "1998-08-16",
          "1998-08-26",
          "1998-09-04",
          "1998-09-06",
          "1998-09-30",
          "1998-10-01",
          "1998-10-06",
          "1998-10-08",
          "1998-10-13",
          "1998-11-12",
          "1998-11-17",
          "1998-12-04",
          "1998-12-10",
          "1998-12-14",
          "1998-12-17",
          "1999-02-04",
          "1999-02-06",
          "1999-02-09",
          "1999-02-24",
          "1999-03-08",
          "1999-04-06",
          "1999-04-26",
          "1999-05-10",
          "1999-05-16",
          "1999-05-18",
          "1999-05-26",
          "1999-06-02",
          "1999-07-17",
          "1999-07-27",
          "1999-09-16",
          "1999-10-03",
          "1999-10-05",
          "1999-10-24",
          "1999-11-09",
          "1999-12-06",
          "2000-02-10",
          "2000-04-12",
          "2000-06-07",
          "2000-07-07",
          "2000-07-08",
          "2000-07-23",
          "2000-07-26",
          "2000-08-21",
          "2000-09-02",
          "2000-09-10",
          "2000-09-13",
          "2000-09-16",
          "2000-09-17",
          "2000-09-19",
          "2000-09-21",
          "2000-09-22",
          "2000-09-23",
          "2000-09-24",
          "2000-09-28",
          "2000-10-07",
          "2000-10-10",
          "2000-10-13",
          "2000-10-14",
          "2000-10-18",
          "2000-10-20",
          "2000-10-22",
          "2000-10-23",
          "2000-10-24",
          "2000-10-26",
          "2000-10-29",
          "2000-10-31",
          "2000-11-01",
          "2000-11-04",
          "2000-11-05",
          "2000-11-06",
          "2000-11-07",
          "2000-11-11",
          "2000-11-12",
          "2000-11-14",
          "2000-11-15",
          "2000-11-18",
          "2000-11-19",
          "2000-11-20",
          "2000-11-25",
          "2000-11-26",
          "2000-11-28",
          "2000-11-30",
          "2000-12-04",
          "2000-12-05",
          "2000-12-06",
          "2000-12-07",
          "2000-12-18",
          "2000-12-20",
          "2000-12-21",
          "2000-12-22",
          "2000-12-30",
          "2000-12-31",
          "2001-01-01",
          "2001-01-03",
          "2001-01-05",
          "2001-01-07",
          "2001-01-10",
          "2001-01-14",
          "2001-01-15",
          "2001-01-18",
          "2001-01-22",
          "2001-01-23",
          "2001-01-24",
          "2001-01-25",
          "2001-01-26",
          "2001-01-27",
          "2001-01-28",
          "2001-01-29",
          "2001-01-30",
          "2001-02-01",
          "2001-02-02",
          "2001-02-04",
          "2001-02-06",
          "2001-02-08",
          "2001-02-09",
          "2001-02-16",
          "2001-02-19",
          "2001-02-20",
          "2001-02-21",
          "2001-02-22",
          "2001-02-24",
          "2001-02-25",
          "2001-02-26",
          "2001-02-27",
          "2001-02-28",
          "2001-03-01",
          "2001-03-02",
          "2001-03-03",
          "2001-03-06",
          "2001-03-08",
          "2001-03-09",
          "2001-03-10",
          "2001-03-12",
          "2001-03-17",
          "2001-03-23",
          "2001-03-24",
          "2001-03-25",
          "2001-03-28",
          "2001-03-29",
          "2001-04-03",
          "2001-04-22",
          "2001-04-24",
          "2001-04-25",
          "2001-04-26",
          "2001-04-27",
          "2001-04-30",
          "2001-05-02",
          "2001-05-06",
          "2001-05-07",
          "2001-05-08",
          "2001-05-09",
          "2001-05-10",
          "2001-05-13",
          "2001-05-19",
          "2001-05-20",
          "2001-05-21",
          "2001-05-22",
          "2001-05-23",
          "2001-06-03",
          "2001-06-05",
          "2001-06-14",
          "2001-06-17",
          "2001-06-18",
          "2001-06-20",
          "2001-06-21",
          "2001-06-22",
          "2001-06-23",
          "2001-06-24",
          "2001-06-26",
          "2001-06-30",
          "2001-07-01",
          "2001-07-02",
          "2001-07-03",
          "2001-07-05",
          "2001-07-06",
          "2001-07-07",
          "2001-07-08",
          "2001-07-09",
          "2001-07-10",
          "2001-07-11",
          "2001-07-12",
          "2001-07-13",
          "2001-07-14",
          "2001-07-16",
          "2001-07-17",
          "2001-07-19",
          "2001-07-20",
          "2001-07-22",
          "2001-07-23",
          "2001-07-25",
          "2001-07-26",
          "2001-07-27",
          "2001-07-28",
          "2001-07-29",
          "2001-07-30",
          "2001-07-31",
          "2001-08-03",
          "2001-08-04",
          "2001-08-06",
          "2001-08-07",
          "2001-08-08",
          "2001-08-09",
          "2001-08-10",
          "2001-08-11",
          "2001-08-12",
          "2001-08-13",
          "2001-08-14",
          "2001-08-15",
          "2001-08-16",
          "2001-08-17",
          "2001-08-18",
          "2001-08-19",
          "2001-08-20",
          "2001-08-21",
          "2001-08-22",
          "2001-08-24",
          "2001-08-25",
          "2001-08-26",
          "2001-08-27",
          "2001-08-28",
          "2001-08-29",
          "2001-08-30",
          "2001-08-31",
          "2001-09-01",
          "2001-09-02",
          "2001-09-03",
          "2001-09-04",
          "2001-09-06",
          "2001-09-07",
          "2001-09-08",
          "2001-09-09",
          "2001-09-10",
          "2001-09-11",
          "2001-09-12",
          "2001-09-13",
          "2001-09-14",
          "2001-09-15",
          "2001-09-16",
          "2001-09-17",
          "2001-09-18",
          "2001-09-19",
          "2001-09-20",
          "2001-09-21",
          "2001-09-22",
          "2001-09-23",
          "2001-09-24",
          "2001-09-25",
          "2001-09-26",
          "2001-09-27",
          "2001-09-28",
          "2001-09-29",
          "2001-09-30",
          "2001-10-01",
          "2001-10-02",
          "2001-10-03",
          "2001-10-04",
          "2001-10-05",
          "2001-10-06",
          "2001-10-07",
          "2001-10-08",
          "2001-10-09",
          "2001-10-10",
          "2001-10-11",
          "2001-10-12",
          "2001-10-13",
          "2001-10-14",
          "2001-10-15",
          "2001-10-16",
          "2001-10-17",
          "2001-10-18",
          "2001-10-19",
          "2001-10-20",
          "2001-10-21",
          "2001-10-22",
          "2001-10-23",
          "2001-10-24",
          "2001-10-25",
          "2001-10-26",
          "2001-10-27",
          "2001-10-28",
          "2001-10-29",
          "2001-10-30",
          "2001-10-31",
          "2001-11-01",
          "2001-11-02",
          "2001-11-03",
          "2001-11-04",
          "2001-11-05",
          "2001-11-06",
          "2001-11-07",
          "2001-11-08",
          "2001-11-09",
          "2001-11-10",
          "2001-11-11",
          "2001-11-12",
          "2001-11-13",
          "2001-11-14",
          "2001-11-15",
          "2001-11-16",
          "2001-11-17",
          "2001-11-18",
          "2001-11-19",
          "2001-11-20",
          "2001-11-21",
          "2001-11-22",
          "2001-11-23",
          "2001-11-24",
          "2001-11-25",
          "2001-11-26",
          "2001-11-27",
          "2001-11-28",
          "2001-11-29",
          "2001-11-30",
          "2001-12-01",
          "2001-12-02",
          "2001-12-03",
          "2001-12-05",
          "2001-12-06",
          "2001-12-07",
          "2001-12-08",
          "2001-12-09",
          "2001-12-10",
          "2001-12-11",
          "2001-12-12",
          "2001-12-13",
          "2001-12-14",
          "2001-12-15",
          "2001-12-16",
          "2001-12-17",
          "2001-12-18",
          "2001-12-19",
          "2001-12-20",
          "2001-12-21",
          "2001-12-22",
          "2001-12-23",
          "2001-12-24",
          "2001-12-25",
          "2001-12-26",
          "2001-12-27",
          "2001-12-28",
          "2001-12-29",
          "2001-12-30",
          "2001-12-31",
          "2002-01-01",
          "2002-01-02",
          "2002-01-03",
          "2002-01-04",
          "2002-01-05",
          "2002-01-06",
          "2002-01-07",
          "2002-01-08",
          "2002-01-09",
          "2002-01-10",
          "2002-01-11",
          "2002-01-12",
          "2002-01-13",
          "2002-01-14",
          "2002-01-15",
          "2002-01-16",
          "2002-01-17",
          "2002-01-18",
          "2002-01-19",
          "2002-01-20",
          "2002-01-21",
          "2002-01-22",
          "2002-01-23",
          "2002-01-24",
          "2002-01-25",
          "2002-01-26",
          "2002-01-27",
          "2002-01-28",
          "2002-01-29",
          "2002-01-30",
          "2002-01-31",
          "2002-02-01",
          "2002-02-02",
          "2002-02-03",
          "2002-02-04",
          "2002-02-05",
          "2002-02-06",
          "2002-02-07",
          "2002-02-08",
          "2002-02-09",
          "2002-02-10",
          "2002-02-11",
          "2002-02-12",
          "2002-02-13",
          "2002-02-14",
          "2002-02-15",
          "2002-02-16",
          "2002-02-17",
          "2002-02-18",
          "2002-02-19",
          "2002-02-20",
          "2002-02-21",
          "2002-02-22",
          "2002-02-23",
          "2002-02-24",
          "2002-02-25",
          "2002-02-26",
          "2002-02-27",
          "2002-02-28",
          "2002-03-01",
          "2002-03-02",
          "2002-03-03",
          "2002-03-04",
          "2002-03-05",
          "2002-03-06",
          "2002-03-07",
          "2002-03-08",
          "2002-03-09",
          "2002-03-10",
          "2002-03-11",
          "2002-03-12",
          "2002-03-13",
          "2002-03-14",
          "2002-03-15",
          "2002-03-16",
          "2002-03-17",
          "2002-03-18",
          "2002-03-19",
          "2002-03-20",
          "2002-03-21",
          "2002-03-22",
          "2002-03-23",
          "2002-03-24",
          "2002-03-25",
          "2002-03-26",
          "2002-03-27",
          "2002-03-28",
          "2002-03-29",
          "2002-03-30",
          "2002-03-31",
          "2002-04-01",
          "2002-04-02",
          "2002-04-03",
          "2002-04-04",
          "2002-04-05",
          "2002-04-06",
          "2002-04-07",
          "2002-04-08",
          "2002-04-09",
          "2002-04-10",
          "2002-04-11",
          "2002-04-12",
          "2002-04-13",
          "2002-04-14",
          "2002-04-15",
          "2002-04-16",
          "2002-04-17",
          "2002-04-18",
          "2002-04-19",
          "2002-04-20",
          "2002-04-21",
          "2002-04-22",
          "2002-04-23",
          "2002-04-24",
          "2002-04-25",
          "2002-04-26",
          "2002-04-27",
          "2002-04-28",
          "2002-04-29",
          "2002-04-30",
          "2002-05-01",
          "2002-05-02",
          "2002-05-03",
          "2002-05-04",
          "2002-05-05",
          "2002-05-06",
          "2002-05-07",
          "2002-05-08",
          "2002-05-09",
          "2002-05-10",
          "2002-05-11",
          "2002-05-12",
          "2002-05-13",
          "2002-05-14",
          "2002-05-15",
          "2002-05-16",
          "2002-05-17",
          "2002-05-18",
          "2002-05-19",
          "2002-05-20",
          "2002-05-21",
          "2002-05-22",
          "2002-05-23",
          "2002-05-24",
          "2002-05-25",
          "2002-05-26",
          "2002-05-27",
          "2002-05-28",
          "2002-05-29",
          "2002-05-30",
          "2002-05-31",
          "2002-06-01",
          "2002-06-02",
          "2002-06-03",
          "2002-06-04",
          "2002-06-05",
          "2002-06-06",
          "2002-06-07",
          "2002-06-08",
          "2002-06-09",
          "2002-06-10",
          "2002-06-11",
          "2002-06-12",
          "2002-06-13",
          "2002-06-14",
          "2002-06-15",
          "2002-06-16",
          "2002-06-17",
          "2002-06-18",
          "2002-06-19",
          "2002-06-20",
          "2002-06-21",
          "2002-06-22",
          "2002-06-23",
          "2002-06-24",
          "2002-06-25",
          "2002-06-26",
          "2002-06-27",
          "2002-06-28",
          "2002-06-29",
          "2002-06-30",
          "2002-07-01",
          "2002-07-02",
          "2002-07-03",
          "2002-07-04",
          "2002-07-05",
          "2002-07-06",
          "2002-07-07",
          "2002-07-08",
          "2002-07-09",
          "2002-07-10",
          "2002-07-11",
          "2002-07-12",
          "2002-07-13",
          "2002-07-14",
          "2002-07-15",
          "2002-07-16",
          "2002-07-17",
          "2002-07-18",
          "2002-07-19",
          "2002-07-20",
          "2002-07-21",
          "2002-07-22",
          "2002-07-23",
          "2002-07-24",
          "2002-07-25",
          "2002-07-26",
          "2002-07-27",
          "2002-07-28",
          "2002-07-29",
          "2002-07-30",
          "2002-07-31",
          "2002-08-01",
          "2002-08-02",
          "2002-08-03",
          "2002-08-04",
          "2002-08-05",
          "2002-08-06",
          "2002-08-07",
          "2002-08-08",
          "2002-08-09",
          "2002-08-10",
          "2002-08-11",
          "2002-08-12",
          "2002-08-13",
          "2002-08-14",
          "2002-08-15",
          "2002-08-16",
          "2002-08-17",
          "2002-08-18",
          "2002-08-19",
          "2002-08-20",
          "2002-08-21",
          "2002-08-22",
          "2002-08-23",
          "2002-08-24",
          "2002-08-25",
          "2002-08-26",
          "2002-08-27",
          "2002-08-28",
          "2002-08-29",
          "2002-08-30",
          "2002-08-31",
          "2002-09-01",
          "2002-09-02",
          "2002-09-03",
          "2002-09-04",
          "2002-09-05",
          "2002-09-06",
          "2002-09-07",
          "2002-09-08",
          "2002-09-09",
          "2002-09-10",
          "2002-09-11",
          "2002-09-12",
          "2002-09-13",
          "2002-09-14",
          "2002-09-15",
          "2002-09-16",
          "2002-09-17",
          "2002-09-18",
          "2002-09-19",
          "2002-09-20",
          "2002-09-21",
          "2002-09-22",
          "2002-09-23",
          "2002-09-24",
          "2002-09-25",
          "2002-09-26",
          "2002-09-27",
          "2002-09-28",
          "2002-09-29",
          "2002-09-30",
          "2002-10-01",
          "2002-10-02",
          "2002-10-03",
          "2002-10-04",
          "2002-10-05",
          "2002-10-06",
          "2002-10-07",
          "2002-10-08",
          "2002-10-09",
          "2002-10-10",
          "2002-10-11",
          "2002-10-12",
          "2002-10-13",
          "2002-10-14",
          "2002-10-15",
          "2002-10-16",
          "2002-10-17",
          "2002-10-18",
          "2002-10-19",
          "2002-10-20",
          "2002-10-21",
          "2002-10-22",
          "2002-10-23",
          "2002-10-24",
          "2002-10-25",
          "2002-10-26",
          "2002-10-27",
          "2002-10-28",
          "2002-10-29",
          "2002-10-30",
          "2002-10-31",
          "2002-11-01",
          "2002-11-02",
          "2002-11-03",
          "2002-11-04",
          "2002-11-05",
          "2002-11-06",
          "2002-11-07",
          "2002-11-08",
          "2002-11-09",
          "2002-11-10",
          "2002-11-11",
          "2002-11-12",
          "2002-11-13",
          "2002-11-14",
          "2002-11-15",
          "2002-11-16",
          "2002-11-17",
          "2002-11-18",
          "2002-11-19",
          "2002-11-20",
          "2002-11-21",
          "2002-11-22",
          "2002-11-23",
          "2002-11-24",
          "2002-11-25",
          "2002-11-26",
          "2002-11-27",
          "2002-11-28",
          "2002-11-29",
          "2002-11-30",
          "2002-12-01",
          "2002-12-02",
          "2002-12-03",
          "2002-12-04",
          "2002-12-05",
          "2002-12-06",
          "2002-12-07",
          "2002-12-08",
          "2002-12-09",
          "2002-12-10",
          "2002-12-11",
          "2002-12-12",
          "2002-12-13",
          "2002-12-14",
          "2002-12-15",
          "2002-12-16",
          "2002-12-17",
          "2002-12-18",
          "2002-12-19",
          "2002-12-20",
          "2002-12-21",
          "2002-12-22",
          "2002-12-23",
          "2002-12-24",
          "2002-12-25",
          "2002-12-26",
          "2002-12-27",
          "2002-12-28",
          "2002-12-29",
          "2002-12-30",
          "2002-12-31",
          "2003-01-01",
          "2003-01-02",
          "2003-01-03",
          "2003-01-04",
          "2003-01-05",
          "2003-01-06",
          "2003-01-07",
          "2003-01-08",
          "2003-01-09",
          "2003-01-10",
          "2003-01-11",
          "2003-01-12",
          "2003-01-13",
          "2003-01-14",
          "2003-01-15",
          "2003-01-16",
          "2003-01-17",
          "2003-01-18",
          "2003-01-19",
          "2003-01-20",
          "2003-01-21",
          "2003-01-22",
          "2003-01-23",
          "2003-01-24",
          "2003-01-25",
          "2003-01-26",
          "2003-01-27",
          "2003-01-28",
          "2003-01-29",
          "2003-01-30",
          "2003-01-31",
          "2003-02-01",
          "2003-02-02",
          "2003-02-03",
          "2003-02-04",
          "2003-02-05",
          "2003-02-06",
          "2003-02-07",
          "2003-02-08",
          "2003-02-09",
          "2003-02-10",
          "2003-02-11",
          "2003-02-12",
          "2003-02-13",
          "2003-02-14",
          "2003-02-15",
          "2003-02-16",
          "2003-02-17",
          "2003-02-18",
          "2003-02-19",
          "2003-02-20",
          "2003-02-21",
          "2003-02-22",
          "2003-02-23",
          "2003-02-24",
          "2003-02-25",
          "2003-02-26",
          "2003-02-27",
          "2003-02-28",
          "2003-03-01",
          "2003-03-02",
          "2003-03-03",
          "2003-03-04",
          "2003-03-05",
          "2003-03-06",
          "2003-03-07",
          "2003-03-08",
          "2003-03-09",
          "2003-03-10",
          "2003-03-11",
          "2003-03-12",
          "2003-03-13",
          "2003-03-14",
          "2003-03-15",
          "2003-03-16",
          "2003-03-17",
          "2003-03-18",
          "2003-03-19",
          "2003-03-20",
          "2003-03-21",
          "2003-03-22",
          "2003-03-23",
          "2003-03-24",
          "2003-03-25",
          "2003-03-26",
          "2003-03-27",
          "2003-03-28",
          "2003-03-29",
          "2003-03-30",
          "2003-03-31",
          "2003-04-01",
          "2003-04-02",
          "2003-04-03",
          "2003-04-04",
          "2003-04-05",
          "2003-04-06",
          "2003-04-07",
          "2003-04-08",
          "2003-04-09",
          "2003-04-10",
          "2003-04-11",
          "2003-04-12",
          "2003-04-13",
          "2003-04-14",
          "2003-04-15",
          "2003-04-16",
          "2003-04-17",
          "2003-04-18",
          "2003-04-19",
          "2003-04-20",
          "2003-04-21",
          "2003-04-22",
          "2003-04-24",
          "2003-04-25",
          "2003-04-26",
          "2003-04-27",
          "2003-04-28",
          "2003-04-29",
          "2003-04-30",
          "2003-05-01",
          "2003-05-02",
          "2003-05-03",
          "2003-05-04",
          "2003-05-05",
          "2003-05-06",
          "2003-05-07",
          "2003-05-08",
          "2003-05-09",
          "2003-05-10",
          "2003-05-11",
          "2003-05-12",
          "2003-05-13",
          "2003-05-14",
          "2003-05-15",
          "2003-05-16",
          "2003-05-17",
          "2003-05-18",
          "2003-05-19",
          "2003-05-20",
          "2003-05-21",
          "2003-05-22",
          "2003-05-23",
          "2003-05-24",
          "2003-05-25",
          "2003-05-26",
          "2003-05-27",
          "2003-05-28",
          "2003-05-29",
          "2003-05-30",
          "2003-05-31",
          "2003-06-01",
          "2003-06-02",
          "2003-06-03",
          "2003-06-04",
          "2003-06-05",
          "2003-06-06",
          "2003-06-07",
          "2003-06-08",
          "2003-06-09",
          "2003-06-10",
          "2003-06-11",
          "2003-06-12",
          "2003-06-13",
          "2003-06-14",
          "2003-06-15",
          "2003-06-16",
          "2003-06-17",
          "2003-06-18",
          "2003-06-19",
          "2003-06-20",
          "2003-06-21",
          "2003-06-22",
          "2003-06-23",
          "2003-06-24",
          "2003-06-25",
          "2003-06-26",
          "2003-06-27",
          "2003-06-28",
          "2003-06-29",
          "2003-06-30",
          "2003-07-01",
          "2003-07-02",
          "2003-07-03",
          "2003-07-04",
          "2003-07-05",
          "2003-07-06",
          "2003-07-07",
          "2003-07-08",
          "2003-07-09",
          "2003-07-10",
          "2003-07-11",
          "2003-07-12",
          "2003-07-13",
          "2003-07-14",
          "2003-07-15",
          "2003-07-16",
          "2003-07-17",
          "2003-07-18",
          "2003-07-19",
          "2003-07-20",
          "2003-07-21",
          "2003-07-22",
          "2003-07-23",
          "2003-07-24",
          "2003-07-25",
          "2003-07-26",
          "2003-07-27",
          "2003-07-28",
          "2003-07-29",
          "2003-07-30",
          "2003-07-31",
          "2003-08-01",
          "2003-08-02",
          "2003-08-03",
          "2003-08-04",
          "2003-08-05",
          "2003-08-06",
          "2003-08-07",
          "2003-08-08",
          "2003-08-09",
          "2003-08-10",
          "2003-08-11",
          "2003-08-12",
          "2003-08-13",
          "2003-08-14",
          "2003-08-15",
          "2003-08-16",
          "2003-08-17",
          "2003-08-18",
          "2003-08-19",
          "2003-08-20",
          "2003-08-21",
          "2003-08-22",
          "2003-08-23",
          "2003-08-24",
          "2003-08-25",
          "2003-08-26",
          "2003-08-27",
          "2003-08-28",
          "2003-08-29",
          "2003-08-30",
          "2003-08-31",
          "2003-09-01",
          "2003-09-02",
          "2003-09-03",
          "2003-09-04",
          "2003-09-05",
          "2003-09-06",
          "2003-09-07",
          "2003-09-08",
          "2003-09-09",
          "2003-09-10",
          "2003-09-11",
          "2003-09-12",
          "2003-09-13",
          "2003-09-14",
          "2003-09-15",
          "2003-09-16",
          "2003-09-17",
          "2003-09-18",
          "2003-09-19",
          "2003-09-20",
          "2003-09-21",
          "2003-09-22",
          "2003-09-23",
          "2003-09-24",
          "2003-09-25",
          "2003-09-26",
          "2003-09-27",
          "2003-09-28",
          "2003-09-29",
          "2003-09-30",
          "2003-10-01",
          "2003-10-02",
          "2003-10-03",
          "2003-10-04",
          "2003-10-05",
          "2003-10-06",
          "2003-10-07",
          "2003-10-08",
          "2003-10-09",
          "2003-10-10",
          "2003-10-11",
          "2003-10-12",
          "2003-10-13",
          "2003-10-14",
          "2003-10-15",
          "2003-10-16",
          "2003-10-17",
          "2003-10-18",
          "2003-10-19",
          "2003-10-20",
          "2003-10-21",
          "2003-10-22",
          "2003-10-23",
          "2003-10-24",
          "2003-10-25",
          "2003-10-26",
          "2003-10-27",
          "2003-10-28",
          "2003-10-29",
          "2003-10-30",
          "2003-10-31",
          "2003-11-01",
          "2003-11-02",
          "2003-11-03",
          "2003-11-04",
          "2003-11-05",
          "2003-11-06",
          "2003-11-07",
          "2003-11-08",
          "2003-11-09",
          "2003-11-10",
          "2003-11-11",
          "2003-11-12",
          "2003-11-13",
          "2003-11-14",
          "2003-11-15",
          "2003-11-16",
          "2003-11-17",
          "2003-11-18",
          "2003-11-19",
          "2003-11-20",
          "2003-11-21",
          "2003-11-22",
          "2003-11-23",
          "2003-11-24",
          "2003-11-25",
          "2003-11-26",
          "2003-11-27",
          "2003-11-28",
          "2003-11-29",
          "2003-11-30",
          "2003-12-01",
          "2003-12-02",
          "2003-12-03",
          "2003-12-04",
          "2003-12-05",
          "2003-12-06",
          "2003-12-07",
          "2003-12-08",
          "2003-12-09",
          "2003-12-10",
          "2003-12-11",
          "2003-12-12",
          "2003-12-13",
          "2003-12-14",
          "2003-12-15",
          "2003-12-16",
          "2003-12-17",
          "2003-12-18",
          "2003-12-19",
          "2003-12-20",
          "2003-12-21",
          "2003-12-22",
          "2003-12-23",
          "2003-12-24",
          "2003-12-25",
          "2003-12-26",
          "2003-12-27",
          "2003-12-28",
          "2003-12-29",
          "2003-12-30",
          "2003-12-31",
          "2004-01-01",
          "2004-01-02",
          "2004-01-03",
          "2004-01-04",
          "2004-01-05",
          "2004-01-06",
          "2004-01-07",
          "2004-01-08",
          "2004-01-09",
          "2004-01-10",
          "2004-01-11",
          "2004-01-12",
          "2004-01-13",
          "2004-01-14",
          "2004-01-15",
          "2004-01-16",
          "2004-01-17",
          "2004-01-18",
          "2004-01-19",
          "2004-01-20",
          "2004-01-21",
          "2004-01-22",
          "2004-01-23",
          "2004-01-24",
          "2004-01-25",
          "2004-01-26",
          "2004-01-27",
          "2004-01-28",
          "2004-01-29",
          "2004-01-30",
          "2004-01-31",
          "2004-02-01",
          "2004-02-02",
          "2004-02-03",
          "2004-02-04",
          "2004-02-05",
          "2004-02-06",
          "2004-02-07",
          "2004-02-08",
          "2004-02-09",
          "2004-02-10",
          "2004-02-11",
          "2004-02-12",
          "2004-02-13",
          "2004-02-14",
          "2004-02-15",
          "2004-02-16",
          "2004-02-17",
          "2004-02-18",
          "2004-02-19",
          "2004-02-20",
          "2004-02-21",
          "2004-02-22",
          "2004-02-23",
          "2004-02-24",
          "2004-02-25",
          "2004-02-26",
          "2004-02-27",
          "2004-02-28",
          "2004-02-29",
          "2004-03-01",
          "2004-03-02",
          "2004-03-03",
          "2004-03-04",
          "2004-03-05",
          "2004-03-06",
          "2004-03-07",
          "2004-03-08",
          "2004-03-09",
          "2004-03-10",
          "2004-03-11",
          "2004-03-12",
          "2004-03-13",
          "2004-03-14",
          "2004-03-15",
          "2004-03-16",
          "2004-03-17",
          "2004-03-18",
          "2004-03-19",
          "2004-03-20",
          "2004-03-21",
          "2004-03-22",
          "2004-03-23",
          "2004-03-24",
          "2004-03-25",
          "2004-03-26",
          "2004-03-27",
          "2004-03-28",
          "2004-03-29",
          "2004-03-30",
          "2004-03-31",
          "2004-04-01",
          "2004-04-02",
          "2004-04-03",
          "2004-04-04",
          "2004-04-05",
          "2004-04-06",
          "2004-04-07",
          "2004-04-08",
          "2004-04-09",
          "2004-04-10",
          "2004-04-11",
          "2004-04-12",
          "2004-04-13",
          "2004-04-14",
          "2004-04-15",
          "2004-04-16",
          "2004-04-17",
          "2004-04-18",
          "2004-04-19",
          "2004-04-20",
          "2004-04-21",
          "2004-04-22",
          "2004-04-23",
          "2004-04-24",
          "2004-04-25",
          "2004-04-26",
          "2004-04-27",
          "2004-04-28",
          "2004-04-29",
          "2004-04-30",
          "2004-05-01",
          "2004-05-02",
          "2004-05-03",
          "2004-05-04",
          "2004-05-05",
          "2004-05-06",
          "2004-05-07",
          "2004-05-08",
          "2004-05-09",
          "2004-05-10",
          "2004-05-11",
          "2004-05-12",
          "2004-05-13",
          "2004-05-14",
          "2004-05-15",
          "2004-05-16",
          "2004-05-17",
          "2004-05-18",
          "2004-05-19",
          "2004-05-20",
          "2004-05-21",
          "2004-05-22",
          "2004-05-23",
          "2004-05-24",
          "2004-05-25",
          "2004-05-26",
          "2004-05-27",
          "2004-05-28",
          "2004-05-29",
          "2004-05-30",
          "2004-05-31",
          "2004-06-01",
          "2004-06-02",
          "2004-06-03",
          "2004-06-04",
          "2004-06-05",
          "2004-06-06",
          "2004-06-07",
          "2004-06-08",
          "2004-06-09",
          "2004-06-10",
          "2004-06-11",
          "2004-06-12",
          "2004-06-13",
          "2004-06-14",
          "2004-06-15",
          "2004-06-16",
          "2004-06-17",
          "2004-06-18",
          "2004-06-19",
          "2004-06-20",
          "2004-06-21",
          "2004-06-22",
          "2004-06-23",
          "2004-06-24",
          "2004-06-25",
          "2004-06-26",
          "2004-06-27",
          "2004-06-28",
          "2004-06-29",
          "2004-06-30",
          "2004-07-01",
          "2004-07-02",
          "2004-07-03",
          "2004-07-04",
          "2004-07-05",
          "2004-07-06",
          "2004-07-07",
          "2004-07-08",
          "2004-07-09",
          "2004-07-10",
          "2004-07-11",
          "2004-07-12",
          "2004-07-13",
          "2004-07-14",
          "2004-07-15",
          "2004-07-16",
          "2004-07-17",
          "2004-07-18",
          "2004-07-19",
          "2004-07-20",
          "2004-07-21",
          "2004-07-22",
          "2004-07-23",
          "2004-07-24",
          "2004-07-25",
          "2004-07-26",
          "2004-07-27",
          "2004-07-28",
          "2004-07-29",
          "2004-07-30",
          "2004-07-31",
          "2004-08-01",
          "2004-08-02",
          "2004-08-03",
          "2004-08-04",
          "2004-08-05",
          "2004-08-06",
          "2004-08-07",
          "2004-08-08",
          "2004-08-09",
          "2004-08-10",
          "2004-08-11",
          "2004-08-12",
          "2004-08-13",
          "2004-08-14",
          "2004-08-15",
          "2004-08-16",
          "2004-08-17",
          "2004-08-18",
          "2004-08-19",
          "2004-08-20",
          "2004-08-21",
          "2004-08-22",
          "2004-08-23",
          "2004-08-24",
          "2004-08-25",
          "2004-08-26",
          "2004-08-27",
          "2004-08-28",
          "2004-08-29",
          "2004-08-30",
          "2004-08-31",
          "2004-09-01",
          "2004-09-02",
          "2004-09-03",
          "2004-09-04",
          "2004-09-05",
          "2004-09-06",
          "2004-09-07",
          "2004-09-08",
          "2004-09-09",
          "2004-09-10",
          "2004-09-11",
          "2004-09-12",
          "2004-09-13",
          "2004-09-14",
          "2004-09-15",
          "2004-09-16",
          "2004-09-17",
          "2004-09-18",
          "2004-09-19",
          "2004-09-20",
          "2004-09-21",
          "2004-09-22",
          "2004-09-23",
          "2004-09-24",
          "2004-09-25",
          "2004-09-26",
          "2004-09-27",
          "2004-09-28",
          "2004-09-29",
          "2004-09-30",
          "2004-10-01",
          "2004-10-02",
          "2004-10-03",
          "2004-10-04",
          "2004-10-05",
          "2004-10-06",
          "2004-10-07",
          "2004-10-08",
          "2004-10-09",
          "2004-10-10",
          "2004-10-11",
          "2004-10-12",
          "2004-10-13",
          "2004-10-14",
          "2004-10-15",
          "2004-10-16",
          "2004-10-17",
          "2004-10-18",
          "2004-10-19",
          "2004-10-20",
          "2004-10-21",
          "2004-10-22",
          "2004-10-23",
          "2004-10-24",
          "2004-10-25",
          "2004-10-26",
          "2004-10-27",
          "2004-10-28",
          "2004-10-29",
          "2004-10-30",
          "2004-10-31",
          "2004-11-01",
          "2004-11-02",
          "2004-11-03",
          "2004-11-04",
          "2004-11-05",
          "2004-11-06",
          "2004-11-07",
          "2004-11-08",
          "2004-11-09",
          "2004-11-10",
          "2004-11-11",
          "2004-11-12",
          "2004-11-13",
          "2004-11-14",
          "2004-11-15",
          "2004-11-16",
          "2004-11-17",
          "2004-11-18",
          "2004-11-19",
          "2004-11-20",
          "2004-11-21",
          "2004-11-22",
          "2004-11-23",
          "2004-11-24",
          "2004-11-25",
          "2004-11-26",
          "2004-11-27",
          "2004-11-28",
          "2004-11-29",
          "2004-11-30",
          "2004-12-01",
          "2004-12-02",
          "2004-12-03",
          "2004-12-04",
          "2004-12-05",
          "2004-12-06",
          "2004-12-07",
          "2004-12-08",
          "2004-12-09",
          "2004-12-10",
          "2004-12-11",
          "2004-12-12",
          "2004-12-13",
          "2004-12-14",
          "2004-12-15",
          "2004-12-16",
          "2004-12-17",
          "2004-12-18",
          "2004-12-19",
          "2004-12-20",
          "2004-12-21",
          "2004-12-22",
          "2004-12-23",
          "2004-12-24",
          "2004-12-25",
          "2004-12-26",
          "2004-12-27",
          "2004-12-28",
          "2004-12-29",
          "2004-12-30",
          "2004-12-31",
          "2005-01-01",
          "2005-01-02",
          "2005-01-03",
          "2005-01-04",
          "2005-01-05",
          "2005-01-06",
          "2005-01-07",
          "2005-01-08",
          "2005-01-09",
          "2005-01-10",
          "2005-01-11",
          "2005-01-12",
          "2005-01-13",
          "2005-01-14",
          "2005-01-15",
          "2005-01-16",
          "2005-01-17",
          "2005-01-18",
          "2005-01-19",
          "2005-01-20",
          "2005-01-21",
          "2005-01-22",
          "2005-01-23",
          "2005-01-24",
          "2005-01-25",
          "2005-01-26",
          "2005-01-27",
          "2005-01-28",
          "2005-01-29",
          "2005-01-30",
          "2005-01-31",
          "2005-02-01",
          "2005-02-02",
          "2005-02-03",
          "2005-02-04",
          "2005-02-05",
          "2005-02-06",
          "2005-02-07",
          "2005-02-08",
          "2005-02-09",
          "2005-02-10",
          "2005-02-11",
          "2005-02-12",
          "2005-02-13",
          "2005-02-14",
          "2005-02-15",
          "2005-02-16",
          "2005-02-17",
          "2005-02-18",
          "2005-02-19",
          "2005-02-20",
          "2005-02-21",
          "2005-02-22",
          "2005-02-23",
          "2005-02-24",
          "2005-02-25",
          "2005-02-26",
          "2005-02-27",
          "2005-02-28",
          "2005-03-01",
          "2005-03-02",
          "2005-03-03",
          "2005-03-04",
          "2005-03-05",
          "2005-03-06",
          "2005-03-07",
          "2005-03-08",
          "2005-03-09",
          "2005-03-10",
          "2005-03-11",
          "2005-03-12",
          "2005-03-13",
          "2005-03-14",
          "2005-03-15",
          "2005-03-16",
          "2005-03-17",
          "2005-03-18",
          "2005-03-19",
          "2005-03-20",
          "2005-03-21",
          "2005-03-22",
          "2005-03-23",
          "2005-03-24",
          "2005-03-25",
          "2005-03-26",
          "2005-03-27",
          "2005-03-28",
          "2005-03-29",
          "2005-03-30",
          "2005-03-31",
          "2005-04-01",
          "2005-04-02",
          "2005-04-03",
          "2005-04-04",
          "2005-04-05",
          "2005-04-06",
          "2005-04-07",
          "2005-04-08",
          "2005-04-09",
          "2005-04-10",
          "2005-04-11",
          "2005-04-12",
          "2005-04-13",
          "2005-04-14",
          "2005-04-15",
          "2005-04-16",
          "2005-04-17",
          "2005-04-18",
          "2005-04-19",
          "2005-04-20",
          "2005-04-21",
          "2005-04-22",
          "2005-04-23",
          "2005-04-24",
          "2005-04-25",
          "2005-04-26",
          "2005-04-27",
          "2005-04-28",
          "2005-04-29",
          "2005-04-30",
          "2005-05-01",
          "2005-05-02",
          "2005-05-03",
          "2005-05-04",
          "2005-05-05",
          "2005-05-06",
          "2005-05-07",
          "2005-05-08",
          "2005-05-09",
          "2005-05-10",
          "2005-05-11",
          "2005-05-12",
          "2005-05-13",
          "2005-05-14",
          "2005-05-15",
          "2005-05-16",
          "2005-05-17",
          "2005-05-18",
          "2005-05-19",
          "2005-05-20",
          "2005-05-21",
          "2005-05-22",
          "2005-05-23",
          "2005-05-24",
          "2005-05-25",
          "2005-05-26",
          "2005-05-27",
          "2005-05-28",
          "2005-05-29",
          "2005-05-30",
          "2005-05-31",
          "2005-06-01",
          "2005-06-02",
          "2005-06-03",
          "2005-06-04",
          "2005-06-05",
          "2005-06-06",
          "2005-06-07",
          "2005-06-08",
          "2005-06-09",
          "2005-06-10",
          "2005-06-11",
          "2005-06-12",
          "2005-06-13",
          "2005-06-14",
          "2005-06-15",
          "2005-06-16",
          "2005-06-17",
          "2005-06-18",
          "2005-06-19",
          "2005-06-20",
          "2005-06-21",
          "2005-06-22",
          "2005-06-23",
          "2005-06-24",
          "2005-06-25",
          "2005-06-26",
          "2005-06-27",
          "2005-06-28",
          "2005-06-29",
          "2005-06-30",
          "2005-07-01",
          "2005-07-02",
          "2005-07-03",
          "2005-07-04",
          "2005-07-05",
          "2005-07-06",
          "2005-07-07",
          "2005-07-08",
          "2005-07-09",
          "2005-07-10",
          "2005-07-11",
          "2005-07-12",
          "2005-07-13",
          "2005-07-14",
          "2005-07-15",
          "2005-07-16",
          "2005-07-17",
          "2005-07-18",
          "2005-07-19",
          "2005-07-20",
          "2005-07-21",
          "2005-07-22",
          "2005-07-23",
          "2005-07-24",
          "2005-07-25",
          "2005-07-26",
          "2005-07-27",
          "2005-07-28",
          "2005-07-29",
          "2005-07-30",
          "2005-07-31",
          "2005-08-01",
          "2005-08-02",
          "2005-08-03",
          "2005-08-04",
          "2005-08-05",
          "2005-08-06",
          "2005-08-07",
          "2005-08-08",
          "2005-08-09",
          "2005-08-10",
          "2005-08-11",
          "2005-08-12",
          "2005-08-13",
          "2005-08-14",
          "2005-08-15",
          "2005-08-16",
          "2005-08-17",
          "2005-08-18",
          "2005-08-19",
          "2005-08-20",
          "2005-08-21",
          "2005-08-22",
          "2005-08-23",
          "2005-08-24",
          "2005-08-25",
          "2005-08-26",
          "2005-08-27",
          "2005-08-28",
          "2005-08-29",
          "2005-08-30",
          "2005-08-31",
          "2005-09-01",
          "2005-09-02",
          "2005-09-03",
          "2005-09-04",
          "2005-09-05",
          "2005-09-06",
          "2005-09-07",
          "2005-09-08",
          "2005-09-09",
          "2005-09-10",
          "2005-09-11",
          "2005-09-12",
          "2005-09-13",
          "2005-09-14",
          "2005-09-15",
          "2005-09-16",
          "2005-09-17",
          "2005-09-18",
          "2005-09-19",
          "2005-09-20",
          "2005-09-21",
          "2005-09-22",
          "2005-09-23",
          "2005-09-24",
          "2005-09-25",
          "2005-09-26",
          "2005-09-27",
          "2005-09-28",
          "2005-09-29",
          "2005-09-30",
          "2005-10-01",
          "2005-10-02",
          "2005-10-03",
          "2005-10-04",
          "2005-10-05",
          "2005-10-06",
          "2005-10-07",
          "2005-10-08",
          "2005-10-09",
          "2005-10-10",
          "2005-10-11",
          "2005-10-12",
          "2005-10-13",
          "2005-10-14",
          "2005-10-15",
          "2005-10-16",
          "2005-10-17",
          "2005-10-18",
          "2005-10-19",
          "2005-10-20",
          "2005-10-21",
          "2005-10-22",
          "2005-10-23",
          "2005-10-24",
          "2005-10-25",
          "2005-10-26",
          "2005-10-27",
          "2005-10-28",
          "2005-10-29",
          "2005-10-30",
          "2005-10-31",
          "2005-11-01",
          "2005-11-02",
          "2005-11-03",
          "2005-11-04",
          "2005-11-05",
          "2005-11-06",
          "2005-11-07",
          "2005-11-08",
          "2005-11-09",
          "2005-11-10",
          "2005-11-11",
          "2005-11-12",
          "2005-11-13",
          "2005-11-14",
          "2005-11-15",
          "2005-11-16",
          "2005-11-17",
          "2005-11-18",
          "2005-11-19",
          "2005-11-20",
          "2005-11-21",
          "2005-11-22",
          "2005-11-23",
          "2005-11-24",
          "2005-11-25",
          "2005-11-26",
          "2005-11-27",
          "2005-11-28",
          "2005-11-29",
          "2005-11-30",
          "2005-12-01",
          "2005-12-02",
          "2005-12-03",
          "2005-12-04",
          "2005-12-05",
          "2005-12-06",
          "2005-12-07",
          "2005-12-08",
          "2005-12-09",
          "2005-12-10",
          "2005-12-11",
          "2005-12-12",
          "2005-12-13",
          "2005-12-14",
          "2005-12-15",
          "2005-12-16",
          "2005-12-17",
          "2005-12-18",
          "2005-12-19",
          "2005-12-20",
          "2005-12-21",
          "2005-12-22",
          "2005-12-23",
          "2005-12-24",
          "2005-12-25",
          "2005-12-26",
          "2005-12-27",
          "2005-12-28",
          "2005-12-29",
          "2005-12-30",
          "2005-12-31",
          "2006-01-01",
          "2006-01-02",
          "2006-01-03",
          "2006-01-04",
          "2006-01-05",
          "2006-01-06",
          "2006-01-07",
          "2006-01-08",
          "2006-01-09",
          "2006-01-10",
          "2006-01-11",
          "2006-01-12",
          "2006-01-13",
          "2006-01-14",
          "2006-01-15",
          "2006-01-16",
          "2006-01-17",
          "2006-01-18",
          "2006-01-19",
          "2006-01-20",
          "2006-01-21",
          "2006-01-22",
          "2006-01-23",
          "2006-01-24",
          "2006-01-25",
          "2006-01-26",
          "2006-01-27",
          "2006-01-28",
          "2006-01-29",
          "2006-01-30",
          "2006-01-31",
          "2006-02-01",
          "2006-02-02",
          "2006-02-03",
          "2006-02-04",
          "2006-02-05",
          "2006-02-06",
          "2006-02-07",
          "2006-02-08",
          "2006-02-09",
          "2006-02-10",
          "2006-02-11",
          "2006-02-12",
          "2006-02-13",
          "2006-02-14",
          "2006-02-15",
          "2006-02-16",
          "2006-02-17",
          "2006-02-18",
          "2006-02-19",
          "2006-02-20",
          "2006-02-21",
          "2006-02-22",
          "2006-02-23",
          "2006-02-24",
          "2006-02-25",
          "2006-02-26",
          "2006-02-27",
          "2006-02-28",
          "2006-03-01",
          "2006-03-02",
          "2006-03-03",
          "2006-03-04",
          "2006-03-05",
          "2006-03-06",
          "2006-03-07",
          "2006-03-08",
          "2006-03-09",
          "2006-03-10",
          "2006-03-11",
          "2006-03-12",
          "2006-03-13",
          "2006-03-14",
          "2006-03-15",
          "2006-03-16",
          "2006-03-17",
          "2006-03-18",
          "2006-03-19",
          "2006-03-20",
          "2006-03-21",
          "2006-03-22",
          "2006-03-23",
          "2006-03-24",
          "2006-03-25",
          "2006-03-26",
          "2006-03-27",
          "2006-03-28",
          "2006-03-29",
          "2006-03-30",
          "2006-03-31",
          "2006-04-01",
          "2006-04-02",
          "2006-04-03",
          "2006-04-04",
          "2006-04-05",
          "2006-04-06",
          "2006-04-07",
          "2006-04-08",
          "2006-04-09",
          "2006-04-10",
          "2006-04-11",
          "2006-04-12",
          "2006-04-13",
          "2006-04-14",
          "2006-04-15",
          "2006-04-16",
          "2006-04-17",
          "2006-04-18",
          "2006-04-19",
          "2006-04-20",
          "2006-04-21",
          "2006-04-22",
          "2006-04-23",
          "2006-04-24",
          "2006-04-25",
          "2006-04-26",
          "2006-04-27",
          "2006-04-28",
          "2006-04-29",
          "2006-04-30",
          "2006-05-01",
          "2006-05-02",
          "2006-05-03",
          "2006-05-04",
          "2006-05-05",
          "2006-05-06",
          "2006-05-07",
          "2006-05-08",
          "2006-05-09",
          "2006-05-10",
          "2006-05-11",
          "2006-05-12",
          "2006-05-13",
          "2006-05-14",
          "2006-05-15",
          "2006-05-16",
          "2006-05-17",
          "2006-05-18",
          "2006-05-19",
          "2006-05-20",
          "2006-05-21",
          "2006-05-22",
          "2006-05-23",
          "2006-05-24",
          "2006-05-25",
          "2006-05-26",
          "2006-05-27",
          "2006-05-28",
          "2006-05-29",
          "2006-05-30",
          "2006-05-31",
          "2006-06-01",
          "2006-06-02",
          "2006-06-03",
          "2006-06-04",
          "2006-06-05",
          "2006-06-06",
          "2006-06-07",
          "2006-06-08",
          "2006-06-09",
          "2006-06-10",
          "2006-06-11",
          "2006-06-12",
          "2006-06-13",
          "2006-06-14",
          "2006-06-15",
          "2006-06-16",
          "2006-06-17",
          "2006-06-18",
          "2006-06-19",
          "2006-06-20",
          "2006-06-21",
          "2006-06-22",
          "2006-06-23",
          "2006-06-24",
          "2006-06-25",
          "2006-06-26",
          "2006-06-27",
          "2006-06-28",
          "2006-06-29",
          "2006-06-30",
          "2006-07-01",
          "2006-07-02",
          "2006-07-03",
          "2006-07-04",
          "2006-07-05",
          "2006-07-06",
          "2006-07-07",
          "2006-07-08",
          "2006-07-09",
          "2006-07-10",
          "2006-07-11",
          "2006-07-12",
          "2006-07-13",
          "2006-07-14",
          "2006-07-15",
          "2006-07-16",
          "2006-07-17",
          "2006-07-18",
          "2006-07-19",
          "2006-07-20",
          "2006-07-21",
          "2006-07-22",
          "2006-07-23",
          "2006-07-24",
          "2006-07-25",
          "2006-07-26",
          "2006-07-27",
          "2006-07-28",
          "2006-07-29",
          "2006-07-30",
          "2006-07-31",
          "2006-08-01",
          "2006-08-02",
          "2006-08-03",
          "2006-08-04",
          "2006-08-05",
          "2006-08-06",
          "2006-08-07",
          "2006-08-08",
          "2006-08-09",
          "2006-08-10",
          "2006-08-11",
          "2006-08-12",
          "2006-08-13",
          "2006-08-14",
          "2006-08-15",
          "2006-08-16",
          "2006-08-17",
          "2006-08-18",
          "2006-08-19",
          "2006-08-20",
          "2006-08-21",
          "2006-08-22",
          "2006-08-23",
          "2006-08-24",
          "2006-08-25",
          "2006-08-26",
          "2006-08-27",
          "2006-08-28",
          "2006-08-29",
          "2006-08-30",
          "2006-08-31",
          "2006-09-01",
          "2006-09-02",
          "2006-09-03",
          "2006-09-04",
          "2006-09-05",
          "2006-09-06",
          "2006-09-07",
          "2006-09-08",
          "2006-09-09",
          "2006-09-10",
          "2006-09-11",
          "2006-09-12",
          "2006-09-13",
          "2006-09-14",
          "2006-09-15",
          "2006-09-16",
          "2006-09-17",
          "2006-09-18",
          "2006-09-19",
          "2006-09-20",
          "2006-09-21",
          "2006-09-22",
          "2006-09-23",
          "2006-09-24",
          "2006-09-25",
          "2006-09-26",
          "2006-09-27",
          "2006-09-28",
          "2006-09-29",
          "2006-09-30",
          "2006-10-01",
          "2006-10-02",
          "2006-10-03",
          "2006-10-04",
          "2006-10-05",
          "2006-10-06",
          "2006-10-07",
          "2006-10-08",
          "2006-10-09",
          "2006-10-10",
          "2006-10-11",
          "2006-10-12",
          "2006-10-13",
          "2006-10-14",
          "2006-10-15",
          "2006-10-16",
          "2006-10-17",
          "2006-10-18",
          "2006-10-19",
          "2006-10-20",
          "2006-10-21",
          "2006-10-22",
          "2006-10-23",
          "2006-10-24",
          "2006-10-25",
          "2006-10-26",
          "2006-10-27",
          "2006-10-28",
          "2006-10-29",
          "2006-10-30",
          "2006-10-31",
          "2006-11-01",
          "2006-11-02",
          "2006-11-03",
          "2006-11-04",
          "2006-11-05",
          "2006-11-06",
          "2006-11-07",
          "2006-11-08",
          "2006-11-09",
          "2006-11-10",
          "2006-11-11",
          "2006-11-12",
          "2006-11-13",
          "2006-11-14",
          "2006-11-15",
          "2006-11-16",
          "2006-11-17",
          "2006-11-18",
          "2006-11-19",
          "2006-11-20",
          "2006-11-21",
          "2006-11-22",
          "2006-11-23",
          "2006-11-24",
          "2006-11-25",
          "2006-11-26",
          "2006-11-27",
          "2006-11-28",
          "2006-11-29",
          "2006-11-30",
          "2006-12-01",
          "2006-12-02",
          "2006-12-03",
          "2006-12-04",
          "2006-12-05",
          "2006-12-06",
          "2006-12-07",
          "2006-12-08",
          "2006-12-09",
          "2006-12-10",
          "2006-12-11",
          "2006-12-12",
          "2006-12-13",
          "2006-12-14",
          "2006-12-15",
          "2006-12-16",
          "2006-12-17",
          "2006-12-18",
          "2006-12-19",
          "2006-12-20",
          "2006-12-21",
          "2006-12-22",
          "2006-12-23",
          "2006-12-24",
          "2006-12-25",
          "2006-12-26",
          "2006-12-27",
          "2006-12-28",
          "2006-12-29",
          "2006-12-30",
          "2006-12-31",
          "2007-01-01",
          "2007-01-02",
          "2007-01-03",
          "2007-01-04",
          "2007-01-05",
          "2007-01-06",
          "2007-01-07",
          "2007-01-08",
          "2007-01-09",
          "2007-01-10",
          "2007-01-11",
          "2007-01-12",
          "2007-01-13",
          "2007-01-14",
          "2007-01-15",
          "2007-01-16",
          "2007-01-17",
          "2007-01-18",
          "2007-01-19",
          "2007-01-20",
          "2007-01-21",
          "2007-01-22",
          "2007-01-23",
          "2007-01-24",
          "2007-01-25",
          "2007-01-26",
          "2007-01-27",
          "2007-01-28",
          "2007-01-29",
          "2007-01-30",
          "2007-01-31",
          "2007-02-01",
          "2007-02-02",
          "2007-02-03",
          "2007-02-04",
          "2007-02-05",
          "2007-02-06",
          "2007-02-07",
          "2007-02-08",
          "2007-02-09",
          "2007-02-10",
          "2007-02-11",
          "2007-02-12",
          "2007-02-13",
          "2007-02-14",
          "2007-02-15",
          "2007-02-16",
          "2007-02-17",
          "2007-02-18",
          "2007-02-19",
          "2007-02-20",
          "2007-02-21",
          "2007-02-22",
          "2007-02-23",
          "2007-02-24",
          "2007-02-25",
          "2007-02-26",
          "2007-02-27",
          "2007-02-28",
          "2007-03-01",
          "2007-03-02",
          "2007-03-03",
          "2007-03-04",
          "2007-03-05",
          "2007-03-06",
          "2007-03-07",
          "2007-03-08",
          "2007-03-09",
          "2007-03-10",
          "2007-03-11",
          "2007-03-12",
          "2007-03-13",
          "2007-03-14",
          "2007-03-15",
          "2007-03-16",
          "2007-03-17",
          "2007-03-18",
          "2007-03-19",
          "2007-03-20",
          "2007-03-21",
          "2007-03-22",
          "2007-03-23",
          "2007-03-24",
          "2007-03-25",
          "2007-03-26",
          "2007-03-27",
          "2007-03-28",
          "2007-03-29",
          "2007-03-30",
          "2007-03-31",
          "2007-04-01",
          "2007-04-02",
          "2007-04-03",
          "2007-04-04",
          "2007-04-05",
          "2007-04-06",
          "2007-04-07",
          "2007-04-08",
          "2007-04-09",
          "2007-04-10",
          "2007-04-11",
          "2007-04-12",
          "2007-04-13",
          "2007-04-14",
          "2007-04-15",
          "2007-04-16",
          "2007-04-17",
          "2007-04-18",
          "2007-04-19",
          "2007-04-20",
          "2007-04-21",
          "2007-04-22",
          "2007-04-23",
          "2007-04-24",
          "2007-04-25",
          "2007-04-26",
          "2007-04-27",
          "2007-04-28",
          "2007-04-29",
          "2007-04-30",
          "2007-05-01",
          "2007-05-02",
          "2007-05-03",
          "2007-05-04",
          "2007-05-05",
          "2007-05-06",
          "2007-05-07",
          "2007-05-08",
          "2007-05-09",
          "2007-05-10",
          "2007-05-11",
          "2007-05-12",
          "2007-05-13",
          "2007-05-14",
          "2007-05-15",
          "2007-05-16",
          "2007-05-17",
          "2007-05-18",
          "2007-05-19",
          "2007-05-20",
          "2007-05-21",
          "2007-05-22",
          "2007-05-23",
          "2007-05-24",
          "2007-05-25",
          "2007-05-26",
          "2007-05-27",
          "2007-05-28",
          "2007-05-29",
          "2007-05-30",
          "2007-05-31",
          "2007-06-01",
          "2007-06-02",
          "2007-06-03",
          "2007-06-04",
          "2007-06-05",
          "2007-06-06",
          "2007-06-07",
          "2007-06-08",
          "2007-06-09",
          "2007-06-10",
          "2007-06-11",
          "2007-06-12",
          "2007-06-13",
          "2007-06-14",
          "2007-06-15",
          "2007-06-16",
          "2007-06-17",
          "2007-06-18",
          "2007-06-19",
          "2007-06-20",
          "2007-06-21",
          "2007-06-22",
          "2007-06-23",
          "2007-06-24",
          "2007-06-25",
          "2007-06-26",
          "2007-06-27",
          "2007-06-28",
          "2007-06-29",
          "2007-06-30",
          "2007-07-01",
          "2007-07-02",
          "2007-07-03",
          "2007-07-04",
          "2007-07-05",
          "2007-07-06",
          "2007-07-07",
          "2007-07-08",
          "2007-07-09",
          "2007-07-10",
          "2007-07-11",
          "2007-07-12",
          "2007-07-13",
          "2007-07-14",
          "2007-07-15",
          "2007-07-16",
          "2007-07-17",
          "2007-07-18",
          "2007-07-19",
          "2007-07-20",
          "2007-07-21",
          "2007-07-22",
          "2007-07-23",
          "2007-07-24",
          "2007-07-25",
          "2007-07-26",
          "2007-07-27",
          "2007-07-28",
          "2007-07-29",
          "2007-07-30",
          "2007-07-31",
          "2007-08-01",
          "2007-08-02",
          "2007-08-03",
          "2007-08-04",
          "2007-08-05",
          "2007-08-06",
          "2007-08-07",
          "2007-08-08",
          "2007-08-09",
          "2007-08-10",
          "2007-08-11",
          "2007-08-12",
          "2007-08-13",
          "2007-08-14",
          "2007-08-15",
          "2007-08-16",
          "2007-08-17",
          "2007-08-18",
          "2007-08-19",
          "2007-08-20",
          "2007-08-21",
          "2007-08-22",
          "2007-08-23",
          "2007-08-24",
          "2007-08-25",
          "2007-08-26",
          "2007-08-27",
          "2007-08-28",
          "2007-08-29",
          "2007-08-30",
          "2007-08-31",
          "2007-09-01",
          "2007-09-02",
          "2007-09-03",
          "2007-09-04",
          "2007-09-05",
          "2007-09-06",
          "2007-09-07",
          "2007-09-08",
          "2007-09-09",
          "2007-09-10",
          "2007-09-11",
          "2007-09-12",
          "2007-09-13",
          "2007-09-14",
          "2007-09-15",
          "2007-09-16",
          "2007-09-17",
          "2007-09-18",
          "2007-09-19",
          "2007-09-20",
          "2007-09-21",
          "2007-09-22",
          "2007-09-23",
          "2007-09-24",
          "2007-09-25",
          "2007-09-26",
          "2007-09-27",
          "2007-09-28",
          "2007-09-29",
          "2007-09-30",
          "2007-10-01",
          "2007-10-02",
          "2007-10-03",
          "2007-10-04",
          "2007-10-05",
          "2007-10-06",
          "2007-10-07",
          "2007-10-08",
          "2007-10-09",
          "2007-10-10",
          "2007-10-11",
          "2007-10-12",
          "2007-10-13",
          "2007-10-14",
          "2007-10-15",
          "2007-10-16",
          "2007-10-17",
          "2007-10-18",
          "2007-10-19",
          "2007-10-20",
          "2007-10-21",
          "2007-10-22",
          "2007-10-23",
          "2007-10-24",
          "2007-10-25",
          "2007-10-26",
          "2007-10-27",
          "2007-10-28",
          "2007-10-29",
          "2007-10-30",
          "2007-10-31",
          "2007-11-01",
          "2007-11-02",
          "2007-11-03",
          "2007-11-04",
          "2007-11-05",
          "2007-11-06",
          "2007-11-07",
          "2007-11-08",
          "2007-11-09",
          "2007-11-10",
          "2007-11-11",
          "2007-11-12",
          "2007-11-13",
          "2007-11-14",
          "2007-11-15",
          "2007-11-16",
          "2007-11-17",
          "2007-11-18",
          "2007-11-19",
          "2007-11-20",
          "2007-11-21",
          "2007-11-22",
          "2007-11-23",
          "2007-11-24",
          "2007-11-25",
          "2007-11-26",
          "2007-11-27",
          "2007-11-28",
          "2007-11-29",
          "2007-11-30",
          "2007-12-01",
          "2007-12-02",
          "2007-12-03",
          "2007-12-04",
          "2007-12-05",
          "2007-12-06",
          "2007-12-07",
          "2007-12-08",
          "2007-12-09",
          "2007-12-10",
          "2007-12-11",
          "2007-12-12",
          "2007-12-13",
          "2007-12-14",
          "2007-12-15",
          "2007-12-16",
          "2007-12-17",
          "2007-12-18",
          "2007-12-19",
          "2007-12-20",
          "2007-12-21",
          "2007-12-22",
          "2007-12-23",
          "2007-12-24",
          "2007-12-25",
          "2007-12-26",
          "2007-12-27",
          "2007-12-28",
          "2007-12-29",
          "2007-12-30",
          "2007-12-31",
          "2008-01-01",
          "2008-01-02",
          "2008-01-03",
          "2008-01-04",
          "2008-01-05",
          "2008-01-06",
          "2008-01-07",
          "2008-01-08",
          "2008-01-09",
          "2008-01-10",
          "2008-01-11",
          "2008-01-12",
          "2008-01-13",
          "2008-01-14",
          "2008-01-15",
          "2008-01-16",
          "2008-01-17",
          "2008-01-18",
          "2008-01-19",
          "2008-01-20",
          "2008-01-21",
          "2008-01-22",
          "2008-01-23",
          "2008-01-24",
          "2008-01-25",
          "2008-01-26",
          "2008-01-27",
          "2008-01-28",
          "2008-01-29",
          "2008-01-30",
          "2008-01-31",
          "2008-02-01",
          "2008-02-02",
          "2008-02-03",
          "2008-02-04",
          "2008-02-05",
          "2008-02-06",
          "2008-02-07",
          "2008-02-08",
          "2008-02-09",
          "2008-02-10",
          "2008-02-11",
          "2008-02-12",
          "2008-02-13",
          "2008-02-14",
          "2008-02-15",
          "2008-02-16",
          "2008-02-17",
          "2008-02-18",
          "2008-02-19",
          "2008-02-20",
          "2008-02-21",
          "2008-02-22",
          "2008-02-23",
          "2008-02-24",
          "2008-02-25",
          "2008-02-26",
          "2008-02-27",
          "2008-02-28",
          "2008-02-29",
          "2008-03-01",
          "2008-03-02",
          "2008-03-03",
          "2008-03-04",
          "2008-03-05",
          "2008-03-06",
          "2008-03-07",
          "2008-03-08",
          "2008-03-09",
          "2008-03-10",
          "2008-03-11",
          "2008-03-12",
          "2008-03-13",
          "2008-03-14",
          "2008-03-15",
          "2008-03-16",
          "2008-03-17",
          "2008-03-18",
          "2008-03-19",
          "2008-03-20",
          "2008-03-21",
          "2008-03-22",
          "2008-03-23",
          "2008-03-24",
          "2008-03-25",
          "2008-03-26",
          "2008-03-27",
          "2008-03-28",
          "2008-03-29",
          "2008-03-30",
          "2008-03-31",
          "2008-04-01",
          "2008-04-02",
          "2008-04-03",
          "2008-04-04",
          "2008-04-05",
          "2008-04-06",
          "2008-04-07",
          "2008-04-08",
          "2008-04-09",
          "2008-04-10",
          "2008-04-11",
          "2008-04-12",
          "2008-04-13",
          "2008-04-14",
          "2008-04-15",
          "2008-04-16",
          "2008-04-17",
          "2008-04-18",
          "2008-04-19",
          "2008-04-20",
          "2008-04-21",
          "2008-04-22",
          "2008-04-23",
          "2008-04-24",
          "2008-04-25",
          "2008-04-26",
          "2008-04-27",
          "2008-04-28",
          "2008-04-29",
          "2008-04-30",
          "2008-05-01",
          "2008-05-02",
          "2008-05-03",
          "2008-05-04",
          "2008-05-05",
          "2008-05-06",
          "2008-05-07",
          "2008-05-08",
          "2008-05-09",
          "2008-05-10",
          "2008-05-11",
          "2008-05-12",
          "2008-05-13",
          "2008-05-14",
          "2008-05-15",
          "2008-05-16",
          "2008-05-17",
          "2008-05-18",
          "2008-05-19",
          "2008-05-20",
          "2008-05-21",
          "2008-05-22",
          "2008-05-23",
          "2008-05-24",
          "2008-05-25",
          "2008-05-26",
          "2008-05-27",
          "2008-05-28",
          "2008-05-29",
          "2008-05-30",
          "2008-05-31",
          "2008-06-01",
          "2008-06-02",
          "2008-06-03",
          "2008-06-04",
          "2008-06-05",
          "2008-06-06",
          "2008-06-07",
          "2008-06-08",
          "2008-06-09",
          "2008-06-10",
          "2008-06-11",
          "2008-06-12",
          "2008-06-13",
          "2008-06-14",
          "2008-06-15",
          "2008-06-16",
          "2008-06-17",
          "2008-06-18",
          "2008-06-19",
          "2008-06-20",
          "2008-06-21",
          "2008-06-22",
          "2008-06-23",
          "2008-06-24",
          "2008-06-25",
          "2008-06-26",
          "2008-06-27",
          "2008-06-28",
          "2008-06-29",
          "2008-06-30",
          "2008-07-01",
          "2008-07-02",
          "2008-07-03",
          "2008-07-04",
          "2008-07-05",
          "2008-07-06",
          "2008-07-07",
          "2008-07-08",
          "2008-07-09",
          "2008-07-10",
          "2008-07-11",
          "2008-07-12",
          "2008-07-13",
          "2008-07-14",
          "2008-07-15",
          "2008-07-16",
          "2008-07-17",
          "2008-07-18",
          "2008-07-19",
          "2008-07-20",
          "2008-07-21",
          "2008-07-22",
          "2008-07-23",
          "2008-07-24",
          "2008-07-25",
          "2008-07-26",
          "2008-07-27",
          "2008-07-28",
          "2008-07-29",
          "2008-07-30",
          "2008-07-31",
          "2008-08-01",
          "2008-08-02",
          "2008-08-03",
          "2008-08-04",
          "2008-08-05",
          "2008-08-06",
          "2008-08-07",
          "2008-08-08",
          "2008-08-09",
          "2008-08-10",
          "2008-08-11",
          "2008-08-12",
          "2008-08-13",
          "2008-08-14",
          "2008-08-15",
          "2008-08-16",
          "2008-08-17",
          "2008-08-18",
          "2008-08-19",
          "2008-08-20",
          "2008-08-21",
          "2008-08-22",
          "2008-08-23",
          "2008-08-24",
          "2008-08-25",
          "2008-08-26",
          "2008-08-27",
          "2008-08-28",
          "2008-08-29",
          "2008-08-30",
          "2008-08-31",
          "2008-09-01",
          "2008-09-02",
          "2008-09-03",
          "2008-09-04",
          "2008-09-05",
          "2008-09-06",
          "2008-09-07",
          "2008-09-08",
          "2008-09-09",
          "2008-09-10",
          "2008-09-11",
          "2008-09-12",
          "2008-09-13",
          "2008-09-14",
          "2008-09-15",
          "2008-09-16",
          "2008-09-17",
          "2008-09-18",
          "2008-09-19",
          "2008-09-20",
          "2008-09-21",
          "2008-09-22",
          "2008-09-23",
          "2008-09-24",
          "2008-09-25",
          "2008-09-26",
          "2008-09-27",
          "2008-09-28",
          "2008-09-29",
          "2008-09-30",
          "2008-10-01",
          "2008-10-02",
          "2008-10-03",
          "2008-10-04",
          "2008-10-05",
          "2008-10-06",
          "2008-10-07",
          "2008-10-08",
          "2008-10-09",
          "2008-10-10",
          "2008-10-11",
          "2008-10-12",
          "2008-10-13",
          "2008-10-14",
          "2008-10-15",
          "2008-10-16",
          "2008-10-17",
          "2008-10-18",
          "2008-10-19",
          "2008-10-20",
          "2008-10-21",
          "2008-10-22",
          "2008-10-23",
          "2008-10-24",
          "2008-10-25",
          "2008-10-26",
          "2008-10-27",
          "2008-10-28",
          "2008-10-29",
          "2008-10-30",
          "2008-10-31",
          "2008-11-01",
          "2008-11-02",
          "2008-11-03",
          "2008-11-04",
          "2008-11-05",
          "2008-11-06",
          "2008-11-07",
          "2008-11-08",
          "2008-11-09",
          "2008-11-10",
          "2008-11-11",
          "2008-11-12",
          "2008-11-13",
          "2008-11-14",
          "2008-11-15",
          "2008-11-16",
          "2008-11-17",
          "2008-11-18",
          "2008-11-19",
          "2008-11-20",
          "2008-11-21",
          "2008-11-22",
          "2008-11-23",
          "2008-11-24",
          "2008-11-25",
          "2008-11-26",
          "2008-11-27",
          "2008-11-28",
          "2008-11-29",
          "2008-11-30",
          "2008-12-01",
          "2008-12-02",
          "2008-12-03",
          "2008-12-04",
          "2008-12-05",
          "2008-12-06",
          "2008-12-07",
          "2008-12-08",
          "2008-12-09",
          "2008-12-10",
          "2008-12-11",
          "2008-12-12",
          "2008-12-13",
          "2008-12-14",
          "2008-12-15",
          "2008-12-16",
          "2008-12-17",
          "2008-12-18",
          "2008-12-19",
          "2008-12-20",
          "2008-12-21",
          "2008-12-22",
          "2008-12-23",
          "2008-12-24",
          "2008-12-25",
          "2008-12-26",
          "2008-12-27",
          "2008-12-28",
          "2008-12-29",
          "2008-12-30",
          "2008-12-31",
          "2009-01-01",
          "2009-01-02",
          "2009-01-03",
          "2009-01-04",
          "2009-01-05",
          "2009-01-06",
          "2009-01-07",
          "2009-01-08",
          "2009-01-09",
          "2009-01-10",
          "2009-01-11",
          "2009-01-12",
          "2009-01-13",
          "2009-01-14",
          "2009-01-15",
          "2009-01-16",
          "2009-01-17",
          "2009-01-18",
          "2009-01-19",
          "2009-01-20",
          "2009-01-21",
          "2009-01-22",
          "2009-01-23",
          "2009-01-24",
          "2009-01-25",
          "2009-01-26",
          "2009-01-27",
          "2009-01-28",
          "2009-01-29",
          "2009-01-30",
          "2009-01-31",
          "2009-02-01",
          "2009-02-02",
          "2009-02-03",
          "2009-02-04",
          "2009-02-05",
          "2009-02-06",
          "2009-02-07",
          "2009-02-08",
          "2009-02-09",
          "2009-02-10",
          "2009-02-11",
          "2009-02-12",
          "2009-02-13",
          "2009-02-14",
          "2009-02-15",
          "2009-02-16",
          "2009-02-17",
          "2009-02-18",
          "2009-02-19",
          "2009-02-20",
          "2009-02-21",
          "2009-02-22",
          "2009-02-23",
          "2009-02-24",
          "2009-02-25",
          "2009-02-26",
          "2009-02-27",
          "2009-02-28",
          "2009-03-01",
          "2009-03-02",
          "2009-03-03",
          "2009-03-04",
          "2009-03-05",
          "2009-03-06",
          "2009-03-07",
          "2009-03-08",
          "2009-03-09",
          "2009-03-10",
          "2009-03-11",
          "2009-03-12",
          "2009-03-13",
          "2009-03-14",
          "2009-03-15",
          "2009-03-16",
          "2009-03-17",
          "2009-03-18",
          "2009-03-19",
          "2009-03-20",
          "2009-03-21",
          "2009-03-22",
          "2009-03-23",
          "2009-03-24",
          "2009-03-25",
          "2009-03-26",
          "2009-03-27",
          "2009-03-28",
          "2009-03-29",
          "2009-03-30",
          "2009-03-31",
          "2009-04-01",
          "2009-04-02",
          "2009-04-03",
          "2009-04-04",
          "2009-04-05",
          "2009-04-06",
          "2009-04-07",
          "2009-04-08",
          "2009-04-09",
          "2009-04-10",
          "2009-04-11",
          "2009-04-12",
          "2009-04-13",
          "2009-04-14",
          "2009-04-15",
          "2009-04-16",
          "2009-04-17",
          "2009-04-18",
          "2009-04-19",
          "2009-04-20",
          "2009-04-21",
          "2009-04-22",
          "2009-04-23",
          "2009-04-24",
          "2009-04-25",
          "2009-04-26",
          "2009-04-27",
          "2009-04-28",
          "2009-04-29",
          "2009-04-30",
          "2009-05-01",
          "2009-05-02",
          "2009-05-03",
          "2009-05-04",
          "2009-05-05",
          "2009-05-06",
          "2009-05-07",
          "2009-05-08",
          "2009-05-09",
          "2009-05-10",
          "2009-05-11",
          "2009-05-12",
          "2009-05-13",
          "2009-05-14",
          "2009-05-15",
          "2009-05-16",
          "2009-05-17",
          "2009-05-18",
          "2009-05-19",
          "2009-05-20",
          "2009-05-21",
          "2009-05-22",
          "2009-05-23",
          "2009-05-24",
          "2009-05-25",
          "2009-05-26",
          "2009-05-27",
          "2009-05-28",
          "2009-05-29",
          "2009-05-30",
          "2009-05-31",
          "2009-06-01",
          "2009-06-02",
          "2009-06-03",
          "2009-06-04",
          "2009-06-05",
          "2009-06-06",
          "2009-06-07",
          "2009-06-08",
          "2009-06-09",
          "2009-06-10",
          "2009-06-11",
          "2009-06-12",
          "2009-06-13",
          "2009-06-14",
          "2009-06-15",
          "2009-06-16",
          "2009-06-17",
          "2009-06-18",
          "2009-06-19",
          "2009-06-20",
          "2009-06-21",
          "2009-06-22",
          "2009-06-23",
          "2009-06-24",
          "2009-06-25",
          "2009-06-26",
          "2009-06-27",
          "2009-06-28",
          "2009-06-29",
          "2009-06-30",
          "2009-07-01",
          "2009-07-02",
          "2009-07-03",
          "2009-07-04",
          "2009-07-05",
          "2009-07-06",
          "2009-07-07",
          "2009-07-08",
          "2009-07-09",
          "2009-07-10",
          "2009-07-11",
          "2009-07-12",
          "2009-07-13",
          "2009-07-14",
          "2009-07-15",
          "2009-07-16",
          "2009-07-17",
          "2009-07-18",
          "2009-07-19",
          "2009-07-20",
          "2009-07-21",
          "2009-07-22",
          "2009-07-23",
          "2009-07-24",
          "2009-07-25",
          "2009-07-26",
          "2009-07-27",
          "2009-07-28",
          "2009-07-29",
          "2009-07-30",
          "2009-07-31",
          "2009-08-01",
          "2009-08-02",
          "2009-08-03",
          "2009-08-04",
          "2009-08-05",
          "2009-08-06",
          "2009-08-07",
          "2009-08-08",
          "2009-08-09",
          "2009-08-10",
          "2009-08-11",
          "2009-08-12",
          "2009-08-13",
          "2009-08-14",
          "2009-08-15",
          "2009-08-16",
          "2009-08-17",
          "2009-08-18",
          "2009-08-19",
          "2009-08-20",
          "2009-08-21",
          "2009-08-22",
          "2009-08-23",
          "2009-08-24",
          "2009-08-25",
          "2009-08-26",
          "2009-08-27",
          "2009-08-28",
          "2009-08-29",
          "2009-08-30",
          "2009-08-31",
          "2009-09-01",
          "2009-09-02",
          "2009-09-03",
          "2009-09-04",
          "2009-09-05",
          "2009-09-06",
          "2009-09-07",
          "2009-09-08",
          "2009-09-09",
          "2009-09-10",
          "2009-09-11",
          "2009-09-12",
          "2009-09-13",
          "2009-09-14",
          "2009-09-15",
          "2009-09-16",
          "2009-09-17",
          "2009-09-18",
          "2009-09-19",
          "2009-09-20",
          "2009-09-21",
          "2009-09-22",
          "2009-09-23",
          "2009-09-24",
          "2009-09-25",
          "2009-09-26",
          "2009-09-27",
          "2009-09-28",
          "2009-09-29",
          "2009-09-30",
          "2009-10-01",
          "2009-10-02",
          "2009-10-03",
          "2009-10-04",
          "2009-10-05",
          "2009-10-06",
          "2009-10-07",
          "2009-10-08",
          "2009-10-09",
          "2009-10-10",
          "2009-10-11",
          "2009-10-12",
          "2009-10-13",
          "2009-10-14",
          "2009-10-15",
          "2009-10-16",
          "2009-10-17",
          "2009-10-18",
          "2009-10-19",
          "2009-10-20",
          "2009-10-21",
          "2009-10-22",
          "2009-10-23",
          "2009-10-24",
          "2009-10-25",
          "2009-10-26",
          "2009-10-27",
          "2009-10-28",
          "2009-10-29",
          "2009-10-30",
          "2009-10-31",
          "2009-11-01",
          "2009-11-02",
          "2009-11-03",
          "2009-11-04",
          "2009-11-05",
          "2009-11-06",
          "2009-11-07",
          "2009-11-08",
          "2009-11-09",
          "2009-11-10",
          "2009-11-11",
          "2009-11-12",
          "2009-11-13",
          "2009-11-14",
          "2009-11-15",
          "2009-11-16",
          "2009-11-17",
          "2009-11-18",
          "2009-11-19",
          "2009-11-20",
          "2009-11-21",
          "2009-11-22",
          "2009-11-23",
          "2009-11-24",
          "2009-11-25",
          "2009-11-26",
          "2009-11-27",
          "2009-11-28",
          "2009-11-29",
          "2009-11-30",
          "2009-12-01",
          "2009-12-02",
          "2009-12-03",
          "2009-12-04",
          "2009-12-05",
          "2009-12-06",
          "2009-12-07",
          "2009-12-08",
          "2009-12-09",
          "2009-12-10",
          "2009-12-11",
          "2009-12-12",
          "2009-12-13",
          "2009-12-14",
          "2009-12-15",
          "2009-12-16",
          "2009-12-17",
          "2009-12-18",
          "2009-12-19",
          "2009-12-20",
          "2009-12-21",
          "2009-12-22",
          "2009-12-23",
          "2009-12-24",
          "2009-12-25",
          "2009-12-26",
          "2009-12-27",
          "2009-12-28",
          "2009-12-29",
          "2009-12-30",
          "2009-12-31",
          "2010-01-01",
          "2010-01-02",
          "2010-01-03",
          "2010-01-04",
          "2010-01-05",
          "2010-01-06",
          "2010-01-07",
          "2010-01-08",
          "2010-01-09",
          "2010-01-10",
          "2010-01-11",
          "2010-01-12",
          "2010-01-13",
          "2010-01-14",
          "2010-01-15",
          "2010-01-16",
          "2010-01-17",
          "2010-01-18",
          "2010-01-19",
          "2010-01-20",
          "2010-01-21",
          "2010-01-22",
          "2010-01-23",
          "2010-01-24",
          "2010-01-25",
          "2010-01-26",
          "2010-01-27",
          "2010-01-28",
          "2010-01-29",
          "2010-01-30",
          "2010-01-31",
          "2010-02-01",
          "2010-02-02",
          "2010-02-03",
          "2010-02-04",
          "2010-02-05",
          "2010-02-06",
          "2010-02-07",
          "2010-02-08",
          "2010-02-09",
          "2010-02-10",
          "2010-02-11",
          "2010-02-12",
          "2010-02-13",
          "2010-02-14",
          "2010-02-15",
          "2010-02-16",
          "2010-02-17",
          "2010-02-18",
          "2010-02-19",
          "2010-02-20",
          "2010-02-21",
          "2010-02-22",
          "2010-02-23",
          "2010-02-24",
          "2010-02-25",
          "2010-02-26",
          "2010-02-27",
          "2010-02-28",
          "2010-03-01",
          "2010-03-02",
          "2010-03-03",
          "2010-03-04",
          "2010-03-05",
          "2010-03-06",
          "2010-03-07",
          "2010-03-08",
          "2010-03-09",
          "2010-03-10",
          "2010-03-11",
          "2010-03-12",
          "2010-03-13",
          "2010-03-14",
          "2010-03-15",
          "2010-03-16",
          "2010-03-17",
          "2010-03-18",
          "2010-03-19",
          "2010-03-20",
          "2010-03-21",
          "2010-03-22",
          "2010-03-23",
          "2010-03-24",
          "2010-03-25",
          "2010-03-26",
          "2010-03-27",
          "2010-03-28",
          "2010-03-29",
          "2010-03-30",
          "2010-03-31",
          "2010-04-01",
          "2010-04-02",
          "2010-04-03",
          "2010-04-04",
          "2010-04-05",
          "2010-04-06",
          "2010-04-07",
          "2010-04-08",
          "2010-04-09",
          "2010-04-10",
          "2010-04-11",
          "2010-04-12",
          "2010-04-13",
          "2010-04-14",
          "2010-04-15",
          "2010-04-16",
          "2010-04-17",
          "2010-04-18",
          "2010-04-19",
          "2010-04-20",
          "2010-04-21",
          "2010-04-22",
          "2010-04-23",
          "2010-04-24",
          "2010-04-25",
          "2010-04-26",
          "2010-04-27",
          "2010-04-28",
          "2010-04-29",
          "2010-04-30",
          "2010-05-01",
          "2010-05-02",
          "2010-05-03",
          "2010-05-04",
          "2010-05-05",
          "2010-05-06",
          "2010-05-07",
          "2010-05-08",
          "2010-05-09",
          "2010-05-10",
          "2010-05-11",
          "2010-05-12",
          "2010-05-13",
          "2010-05-14",
          "2010-05-15",
          "2010-05-16",
          "2010-05-17",
          "2010-05-18",
          "2010-05-19",
          "2010-05-20",
          "2010-05-21",
          "2010-05-22",
          "2010-05-23",
          "2010-05-24",
          "2010-05-25",
          "2010-05-26",
          "2010-05-27",
          "2010-05-28",
          "2010-05-29",
          "2010-05-30",
          "2010-05-31",
          "2010-06-01",
          "2010-06-02",
          "2010-06-03",
          "2010-06-04",
          "2010-06-05",
          "2010-06-06",
          "2010-06-07",
          "2010-06-08",
          "2010-06-09",
          "2010-06-10",
          "2010-06-11",
          "2010-06-12",
          "2010-06-13",
          "2010-06-14",
          "2010-06-15",
          "2010-06-16",
          "2010-06-17",
          "2010-06-18",
          "2010-06-19",
          "2010-06-20",
          "2010-06-21",
          "2010-06-22",
          "2010-06-23",
          "2010-06-24",
          "2010-06-25",
          "2010-06-26",
          "2010-06-27",
          "2010-06-28",
          "2010-06-29",
          "2010-06-30",
          "2010-07-01",
          "2010-07-02",
          "2010-07-03",
          "2010-07-04",
          "2010-07-05",
          "2010-07-06",
          "2010-07-07",
          "2010-07-08",
          "2010-07-09",
          "2010-07-10",
          "2010-07-11",
          "2010-07-12",
          "2010-07-13",
          "2010-07-14",
          "2010-07-15",
          "2010-07-16",
          "2010-07-17",
          "2010-07-18",
          "2010-07-19",
          "2010-07-20",
          "2010-07-21",
          "2010-07-22",
          "2010-07-23",
          "2010-07-24",
          "2010-07-25",
          "2010-07-26",
          "2010-07-27",
          "2010-07-28",
          "2010-07-29",
          "2010-07-30",
          "2010-07-31",
          "2010-08-01",
          "2010-08-02",
          "2010-08-03",
          "2010-08-04",
          "2010-08-05",
          "2010-08-06",
          "2010-08-07",
          "2010-08-08",
          "2010-08-09",
          "2010-08-10",
          "2010-08-11",
          "2010-08-12",
          "2010-08-13",
          "2010-08-14",
          "2010-08-15",
          "2010-08-16",
          "2010-08-17",
          "2010-08-18",
          "2010-08-19",
          "2010-08-20",
          "2010-08-21",
          "2010-08-22",
          "2010-08-23",
          "2010-08-24",
          "2010-08-25",
          "2010-08-26",
          "2010-08-27",
          "2010-08-28",
          "2010-08-29",
          "2010-08-30",
          "2010-08-31",
          "2010-09-01",
          "2010-09-02",
          "2010-09-03",
          "2010-09-04",
          "2010-09-05",
          "2010-09-06",
          "2010-09-07",
          "2010-09-08",
          "2010-09-09",
          "2010-09-10",
          "2010-09-11",
          "2010-09-12",
          "2010-09-13",
          "2010-09-14",
          "2010-09-15",
          "2010-09-16",
          "2010-09-17",
          "2010-09-18",
          "2010-09-19",
          "2010-09-20",
          "2010-09-21",
          "2010-09-22",
          "2010-09-23",
          "2010-09-24",
          "2010-09-25",
          "2010-09-26",
          "2010-09-27",
          "2010-09-28",
          "2010-09-29",
          "2010-09-30",
          "2010-10-01",
          "2010-10-02",
          "2010-10-03",
          "2010-10-04",
          "2010-10-05",
          "2010-10-06",
          "2010-10-07",
          "2010-10-08",
          "2010-10-09",
          "2010-10-10",
          "2010-10-11",
          "2010-10-12",
          "2010-10-13",
          "2010-10-14",
          "2010-10-15",
          "2010-10-16",
          "2010-10-17",
          "2010-10-18",
          "2010-10-19",
          "2010-10-20",
          "2010-10-21",
          "2010-10-22",
          "2010-10-23",
          "2010-10-24",
          "2010-10-25",
          "2010-10-26",
          "2010-10-27",
          "2010-10-28",
          "2010-10-29",
          "2010-10-30",
          "2010-10-31",
          "2010-11-01",
          "2010-11-02",
          "2010-11-03",
          "2010-11-04",
          "2010-11-05",
          "2010-11-06",
          "2010-11-07",
          "2010-11-08",
          "2010-11-09",
          "2010-11-10",
          "2010-11-11",
          "2010-11-12",
          "2010-11-13",
          "2010-11-14",
          "2010-11-15",
          "2010-11-16",
          "2010-11-17",
          "2010-11-18",
          "2010-11-19",
          "2010-11-20",
          "2010-11-21",
          "2010-11-22",
          "2010-11-23",
          "2010-11-24",
          "2010-11-25",
          "2010-11-26",
          "2010-11-27",
          "2010-11-28",
          "2010-11-29",
          "2010-11-30",
          "2010-12-01",
          "2010-12-02",
          "2010-12-03",
          "2010-12-04",
          "2010-12-05",
          "2010-12-06",
          "2010-12-07",
          "2010-12-08",
          "2010-12-09",
          "2010-12-10",
          "2010-12-11",
          "2010-12-12",
          "2010-12-13",
          "2010-12-14",
          "2010-12-15",
          "2010-12-16",
          "2010-12-17",
          "2010-12-18",
          "2010-12-19",
          "2010-12-20",
          "2010-12-21",
          "2010-12-22",
          "2010-12-23",
          "2010-12-24",
          "2010-12-25",
          "2010-12-26",
          "2010-12-27",
          "2010-12-28",
          "2010-12-29",
          "2010-12-30",
          "2010-12-31",
          "2011-01-01",
          "2011-01-02",
          "2011-01-03",
          "2011-01-04",
          "2011-01-05",
          "2011-01-06",
          "2011-01-07",
          "2011-01-08",
          "2011-01-09",
          "2011-01-10",
          "2011-01-11",
          "2011-01-12",
          "2011-01-13",
          "2011-01-14",
          "2011-01-15",
          "2011-01-16",
          "2011-01-17",
          "2011-01-18",
          "2011-01-19",
          "2011-01-20",
          "2011-01-21",
          "2011-01-22",
          "2011-01-23",
          "2011-01-24",
          "2011-01-25",
          "2011-01-26",
          "2011-01-27",
          "2011-01-28",
          "2011-01-29",
          "2011-01-30",
          "2011-01-31",
          "2011-02-01",
          "2011-02-02",
          "2011-02-03",
          "2011-02-04",
          "2011-02-05",
          "2011-02-06",
          "2011-02-07",
          "2011-02-08",
          "2011-02-09",
          "2011-02-10",
          "2011-02-11",
          "2011-02-12",
          "2011-02-13",
          "2011-02-14",
          "2011-02-15",
          "2011-02-16",
          "2011-02-17",
          "2011-02-18",
          "2011-02-19",
          "2011-02-20",
          "2011-02-21",
          "2011-02-22",
          "2011-02-23",
          "2011-02-24",
          "2011-02-25",
          "2011-02-26",
          "2011-02-27",
          "2011-02-28",
          "2011-03-01",
          "2011-03-02",
          "2011-03-03",
          "2011-03-04",
          "2011-03-05",
          "2011-03-06",
          "2011-03-07",
          "2011-03-08",
          "2011-03-09",
          "2011-03-10",
          "2011-03-11",
          "2011-03-12",
          "2011-03-13",
          "2011-03-14",
          "2011-03-15",
          "2011-03-16",
          "2011-03-17",
          "2011-03-18",
          "2011-03-19",
          "2011-03-20",
          "2011-03-21",
          "2011-03-22",
          "2011-03-23",
          "2011-03-24",
          "2011-03-25",
          "2011-03-26",
          "2011-03-27",
          "2011-03-28",
          "2011-03-29",
          "2011-03-30",
          "2011-03-31",
          "2011-04-01",
          "2011-04-02",
          "2011-04-03",
          "2011-04-04",
          "2011-04-05",
          "2011-04-06",
          "2011-04-07",
          "2011-04-08",
          "2011-04-09",
          "2011-04-10",
          "2011-04-11",
          "2011-04-12",
          "2011-04-13",
          "2011-04-14",
          "2011-04-15",
          "2011-04-16",
          "2011-04-17",
          "2011-04-18",
          "2011-04-19",
          "2011-04-20",
          "2011-04-21",
          "2011-04-22",
          "2011-04-23",
          "2011-04-24",
          "2011-04-25",
          "2011-04-26",
          "2011-04-27",
          "2011-04-28",
          "2011-04-29",
          "2011-04-30",
          "2011-05-01",
          "2011-05-02",
          "2011-05-03",
          "2011-05-04",
          "2011-05-05",
          "2011-05-06",
          "2011-05-07",
          "2011-05-08",
          "2011-05-09",
          "2011-05-10",
          "2011-05-11",
          "2011-05-12",
          "2011-05-13",
          "2011-05-14",
          "2011-05-15",
          "2011-05-16",
          "2011-05-17",
          "2011-05-18",
          "2011-05-19",
          "2011-05-20",
          "2011-05-21",
          "2011-05-22",
          "2011-05-23",
          "2011-05-24",
          "2011-05-25",
          "2011-05-26",
          "2011-05-27",
          "2011-05-28",
          "2011-05-29",
          "2011-05-30",
          "2011-05-31",
          "2011-06-01",
          "2011-06-02",
          "2011-06-03",
          "2011-06-04",
          "2011-06-05",
          "2011-06-06",
          "2011-06-07",
          "2011-06-08",
          "2011-06-09",
          "2011-06-10",
          "2011-06-11",
          "2011-06-12",
          "2011-06-13",
          "2011-06-14",
          "2011-06-15",
          "2011-06-16",
          "2011-06-17",
          "2011-06-18",
          "2011-06-19",
          "2011-06-20",
          "2011-06-21",
          "2011-06-22",
          "2011-06-23",
          "2011-06-24",
          "2011-06-25",
          "2011-06-26",
          "2011-06-27",
          "2011-06-28",
          "2011-06-29",
          "2011-06-30",
          "2011-07-01",
          "2011-07-02",
          "2011-07-03",
          "2011-07-04",
          "2011-07-05",
          "2011-07-06",
          "2011-07-07",
          "2011-07-08",
          "2011-07-09",
          "2011-07-10",
          "2011-07-11",
          "2011-07-12",
          "2011-07-13",
          "2011-07-14",
          "2011-07-15",
          "2011-07-16",
          "2011-07-17",
          "2011-07-18",
          "2011-07-19",
          "2011-07-20",
          "2011-07-21",
          "2011-07-22",
          "2011-07-23",
          "2011-07-24",
          "2011-07-25",
          "2011-07-26",
          "2011-07-27",
          "2011-07-28",
          "2011-07-29",
          "2011-07-30",
          "2011-07-31",
          "2011-08-01",
          "2011-08-02",
          "2011-08-03",
          "2011-08-04",
          "2011-08-05",
          "2011-08-06",
          "2011-08-07",
          "2011-08-08",
          "2011-08-09",
          "2011-08-10",
          "2011-08-11",
          "2011-08-12",
          "2011-08-13",
          "2011-08-14",
          "2011-08-15",
          "2011-08-16",
          "2011-08-17",
          "2011-08-18",
          "2011-08-19",
          "2011-08-20",
          "2011-08-21",
          "2011-08-22",
          "2011-08-23",
          "2011-08-24",
          "2011-08-25",
          "2011-08-26",
          "2011-08-27",
          "2011-08-28",
          "2011-08-29",
          "2011-08-30",
          "2011-08-31",
          "2011-09-01",
          "2011-09-02",
          "2011-09-03",
          "2011-09-04",
          "2011-09-05",
          "2011-09-06",
          "2011-09-07",
          "2011-09-08",
          "2011-09-09",
          "2011-09-10",
          "2011-09-11",
          "2011-09-12",
          "2011-09-13",
          "2011-09-14",
          "2011-09-15",
          "2011-09-16",
          "2011-09-17",
          "2011-09-18",
          "2011-09-19",
          "2011-09-20",
          "2011-09-21",
          "2011-09-22",
          "2011-09-23",
          "2011-09-24",
          "2011-09-25",
          "2011-09-26",
          "2011-09-27",
          "2011-09-28",
          "2011-09-29",
          "2011-09-30",
          "2011-10-01",
          "2011-10-02",
          "2011-10-03",
          "2011-10-04",
          "2011-10-05",
          "2011-10-06",
          "2011-10-07",
          "2011-10-08",
          "2011-10-09",
          "2011-10-10",
          "2011-10-11",
          "2011-10-12",
          "2011-10-13",
          "2011-10-14",
          "2011-10-15",
          "2011-10-16",
          "2011-10-17",
          "2011-10-18",
          "2011-10-19",
          "2011-10-20",
          "2011-10-21",
          "2011-10-22",
          "2011-10-23",
          "2011-10-24",
          "2011-10-25",
          "2011-10-26",
          "2011-10-27",
          "2011-10-28",
          "2011-10-29",
          "2011-10-30",
          "2011-10-31",
          "2011-11-01",
          "2011-11-02",
          "2011-11-03",
          "2011-11-04",
          "2011-11-05",
          "2011-11-06",
          "2011-11-07",
          "2011-11-08",
          "2011-11-09",
          "2011-11-10",
          "2011-11-11",
          "2011-11-12",
          "2011-11-13",
          "2011-11-14",
          "2011-11-15",
          "2011-11-16",
          "2011-11-17",
          "2011-11-18",
          "2011-11-19",
          "2011-11-20",
          "2011-11-21",
          "2011-11-22",
          "2011-11-23",
          "2011-11-24",
          "2011-11-25",
          "2011-11-26",
          "2011-11-27",
          "2011-11-28",
          "2011-11-29",
          "2011-11-30",
          "2011-12-01",
          "2011-12-02",
          "2011-12-03",
          "2011-12-04",
          "2011-12-05",
          "2011-12-06",
          "2011-12-07",
          "2011-12-08",
          "2011-12-09",
          "2011-12-10",
          "2011-12-11",
          "2011-12-12",
          "2011-12-13",
          "2011-12-14",
          "2011-12-15",
          "2011-12-16",
          "2011-12-17",
          "2011-12-18",
          "2011-12-19",
          "2011-12-20",
          "2011-12-21",
          "2011-12-22",
          "2011-12-23",
          "2011-12-24",
          "2011-12-25",
          "2011-12-26",
          "2011-12-27",
          "2011-12-28",
          "2011-12-29",
          "2011-12-30",
          "2011-12-31",
          "2012-01-01",
          "2012-01-02",
          "2012-01-03",
          "2012-01-04",
          "2012-01-05",
          "2012-01-06",
          "2012-01-07",
          "2012-01-08",
          "2012-01-09",
          "2012-01-10",
          "2012-01-11"
         ],
         "y": [
          1,
          1,
          1,
          1,
          1,
          2,
          2,
          1,
          1,
          2,
          2,
          1,
          1,
          1,
          1,
          1,
          1,
          1,
          2,
          1,
          2,
          1,
          1,
          1,
          1,
          3,
          1,
          1,
          1,
          1,
          1,
          2,
          2,
          1,
          1,
          2,
          5,
          2,
          5,
          1,
          1,
          1,
          1,
          1,
          1,
          1,
          1,
          1,
          1,
          1,
          1,
          2,
          1,
          3,
          1,
          1,
          1,
          1,
          4,
          1,
          1,
          1,
          1,
          1,
          4,
          1,
          3,
          1,
          1,
          1,
          1,
          1,
          2,
          1,
          1,
          2,
          1,
          1,
          1,
          1,
          1,
          2,
          2,
          1,
          1,
          1,
          5,
          1,
          4,
          1,
          1,
          1,
          1,
          3,
          1,
          1,
          3,
          3,
          1,
          1,
          1,
          3,
          1,
          1,
          1,
          3,
          1,
          1,
          1,
          1,
          2,
          3,
          2,
          3,
          3,
          3,
          2,
          2,
          1,
          1,
          2,
          2,
          1,
          1,
          1,
          1,
          4,
          1,
          1,
          3,
          1,
          2,
          1,
          2,
          2,
          2,
          2,
          2,
          2,
          7,
          1,
          2,
          1,
          1,
          7,
          7,
          1,
          1,
          2,
          2,
          2,
          1,
          4,
          2,
          1,
          1,
          4,
          2,
          1,
          2,
          1,
          1,
          7,
          1,
          4,
          2,
          1,
          1,
          1,
          5,
          1,
          1,
          2,
          1,
          1,
          1,
          1,
          2,
          9,
          2,
          1,
          2,
          1,
          2,
          1,
          2,
          2,
          1,
          1,
          2,
          1,
          3,
          1,
          1,
          2,
          1,
          1,
          4,
          1,
          2,
          1,
          12,
          1,
          4,
          1,
          4,
          1,
          1,
          1,
          11,
          9,
          2,
          17,
          1,
          4,
          24,
          1,
          1,
          2,
          6,
          1,
          2,
          1,
          1,
          1,
          1,
          1,
          2,
          2,
          1,
          6,
          3,
          1,
          1,
          5,
          5,
          7,
          4,
          9,
          2,
          8,
          4,
          6,
          5,
          18,
          15,
          5,
          5,
          8,
          3,
          13,
          13,
          3,
          2,
          3,
          10,
          1,
          9,
          2,
          9,
          7,
          3,
          2,
          7,
          5,
          1,
          2,
          10,
          4,
          25,
          5,
          3,
          9,
          9,
          8,
          28,
          8,
          6,
          8,
          6,
          7,
          20,
          15,
          10,
          6,
          6,
          1,
          9,
          5,
          20,
          25,
          3,
          14,
          8,
          1,
          18,
          5,
          9,
          6,
          15,
          4,
          12,
          17,
          13,
          15,
          17,
          43,
          13,
          15,
          14,
          23,
          22,
          18,
          21,
          13,
          14,
          25,
          12,
          10,
          20,
          12,
          14,
          14,
          14,
          9,
          21,
          13,
          19,
          4,
          10,
          17,
          9,
          15,
          12,
          13,
          7,
          6,
          19,
          13,
          11,
          2,
          2,
          10,
          10,
          11,
          4,
          10,
          11,
          7,
          9,
          10,
          15,
          5,
          7,
          5,
          12,
          3,
          12,
          29,
          5,
          7,
          16,
          4,
          10,
          10,
          7,
          10,
          6,
          6,
          9,
          12,
          3,
          4,
          9,
          6,
          11,
          11,
          5,
          13,
          11,
          13,
          6,
          16,
          2,
          6,
          15,
          9,
          13,
          9,
          14,
          5,
          21,
          10,
          4,
          4,
          9,
          8,
          6,
          21,
          14,
          15,
          16,
          8,
          15,
          4,
          11,
          11,
          18,
          13,
          5,
          27,
          18,
          18,
          23,
          3,
          14,
          17,
          22,
          23,
          9,
          27,
          18,
          35,
          19,
          27,
          44,
          39,
          45,
          26,
          29,
          26,
          27,
          13,
          8,
          26,
          19,
          32,
          19,
          33,
          25,
          19,
          25,
          19,
          17,
          26,
          16,
          24,
          34,
          34,
          16,
          31,
          24,
          20,
          13,
          21,
          34,
          25,
          14,
          23,
          24,
          31,
          34,
          27,
          65,
          65,
          41,
          30,
          28,
          38,
          68,
          46,
          44,
          40,
          59,
          50,
          34,
          44,
          61,
          62,
          67,
          50,
          43,
          37,
          55,
          56,
          47,
          28,
          46,
          53,
          40,
          38,
          43,
          56,
          59,
          59,
          36,
          61,
          29,
          24,
          31,
          55,
          67,
          37,
          58,
          47,
          40,
          54,
          46,
          31,
          45,
          58,
          68,
          48,
          46,
          49,
          65,
          47,
          50,
          49,
          48,
          60,
          65,
          71,
          49,
          57,
          71,
          60,
          88,
          66,
          63,
          59,
          52,
          59,
          58,
          48,
          39,
          32,
          60,
          52,
          47,
          50,
          51,
          62,
          61,
          63,
          40,
          73,
          49,
          48,
          69,
          55,
          61,
          73,
          61,
          67,
          61,
          57,
          40,
          21,
          54,
          64,
          49,
          52,
          46,
          55,
          58,
          71,
          55,
          56,
          66,
          76,
          54,
          50,
          57,
          77,
          54,
          52,
          69,
          38,
          35,
          59,
          86,
          63,
          48,
          52,
          39,
          54,
          37,
          61,
          58,
          46,
          64,
          55,
          45,
          62,
          67,
          66,
          83,
          73,
          71,
          70,
          59,
          70,
          58,
          45,
          57,
          55,
          66,
          60,
          60,
          54,
          43,
          79,
          58,
          37,
          53,
          64,
          56,
          51,
          57,
          45,
          48,
          50,
          61,
          52,
          61,
          38,
          46,
          54,
          65,
          55,
          67,
          59,
          37,
          53,
          54,
          68,
          74,
          61,
          76,
          68,
          72,
          66,
          85,
          71,
          71,
          48,
          57,
          68,
          63,
          99,
          72,
          82,
          71,
          92,
          94,
          62,
          76,
          94,
          69,
          62,
          83,
          71,
          77,
          73,
          93,
          72,
          122,
          83,
          106,
          84,
          88,
          69,
          82,
          59,
          84,
          83,
          61,
          90,
          68,
          81,
          47,
          62,
          81,
          57,
          83,
          73,
          83,
          102,
          80,
          76,
          68,
          91,
          109,
          82,
          74,
          75,
          94,
          90,
          107,
          114,
          103,
          120,
          84,
          85,
          90,
          80,
          125,
          117,
          100,
          65,
          95,
          93,
          100,
          127,
          139,
          118,
          119,
          122,
          89,
          95,
          109,
          105,
          90,
          88,
          86,
          96,
          56,
          96,
          94,
          96,
          109,
          85,
          93,
          90,
          101,
          72,
          87,
          97,
          110,
          95,
          107,
          103,
          99,
          120,
          122,
          137,
          119,
          115,
          149,
          131,
          133,
          120,
          124,
          126,
          138,
          170,
          116,
          105,
          121,
          131,
          107,
          110,
          145,
          113,
          114,
          105,
          115,
          95,
          109,
          106,
          104,
          108,
          105,
          101,
          110,
          159,
          131,
          113,
          104,
          121,
          142,
          146,
          139,
          112,
          102,
          121,
          115,
          101,
          121,
          137,
          140,
          112,
          133,
          111,
          96,
          106,
          139,
          150,
          114,
          109,
          102,
          100,
          92,
          119,
          116,
          125,
          105,
          126,
          106,
          116,
          115,
          161,
          80,
          57,
          125,
          126,
          117,
          108,
          123,
          138,
          115,
          125,
          80,
          131,
          140,
          166,
          129,
          144,
          131,
          136,
          127,
          155,
          142,
          127,
          109,
          119,
          136,
          70,
          133,
          118,
          129,
          97,
          110,
          97,
          78,
          121,
          105,
          105,
          122,
          142,
          91,
          94,
          119,
          132,
          44,
          169,
          131,
          101,
          120,
          137,
          109,
          104,
          121,
          115,
          112,
          130,
          97,
          81,
          109,
          124,
          101,
          103,
          167,
          118,
          115,
          96,
          112,
          97,
          108,
          115,
          153,
          119,
          104,
          125,
          119,
          113,
          132,
          111,
          160,
          132,
          124,
          135,
          116,
          112,
          123,
          107,
          137,
          106,
          116,
          116,
          124,
          141,
          171,
          131,
          128,
          140,
          135,
          112,
          136,
          131,
          120,
          63,
          170,
          134,
          121,
          110,
          126,
          151,
          107,
          111,
          112,
          123,
          124,
          134,
          103,
          146,
          103,
          107,
          157,
          155,
          122,
          152,
          158,
          161,
          139,
          120,
          152,
          76,
          145,
          131,
          137,
          135,
          151,
          170,
          161,
          134,
          131,
          148,
          123,
          122,
          112,
          154,
          91,
          143,
          159,
          144,
          160,
          162,
          144,
          143,
          157,
          166,
          151,
          161,
          119,
          140,
          154,
          129,
          126,
          105,
          132,
          141,
          150,
          147,
          160,
          147,
          138,
          143,
          200,
          161,
          196,
          167,
          129,
          166,
          147,
          175,
          208,
          200,
          165,
          162,
          142,
          113,
          163,
          183,
          204,
          165,
          172,
          116,
          125,
          159,
          156,
          164,
          195,
          163,
          118,
          128,
          232,
          183,
          148,
          199,
          176,
          167,
          163,
          200,
          199,
          139,
          183,
          179,
          127,
          138,
          161,
          169,
          163,
          128,
          151,
          129,
          167,
          183,
          188,
          136,
          152,
          147,
          152,
          168,
          182,
          154,
          144,
          182,
          160,
          173,
          204,
          148,
          156,
          183,
          137,
          197,
          164,
          179,
          206,
          218,
          219,
          192,
          187,
          185,
          175,
          171,
          139,
          168,
          160,
          169,
          169,
          124,
          199,
          181,
          195,
          175,
          170,
          143,
          154,
          174,
          161,
          160,
          103,
          141,
          134,
          186,
          222,
          224,
          175,
          167,
          173,
          164,
          243,
          232,
          196,
          188,
          168,
          174,
          148,
          165,
          182,
          172,
          134,
          177,
          175,
          161,
          164,
          199,
          167,
          199,
          86,
          125,
          138,
          155,
          172,
          207,
          171,
          206,
          210,
          208,
          235,
          206,
          163,
          172,
          146,
          187,
          205,
          230,
          158,
          233,
          164,
          175,
          192,
          160,
          158,
          206,
          148,
          179,
          167,
          159,
          183,
          209,
          136,
          173,
          180,
          139,
          123,
          193,
          215,
          195,
          179,
          146,
          181,
          185,
          208,
          204,
          197,
          157,
          169,
          185,
          158,
          161,
          225,
          201,
          224,
          184,
          177,
          178,
          193,
          193,
          225,
          176,
          135,
          161,
          164,
          157,
          202,
          203,
          182,
          187,
          168,
          168,
          207,
          214,
          206,
          194,
          184,
          179,
          193,
          172,
          195,
          209,
          186,
          161,
          195,
          171,
          195,
          256,
          169,
          198,
          214,
          213,
          187,
          199,
          204,
          192,
          213,
          194,
          203,
          175,
          213,
          225,
          186,
          190,
          190,
          140,
          133,
          138,
          175,
          176,
          220,
          166,
          189,
          172,
          150,
          154,
          153,
          152,
          160,
          159,
          189,
          181,
          192,
          180,
          155,
          174,
          180,
          135,
          147,
          187,
          163,
          159,
          167,
          156,
          146,
          143,
          153,
          187,
          168,
          185,
          212,
          139,
          119,
          155,
          162,
          164,
          154,
          118,
          139,
          119,
          165,
          164,
          167,
          143,
          112,
          146,
          109,
          137,
          181,
          147,
          153,
          114,
          163,
          142,
          191,
          195,
          141,
          162,
          134,
          148,
          160,
          189,
          212,
          191,
          190,
          142,
          207,
          139,
          155,
          197,
          180,
          204,
          193,
          163,
          161,
          216,
          171,
          196,
          174,
          143,
          172,
          148,
          160,
          197,
          165,
          180,
          166,
          188,
          151,
          184,
          173,
          166,
          179,
          149,
          140,
          135,
          176,
          140,
          189,
          169,
          178,
          172,
          141,
          199,
          174,
          184,
          169,
          176,
          140,
          172,
          196,
          123,
          126,
          160,
          180,
          189,
          132,
          184,
          173,
          166,
          154,
          154,
          166,
          158,
          136,
          187,
          197,
          144,
          171,
          147,
          131,
          132,
          168,
          150,
          149,
          148,
          170,
          156,
          148,
          200,
          190,
          209,
          169,
          190,
          142,
          189,
          187,
          208,
          172,
          189,
          162,
          158,
          153,
          190,
          176,
          121,
          159,
          175,
          168,
          173,
          221,
          182,
          136,
          139,
          180,
          149,
          164,
          203,
          195,
          126,
          170,
          194,
          133,
          205,
          187,
          143,
          123,
          140,
          124,
          155,
          177,
          176,
          176,
          151,
          155,
          132,
          140,
          177,
          166,
          164,
          220,
          144,
          167,
          140,
          165,
          270,
          174,
          175,
          170,
          141,
          163,
          199,
          228,
          174,
          197,
          141,
          181,
          164,
          170,
          173,
          166,
          189,
          181,
          189,
          147,
          175,
          208,
          163,
          161,
          166,
          219,
          179,
          230,
          177,
          172,
          187,
          155,
          141,
          115,
          161,
          195,
          194,
          177,
          128,
          204,
          214,
          179,
          187,
          224,
          164,
          210,
          192,
          210,
          168,
          212,
          187,
          146,
          193,
          192,
          195,
          201,
          215,
          197,
          185,
          159,
          145,
          132,
          115,
          158,
          213,
          215,
          198,
          198,
          175,
          195,
          207,
          233,
          212,
          209,
          227,
          236,
          227,
          194,
          213,
          203,
          199,
          201,
          185,
          191,
          206,
          185,
          171,
          152,
          188,
          213,
          224,
          184,
          152,
          146,
          157,
          155,
          189,
          211,
          195,
          202,
          174,
          181,
          138,
          185,
          210,
          174,
          160,
          175,
          141,
          186,
          174,
          204,
          178,
          169,
          179,
          162,
          186,
          174,
          186,
          212,
          189,
          190,
          208,
          239,
          202,
          195,
          222,
          222,
          171,
          168,
          182,
          209,
          224,
          187,
          207,
          206,
          164,
          180,
          190,
          205,
          194,
          178,
          212,
          186,
          179,
          170,
          224,
          206,
          196,
          215,
          210,
          186,
          215,
          207,
          205,
          214,
          205,
          228,
          228,
          201,
          211,
          152,
          196,
          173,
          164,
          150,
          202,
          220,
          147,
          182,
          187,
          183,
          204,
          163,
          217,
          199,
          218,
          182,
          179,
          188,
          220,
          254,
          160,
          162,
          178,
          160,
          200,
          187,
          228,
          194,
          233,
          209,
          171,
          177,
          197,
          178,
          174,
          194,
          195,
          171,
          178,
          185,
          243,
          201,
          179,
          174,
          187,
          193,
          207,
          200,
          196,
          196,
          167,
          193,
          161,
          149,
          207,
          213,
          180,
          184,
          216,
          197,
          182,
          227,
          198,
          221,
          153,
          194,
          210,
          227,
          245,
          198,
          215,
          215,
          217,
          215,
          198,
          228,
          196,
          211,
          228,
          233,
          179,
          212,
          234,
          188,
          236,
          240,
          233,
          235,
          230,
          199,
          248,
          229,
          256,
          224,
          271,
          248,
          236,
          235,
          244,
          232,
          273,
          212,
          246,
          280,
          255,
          309,
          264,
          233,
          260,
          250,
          218,
          234,
          215,
          264,
          225,
          228,
          200,
          247,
          267,
          193,
          199,
          270,
          249,
          207,
          227,
          259,
          243,
          223,
          178,
          226,
          252,
          236,
          271,
          243,
          241,
          253,
          194,
          208,
          274,
          296,
          274,
          288,
          254,
          258,
          232,
          262,
          253,
          267,
          247,
          229,
          196,
          191,
          194,
          264,
          223,
          225,
          190,
          248,
          213,
          262,
          230,
          224,
          217,
          253,
          254,
          255,
          233,
          227,
          223,
          251,
          245,
          209,
          215,
          260,
          211,
          230,
          285,
          215,
          263,
          215,
          261,
          224,
          234,
          284,
          261,
          209,
          262,
          261,
          267,
          249,
          254,
          256,
          234,
          204,
          240,
          252,
          238,
          235,
          272,
          252,
          213,
          267,
          291,
          283,
          293,
          226,
          231,
          231,
          232,
          231,
          243,
          262,
          270,
          260,
          281,
          294,
          297,
          295,
          289,
          296,
          273,
          239,
          249,
          281,
          260,
          274,
          272,
          229,
          266,
          295,
          304,
          297,
          268,
          302,
          218,
          269,
          309,
          295,
          314,
          273,
          287,
          290,
          303,
          327,
          298,
          313,
          273,
          264,
          292,
          315,
          328,
          257,
          287,
          289,
          278,
          271,
          290,
          297,
          267,
          263,
          319,
          269,
          312,
          265,
          245,
          250,
          264,
          256,
          308,
          304,
          318,
          272,
          319,
          348,
          308,
          271,
          234,
          294,
          338,
          299,
          276,
          263,
          287,
          295,
          297,
          326,
          339,
          348,
          300,
          276,
          344,
          339,
          341,
          387,
          329,
          328,
          337,
          315,
          373,
          355,
          329,
          301,
          286,
          285,
          297,
          347,
          360,
          253,
          259,
          309,
          300,
          312,
          294,
          339,
          280,
          233,
          271,
          228,
          365,
          323,
          414,
          402,
          368,
          315,
          304,
          315,
          353,
          428,
          341,
          319,
          316,
          275,
          336,
          358,
          388,
          345,
          316,
          294,
          286,
          319,
          316,
          363,
          311,
          351,
          296,
          349,
          315,
          302,
          414,
          354,
          305,
          292,
          334,
          310,
          311,
          363,
          361,
          336,
          339,
          308,
          321,
          318,
          334,
          315,
          322,
          295,
          288,
          316,
          297,
          305,
          370,
          321,
          350,
          292,
          340,
          333,
          322,
          353,
          373,
          324,
          316,
          337,
          354,
          376,
          312,
          294,
          299,
          283,
          301,
          286,
          366,
          310,
          247,
          328,
          324,
          280,
          291,
          331,
          291,
          334,
          290,
          309,
          280,
          299,
          354,
          341,
          331,
          301,
          317,
          349,
          339,
          393,
          330,
          277,
          379,
          287,
          342,
          307,
          314,
          306,
          306,
          264,
          294,
          307,
          332,
          329,
          318,
          315,
          336,
          344,
          313,
          308,
          329,
          366,
          260,
          273,
          275,
          355,
          277,
          315,
          352,
          298,
          302,
          317,
          310,
          305,
          344,
          325,
          281,
          326,
          347,
          327,
          297,
          312,
          296,
          378,
          270,
          305,
          304,
          312,
          354,
          323,
          348,
          337,
          293,
          303,
          295,
          306,
          365,
          325,
          139,
          287,
          290,
          319,
          416,
          348,
          347,
          331,
          342,
          332,
          311,
          319,
          290,
          106,
          442,
          353,
          371,
          311,
          358,
          366,
          338,
          371,
          360,
          364,
          345,
          379,
          390,
          355,
          309,
          316,
          290,
          366,
          444,
          369,
          345,
          365,
          336,
          361,
          359,
          383,
          375,
          317,
          379,
          361,
          359,
          317,
          316,
          364,
          370,
          279,
          364,
          315,
          339,
          350,
          328,
          371,
          368,
          348,
          327,
          327,
          365,
          342,
          336,
          329,
          306,
          325,
          308,
          345,
          356,
          320,
          307,
          321,
          329,
          350,
          408,
          338,
          371,
          295,
          339,
          323,
          341,
          403,
          349,
          372,
          358,
          335,
          353,
          356,
          356,
          344,
          326,
          294,
          330,
          353,
          364,
          387,
          351,
          353,
          353,
          388,
          317,
          347,
          347,
          352,
          306,
          275,
          299,
          292,
          310,
          414,
          343,
          356,
          409,
          305,
          359,
          337,
          480,
          304,
          384,
          355,
          331,
          370,
          344,
          404,
          350,
          317,
          342,
          318,
          276,
          337,
          393,
          394,
          352,
          322,
          342,
          317,
          376,
          401,
          298,
          313,
          306,
          393,
          359,
          368,
          402,
          351,
          309,
          311,
          351,
          337,
          329,
          364,
          329,
          360,
          314,
          339,
          326,
          384,
          333,
          282,
          346,
          339,
          350,
          319,
          346,
          384,
          371,
          391,
          306,
          362,
          353,
          341,
          385,
          295,
          332,
          294,
          330,
          301,
          381,
          437,
          449,
          361,
          363,
          323,
          341,
          387,
          484,
          323,
          344,
          343,
          306,
          334,
          412,
          511,
          377,
          330,
          375,
          396,
          436,
          436,
          491,
          356,
          328,
          310,
          338,
          322,
          455,
          460,
          395,
          393,
          353,
          348,
          377,
          413,
          448,
          404,
          366,
          315,
          277,
          365,
          450,
          470,
          439,
          375,
          323,
          346,
          353,
          387,
          412,
          315,
          307,
          365,
          338,
          350,
          362,
          406,
          365,
          347,
          308,
          325,
          359,
          358,
          384,
          305,
          321,
          357,
          322,
          351,
          356,
          396,
          357,
          323,
          351,
          352,
          320,
          362,
          418,
          326,
          353,
          324,
          351,
          356,
          385,
          376,
          363,
          286,
          290,
          354,
          308,
          401,
          443,
          390,
          312,
          310,
          278,
          336,
          375,
          339,
          304,
          316,
          295,
          284,
          285,
          321,
          352,
          331,
          335,
          356,
          307,
          384,
          358,
          371,
          346,
          313,
          282,
          332,
          351,
          327,
          316,
          327,
          335,
          325,
          359,
          325,
          339,
          385,
          325,
          290,
          310,
          326,
          294,
          323,
          405,
          380,
          294,
          273,
          330,
          301,
          367,
          349,
          317,
          305,
          320,
          302,
          292,
          353,
          323,
          323,
          320,
          358,
          314,
          305,
          376,
          374,
          306,
          323,
          325,
          337,
          365,
          341,
          373,
          344,
          348,
          342,
          314,
          287,
          353,
          356,
          302,
          301,
          381,
          301,
          356,
          342,
          415,
          320,
          364,
          302,
          289,
          327,
          306,
          378,
          311,
          314,
          346,
          300,
          324,
          343,
          312,
          359,
          330,
          309,
          304,
          308,
          350,
          442,
          359,
          289,
          280,
          292,
          301,
          321,
          382,
          261,
          372,
          355,
          294,
          266,
          365,
          395,
          332,
          389,
          324,
          330,
          332,
          389,
          407,
          387,
          366,
          327,
          377,
          347,
          355,
          395,
          319,
          343,
          334,
          335,
          315,
          347,
          344,
          344,
          354,
          368,
          360,
          315,
          374,
          451,
          327,
          376,
          410,
          393,
          334,
          391,
          415,
          348,
          362,
          319,
          318,
          400,
          405,
          388,
          319,
          349,
          329,
          383,
          339,
          383,
          418,
          350,
          303,
          356,
          446,
          393,
          432,
          427,
          388,
          432,
          340,
          426,
          314,
          360,
          416,
          349,
          419,
          386,
          401,
          418,
          418,
          491,
          401,
          444,
          416,
          414,
          365,
          439,
          432,
          368,
          383,
          356,
          340,
          386,
          438,
          533,
          364,
          396,
          360,
          400,
          369,
          485,
          470,
          407,
          378,
          377,
          389,
          359,
          471,
          481,
          362,
          378,
          398,
          334,
          314,
          408,
          299,
          459,
          413,
          408,
          455,
          402,
          441,
          508,
          402,
          336,
          376,
          418,
          413,
          397,
          487,
          380,
          390,
          358,
          389,
          376,
          454,
          495,
          387,
          488,
          433,
          416,
          445,
          486,
          431,
          426,
          361,
          407,
          449,
          517,
          478,
          865,
          773,
          732,
          463,
          540,
          496,
          597,
          617,
          478,
          403,
          425,
          556,
          512,
          511,
          622,
          456,
          480,
          479,
          470,
          516,
          504,
          603,
          468,
          443,
          452,
          490,
          414,
          535,
          543,
          473,
          466,
          464,
          555,
          468,
          509,
          581,
          397,
          433,
          486,
          564,
          480,
          563,
          686,
          504,
          492,
          583,
          454,
          415,
          511,
          683,
          564,
          516,
          558,
          494,
          646,
          529,
          676,
          554,
          574,
          537,
          454,
          536,
          636,
          641,
          576,
          387,
          436,
          549,
          460,
          575,
          557,
          526,
          494,
          423,
          472,
          491,
          590,
          567,
          468,
          470,
          544,
          456,
          566,
          539,
          564,
          515,
          479,
          570,
          517,
          551,
          636,
          553,
          476,
          512,
          472,
          475,
          479,
          605,
          797,
          451,
          511,
          450,
          469,
          466,
          514,
          527,
          471,
          441,
          484,
          476,
          462,
          425,
          526,
          483,
          477,
          473,
          527,
          447,
          474,
          453,
          494,
          489,
          454,
          445,
          462,
          564,
          566,
          529,
          569,
          431,
          525,
          447,
          485,
          535,
          631,
          528,
          504,
          470,
          515,
          486,
          514,
          507,
          518,
          520,
          462,
          464,
          459,
          460,
          505,
          491,
          484,
          467,
          458,
          562,
          489,
          484,
          426,
          417,
          485,
          435,
          471,
          490,
          480,
          402,
          440,
          415,
          485,
          499,
          517,
          453,
          528,
          504,
          452,
          517,
          471,
          476,
          430,
          575,
          498,
          476,
          475,
          446,
          465,
          624,
          492,
          437,
          497,
          472,
          414,
          526,
          455,
          465,
          514,
          444,
          469,
          478,
          545,
          443,
          506,
          487,
          437,
          503,
          509,
          480,
          480,
          502,
          540,
          510,
          465,
          474,
          551,
          519,
          576,
          460,
          497,
          508,
          478,
          485,
          581,
          561,
          514,
          556,
          461,
          503,
          579,
          532,
          615,
          519,
          578,
          476,
          548,
          496,
          537,
          509,
          654,
          617,
          439,
          713,
          690,
          466,
          529,
          572,
          539,
          469,
          511,
          543,
          570,
          534,
          549,
          496,
          474,
          557,
          606,
          495,
          501,
          550,
          535,
          499,
          585,
          619,
          481,
          492,
          478,
          425,
          471,
          582,
          600,
          492,
          540,
          519,
          525,
          502,
          549,
          596,
          545,
          559,
          515,
          495,
          471,
          613,
          660,
          520,
          531,
          497,
          491,
          507,
          562,
          603,
          525,
          559,
          556,
          535,
          526,
          557,
          579,
          487,
          604,
          493,
          543,
          575,
          519,
          559,
          501,
          559,
          519,
          507,
          576,
          550,
          569,
          510,
          517,
          540,
          556,
          521,
          655,
          728,
          671,
          648,
          656,
          700,
          590,
          662,
          717,
          715,
          558,
          532,
          659,
          813,
          823,
          880,
          817,
          762,
          635,
          678,
          601,
          628,
          804,
          694,
          765,
          579,
          694,
          817,
          673,
          863,
          711,
          691,
          813,
          785,
          746,
          684,
          760,
          693,
          761,
          633,
          645,
          662,
          974,
          722,
          585,
          702,
          551,
          460,
          603,
          745,
          853,
          703,
          661,
          734,
          596,
          647,
          836,
          783,
          673,
          707,
          636,
          638,
          700,
          780,
          909,
          687,
          693,
          700,
          653,
          634,
          761,
          853,
          675,
          665,
          617,
          605,
          663,
          797,
          812,
          734,
          672,
          681,
          600,
          686,
          810,
          954,
          552,
          587,
          564,
          609,
          664,
          679,
          725,
          627,
          595,
          663,
          626,
          652,
          701,
          798,
          707,
          712,
          590,
          598,
          714,
          799,
          884,
          437,
          672,
          655,
          613,
          628,
          718,
          813,
          828,
          686,
          656,
          571,
          639,
          693,
          757,
          644,
          715,
          588,
          615,
          597,
          748,
          708,
          666,
          568,
          606,
          592,
          678,
          718,
          784,
          590,
          591,
          641,
          674,
          621,
          802,
          787,
          606,
          698,
          641,
          637,
          670,
          730,
          750,
          653,
          597,
          649,
          638,
          760,
          692,
          697,
          581,
          624,
          640,
          678,
          616,
          708,
          738,
          626,
          672,
          634,
          653,
          640,
          631,
          651,
          612,
          643,
          674,
          647,
          693,
          698,
          753,
          728,
          702,
          582,
          640,
          619,
          686,
          684,
          630,
          633,
          633,
          670,
          628,
          711,
          745,
          621,
          606,
          566,
          597,
          684,
          649,
          646,
          639,
          610,
          628,
          554,
          583,
          664,
          647,
          601,
          573,
          521,
          536,
          548,
          618,
          660,
          550,
          655,
          580,
          539,
          552,
          607,
          658,
          604,
          530,
          571,
          560,
          606,
          536,
          608,
          543,
          570,
          545,
          509,
          577,
          628,
          643,
          589,
          638,
          588,
          350,
          557,
          347,
          608,
          682,
          662,
          594,
          586,
          458,
          784,
          644,
          695,
          618,
          557,
          571,
          636,
          578,
          602,
          665,
          619,
          635,
          566,
          594,
          575,
          628,
          634,
          545,
          653,
          596,
          671,
          660,
          718,
          621,
          616,
          521,
          640,
          571,
          606,
          758,
          650,
          582,
          564,
          605,
          582,
          595,
          700,
          692,
          549,
          567,
          593,
          604,
          645,
          761,
          551,
          562,
          573,
          602,
          583,
          620,
          682,
          568,
          553,
          592,
          571,
          618,
          608,
          619,
          598,
          597,
          559,
          656,
          615,
          635,
          658,
          589,
          548,
          505,
          604,
          489,
          619,
          683,
          616,
          549,
          545,
          645,
          616,
          623,
          678,
          556,
          545,
          554,
          615,
          603,
          156,
          251,
          478,
          734,
          671,
          614,
          620,
          657,
          694,
          647,
          584,
          656,
          637,
          672,
          669,
          676,
          633,
          583,
          602,
          589,
          558,
          1,
          9,
          454,
          700,
          485,
          483,
          698,
          792,
          683,
          648,
          625,
          615,
          642,
          633,
          761,
          733,
          620,
          611,
          562,
          672,
          700,
          698,
          704,
          599,
          602,
          541,
          619,
          503,
          792,
          719,
          649,
          743,
          684,
          693,
          514,
          638,
          690,
          639,
          617,
          617,
          562,
          594,
          722,
          768,
          722,
          649,
          617,
          566,
          619,
          734,
          765,
          597,
          594,
          540,
          609,
          596,
          418,
          725,
          752,
          677,
          720,
          707,
          640,
          624,
          755,
          775,
          754,
          887,
          863,
          753,
          755,
          891,
          673,
          621,
          609,
          664,
          726,
          745,
          876,
          765,
          548,
          587,
          698,
          738,
          693,
          916,
          685,
          596,
          651,
          643,
          633,
          802,
          892,
          738,
          619,
          562,
          593,
          720,
          885,
          910,
          725,
          695,
          572,
          596,
          566,
          750,
          889,
          663,
          607,
          719,
          670,
          650,
          694,
          853,
          743,
          743,
          732,
          629,
          624,
          746,
          924,
          709,
          659,
          701,
          698,
          717,
          722,
          815,
          636,
          619,
          618,
          656,
          603,
          734,
          912,
          665,
          631,
          621,
          687,
          669,
          747,
          748,
          717,
          622,
          639,
          520,
          619,
          698,
          740,
          714,
          600,
          612,
          695,
          746,
          730,
          814,
          700,
          601,
          539,
          606,
          649,
          679,
          684,
          644,
          629,
          626,
          541,
          630,
          774,
          821,
          630,
          594,
          540,
          533,
          659,
          729,
          826,
          697,
          614,
          616,
          603,
          628,
          633,
          777,
          674,
          629,
          682,
          549,
          673,
          703,
          777,
          706,
          611,
          644,
          632,
          637,
          718,
          712,
          647,
          671,
          663,
          694,
          676,
          672,
          709,
          640,
          630,
          655,
          630,
          698,
          717,
          842,
          682,
          615,
          603,
          625,
          685,
          658,
          676,
          794,
          654,
          553,
          576,
          613,
          768,
          739,
          690,
          657,
          660,
          566,
          681,
          627,
          734,
          696,
          608,
          582,
          651,
          569,
          593,
          660,
          574,
          592,
          687,
          594,
          650,
          727,
          716,
          663,
          584,
          573,
          616,
          672,
          726,
          744,
          632,
          603,
          687,
          654,
          630,
          766,
          758,
          644,
          642,
          642,
          594,
          661,
          706,
          649,
          657,
          729,
          643,
          651,
          771,
          746,
          730,
          745,
          671,
          706,
          600,
          719,
          708,
          789,
          661,
          756,
          655,
          661,
          642,
          751,
          691,
          753,
          749,
          772,
          740,
          719,
          695,
          769,
          712,
          765,
          705,
          697,
          961,
          817,
          803,
          825,
          691,
          745,
          747,
          697,
          805,
          820,
          780,
          689,
          636,
          670,
          692,
          838,
          735,
          810,
          800,
          686,
          734,
          717,
          670,
          841,
          735,
          678,
          700,
          643,
          689,
          754,
          822,
          816,
          676,
          716,
          668,
          793,
          834,
          836,
          799,
          709,
          744,
          658,
          734,
          784,
          833,
          721,
          806,
          809,
          708,
          802,
          777,
          865,
          830,
          783,
          679,
          725,
          830,
          844,
          898,
          705,
          762,
          691,
          732,
          769,
          759,
          966,
          897,
          728,
          707,
          711,
          704,
          733,
          975,
          712,
          717,
          780,
          798,
          741,
          852,
          889,
          784,
          699,
          734,
          742,
          853,
          946,
          1112,
          825,
          805,
          799,
          725,
          791,
          887,
          844,
          811,
          705,
          881,
          790,
          649,
          838,
          865,
          801,
          706,
          758,
          766,
          782,
          937,
          1000,
          843,
          801,
          856,
          798,
          856,
          941,
          1018,
          785,
          838,
          786,
          820,
          817,
          870,
          999,
          878,
          886,
          877,
          1138,
          998,
          802,
          801,
          873,
          934,
          1088,
          1002,
          1031,
          907,
          984,
          990,
          984,
          892,
          822,
          897,
          1019,
          1098,
          912,
          1065,
          907,
          895,
          947,
          984,
          1084,
          915,
          807,
          766,
          840,
          937,
          1023,
          1035,
          852,
          775,
          851,
          907,
          888,
          967,
          962,
          971,
          865,
          961,
          860,
          1054,
          1042,
          1116,
          815,
          783,
          916,
          791,
          953,
          960,
          1233,
          1004,
          789,
          775,
          861,
          967,
          1104,
          1096,
          1060,
          904,
          948,
          933,
          1080,
          1180,
          1076,
          944,
          912,
          901,
          926,
          886,
          929,
          997,
          964,
          846,
          994,
          931,
          891,
          1038,
          1026,
          900,
          783,
          780,
          822,
          826,
          958,
          1124,
          925,
          880,
          807,
          883,
          878,
          940,
          978,
          878,
          776,
          801,
          723,
          950,
          991,
          974,
          802,
          847,
          767,
          823,
          842,
          955,
          868,
          824,
          688,
          823,
          775,
          930,
          968,
          1012,
          764,
          806,
          854,
          731,
          825,
          900,
          872,
          821,
          763,
          839,
          849,
          884,
          821,
          823,
          782,
          818,
          914,
          926,
          887,
          958,
          998,
          862,
          814,
          856,
          887,
          851,
          987,
          961,
          966,
          805,
          882,
          863,
          950,
          1059,
          880,
          922,
          808,
          790,
          824,
          971,
          935,
          837,
          937,
          836,
          864,
          814,
          805,
          946,
          878,
          912,
          870,
          872,
          840,
          977,
          900,
          919,
          815,
          817,
          856,
          823,
          860,
          818,
          879,
          928,
          819,
          888,
          809,
          880,
          847,
          881,
          887,
          785,
          840,
          843,
          786,
          912,
          926,
          961,
          839,
          822,
          837,
          772,
          932,
          903,
          906,
          909,
          775,
          828,
          787,
          1012,
          887,
          944,
          855,
          810,
          828,
          879,
          955,
          987,
          832,
          855,
          830,
          853,
          607,
          890,
          926,
          890,
          789,
          799,
          843,
          815,
          915,
          906,
          907,
          874,
          824,
          813,
          801,
          974,
          1029,
          905,
          804,
          787,
          839,
          894,
          958,
          1044,
          877,
          847,
          788,
          943,
          982,
          1178,
          1082,
          943,
          868,
          876,
          868,
          867,
          915,
          968,
          983,
          850,
          849,
          778,
          807,
          875,
          934,
          904,
          779,
          815,
          805,
          782,
          971,
          1001,
          791,
          758,
          737,
          833,
          876,
          845,
          975,
          749,
          852,
          710,
          845,
          806,
          845,
          896,
          771,
          778,
          783,
          802,
          816,
          986,
          903,
          835,
          772,
          748,
          817,
          822,
          938,
          921,
          790,
          825,
          729,
          821,
          773,
          751,
          862,
          764,
          782,
          828,
          748,
          788,
          1036,
          905,
          786,
          653,
          683,
          795,
          911,
          1040,
          1091,
          776,
          908,
          812,
          802,
          836,
          948,
          949,
          774,
          765,
          791,
          815,
          767,
          1009,
          978,
          827,
          848,
          814,
          836,
          629,
          828,
          964,
          817,
          683,
          727,
          677,
          823,
          893,
          1000,
          787,
          781,
          783,
          709,
          811,
          928,
          936,
          792,
          725,
          645,
          760,
          749,
          894,
          941,
          740,
          753,
          719,
          830,
          853,
          888,
          724,
          759,
          840,
          821,
          838,
          948,
          1002,
          842,
          1015,
          809,
          848,
          797,
          865,
          956,
          1157,
          850,
          722,
          416
         ]
        }
       ],
       "layout": {
        "template": {
         "data": {
          "bar": [
           {
            "error_x": {
             "color": "#2a3f5f"
            },
            "error_y": {
             "color": "#2a3f5f"
            },
            "marker": {
             "line": {
              "color": "#E5ECF6",
              "width": 0.5
             }
            },
            "type": "bar"
           }
          ],
          "barpolar": [
           {
            "marker": {
             "line": {
              "color": "#E5ECF6",
              "width": 0.5
             }
            },
            "type": "barpolar"
           }
          ],
          "carpet": [
           {
            "aaxis": {
             "endlinecolor": "#2a3f5f",
             "gridcolor": "white",
             "linecolor": "white",
             "minorgridcolor": "white",
             "startlinecolor": "#2a3f5f"
            },
            "baxis": {
             "endlinecolor": "#2a3f5f",
             "gridcolor": "white",
             "linecolor": "white",
             "minorgridcolor": "white",
             "startlinecolor": "#2a3f5f"
            },
            "type": "carpet"
           }
          ],
          "choropleth": [
           {
            "colorbar": {
             "outlinewidth": 0,
             "ticks": ""
            },
            "type": "choropleth"
           }
          ],
          "contour": [
           {
            "colorbar": {
             "outlinewidth": 0,
             "ticks": ""
            },
            "colorscale": [
             [
              0,
              "#0d0887"
             ],
             [
              0.1111111111111111,
              "#46039f"
             ],
             [
              0.2222222222222222,
              "#7201a8"
             ],
             [
              0.3333333333333333,
              "#9c179e"
             ],
             [
              0.4444444444444444,
              "#bd3786"
             ],
             [
              0.5555555555555556,
              "#d8576b"
             ],
             [
              0.6666666666666666,
              "#ed7953"
             ],
             [
              0.7777777777777778,
              "#fb9f3a"
             ],
             [
              0.8888888888888888,
              "#fdca26"
             ],
             [
              1,
              "#f0f921"
             ]
            ],
            "type": "contour"
           }
          ],
          "contourcarpet": [
           {
            "colorbar": {
             "outlinewidth": 0,
             "ticks": ""
            },
            "type": "contourcarpet"
           }
          ],
          "heatmap": [
           {
            "colorbar": {
             "outlinewidth": 0,
             "ticks": ""
            },
            "colorscale": [
             [
              0,
              "#0d0887"
             ],
             [
              0.1111111111111111,
              "#46039f"
             ],
             [
              0.2222222222222222,
              "#7201a8"
             ],
             [
              0.3333333333333333,
              "#9c179e"
             ],
             [
              0.4444444444444444,
              "#bd3786"
             ],
             [
              0.5555555555555556,
              "#d8576b"
             ],
             [
              0.6666666666666666,
              "#ed7953"
             ],
             [
              0.7777777777777778,
              "#fb9f3a"
             ],
             [
              0.8888888888888888,
              "#fdca26"
             ],
             [
              1,
              "#f0f921"
             ]
            ],
            "type": "heatmap"
           }
          ],
          "heatmapgl": [
           {
            "colorbar": {
             "outlinewidth": 0,
             "ticks": ""
            },
            "colorscale": [
             [
              0,
              "#0d0887"
             ],
             [
              0.1111111111111111,
              "#46039f"
             ],
             [
              0.2222222222222222,
              "#7201a8"
             ],
             [
              0.3333333333333333,
              "#9c179e"
             ],
             [
              0.4444444444444444,
              "#bd3786"
             ],
             [
              0.5555555555555556,
              "#d8576b"
             ],
             [
              0.6666666666666666,
              "#ed7953"
             ],
             [
              0.7777777777777778,
              "#fb9f3a"
             ],
             [
              0.8888888888888888,
              "#fdca26"
             ],
             [
              1,
              "#f0f921"
             ]
            ],
            "type": "heatmapgl"
           }
          ],
          "histogram": [
           {
            "marker": {
             "colorbar": {
              "outlinewidth": 0,
              "ticks": ""
             }
            },
            "type": "histogram"
           }
          ],
          "histogram2d": [
           {
            "colorbar": {
             "outlinewidth": 0,
             "ticks": ""
            },
            "colorscale": [
             [
              0,
              "#0d0887"
             ],
             [
              0.1111111111111111,
              "#46039f"
             ],
             [
              0.2222222222222222,
              "#7201a8"
             ],
             [
              0.3333333333333333,
              "#9c179e"
             ],
             [
              0.4444444444444444,
              "#bd3786"
             ],
             [
              0.5555555555555556,
              "#d8576b"
             ],
             [
              0.6666666666666666,
              "#ed7953"
             ],
             [
              0.7777777777777778,
              "#fb9f3a"
             ],
             [
              0.8888888888888888,
              "#fdca26"
             ],
             [
              1,
              "#f0f921"
             ]
            ],
            "type": "histogram2d"
           }
          ],
          "histogram2dcontour": [
           {
            "colorbar": {
             "outlinewidth": 0,
             "ticks": ""
            },
            "colorscale": [
             [
              0,
              "#0d0887"
             ],
             [
              0.1111111111111111,
              "#46039f"
             ],
             [
              0.2222222222222222,
              "#7201a8"
             ],
             [
              0.3333333333333333,
              "#9c179e"
             ],
             [
              0.4444444444444444,
              "#bd3786"
             ],
             [
              0.5555555555555556,
              "#d8576b"
             ],
             [
              0.6666666666666666,
              "#ed7953"
             ],
             [
              0.7777777777777778,
              "#fb9f3a"
             ],
             [
              0.8888888888888888,
              "#fdca26"
             ],
             [
              1,
              "#f0f921"
             ]
            ],
            "type": "histogram2dcontour"
           }
          ],
          "mesh3d": [
           {
            "colorbar": {
             "outlinewidth": 0,
             "ticks": ""
            },
            "type": "mesh3d"
           }
          ],
          "parcoords": [
           {
            "line": {
             "colorbar": {
              "outlinewidth": 0,
              "ticks": ""
             }
            },
            "type": "parcoords"
           }
          ],
          "pie": [
           {
            "automargin": true,
            "type": "pie"
           }
          ],
          "scatter": [
           {
            "marker": {
             "colorbar": {
              "outlinewidth": 0,
              "ticks": ""
             }
            },
            "type": "scatter"
           }
          ],
          "scatter3d": [
           {
            "line": {
             "colorbar": {
              "outlinewidth": 0,
              "ticks": ""
             }
            },
            "marker": {
             "colorbar": {
              "outlinewidth": 0,
              "ticks": ""
             }
            },
            "type": "scatter3d"
           }
          ],
          "scattercarpet": [
           {
            "marker": {
             "colorbar": {
              "outlinewidth": 0,
              "ticks": ""
             }
            },
            "type": "scattercarpet"
           }
          ],
          "scattergeo": [
           {
            "marker": {
             "colorbar": {
              "outlinewidth": 0,
              "ticks": ""
             }
            },
            "type": "scattergeo"
           }
          ],
          "scattergl": [
           {
            "marker": {
             "colorbar": {
              "outlinewidth": 0,
              "ticks": ""
             }
            },
            "type": "scattergl"
           }
          ],
          "scattermapbox": [
           {
            "marker": {
             "colorbar": {
              "outlinewidth": 0,
              "ticks": ""
             }
            },
            "type": "scattermapbox"
           }
          ],
          "scatterpolar": [
           {
            "marker": {
             "colorbar": {
              "outlinewidth": 0,
              "ticks": ""
             }
            },
            "type": "scatterpolar"
           }
          ],
          "scatterpolargl": [
           {
            "marker": {
             "colorbar": {
              "outlinewidth": 0,
              "ticks": ""
             }
            },
            "type": "scatterpolargl"
           }
          ],
          "scatterternary": [
           {
            "marker": {
             "colorbar": {
              "outlinewidth": 0,
              "ticks": ""
             }
            },
            "type": "scatterternary"
           }
          ],
          "surface": [
           {
            "colorbar": {
             "outlinewidth": 0,
             "ticks": ""
            },
            "colorscale": [
             [
              0,
              "#0d0887"
             ],
             [
              0.1111111111111111,
              "#46039f"
             ],
             [
              0.2222222222222222,
              "#7201a8"
             ],
             [
              0.3333333333333333,
              "#9c179e"
             ],
             [
              0.4444444444444444,
              "#bd3786"
             ],
             [
              0.5555555555555556,
              "#d8576b"
             ],
             [
              0.6666666666666666,
              "#ed7953"
             ],
             [
              0.7777777777777778,
              "#fb9f3a"
             ],
             [
              0.8888888888888888,
              "#fdca26"
             ],
             [
              1,
              "#f0f921"
             ]
            ],
            "type": "surface"
           }
          ],
          "table": [
           {
            "cells": {
             "fill": {
              "color": "#EBF0F8"
             },
             "line": {
              "color": "white"
             }
            },
            "header": {
             "fill": {
              "color": "#C8D4E3"
             },
             "line": {
              "color": "white"
             }
            },
            "type": "table"
           }
          ]
         },
         "layout": {
          "annotationdefaults": {
           "arrowcolor": "#2a3f5f",
           "arrowhead": 0,
           "arrowwidth": 1
          },
          "coloraxis": {
           "colorbar": {
            "outlinewidth": 0,
            "ticks": ""
           }
          },
          "colorscale": {
           "diverging": [
            [
             0,
             "#8e0152"
            ],
            [
             0.1,
             "#c51b7d"
            ],
            [
             0.2,
             "#de77ae"
            ],
            [
             0.3,
             "#f1b6da"
            ],
            [
             0.4,
             "#fde0ef"
            ],
            [
             0.5,
             "#f7f7f7"
            ],
            [
             0.6,
             "#e6f5d0"
            ],
            [
             0.7,
             "#b8e186"
            ],
            [
             0.8,
             "#7fbc41"
            ],
            [
             0.9,
             "#4d9221"
            ],
            [
             1,
             "#276419"
            ]
           ],
           "sequential": [
            [
             0,
             "#0d0887"
            ],
            [
             0.1111111111111111,
             "#46039f"
            ],
            [
             0.2222222222222222,
             "#7201a8"
            ],
            [
             0.3333333333333333,
             "#9c179e"
            ],
            [
             0.4444444444444444,
             "#bd3786"
            ],
            [
             0.5555555555555556,
             "#d8576b"
            ],
            [
             0.6666666666666666,
             "#ed7953"
            ],
            [
             0.7777777777777778,
             "#fb9f3a"
            ],
            [
             0.8888888888888888,
             "#fdca26"
            ],
            [
             1,
             "#f0f921"
            ]
           ],
           "sequentialminus": [
            [
             0,
             "#0d0887"
            ],
            [
             0.1111111111111111,
             "#46039f"
            ],
            [
             0.2222222222222222,
             "#7201a8"
            ],
            [
             0.3333333333333333,
             "#9c179e"
            ],
            [
             0.4444444444444444,
             "#bd3786"
            ],
            [
             0.5555555555555556,
             "#d8576b"
            ],
            [
             0.6666666666666666,
             "#ed7953"
            ],
            [
             0.7777777777777778,
             "#fb9f3a"
            ],
            [
             0.8888888888888888,
             "#fdca26"
            ],
            [
             1,
             "#f0f921"
            ]
           ]
          },
          "colorway": [
           "#636efa",
           "#EF553B",
           "#00cc96",
           "#ab63fa",
           "#FFA15A",
           "#19d3f3",
           "#FF6692",
           "#B6E880",
           "#FF97FF",
           "#FECB52"
          ],
          "font": {
           "color": "#2a3f5f"
          },
          "geo": {
           "bgcolor": "white",
           "lakecolor": "white",
           "landcolor": "#E5ECF6",
           "showlakes": true,
           "showland": true,
           "subunitcolor": "white"
          },
          "hoverlabel": {
           "align": "left"
          },
          "hovermode": "closest",
          "mapbox": {
           "style": "light"
          },
          "paper_bgcolor": "white",
          "plot_bgcolor": "#E5ECF6",
          "polar": {
           "angularaxis": {
            "gridcolor": "white",
            "linecolor": "white",
            "ticks": ""
           },
           "bgcolor": "#E5ECF6",
           "radialaxis": {
            "gridcolor": "white",
            "linecolor": "white",
            "ticks": ""
           }
          },
          "scene": {
           "xaxis": {
            "backgroundcolor": "#E5ECF6",
            "gridcolor": "white",
            "gridwidth": 2,
            "linecolor": "white",
            "showbackground": true,
            "ticks": "",
            "zerolinecolor": "white"
           },
           "yaxis": {
            "backgroundcolor": "#E5ECF6",
            "gridcolor": "white",
            "gridwidth": 2,
            "linecolor": "white",
            "showbackground": true,
            "ticks": "",
            "zerolinecolor": "white"
           },
           "zaxis": {
            "backgroundcolor": "#E5ECF6",
            "gridcolor": "white",
            "gridwidth": 2,
            "linecolor": "white",
            "showbackground": true,
            "ticks": "",
            "zerolinecolor": "white"
           }
          },
          "shapedefaults": {
           "line": {
            "color": "#2a3f5f"
           }
          },
          "ternary": {
           "aaxis": {
            "gridcolor": "white",
            "linecolor": "white",
            "ticks": ""
           },
           "baxis": {
            "gridcolor": "white",
            "linecolor": "white",
            "ticks": ""
           },
           "bgcolor": "#E5ECF6",
           "caxis": {
            "gridcolor": "white",
            "linecolor": "white",
            "ticks": ""
           }
          },
          "title": {
           "x": 0.05
          },
          "xaxis": {
           "automargin": true,
           "gridcolor": "white",
           "linecolor": "white",
           "ticks": "",
           "title": {
            "standoff": 15
           },
           "zerolinecolor": "white",
           "zerolinewidth": 2
          },
          "yaxis": {
           "automargin": true,
           "gridcolor": "white",
           "linecolor": "white",
           "ticks": "",
           "title": {
            "standoff": 15
           },
           "zerolinecolor": "white",
           "zerolinewidth": 2
          }
         }
        },
        "title": {
         "text": "The time-series line chart of reviews"
        },
        "xaxis": {
         "title": {
          "text": "Date"
         }
        },
        "yaxis": {
         "title": {
          "text": "Count of reviews"
         }
        }
       }
      },
      "text/html": [
       "<div>\n",
       "        \n",
       "        \n",
       "            <div id=\"9f427668-fc58-4def-a8ea-b00c5ca62d9e\" class=\"plotly-graph-div\" style=\"height:525px; width:100%;\"></div>\n",
       "            <script type=\"text/javascript\">\n",
       "                require([\"plotly\"], function(Plotly) {\n",
       "                    window.PLOTLYENV=window.PLOTLYENV || {};\n",
       "                    \n",
       "                if (document.getElementById(\"9f427668-fc58-4def-a8ea-b00c5ca62d9e\")) {\n",
       "                    Plotly.newPlot(\n",
       "                        '9f427668-fc58-4def-a8ea-b00c5ca62d9e',\n",
       "                        [{\"type\": \"scatter\", \"x\": [\"1998-01-10\", \"1998-01-13\", \"1998-01-21\", \"1998-02-06\", \"1998-02-11\", \"1998-02-14\", \"1998-02-17\", \"1998-02-18\", \"1998-02-21\", \"1998-02-22\", \"1998-03-02\", \"1998-03-03\", \"1998-03-06\", \"1998-03-07\", \"1998-03-09\", \"1998-03-24\", \"1998-04-09\", \"1998-04-16\", \"1998-04-23\", \"1998-04-30\", \"1998-05-05\", \"1998-05-07\", \"1998-05-10\", \"1998-05-12\", \"1998-05-19\", \"1998-05-25\", \"1998-06-01\", \"1998-06-09\", \"1998-06-10\", \"1998-06-16\", \"1998-06-23\", \"1998-07-07\", \"1998-07-29\", \"1998-07-30\", \"1998-08-04\", \"1998-08-13\", \"1998-08-16\", \"1998-08-26\", \"1998-09-04\", \"1998-09-06\", \"1998-09-30\", \"1998-10-01\", \"1998-10-06\", \"1998-10-08\", \"1998-10-13\", \"1998-11-12\", \"1998-11-17\", \"1998-12-04\", \"1998-12-10\", \"1998-12-14\", \"1998-12-17\", \"1999-02-04\", \"1999-02-06\", \"1999-02-09\", \"1999-02-24\", \"1999-03-08\", \"1999-04-06\", \"1999-04-26\", \"1999-05-10\", \"1999-05-16\", \"1999-05-18\", \"1999-05-26\", \"1999-06-02\", \"1999-07-17\", \"1999-07-27\", \"1999-09-16\", \"1999-10-03\", \"1999-10-05\", \"1999-10-24\", \"1999-11-09\", \"1999-12-06\", \"2000-02-10\", \"2000-04-12\", \"2000-06-07\", \"2000-07-07\", \"2000-07-08\", \"2000-07-23\", \"2000-07-26\", \"2000-08-21\", \"2000-09-02\", \"2000-09-10\", \"2000-09-13\", \"2000-09-16\", \"2000-09-17\", \"2000-09-19\", \"2000-09-21\", \"2000-09-22\", \"2000-09-23\", \"2000-09-24\", \"2000-09-28\", \"2000-10-07\", \"2000-10-10\", \"2000-10-13\", \"2000-10-14\", \"2000-10-18\", \"2000-10-20\", \"2000-10-22\", \"2000-10-23\", \"2000-10-24\", \"2000-10-26\", \"2000-10-29\", \"2000-10-31\", \"2000-11-01\", \"2000-11-04\", \"2000-11-05\", \"2000-11-06\", \"2000-11-07\", \"2000-11-11\", \"2000-11-12\", \"2000-11-14\", \"2000-11-15\", \"2000-11-18\", \"2000-11-19\", \"2000-11-20\", \"2000-11-25\", \"2000-11-26\", \"2000-11-28\", \"2000-11-30\", \"2000-12-04\", \"2000-12-05\", \"2000-12-06\", \"2000-12-07\", \"2000-12-18\", \"2000-12-20\", \"2000-12-21\", \"2000-12-22\", \"2000-12-30\", \"2000-12-31\", \"2001-01-01\", \"2001-01-03\", \"2001-01-05\", \"2001-01-07\", \"2001-01-10\", \"2001-01-14\", \"2001-01-15\", \"2001-01-18\", \"2001-01-22\", \"2001-01-23\", \"2001-01-24\", \"2001-01-25\", \"2001-01-26\", \"2001-01-27\", \"2001-01-28\", \"2001-01-29\", \"2001-01-30\", \"2001-02-01\", \"2001-02-02\", \"2001-02-04\", \"2001-02-06\", \"2001-02-08\", \"2001-02-09\", \"2001-02-16\", \"2001-02-19\", \"2001-02-20\", \"2001-02-21\", \"2001-02-22\", \"2001-02-24\", \"2001-02-25\", \"2001-02-26\", \"2001-02-27\", \"2001-02-28\", \"2001-03-01\", \"2001-03-02\", \"2001-03-03\", \"2001-03-06\", \"2001-03-08\", \"2001-03-09\", \"2001-03-10\", \"2001-03-12\", \"2001-03-17\", \"2001-03-23\", \"2001-03-24\", \"2001-03-25\", \"2001-03-28\", \"2001-03-29\", \"2001-04-03\", \"2001-04-22\", \"2001-04-24\", \"2001-04-25\", \"2001-04-26\", \"2001-04-27\", \"2001-04-30\", \"2001-05-02\", \"2001-05-06\", \"2001-05-07\", \"2001-05-08\", \"2001-05-09\", \"2001-05-10\", \"2001-05-13\", \"2001-05-19\", \"2001-05-20\", \"2001-05-21\", \"2001-05-22\", \"2001-05-23\", \"2001-06-03\", \"2001-06-05\", \"2001-06-14\", \"2001-06-17\", \"2001-06-18\", \"2001-06-20\", \"2001-06-21\", \"2001-06-22\", \"2001-06-23\", \"2001-06-24\", \"2001-06-26\", \"2001-06-30\", \"2001-07-01\", \"2001-07-02\", \"2001-07-03\", \"2001-07-05\", \"2001-07-06\", \"2001-07-07\", \"2001-07-08\", \"2001-07-09\", \"2001-07-10\", \"2001-07-11\", \"2001-07-12\", \"2001-07-13\", \"2001-07-14\", \"2001-07-16\", \"2001-07-17\", \"2001-07-19\", \"2001-07-20\", \"2001-07-22\", \"2001-07-23\", \"2001-07-25\", \"2001-07-26\", \"2001-07-27\", \"2001-07-28\", \"2001-07-29\", \"2001-07-30\", \"2001-07-31\", \"2001-08-03\", \"2001-08-04\", \"2001-08-06\", \"2001-08-07\", \"2001-08-08\", \"2001-08-09\", \"2001-08-10\", \"2001-08-11\", \"2001-08-12\", \"2001-08-13\", \"2001-08-14\", \"2001-08-15\", \"2001-08-16\", \"2001-08-17\", \"2001-08-18\", \"2001-08-19\", \"2001-08-20\", \"2001-08-21\", \"2001-08-22\", \"2001-08-24\", \"2001-08-25\", \"2001-08-26\", \"2001-08-27\", \"2001-08-28\", \"2001-08-29\", \"2001-08-30\", \"2001-08-31\", \"2001-09-01\", \"2001-09-02\", \"2001-09-03\", \"2001-09-04\", \"2001-09-06\", \"2001-09-07\", \"2001-09-08\", \"2001-09-09\", \"2001-09-10\", \"2001-09-11\", \"2001-09-12\", \"2001-09-13\", \"2001-09-14\", \"2001-09-15\", \"2001-09-16\", \"2001-09-17\", \"2001-09-18\", \"2001-09-19\", \"2001-09-20\", \"2001-09-21\", \"2001-09-22\", \"2001-09-23\", \"2001-09-24\", \"2001-09-25\", \"2001-09-26\", \"2001-09-27\", \"2001-09-28\", \"2001-09-29\", \"2001-09-30\", \"2001-10-01\", \"2001-10-02\", \"2001-10-03\", \"2001-10-04\", \"2001-10-05\", \"2001-10-06\", \"2001-10-07\", \"2001-10-08\", \"2001-10-09\", \"2001-10-10\", \"2001-10-11\", \"2001-10-12\", \"2001-10-13\", \"2001-10-14\", \"2001-10-15\", \"2001-10-16\", \"2001-10-17\", \"2001-10-18\", \"2001-10-19\", \"2001-10-20\", \"2001-10-21\", \"2001-10-22\", \"2001-10-23\", \"2001-10-24\", \"2001-10-25\", \"2001-10-26\", \"2001-10-27\", \"2001-10-28\", \"2001-10-29\", \"2001-10-30\", \"2001-10-31\", \"2001-11-01\", \"2001-11-02\", \"2001-11-03\", \"2001-11-04\", \"2001-11-05\", \"2001-11-06\", \"2001-11-07\", \"2001-11-08\", \"2001-11-09\", \"2001-11-10\", \"2001-11-11\", \"2001-11-12\", \"2001-11-13\", \"2001-11-14\", \"2001-11-15\", \"2001-11-16\", \"2001-11-17\", \"2001-11-18\", \"2001-11-19\", \"2001-11-20\", \"2001-11-21\", \"2001-11-22\", \"2001-11-23\", \"2001-11-24\", \"2001-11-25\", \"2001-11-26\", \"2001-11-27\", \"2001-11-28\", \"2001-11-29\", \"2001-11-30\", \"2001-12-01\", \"2001-12-02\", \"2001-12-03\", \"2001-12-05\", \"2001-12-06\", \"2001-12-07\", \"2001-12-08\", \"2001-12-09\", \"2001-12-10\", \"2001-12-11\", \"2001-12-12\", \"2001-12-13\", \"2001-12-14\", \"2001-12-15\", \"2001-12-16\", \"2001-12-17\", \"2001-12-18\", \"2001-12-19\", \"2001-12-20\", \"2001-12-21\", \"2001-12-22\", \"2001-12-23\", \"2001-12-24\", \"2001-12-25\", \"2001-12-26\", \"2001-12-27\", \"2001-12-28\", \"2001-12-29\", \"2001-12-30\", \"2001-12-31\", \"2002-01-01\", \"2002-01-02\", \"2002-01-03\", \"2002-01-04\", \"2002-01-05\", \"2002-01-06\", \"2002-01-07\", \"2002-01-08\", \"2002-01-09\", \"2002-01-10\", \"2002-01-11\", \"2002-01-12\", \"2002-01-13\", \"2002-01-14\", \"2002-01-15\", \"2002-01-16\", \"2002-01-17\", \"2002-01-18\", \"2002-01-19\", \"2002-01-20\", \"2002-01-21\", \"2002-01-22\", \"2002-01-23\", \"2002-01-24\", \"2002-01-25\", \"2002-01-26\", \"2002-01-27\", \"2002-01-28\", \"2002-01-29\", \"2002-01-30\", \"2002-01-31\", \"2002-02-01\", \"2002-02-02\", \"2002-02-03\", \"2002-02-04\", \"2002-02-05\", \"2002-02-06\", \"2002-02-07\", \"2002-02-08\", \"2002-02-09\", \"2002-02-10\", \"2002-02-11\", \"2002-02-12\", \"2002-02-13\", \"2002-02-14\", \"2002-02-15\", \"2002-02-16\", \"2002-02-17\", \"2002-02-18\", \"2002-02-19\", \"2002-02-20\", \"2002-02-21\", \"2002-02-22\", \"2002-02-23\", \"2002-02-24\", \"2002-02-25\", \"2002-02-26\", \"2002-02-27\", \"2002-02-28\", \"2002-03-01\", \"2002-03-02\", \"2002-03-03\", \"2002-03-04\", \"2002-03-05\", \"2002-03-06\", \"2002-03-07\", \"2002-03-08\", \"2002-03-09\", \"2002-03-10\", \"2002-03-11\", \"2002-03-12\", \"2002-03-13\", \"2002-03-14\", \"2002-03-15\", \"2002-03-16\", \"2002-03-17\", \"2002-03-18\", \"2002-03-19\", \"2002-03-20\", \"2002-03-21\", \"2002-03-22\", \"2002-03-23\", \"2002-03-24\", \"2002-03-25\", \"2002-03-26\", \"2002-03-27\", \"2002-03-28\", \"2002-03-29\", \"2002-03-30\", \"2002-03-31\", \"2002-04-01\", \"2002-04-02\", \"2002-04-03\", \"2002-04-04\", \"2002-04-05\", \"2002-04-06\", \"2002-04-07\", \"2002-04-08\", \"2002-04-09\", \"2002-04-10\", \"2002-04-11\", \"2002-04-12\", \"2002-04-13\", \"2002-04-14\", \"2002-04-15\", \"2002-04-16\", \"2002-04-17\", \"2002-04-18\", \"2002-04-19\", \"2002-04-20\", \"2002-04-21\", \"2002-04-22\", \"2002-04-23\", \"2002-04-24\", \"2002-04-25\", \"2002-04-26\", \"2002-04-27\", \"2002-04-28\", \"2002-04-29\", \"2002-04-30\", \"2002-05-01\", \"2002-05-02\", \"2002-05-03\", \"2002-05-04\", \"2002-05-05\", \"2002-05-06\", \"2002-05-07\", \"2002-05-08\", \"2002-05-09\", \"2002-05-10\", \"2002-05-11\", \"2002-05-12\", \"2002-05-13\", \"2002-05-14\", \"2002-05-15\", \"2002-05-16\", \"2002-05-17\", \"2002-05-18\", \"2002-05-19\", \"2002-05-20\", \"2002-05-21\", \"2002-05-22\", \"2002-05-23\", \"2002-05-24\", \"2002-05-25\", \"2002-05-26\", \"2002-05-27\", \"2002-05-28\", \"2002-05-29\", \"2002-05-30\", \"2002-05-31\", \"2002-06-01\", \"2002-06-02\", \"2002-06-03\", \"2002-06-04\", \"2002-06-05\", \"2002-06-06\", \"2002-06-07\", \"2002-06-08\", \"2002-06-09\", \"2002-06-10\", \"2002-06-11\", \"2002-06-12\", \"2002-06-13\", \"2002-06-14\", \"2002-06-15\", \"2002-06-16\", \"2002-06-17\", \"2002-06-18\", \"2002-06-19\", \"2002-06-20\", \"2002-06-21\", \"2002-06-22\", \"2002-06-23\", \"2002-06-24\", \"2002-06-25\", \"2002-06-26\", \"2002-06-27\", \"2002-06-28\", \"2002-06-29\", \"2002-06-30\", \"2002-07-01\", \"2002-07-02\", \"2002-07-03\", \"2002-07-04\", \"2002-07-05\", \"2002-07-06\", \"2002-07-07\", \"2002-07-08\", \"2002-07-09\", \"2002-07-10\", \"2002-07-11\", \"2002-07-12\", \"2002-07-13\", \"2002-07-14\", \"2002-07-15\", \"2002-07-16\", \"2002-07-17\", \"2002-07-18\", \"2002-07-19\", \"2002-07-20\", \"2002-07-21\", \"2002-07-22\", \"2002-07-23\", \"2002-07-24\", \"2002-07-25\", \"2002-07-26\", \"2002-07-27\", \"2002-07-28\", \"2002-07-29\", \"2002-07-30\", \"2002-07-31\", \"2002-08-01\", \"2002-08-02\", \"2002-08-03\", \"2002-08-04\", \"2002-08-05\", \"2002-08-06\", \"2002-08-07\", \"2002-08-08\", \"2002-08-09\", \"2002-08-10\", \"2002-08-11\", \"2002-08-12\", \"2002-08-13\", \"2002-08-14\", \"2002-08-15\", \"2002-08-16\", \"2002-08-17\", \"2002-08-18\", \"2002-08-19\", \"2002-08-20\", \"2002-08-21\", \"2002-08-22\", \"2002-08-23\", \"2002-08-24\", \"2002-08-25\", \"2002-08-26\", \"2002-08-27\", \"2002-08-28\", \"2002-08-29\", \"2002-08-30\", \"2002-08-31\", \"2002-09-01\", \"2002-09-02\", \"2002-09-03\", \"2002-09-04\", \"2002-09-05\", \"2002-09-06\", \"2002-09-07\", \"2002-09-08\", \"2002-09-09\", \"2002-09-10\", \"2002-09-11\", \"2002-09-12\", \"2002-09-13\", \"2002-09-14\", \"2002-09-15\", \"2002-09-16\", \"2002-09-17\", \"2002-09-18\", \"2002-09-19\", \"2002-09-20\", \"2002-09-21\", \"2002-09-22\", \"2002-09-23\", \"2002-09-24\", \"2002-09-25\", \"2002-09-26\", \"2002-09-27\", \"2002-09-28\", \"2002-09-29\", \"2002-09-30\", \"2002-10-01\", \"2002-10-02\", \"2002-10-03\", \"2002-10-04\", \"2002-10-05\", \"2002-10-06\", \"2002-10-07\", \"2002-10-08\", \"2002-10-09\", \"2002-10-10\", \"2002-10-11\", \"2002-10-12\", \"2002-10-13\", \"2002-10-14\", \"2002-10-15\", \"2002-10-16\", \"2002-10-17\", \"2002-10-18\", \"2002-10-19\", \"2002-10-20\", \"2002-10-21\", \"2002-10-22\", \"2002-10-23\", \"2002-10-24\", \"2002-10-25\", \"2002-10-26\", \"2002-10-27\", \"2002-10-28\", \"2002-10-29\", \"2002-10-30\", \"2002-10-31\", \"2002-11-01\", \"2002-11-02\", \"2002-11-03\", \"2002-11-04\", \"2002-11-05\", \"2002-11-06\", \"2002-11-07\", \"2002-11-08\", \"2002-11-09\", \"2002-11-10\", \"2002-11-11\", \"2002-11-12\", \"2002-11-13\", \"2002-11-14\", \"2002-11-15\", \"2002-11-16\", \"2002-11-17\", \"2002-11-18\", \"2002-11-19\", \"2002-11-20\", \"2002-11-21\", \"2002-11-22\", \"2002-11-23\", \"2002-11-24\", \"2002-11-25\", \"2002-11-26\", \"2002-11-27\", \"2002-11-28\", \"2002-11-29\", \"2002-11-30\", \"2002-12-01\", \"2002-12-02\", \"2002-12-03\", \"2002-12-04\", \"2002-12-05\", \"2002-12-06\", \"2002-12-07\", \"2002-12-08\", \"2002-12-09\", \"2002-12-10\", \"2002-12-11\", \"2002-12-12\", \"2002-12-13\", \"2002-12-14\", \"2002-12-15\", \"2002-12-16\", \"2002-12-17\", \"2002-12-18\", \"2002-12-19\", \"2002-12-20\", \"2002-12-21\", \"2002-12-22\", \"2002-12-23\", \"2002-12-24\", \"2002-12-25\", \"2002-12-26\", \"2002-12-27\", \"2002-12-28\", \"2002-12-29\", \"2002-12-30\", \"2002-12-31\", \"2003-01-01\", \"2003-01-02\", \"2003-01-03\", \"2003-01-04\", \"2003-01-05\", \"2003-01-06\", \"2003-01-07\", \"2003-01-08\", \"2003-01-09\", \"2003-01-10\", \"2003-01-11\", \"2003-01-12\", \"2003-01-13\", \"2003-01-14\", \"2003-01-15\", \"2003-01-16\", \"2003-01-17\", \"2003-01-18\", \"2003-01-19\", \"2003-01-20\", \"2003-01-21\", \"2003-01-22\", \"2003-01-23\", \"2003-01-24\", \"2003-01-25\", \"2003-01-26\", \"2003-01-27\", \"2003-01-28\", \"2003-01-29\", \"2003-01-30\", \"2003-01-31\", \"2003-02-01\", \"2003-02-02\", \"2003-02-03\", \"2003-02-04\", \"2003-02-05\", \"2003-02-06\", \"2003-02-07\", \"2003-02-08\", \"2003-02-09\", \"2003-02-10\", \"2003-02-11\", \"2003-02-12\", \"2003-02-13\", \"2003-02-14\", \"2003-02-15\", \"2003-02-16\", \"2003-02-17\", \"2003-02-18\", \"2003-02-19\", \"2003-02-20\", \"2003-02-21\", \"2003-02-22\", \"2003-02-23\", \"2003-02-24\", \"2003-02-25\", \"2003-02-26\", \"2003-02-27\", \"2003-02-28\", \"2003-03-01\", \"2003-03-02\", \"2003-03-03\", \"2003-03-04\", \"2003-03-05\", \"2003-03-06\", \"2003-03-07\", \"2003-03-08\", \"2003-03-09\", \"2003-03-10\", \"2003-03-11\", \"2003-03-12\", \"2003-03-13\", \"2003-03-14\", \"2003-03-15\", \"2003-03-16\", \"2003-03-17\", \"2003-03-18\", \"2003-03-19\", \"2003-03-20\", \"2003-03-21\", \"2003-03-22\", \"2003-03-23\", \"2003-03-24\", \"2003-03-25\", \"2003-03-26\", \"2003-03-27\", \"2003-03-28\", \"2003-03-29\", \"2003-03-30\", \"2003-03-31\", \"2003-04-01\", \"2003-04-02\", \"2003-04-03\", \"2003-04-04\", \"2003-04-05\", \"2003-04-06\", \"2003-04-07\", \"2003-04-08\", \"2003-04-09\", \"2003-04-10\", \"2003-04-11\", \"2003-04-12\", \"2003-04-13\", \"2003-04-14\", \"2003-04-15\", \"2003-04-16\", \"2003-04-17\", \"2003-04-18\", \"2003-04-19\", \"2003-04-20\", \"2003-04-21\", \"2003-04-22\", \"2003-04-24\", \"2003-04-25\", \"2003-04-26\", \"2003-04-27\", \"2003-04-28\", \"2003-04-29\", \"2003-04-30\", \"2003-05-01\", \"2003-05-02\", \"2003-05-03\", \"2003-05-04\", \"2003-05-05\", \"2003-05-06\", \"2003-05-07\", \"2003-05-08\", \"2003-05-09\", \"2003-05-10\", \"2003-05-11\", \"2003-05-12\", \"2003-05-13\", \"2003-05-14\", \"2003-05-15\", \"2003-05-16\", \"2003-05-17\", \"2003-05-18\", \"2003-05-19\", \"2003-05-20\", \"2003-05-21\", \"2003-05-22\", \"2003-05-23\", \"2003-05-24\", \"2003-05-25\", \"2003-05-26\", \"2003-05-27\", \"2003-05-28\", \"2003-05-29\", \"2003-05-30\", \"2003-05-31\", \"2003-06-01\", \"2003-06-02\", \"2003-06-03\", \"2003-06-04\", \"2003-06-05\", \"2003-06-06\", \"2003-06-07\", \"2003-06-08\", \"2003-06-09\", \"2003-06-10\", \"2003-06-11\", \"2003-06-12\", \"2003-06-13\", \"2003-06-14\", \"2003-06-15\", \"2003-06-16\", \"2003-06-17\", \"2003-06-18\", \"2003-06-19\", \"2003-06-20\", \"2003-06-21\", \"2003-06-22\", \"2003-06-23\", \"2003-06-24\", \"2003-06-25\", \"2003-06-26\", \"2003-06-27\", \"2003-06-28\", \"2003-06-29\", \"2003-06-30\", \"2003-07-01\", \"2003-07-02\", \"2003-07-03\", \"2003-07-04\", \"2003-07-05\", \"2003-07-06\", \"2003-07-07\", \"2003-07-08\", \"2003-07-09\", \"2003-07-10\", \"2003-07-11\", \"2003-07-12\", \"2003-07-13\", \"2003-07-14\", \"2003-07-15\", \"2003-07-16\", \"2003-07-17\", \"2003-07-18\", \"2003-07-19\", \"2003-07-20\", \"2003-07-21\", \"2003-07-22\", \"2003-07-23\", \"2003-07-24\", \"2003-07-25\", \"2003-07-26\", \"2003-07-27\", \"2003-07-28\", \"2003-07-29\", \"2003-07-30\", \"2003-07-31\", \"2003-08-01\", \"2003-08-02\", \"2003-08-03\", \"2003-08-04\", \"2003-08-05\", \"2003-08-06\", \"2003-08-07\", \"2003-08-08\", \"2003-08-09\", \"2003-08-10\", \"2003-08-11\", \"2003-08-12\", \"2003-08-13\", \"2003-08-14\", \"2003-08-15\", \"2003-08-16\", \"2003-08-17\", \"2003-08-18\", \"2003-08-19\", \"2003-08-20\", \"2003-08-21\", \"2003-08-22\", \"2003-08-23\", \"2003-08-24\", \"2003-08-25\", \"2003-08-26\", \"2003-08-27\", \"2003-08-28\", \"2003-08-29\", \"2003-08-30\", \"2003-08-31\", \"2003-09-01\", \"2003-09-02\", \"2003-09-03\", \"2003-09-04\", \"2003-09-05\", \"2003-09-06\", \"2003-09-07\", \"2003-09-08\", \"2003-09-09\", \"2003-09-10\", \"2003-09-11\", \"2003-09-12\", \"2003-09-13\", \"2003-09-14\", \"2003-09-15\", \"2003-09-16\", \"2003-09-17\", \"2003-09-18\", \"2003-09-19\", \"2003-09-20\", \"2003-09-21\", \"2003-09-22\", \"2003-09-23\", \"2003-09-24\", \"2003-09-25\", \"2003-09-26\", \"2003-09-27\", \"2003-09-28\", \"2003-09-29\", \"2003-09-30\", \"2003-10-01\", \"2003-10-02\", \"2003-10-03\", \"2003-10-04\", \"2003-10-05\", \"2003-10-06\", \"2003-10-07\", \"2003-10-08\", \"2003-10-09\", \"2003-10-10\", \"2003-10-11\", \"2003-10-12\", \"2003-10-13\", \"2003-10-14\", \"2003-10-15\", \"2003-10-16\", \"2003-10-17\", \"2003-10-18\", \"2003-10-19\", \"2003-10-20\", \"2003-10-21\", \"2003-10-22\", \"2003-10-23\", \"2003-10-24\", \"2003-10-25\", \"2003-10-26\", \"2003-10-27\", \"2003-10-28\", \"2003-10-29\", \"2003-10-30\", \"2003-10-31\", \"2003-11-01\", \"2003-11-02\", \"2003-11-03\", \"2003-11-04\", \"2003-11-05\", \"2003-11-06\", \"2003-11-07\", \"2003-11-08\", \"2003-11-09\", \"2003-11-10\", \"2003-11-11\", \"2003-11-12\", \"2003-11-13\", \"2003-11-14\", \"2003-11-15\", \"2003-11-16\", \"2003-11-17\", \"2003-11-18\", \"2003-11-19\", \"2003-11-20\", \"2003-11-21\", \"2003-11-22\", \"2003-11-23\", \"2003-11-24\", \"2003-11-25\", \"2003-11-26\", \"2003-11-27\", \"2003-11-28\", \"2003-11-29\", \"2003-11-30\", \"2003-12-01\", \"2003-12-02\", \"2003-12-03\", \"2003-12-04\", \"2003-12-05\", \"2003-12-06\", \"2003-12-07\", \"2003-12-08\", \"2003-12-09\", \"2003-12-10\", \"2003-12-11\", \"2003-12-12\", \"2003-12-13\", \"2003-12-14\", \"2003-12-15\", \"2003-12-16\", \"2003-12-17\", \"2003-12-18\", \"2003-12-19\", \"2003-12-20\", \"2003-12-21\", \"2003-12-22\", \"2003-12-23\", \"2003-12-24\", \"2003-12-25\", \"2003-12-26\", \"2003-12-27\", \"2003-12-28\", \"2003-12-29\", \"2003-12-30\", \"2003-12-31\", \"2004-01-01\", \"2004-01-02\", \"2004-01-03\", \"2004-01-04\", \"2004-01-05\", \"2004-01-06\", \"2004-01-07\", \"2004-01-08\", \"2004-01-09\", \"2004-01-10\", \"2004-01-11\", \"2004-01-12\", \"2004-01-13\", \"2004-01-14\", \"2004-01-15\", \"2004-01-16\", \"2004-01-17\", \"2004-01-18\", \"2004-01-19\", \"2004-01-20\", \"2004-01-21\", \"2004-01-22\", \"2004-01-23\", \"2004-01-24\", \"2004-01-25\", \"2004-01-26\", \"2004-01-27\", \"2004-01-28\", \"2004-01-29\", \"2004-01-30\", \"2004-01-31\", \"2004-02-01\", \"2004-02-02\", \"2004-02-03\", \"2004-02-04\", \"2004-02-05\", \"2004-02-06\", \"2004-02-07\", \"2004-02-08\", \"2004-02-09\", \"2004-02-10\", \"2004-02-11\", \"2004-02-12\", \"2004-02-13\", \"2004-02-14\", \"2004-02-15\", \"2004-02-16\", \"2004-02-17\", \"2004-02-18\", \"2004-02-19\", \"2004-02-20\", \"2004-02-21\", \"2004-02-22\", \"2004-02-23\", \"2004-02-24\", \"2004-02-25\", \"2004-02-26\", \"2004-02-27\", \"2004-02-28\", \"2004-02-29\", \"2004-03-01\", \"2004-03-02\", \"2004-03-03\", \"2004-03-04\", \"2004-03-05\", \"2004-03-06\", \"2004-03-07\", \"2004-03-08\", \"2004-03-09\", \"2004-03-10\", \"2004-03-11\", \"2004-03-12\", \"2004-03-13\", \"2004-03-14\", \"2004-03-15\", \"2004-03-16\", \"2004-03-17\", \"2004-03-18\", \"2004-03-19\", \"2004-03-20\", \"2004-03-21\", \"2004-03-22\", \"2004-03-23\", \"2004-03-24\", \"2004-03-25\", \"2004-03-26\", \"2004-03-27\", \"2004-03-28\", \"2004-03-29\", \"2004-03-30\", \"2004-03-31\", \"2004-04-01\", \"2004-04-02\", \"2004-04-03\", \"2004-04-04\", \"2004-04-05\", \"2004-04-06\", \"2004-04-07\", \"2004-04-08\", \"2004-04-09\", \"2004-04-10\", \"2004-04-11\", \"2004-04-12\", \"2004-04-13\", \"2004-04-14\", \"2004-04-15\", \"2004-04-16\", \"2004-04-17\", \"2004-04-18\", \"2004-04-19\", \"2004-04-20\", \"2004-04-21\", \"2004-04-22\", \"2004-04-23\", \"2004-04-24\", \"2004-04-25\", \"2004-04-26\", \"2004-04-27\", \"2004-04-28\", \"2004-04-29\", \"2004-04-30\", \"2004-05-01\", \"2004-05-02\", \"2004-05-03\", \"2004-05-04\", \"2004-05-05\", \"2004-05-06\", \"2004-05-07\", \"2004-05-08\", \"2004-05-09\", \"2004-05-10\", \"2004-05-11\", \"2004-05-12\", \"2004-05-13\", \"2004-05-14\", \"2004-05-15\", \"2004-05-16\", \"2004-05-17\", \"2004-05-18\", \"2004-05-19\", \"2004-05-20\", \"2004-05-21\", \"2004-05-22\", \"2004-05-23\", \"2004-05-24\", \"2004-05-25\", \"2004-05-26\", \"2004-05-27\", \"2004-05-28\", \"2004-05-29\", \"2004-05-30\", \"2004-05-31\", \"2004-06-01\", \"2004-06-02\", \"2004-06-03\", \"2004-06-04\", \"2004-06-05\", \"2004-06-06\", \"2004-06-07\", \"2004-06-08\", \"2004-06-09\", \"2004-06-10\", \"2004-06-11\", \"2004-06-12\", \"2004-06-13\", \"2004-06-14\", \"2004-06-15\", \"2004-06-16\", \"2004-06-17\", \"2004-06-18\", \"2004-06-19\", \"2004-06-20\", \"2004-06-21\", \"2004-06-22\", \"2004-06-23\", \"2004-06-24\", \"2004-06-25\", \"2004-06-26\", \"2004-06-27\", \"2004-06-28\", \"2004-06-29\", \"2004-06-30\", \"2004-07-01\", \"2004-07-02\", \"2004-07-03\", \"2004-07-04\", \"2004-07-05\", \"2004-07-06\", \"2004-07-07\", \"2004-07-08\", \"2004-07-09\", \"2004-07-10\", \"2004-07-11\", \"2004-07-12\", \"2004-07-13\", \"2004-07-14\", \"2004-07-15\", \"2004-07-16\", \"2004-07-17\", \"2004-07-18\", \"2004-07-19\", \"2004-07-20\", \"2004-07-21\", \"2004-07-22\", \"2004-07-23\", \"2004-07-24\", \"2004-07-25\", \"2004-07-26\", \"2004-07-27\", \"2004-07-28\", \"2004-07-29\", \"2004-07-30\", \"2004-07-31\", \"2004-08-01\", \"2004-08-02\", \"2004-08-03\", \"2004-08-04\", \"2004-08-05\", \"2004-08-06\", \"2004-08-07\", \"2004-08-08\", \"2004-08-09\", \"2004-08-10\", \"2004-08-11\", \"2004-08-12\", \"2004-08-13\", \"2004-08-14\", \"2004-08-15\", \"2004-08-16\", \"2004-08-17\", \"2004-08-18\", \"2004-08-19\", \"2004-08-20\", \"2004-08-21\", \"2004-08-22\", \"2004-08-23\", \"2004-08-24\", \"2004-08-25\", \"2004-08-26\", \"2004-08-27\", \"2004-08-28\", \"2004-08-29\", \"2004-08-30\", \"2004-08-31\", \"2004-09-01\", \"2004-09-02\", \"2004-09-03\", \"2004-09-04\", \"2004-09-05\", \"2004-09-06\", \"2004-09-07\", \"2004-09-08\", \"2004-09-09\", \"2004-09-10\", \"2004-09-11\", \"2004-09-12\", \"2004-09-13\", \"2004-09-14\", \"2004-09-15\", \"2004-09-16\", \"2004-09-17\", \"2004-09-18\", \"2004-09-19\", \"2004-09-20\", \"2004-09-21\", \"2004-09-22\", \"2004-09-23\", \"2004-09-24\", \"2004-09-25\", \"2004-09-26\", \"2004-09-27\", \"2004-09-28\", \"2004-09-29\", \"2004-09-30\", \"2004-10-01\", \"2004-10-02\", \"2004-10-03\", \"2004-10-04\", \"2004-10-05\", \"2004-10-06\", \"2004-10-07\", \"2004-10-08\", \"2004-10-09\", \"2004-10-10\", \"2004-10-11\", \"2004-10-12\", \"2004-10-13\", \"2004-10-14\", \"2004-10-15\", \"2004-10-16\", \"2004-10-17\", \"2004-10-18\", \"2004-10-19\", \"2004-10-20\", \"2004-10-21\", \"2004-10-22\", \"2004-10-23\", \"2004-10-24\", \"2004-10-25\", \"2004-10-26\", \"2004-10-27\", \"2004-10-28\", \"2004-10-29\", \"2004-10-30\", \"2004-10-31\", \"2004-11-01\", \"2004-11-02\", \"2004-11-03\", \"2004-11-04\", \"2004-11-05\", \"2004-11-06\", \"2004-11-07\", \"2004-11-08\", \"2004-11-09\", \"2004-11-10\", \"2004-11-11\", \"2004-11-12\", \"2004-11-13\", \"2004-11-14\", \"2004-11-15\", \"2004-11-16\", \"2004-11-17\", \"2004-11-18\", \"2004-11-19\", \"2004-11-20\", \"2004-11-21\", \"2004-11-22\", \"2004-11-23\", \"2004-11-24\", \"2004-11-25\", \"2004-11-26\", \"2004-11-27\", \"2004-11-28\", \"2004-11-29\", \"2004-11-30\", \"2004-12-01\", \"2004-12-02\", \"2004-12-03\", \"2004-12-04\", \"2004-12-05\", \"2004-12-06\", \"2004-12-07\", \"2004-12-08\", \"2004-12-09\", \"2004-12-10\", \"2004-12-11\", \"2004-12-12\", \"2004-12-13\", \"2004-12-14\", \"2004-12-15\", \"2004-12-16\", \"2004-12-17\", \"2004-12-18\", \"2004-12-19\", \"2004-12-20\", \"2004-12-21\", \"2004-12-22\", \"2004-12-23\", \"2004-12-24\", \"2004-12-25\", \"2004-12-26\", \"2004-12-27\", \"2004-12-28\", \"2004-12-29\", \"2004-12-30\", \"2004-12-31\", \"2005-01-01\", \"2005-01-02\", \"2005-01-03\", \"2005-01-04\", \"2005-01-05\", \"2005-01-06\", \"2005-01-07\", \"2005-01-08\", \"2005-01-09\", \"2005-01-10\", \"2005-01-11\", \"2005-01-12\", \"2005-01-13\", \"2005-01-14\", \"2005-01-15\", \"2005-01-16\", \"2005-01-17\", \"2005-01-18\", \"2005-01-19\", \"2005-01-20\", \"2005-01-21\", \"2005-01-22\", \"2005-01-23\", \"2005-01-24\", \"2005-01-25\", \"2005-01-26\", \"2005-01-27\", \"2005-01-28\", \"2005-01-29\", \"2005-01-30\", \"2005-01-31\", \"2005-02-01\", \"2005-02-02\", \"2005-02-03\", \"2005-02-04\", \"2005-02-05\", \"2005-02-06\", \"2005-02-07\", \"2005-02-08\", \"2005-02-09\", \"2005-02-10\", \"2005-02-11\", \"2005-02-12\", \"2005-02-13\", \"2005-02-14\", \"2005-02-15\", \"2005-02-16\", \"2005-02-17\", \"2005-02-18\", \"2005-02-19\", \"2005-02-20\", \"2005-02-21\", \"2005-02-22\", \"2005-02-23\", \"2005-02-24\", \"2005-02-25\", \"2005-02-26\", \"2005-02-27\", \"2005-02-28\", \"2005-03-01\", \"2005-03-02\", \"2005-03-03\", \"2005-03-04\", \"2005-03-05\", \"2005-03-06\", \"2005-03-07\", \"2005-03-08\", \"2005-03-09\", \"2005-03-10\", \"2005-03-11\", \"2005-03-12\", \"2005-03-13\", \"2005-03-14\", \"2005-03-15\", \"2005-03-16\", \"2005-03-17\", \"2005-03-18\", \"2005-03-19\", \"2005-03-20\", \"2005-03-21\", \"2005-03-22\", \"2005-03-23\", \"2005-03-24\", \"2005-03-25\", \"2005-03-26\", \"2005-03-27\", \"2005-03-28\", \"2005-03-29\", \"2005-03-30\", \"2005-03-31\", \"2005-04-01\", \"2005-04-02\", \"2005-04-03\", \"2005-04-04\", \"2005-04-05\", \"2005-04-06\", \"2005-04-07\", \"2005-04-08\", \"2005-04-09\", \"2005-04-10\", \"2005-04-11\", \"2005-04-12\", \"2005-04-13\", \"2005-04-14\", \"2005-04-15\", \"2005-04-16\", \"2005-04-17\", \"2005-04-18\", \"2005-04-19\", \"2005-04-20\", \"2005-04-21\", \"2005-04-22\", \"2005-04-23\", \"2005-04-24\", \"2005-04-25\", \"2005-04-26\", \"2005-04-27\", \"2005-04-28\", \"2005-04-29\", \"2005-04-30\", \"2005-05-01\", \"2005-05-02\", \"2005-05-03\", \"2005-05-04\", \"2005-05-05\", \"2005-05-06\", \"2005-05-07\", \"2005-05-08\", \"2005-05-09\", \"2005-05-10\", \"2005-05-11\", \"2005-05-12\", \"2005-05-13\", \"2005-05-14\", \"2005-05-15\", \"2005-05-16\", \"2005-05-17\", \"2005-05-18\", \"2005-05-19\", \"2005-05-20\", \"2005-05-21\", \"2005-05-22\", \"2005-05-23\", \"2005-05-24\", \"2005-05-25\", \"2005-05-26\", \"2005-05-27\", \"2005-05-28\", \"2005-05-29\", \"2005-05-30\", \"2005-05-31\", \"2005-06-01\", \"2005-06-02\", \"2005-06-03\", \"2005-06-04\", \"2005-06-05\", \"2005-06-06\", \"2005-06-07\", \"2005-06-08\", \"2005-06-09\", \"2005-06-10\", \"2005-06-11\", \"2005-06-12\", \"2005-06-13\", \"2005-06-14\", \"2005-06-15\", \"2005-06-16\", \"2005-06-17\", \"2005-06-18\", \"2005-06-19\", \"2005-06-20\", \"2005-06-21\", \"2005-06-22\", \"2005-06-23\", \"2005-06-24\", \"2005-06-25\", \"2005-06-26\", \"2005-06-27\", \"2005-06-28\", \"2005-06-29\", \"2005-06-30\", \"2005-07-01\", \"2005-07-02\", \"2005-07-03\", \"2005-07-04\", \"2005-07-05\", \"2005-07-06\", \"2005-07-07\", \"2005-07-08\", \"2005-07-09\", \"2005-07-10\", \"2005-07-11\", \"2005-07-12\", \"2005-07-13\", \"2005-07-14\", \"2005-07-15\", \"2005-07-16\", \"2005-07-17\", \"2005-07-18\", \"2005-07-19\", \"2005-07-20\", \"2005-07-21\", \"2005-07-22\", \"2005-07-23\", \"2005-07-24\", \"2005-07-25\", \"2005-07-26\", \"2005-07-27\", \"2005-07-28\", \"2005-07-29\", \"2005-07-30\", \"2005-07-31\", \"2005-08-01\", \"2005-08-02\", \"2005-08-03\", \"2005-08-04\", \"2005-08-05\", \"2005-08-06\", \"2005-08-07\", \"2005-08-08\", \"2005-08-09\", \"2005-08-10\", \"2005-08-11\", \"2005-08-12\", \"2005-08-13\", \"2005-08-14\", \"2005-08-15\", \"2005-08-16\", \"2005-08-17\", \"2005-08-18\", \"2005-08-19\", \"2005-08-20\", \"2005-08-21\", \"2005-08-22\", \"2005-08-23\", \"2005-08-24\", \"2005-08-25\", \"2005-08-26\", \"2005-08-27\", \"2005-08-28\", \"2005-08-29\", \"2005-08-30\", \"2005-08-31\", \"2005-09-01\", \"2005-09-02\", \"2005-09-03\", \"2005-09-04\", \"2005-09-05\", \"2005-09-06\", \"2005-09-07\", \"2005-09-08\", \"2005-09-09\", \"2005-09-10\", \"2005-09-11\", \"2005-09-12\", \"2005-09-13\", \"2005-09-14\", \"2005-09-15\", \"2005-09-16\", \"2005-09-17\", \"2005-09-18\", \"2005-09-19\", \"2005-09-20\", \"2005-09-21\", \"2005-09-22\", \"2005-09-23\", \"2005-09-24\", \"2005-09-25\", \"2005-09-26\", \"2005-09-27\", \"2005-09-28\", \"2005-09-29\", \"2005-09-30\", \"2005-10-01\", \"2005-10-02\", \"2005-10-03\", \"2005-10-04\", \"2005-10-05\", \"2005-10-06\", \"2005-10-07\", \"2005-10-08\", \"2005-10-09\", \"2005-10-10\", \"2005-10-11\", \"2005-10-12\", \"2005-10-13\", \"2005-10-14\", \"2005-10-15\", \"2005-10-16\", \"2005-10-17\", \"2005-10-18\", \"2005-10-19\", \"2005-10-20\", \"2005-10-21\", \"2005-10-22\", \"2005-10-23\", \"2005-10-24\", \"2005-10-25\", \"2005-10-26\", \"2005-10-27\", \"2005-10-28\", \"2005-10-29\", \"2005-10-30\", \"2005-10-31\", \"2005-11-01\", \"2005-11-02\", \"2005-11-03\", \"2005-11-04\", \"2005-11-05\", \"2005-11-06\", \"2005-11-07\", \"2005-11-08\", \"2005-11-09\", \"2005-11-10\", \"2005-11-11\", \"2005-11-12\", \"2005-11-13\", \"2005-11-14\", \"2005-11-15\", \"2005-11-16\", \"2005-11-17\", \"2005-11-18\", \"2005-11-19\", \"2005-11-20\", \"2005-11-21\", \"2005-11-22\", \"2005-11-23\", \"2005-11-24\", \"2005-11-25\", \"2005-11-26\", \"2005-11-27\", \"2005-11-28\", \"2005-11-29\", \"2005-11-30\", \"2005-12-01\", \"2005-12-02\", \"2005-12-03\", \"2005-12-04\", \"2005-12-05\", \"2005-12-06\", \"2005-12-07\", \"2005-12-08\", \"2005-12-09\", \"2005-12-10\", \"2005-12-11\", \"2005-12-12\", \"2005-12-13\", \"2005-12-14\", \"2005-12-15\", \"2005-12-16\", \"2005-12-17\", \"2005-12-18\", \"2005-12-19\", \"2005-12-20\", \"2005-12-21\", \"2005-12-22\", \"2005-12-23\", \"2005-12-24\", \"2005-12-25\", \"2005-12-26\", \"2005-12-27\", \"2005-12-28\", \"2005-12-29\", \"2005-12-30\", \"2005-12-31\", \"2006-01-01\", \"2006-01-02\", \"2006-01-03\", \"2006-01-04\", \"2006-01-05\", \"2006-01-06\", \"2006-01-07\", \"2006-01-08\", \"2006-01-09\", \"2006-01-10\", \"2006-01-11\", \"2006-01-12\", \"2006-01-13\", \"2006-01-14\", \"2006-01-15\", \"2006-01-16\", \"2006-01-17\", \"2006-01-18\", \"2006-01-19\", \"2006-01-20\", \"2006-01-21\", \"2006-01-22\", \"2006-01-23\", \"2006-01-24\", \"2006-01-25\", \"2006-01-26\", \"2006-01-27\", \"2006-01-28\", \"2006-01-29\", \"2006-01-30\", \"2006-01-31\", \"2006-02-01\", \"2006-02-02\", \"2006-02-03\", \"2006-02-04\", \"2006-02-05\", \"2006-02-06\", \"2006-02-07\", \"2006-02-08\", \"2006-02-09\", \"2006-02-10\", \"2006-02-11\", \"2006-02-12\", \"2006-02-13\", \"2006-02-14\", \"2006-02-15\", \"2006-02-16\", \"2006-02-17\", \"2006-02-18\", \"2006-02-19\", \"2006-02-20\", \"2006-02-21\", \"2006-02-22\", \"2006-02-23\", \"2006-02-24\", \"2006-02-25\", \"2006-02-26\", \"2006-02-27\", \"2006-02-28\", \"2006-03-01\", \"2006-03-02\", \"2006-03-03\", \"2006-03-04\", \"2006-03-05\", \"2006-03-06\", \"2006-03-07\", \"2006-03-08\", \"2006-03-09\", \"2006-03-10\", \"2006-03-11\", \"2006-03-12\", \"2006-03-13\", \"2006-03-14\", \"2006-03-15\", \"2006-03-16\", \"2006-03-17\", \"2006-03-18\", \"2006-03-19\", \"2006-03-20\", \"2006-03-21\", \"2006-03-22\", \"2006-03-23\", \"2006-03-24\", \"2006-03-25\", \"2006-03-26\", \"2006-03-27\", \"2006-03-28\", \"2006-03-29\", \"2006-03-30\", \"2006-03-31\", \"2006-04-01\", \"2006-04-02\", \"2006-04-03\", \"2006-04-04\", \"2006-04-05\", \"2006-04-06\", \"2006-04-07\", \"2006-04-08\", \"2006-04-09\", \"2006-04-10\", \"2006-04-11\", \"2006-04-12\", \"2006-04-13\", \"2006-04-14\", \"2006-04-15\", \"2006-04-16\", \"2006-04-17\", \"2006-04-18\", \"2006-04-19\", \"2006-04-20\", \"2006-04-21\", \"2006-04-22\", \"2006-04-23\", \"2006-04-24\", \"2006-04-25\", \"2006-04-26\", \"2006-04-27\", \"2006-04-28\", \"2006-04-29\", \"2006-04-30\", \"2006-05-01\", \"2006-05-02\", \"2006-05-03\", \"2006-05-04\", \"2006-05-05\", \"2006-05-06\", \"2006-05-07\", \"2006-05-08\", \"2006-05-09\", \"2006-05-10\", \"2006-05-11\", \"2006-05-12\", \"2006-05-13\", \"2006-05-14\", \"2006-05-15\", \"2006-05-16\", \"2006-05-17\", \"2006-05-18\", \"2006-05-19\", \"2006-05-20\", \"2006-05-21\", \"2006-05-22\", \"2006-05-23\", \"2006-05-24\", \"2006-05-25\", \"2006-05-26\", \"2006-05-27\", \"2006-05-28\", \"2006-05-29\", \"2006-05-30\", \"2006-05-31\", \"2006-06-01\", \"2006-06-02\", \"2006-06-03\", \"2006-06-04\", \"2006-06-05\", \"2006-06-06\", \"2006-06-07\", \"2006-06-08\", \"2006-06-09\", \"2006-06-10\", \"2006-06-11\", \"2006-06-12\", \"2006-06-13\", \"2006-06-14\", \"2006-06-15\", \"2006-06-16\", \"2006-06-17\", \"2006-06-18\", \"2006-06-19\", \"2006-06-20\", \"2006-06-21\", \"2006-06-22\", \"2006-06-23\", \"2006-06-24\", \"2006-06-25\", \"2006-06-26\", \"2006-06-27\", \"2006-06-28\", \"2006-06-29\", \"2006-06-30\", \"2006-07-01\", \"2006-07-02\", \"2006-07-03\", \"2006-07-04\", \"2006-07-05\", \"2006-07-06\", \"2006-07-07\", \"2006-07-08\", \"2006-07-09\", \"2006-07-10\", \"2006-07-11\", \"2006-07-12\", \"2006-07-13\", \"2006-07-14\", \"2006-07-15\", \"2006-07-16\", \"2006-07-17\", \"2006-07-18\", \"2006-07-19\", \"2006-07-20\", \"2006-07-21\", \"2006-07-22\", \"2006-07-23\", \"2006-07-24\", \"2006-07-25\", \"2006-07-26\", \"2006-07-27\", \"2006-07-28\", \"2006-07-29\", \"2006-07-30\", \"2006-07-31\", \"2006-08-01\", \"2006-08-02\", \"2006-08-03\", \"2006-08-04\", \"2006-08-05\", \"2006-08-06\", \"2006-08-07\", \"2006-08-08\", \"2006-08-09\", \"2006-08-10\", \"2006-08-11\", \"2006-08-12\", \"2006-08-13\", \"2006-08-14\", \"2006-08-15\", \"2006-08-16\", \"2006-08-17\", \"2006-08-18\", \"2006-08-19\", \"2006-08-20\", \"2006-08-21\", \"2006-08-22\", \"2006-08-23\", \"2006-08-24\", \"2006-08-25\", \"2006-08-26\", \"2006-08-27\", \"2006-08-28\", \"2006-08-29\", \"2006-08-30\", \"2006-08-31\", \"2006-09-01\", \"2006-09-02\", \"2006-09-03\", \"2006-09-04\", \"2006-09-05\", \"2006-09-06\", \"2006-09-07\", \"2006-09-08\", \"2006-09-09\", \"2006-09-10\", \"2006-09-11\", \"2006-09-12\", \"2006-09-13\", \"2006-09-14\", \"2006-09-15\", \"2006-09-16\", \"2006-09-17\", \"2006-09-18\", \"2006-09-19\", \"2006-09-20\", \"2006-09-21\", \"2006-09-22\", \"2006-09-23\", \"2006-09-24\", \"2006-09-25\", \"2006-09-26\", \"2006-09-27\", \"2006-09-28\", \"2006-09-29\", \"2006-09-30\", \"2006-10-01\", \"2006-10-02\", \"2006-10-03\", \"2006-10-04\", \"2006-10-05\", \"2006-10-06\", \"2006-10-07\", \"2006-10-08\", \"2006-10-09\", \"2006-10-10\", \"2006-10-11\", \"2006-10-12\", \"2006-10-13\", \"2006-10-14\", \"2006-10-15\", \"2006-10-16\", \"2006-10-17\", \"2006-10-18\", \"2006-10-19\", \"2006-10-20\", \"2006-10-21\", \"2006-10-22\", \"2006-10-23\", \"2006-10-24\", \"2006-10-25\", \"2006-10-26\", \"2006-10-27\", \"2006-10-28\", \"2006-10-29\", \"2006-10-30\", \"2006-10-31\", \"2006-11-01\", \"2006-11-02\", \"2006-11-03\", \"2006-11-04\", \"2006-11-05\", \"2006-11-06\", \"2006-11-07\", \"2006-11-08\", \"2006-11-09\", \"2006-11-10\", \"2006-11-11\", \"2006-11-12\", \"2006-11-13\", \"2006-11-14\", \"2006-11-15\", \"2006-11-16\", \"2006-11-17\", \"2006-11-18\", \"2006-11-19\", \"2006-11-20\", \"2006-11-21\", \"2006-11-22\", \"2006-11-23\", \"2006-11-24\", \"2006-11-25\", \"2006-11-26\", \"2006-11-27\", \"2006-11-28\", \"2006-11-29\", \"2006-11-30\", \"2006-12-01\", \"2006-12-02\", \"2006-12-03\", \"2006-12-04\", \"2006-12-05\", \"2006-12-06\", \"2006-12-07\", \"2006-12-08\", \"2006-12-09\", \"2006-12-10\", \"2006-12-11\", \"2006-12-12\", \"2006-12-13\", \"2006-12-14\", \"2006-12-15\", \"2006-12-16\", \"2006-12-17\", \"2006-12-18\", \"2006-12-19\", \"2006-12-20\", \"2006-12-21\", \"2006-12-22\", \"2006-12-23\", \"2006-12-24\", \"2006-12-25\", \"2006-12-26\", \"2006-12-27\", \"2006-12-28\", \"2006-12-29\", \"2006-12-30\", \"2006-12-31\", \"2007-01-01\", \"2007-01-02\", \"2007-01-03\", \"2007-01-04\", \"2007-01-05\", \"2007-01-06\", \"2007-01-07\", \"2007-01-08\", \"2007-01-09\", \"2007-01-10\", \"2007-01-11\", \"2007-01-12\", \"2007-01-13\", \"2007-01-14\", \"2007-01-15\", \"2007-01-16\", \"2007-01-17\", \"2007-01-18\", \"2007-01-19\", \"2007-01-20\", \"2007-01-21\", \"2007-01-22\", \"2007-01-23\", \"2007-01-24\", \"2007-01-25\", \"2007-01-26\", \"2007-01-27\", \"2007-01-28\", \"2007-01-29\", \"2007-01-30\", \"2007-01-31\", \"2007-02-01\", \"2007-02-02\", \"2007-02-03\", \"2007-02-04\", \"2007-02-05\", \"2007-02-06\", \"2007-02-07\", \"2007-02-08\", \"2007-02-09\", \"2007-02-10\", \"2007-02-11\", \"2007-02-12\", \"2007-02-13\", \"2007-02-14\", \"2007-02-15\", \"2007-02-16\", \"2007-02-17\", \"2007-02-18\", \"2007-02-19\", \"2007-02-20\", \"2007-02-21\", \"2007-02-22\", \"2007-02-23\", \"2007-02-24\", \"2007-02-25\", \"2007-02-26\", \"2007-02-27\", \"2007-02-28\", \"2007-03-01\", \"2007-03-02\", \"2007-03-03\", \"2007-03-04\", \"2007-03-05\", \"2007-03-06\", \"2007-03-07\", \"2007-03-08\", \"2007-03-09\", \"2007-03-10\", \"2007-03-11\", \"2007-03-12\", \"2007-03-13\", \"2007-03-14\", \"2007-03-15\", \"2007-03-16\", \"2007-03-17\", \"2007-03-18\", \"2007-03-19\", \"2007-03-20\", \"2007-03-21\", \"2007-03-22\", \"2007-03-23\", \"2007-03-24\", \"2007-03-25\", \"2007-03-26\", \"2007-03-27\", \"2007-03-28\", \"2007-03-29\", \"2007-03-30\", \"2007-03-31\", \"2007-04-01\", \"2007-04-02\", \"2007-04-03\", \"2007-04-04\", \"2007-04-05\", \"2007-04-06\", \"2007-04-07\", \"2007-04-08\", \"2007-04-09\", \"2007-04-10\", \"2007-04-11\", \"2007-04-12\", \"2007-04-13\", \"2007-04-14\", \"2007-04-15\", \"2007-04-16\", \"2007-04-17\", \"2007-04-18\", \"2007-04-19\", \"2007-04-20\", \"2007-04-21\", \"2007-04-22\", \"2007-04-23\", \"2007-04-24\", \"2007-04-25\", \"2007-04-26\", \"2007-04-27\", \"2007-04-28\", \"2007-04-29\", \"2007-04-30\", \"2007-05-01\", \"2007-05-02\", \"2007-05-03\", \"2007-05-04\", \"2007-05-05\", \"2007-05-06\", \"2007-05-07\", \"2007-05-08\", \"2007-05-09\", \"2007-05-10\", \"2007-05-11\", \"2007-05-12\", \"2007-05-13\", \"2007-05-14\", \"2007-05-15\", \"2007-05-16\", \"2007-05-17\", \"2007-05-18\", \"2007-05-19\", \"2007-05-20\", \"2007-05-21\", \"2007-05-22\", \"2007-05-23\", \"2007-05-24\", \"2007-05-25\", \"2007-05-26\", \"2007-05-27\", \"2007-05-28\", \"2007-05-29\", \"2007-05-30\", \"2007-05-31\", \"2007-06-01\", \"2007-06-02\", \"2007-06-03\", \"2007-06-04\", \"2007-06-05\", \"2007-06-06\", \"2007-06-07\", \"2007-06-08\", \"2007-06-09\", \"2007-06-10\", \"2007-06-11\", \"2007-06-12\", \"2007-06-13\", \"2007-06-14\", \"2007-06-15\", \"2007-06-16\", \"2007-06-17\", \"2007-06-18\", \"2007-06-19\", \"2007-06-20\", \"2007-06-21\", \"2007-06-22\", \"2007-06-23\", \"2007-06-24\", \"2007-06-25\", \"2007-06-26\", \"2007-06-27\", \"2007-06-28\", \"2007-06-29\", \"2007-06-30\", \"2007-07-01\", \"2007-07-02\", \"2007-07-03\", \"2007-07-04\", \"2007-07-05\", \"2007-07-06\", \"2007-07-07\", \"2007-07-08\", \"2007-07-09\", \"2007-07-10\", \"2007-07-11\", \"2007-07-12\", \"2007-07-13\", \"2007-07-14\", \"2007-07-15\", \"2007-07-16\", \"2007-07-17\", \"2007-07-18\", \"2007-07-19\", \"2007-07-20\", \"2007-07-21\", \"2007-07-22\", \"2007-07-23\", \"2007-07-24\", \"2007-07-25\", \"2007-07-26\", \"2007-07-27\", \"2007-07-28\", \"2007-07-29\", \"2007-07-30\", \"2007-07-31\", \"2007-08-01\", \"2007-08-02\", \"2007-08-03\", \"2007-08-04\", \"2007-08-05\", \"2007-08-06\", \"2007-08-07\", \"2007-08-08\", \"2007-08-09\", \"2007-08-10\", \"2007-08-11\", \"2007-08-12\", \"2007-08-13\", \"2007-08-14\", \"2007-08-15\", \"2007-08-16\", \"2007-08-17\", \"2007-08-18\", \"2007-08-19\", \"2007-08-20\", \"2007-08-21\", \"2007-08-22\", \"2007-08-23\", \"2007-08-24\", \"2007-08-25\", \"2007-08-26\", \"2007-08-27\", \"2007-08-28\", \"2007-08-29\", \"2007-08-30\", \"2007-08-31\", \"2007-09-01\", \"2007-09-02\", \"2007-09-03\", \"2007-09-04\", \"2007-09-05\", \"2007-09-06\", \"2007-09-07\", \"2007-09-08\", \"2007-09-09\", \"2007-09-10\", \"2007-09-11\", \"2007-09-12\", \"2007-09-13\", \"2007-09-14\", \"2007-09-15\", \"2007-09-16\", \"2007-09-17\", \"2007-09-18\", \"2007-09-19\", \"2007-09-20\", \"2007-09-21\", \"2007-09-22\", \"2007-09-23\", \"2007-09-24\", \"2007-09-25\", \"2007-09-26\", \"2007-09-27\", \"2007-09-28\", \"2007-09-29\", \"2007-09-30\", \"2007-10-01\", \"2007-10-02\", \"2007-10-03\", \"2007-10-04\", \"2007-10-05\", \"2007-10-06\", \"2007-10-07\", \"2007-10-08\", \"2007-10-09\", \"2007-10-10\", \"2007-10-11\", \"2007-10-12\", \"2007-10-13\", \"2007-10-14\", \"2007-10-15\", \"2007-10-16\", \"2007-10-17\", \"2007-10-18\", \"2007-10-19\", \"2007-10-20\", \"2007-10-21\", \"2007-10-22\", \"2007-10-23\", \"2007-10-24\", \"2007-10-25\", \"2007-10-26\", \"2007-10-27\", \"2007-10-28\", \"2007-10-29\", \"2007-10-30\", \"2007-10-31\", \"2007-11-01\", \"2007-11-02\", \"2007-11-03\", \"2007-11-04\", \"2007-11-05\", \"2007-11-06\", \"2007-11-07\", \"2007-11-08\", \"2007-11-09\", \"2007-11-10\", \"2007-11-11\", \"2007-11-12\", \"2007-11-13\", \"2007-11-14\", \"2007-11-15\", \"2007-11-16\", \"2007-11-17\", \"2007-11-18\", \"2007-11-19\", \"2007-11-20\", \"2007-11-21\", \"2007-11-22\", \"2007-11-23\", \"2007-11-24\", \"2007-11-25\", \"2007-11-26\", \"2007-11-27\", \"2007-11-28\", \"2007-11-29\", \"2007-11-30\", \"2007-12-01\", \"2007-12-02\", \"2007-12-03\", \"2007-12-04\", \"2007-12-05\", \"2007-12-06\", \"2007-12-07\", \"2007-12-08\", \"2007-12-09\", \"2007-12-10\", \"2007-12-11\", \"2007-12-12\", \"2007-12-13\", \"2007-12-14\", \"2007-12-15\", \"2007-12-16\", \"2007-12-17\", \"2007-12-18\", \"2007-12-19\", \"2007-12-20\", \"2007-12-21\", \"2007-12-22\", \"2007-12-23\", \"2007-12-24\", \"2007-12-25\", \"2007-12-26\", \"2007-12-27\", \"2007-12-28\", \"2007-12-29\", \"2007-12-30\", \"2007-12-31\", \"2008-01-01\", \"2008-01-02\", \"2008-01-03\", \"2008-01-04\", \"2008-01-05\", \"2008-01-06\", \"2008-01-07\", \"2008-01-08\", \"2008-01-09\", \"2008-01-10\", \"2008-01-11\", \"2008-01-12\", \"2008-01-13\", \"2008-01-14\", \"2008-01-15\", \"2008-01-16\", \"2008-01-17\", \"2008-01-18\", \"2008-01-19\", \"2008-01-20\", \"2008-01-21\", \"2008-01-22\", \"2008-01-23\", \"2008-01-24\", \"2008-01-25\", \"2008-01-26\", \"2008-01-27\", \"2008-01-28\", \"2008-01-29\", \"2008-01-30\", \"2008-01-31\", \"2008-02-01\", \"2008-02-02\", \"2008-02-03\", \"2008-02-04\", \"2008-02-05\", \"2008-02-06\", \"2008-02-07\", \"2008-02-08\", \"2008-02-09\", \"2008-02-10\", \"2008-02-11\", \"2008-02-12\", \"2008-02-13\", \"2008-02-14\", \"2008-02-15\", \"2008-02-16\", \"2008-02-17\", \"2008-02-18\", \"2008-02-19\", \"2008-02-20\", \"2008-02-21\", \"2008-02-22\", \"2008-02-23\", \"2008-02-24\", \"2008-02-25\", \"2008-02-26\", \"2008-02-27\", \"2008-02-28\", \"2008-02-29\", \"2008-03-01\", \"2008-03-02\", \"2008-03-03\", \"2008-03-04\", \"2008-03-05\", \"2008-03-06\", \"2008-03-07\", \"2008-03-08\", \"2008-03-09\", \"2008-03-10\", \"2008-03-11\", \"2008-03-12\", \"2008-03-13\", \"2008-03-14\", \"2008-03-15\", \"2008-03-16\", \"2008-03-17\", \"2008-03-18\", \"2008-03-19\", \"2008-03-20\", \"2008-03-21\", \"2008-03-22\", \"2008-03-23\", \"2008-03-24\", \"2008-03-25\", \"2008-03-26\", \"2008-03-27\", \"2008-03-28\", \"2008-03-29\", \"2008-03-30\", \"2008-03-31\", \"2008-04-01\", \"2008-04-02\", \"2008-04-03\", \"2008-04-04\", \"2008-04-05\", \"2008-04-06\", \"2008-04-07\", \"2008-04-08\", \"2008-04-09\", \"2008-04-10\", \"2008-04-11\", \"2008-04-12\", \"2008-04-13\", \"2008-04-14\", \"2008-04-15\", \"2008-04-16\", \"2008-04-17\", \"2008-04-18\", \"2008-04-19\", \"2008-04-20\", \"2008-04-21\", \"2008-04-22\", \"2008-04-23\", \"2008-04-24\", \"2008-04-25\", \"2008-04-26\", \"2008-04-27\", \"2008-04-28\", \"2008-04-29\", \"2008-04-30\", \"2008-05-01\", \"2008-05-02\", \"2008-05-03\", \"2008-05-04\", \"2008-05-05\", \"2008-05-06\", \"2008-05-07\", \"2008-05-08\", \"2008-05-09\", \"2008-05-10\", \"2008-05-11\", \"2008-05-12\", \"2008-05-13\", \"2008-05-14\", \"2008-05-15\", \"2008-05-16\", \"2008-05-17\", \"2008-05-18\", \"2008-05-19\", \"2008-05-20\", \"2008-05-21\", \"2008-05-22\", \"2008-05-23\", \"2008-05-24\", \"2008-05-25\", \"2008-05-26\", \"2008-05-27\", \"2008-05-28\", \"2008-05-29\", \"2008-05-30\", \"2008-05-31\", \"2008-06-01\", \"2008-06-02\", \"2008-06-03\", \"2008-06-04\", \"2008-06-05\", \"2008-06-06\", \"2008-06-07\", \"2008-06-08\", \"2008-06-09\", \"2008-06-10\", \"2008-06-11\", \"2008-06-12\", \"2008-06-13\", \"2008-06-14\", \"2008-06-15\", \"2008-06-16\", \"2008-06-17\", \"2008-06-18\", \"2008-06-19\", \"2008-06-20\", \"2008-06-21\", \"2008-06-22\", \"2008-06-23\", \"2008-06-24\", \"2008-06-25\", \"2008-06-26\", \"2008-06-27\", \"2008-06-28\", \"2008-06-29\", \"2008-06-30\", \"2008-07-01\", \"2008-07-02\", \"2008-07-03\", \"2008-07-04\", \"2008-07-05\", \"2008-07-06\", \"2008-07-07\", \"2008-07-08\", \"2008-07-09\", \"2008-07-10\", \"2008-07-11\", \"2008-07-12\", \"2008-07-13\", \"2008-07-14\", \"2008-07-15\", \"2008-07-16\", \"2008-07-17\", \"2008-07-18\", \"2008-07-19\", \"2008-07-20\", \"2008-07-21\", \"2008-07-22\", \"2008-07-23\", \"2008-07-24\", \"2008-07-25\", \"2008-07-26\", \"2008-07-27\", \"2008-07-28\", \"2008-07-29\", \"2008-07-30\", \"2008-07-31\", \"2008-08-01\", \"2008-08-02\", \"2008-08-03\", \"2008-08-04\", \"2008-08-05\", \"2008-08-06\", \"2008-08-07\", \"2008-08-08\", \"2008-08-09\", \"2008-08-10\", \"2008-08-11\", \"2008-08-12\", \"2008-08-13\", \"2008-08-14\", \"2008-08-15\", \"2008-08-16\", \"2008-08-17\", \"2008-08-18\", \"2008-08-19\", \"2008-08-20\", \"2008-08-21\", \"2008-08-22\", \"2008-08-23\", \"2008-08-24\", \"2008-08-25\", \"2008-08-26\", \"2008-08-27\", \"2008-08-28\", \"2008-08-29\", \"2008-08-30\", \"2008-08-31\", \"2008-09-01\", \"2008-09-02\", \"2008-09-03\", \"2008-09-04\", \"2008-09-05\", \"2008-09-06\", \"2008-09-07\", \"2008-09-08\", \"2008-09-09\", \"2008-09-10\", \"2008-09-11\", \"2008-09-12\", \"2008-09-13\", \"2008-09-14\", \"2008-09-15\", \"2008-09-16\", \"2008-09-17\", \"2008-09-18\", \"2008-09-19\", \"2008-09-20\", \"2008-09-21\", \"2008-09-22\", \"2008-09-23\", \"2008-09-24\", \"2008-09-25\", \"2008-09-26\", \"2008-09-27\", \"2008-09-28\", \"2008-09-29\", \"2008-09-30\", \"2008-10-01\", \"2008-10-02\", \"2008-10-03\", \"2008-10-04\", \"2008-10-05\", \"2008-10-06\", \"2008-10-07\", \"2008-10-08\", \"2008-10-09\", \"2008-10-10\", \"2008-10-11\", \"2008-10-12\", \"2008-10-13\", \"2008-10-14\", \"2008-10-15\", \"2008-10-16\", \"2008-10-17\", \"2008-10-18\", \"2008-10-19\", \"2008-10-20\", \"2008-10-21\", \"2008-10-22\", \"2008-10-23\", \"2008-10-24\", \"2008-10-25\", \"2008-10-26\", \"2008-10-27\", \"2008-10-28\", \"2008-10-29\", \"2008-10-30\", \"2008-10-31\", \"2008-11-01\", \"2008-11-02\", \"2008-11-03\", \"2008-11-04\", \"2008-11-05\", \"2008-11-06\", \"2008-11-07\", \"2008-11-08\", \"2008-11-09\", \"2008-11-10\", \"2008-11-11\", \"2008-11-12\", \"2008-11-13\", \"2008-11-14\", \"2008-11-15\", \"2008-11-16\", \"2008-11-17\", \"2008-11-18\", \"2008-11-19\", \"2008-11-20\", \"2008-11-21\", \"2008-11-22\", \"2008-11-23\", \"2008-11-24\", \"2008-11-25\", \"2008-11-26\", \"2008-11-27\", \"2008-11-28\", \"2008-11-29\", \"2008-11-30\", \"2008-12-01\", \"2008-12-02\", \"2008-12-03\", \"2008-12-04\", \"2008-12-05\", \"2008-12-06\", \"2008-12-07\", \"2008-12-08\", \"2008-12-09\", \"2008-12-10\", \"2008-12-11\", \"2008-12-12\", \"2008-12-13\", \"2008-12-14\", \"2008-12-15\", \"2008-12-16\", \"2008-12-17\", \"2008-12-18\", \"2008-12-19\", \"2008-12-20\", \"2008-12-21\", \"2008-12-22\", \"2008-12-23\", \"2008-12-24\", \"2008-12-25\", \"2008-12-26\", \"2008-12-27\", \"2008-12-28\", \"2008-12-29\", \"2008-12-30\", \"2008-12-31\", \"2009-01-01\", \"2009-01-02\", \"2009-01-03\", \"2009-01-04\", \"2009-01-05\", \"2009-01-06\", \"2009-01-07\", \"2009-01-08\", \"2009-01-09\", \"2009-01-10\", \"2009-01-11\", \"2009-01-12\", \"2009-01-13\", \"2009-01-14\", \"2009-01-15\", \"2009-01-16\", \"2009-01-17\", \"2009-01-18\", \"2009-01-19\", \"2009-01-20\", \"2009-01-21\", \"2009-01-22\", \"2009-01-23\", \"2009-01-24\", \"2009-01-25\", \"2009-01-26\", \"2009-01-27\", \"2009-01-28\", \"2009-01-29\", \"2009-01-30\", \"2009-01-31\", \"2009-02-01\", \"2009-02-02\", \"2009-02-03\", \"2009-02-04\", \"2009-02-05\", \"2009-02-06\", \"2009-02-07\", \"2009-02-08\", \"2009-02-09\", \"2009-02-10\", \"2009-02-11\", \"2009-02-12\", \"2009-02-13\", \"2009-02-14\", \"2009-02-15\", \"2009-02-16\", \"2009-02-17\", \"2009-02-18\", \"2009-02-19\", \"2009-02-20\", \"2009-02-21\", \"2009-02-22\", \"2009-02-23\", \"2009-02-24\", \"2009-02-25\", \"2009-02-26\", \"2009-02-27\", \"2009-02-28\", \"2009-03-01\", \"2009-03-02\", \"2009-03-03\", \"2009-03-04\", \"2009-03-05\", \"2009-03-06\", \"2009-03-07\", \"2009-03-08\", \"2009-03-09\", \"2009-03-10\", \"2009-03-11\", \"2009-03-12\", \"2009-03-13\", \"2009-03-14\", \"2009-03-15\", \"2009-03-16\", \"2009-03-17\", \"2009-03-18\", \"2009-03-19\", \"2009-03-20\", \"2009-03-21\", \"2009-03-22\", \"2009-03-23\", \"2009-03-24\", \"2009-03-25\", \"2009-03-26\", \"2009-03-27\", \"2009-03-28\", \"2009-03-29\", \"2009-03-30\", \"2009-03-31\", \"2009-04-01\", \"2009-04-02\", \"2009-04-03\", \"2009-04-04\", \"2009-04-05\", \"2009-04-06\", \"2009-04-07\", \"2009-04-08\", \"2009-04-09\", \"2009-04-10\", \"2009-04-11\", \"2009-04-12\", \"2009-04-13\", \"2009-04-14\", \"2009-04-15\", \"2009-04-16\", \"2009-04-17\", \"2009-04-18\", \"2009-04-19\", \"2009-04-20\", \"2009-04-21\", \"2009-04-22\", \"2009-04-23\", \"2009-04-24\", \"2009-04-25\", \"2009-04-26\", \"2009-04-27\", \"2009-04-28\", \"2009-04-29\", \"2009-04-30\", \"2009-05-01\", \"2009-05-02\", \"2009-05-03\", \"2009-05-04\", \"2009-05-05\", \"2009-05-06\", \"2009-05-07\", \"2009-05-08\", \"2009-05-09\", \"2009-05-10\", \"2009-05-11\", \"2009-05-12\", \"2009-05-13\", \"2009-05-14\", \"2009-05-15\", \"2009-05-16\", \"2009-05-17\", \"2009-05-18\", \"2009-05-19\", \"2009-05-20\", \"2009-05-21\", \"2009-05-22\", \"2009-05-23\", \"2009-05-24\", \"2009-05-25\", \"2009-05-26\", \"2009-05-27\", \"2009-05-28\", \"2009-05-29\", \"2009-05-30\", \"2009-05-31\", \"2009-06-01\", \"2009-06-02\", \"2009-06-03\", \"2009-06-04\", \"2009-06-05\", \"2009-06-06\", \"2009-06-07\", \"2009-06-08\", \"2009-06-09\", \"2009-06-10\", \"2009-06-11\", \"2009-06-12\", \"2009-06-13\", \"2009-06-14\", \"2009-06-15\", \"2009-06-16\", \"2009-06-17\", \"2009-06-18\", \"2009-06-19\", \"2009-06-20\", \"2009-06-21\", \"2009-06-22\", \"2009-06-23\", \"2009-06-24\", \"2009-06-25\", \"2009-06-26\", \"2009-06-27\", \"2009-06-28\", \"2009-06-29\", \"2009-06-30\", \"2009-07-01\", \"2009-07-02\", \"2009-07-03\", \"2009-07-04\", \"2009-07-05\", \"2009-07-06\", \"2009-07-07\", \"2009-07-08\", \"2009-07-09\", \"2009-07-10\", \"2009-07-11\", \"2009-07-12\", \"2009-07-13\", \"2009-07-14\", \"2009-07-15\", \"2009-07-16\", \"2009-07-17\", \"2009-07-18\", \"2009-07-19\", \"2009-07-20\", \"2009-07-21\", \"2009-07-22\", \"2009-07-23\", \"2009-07-24\", \"2009-07-25\", \"2009-07-26\", \"2009-07-27\", \"2009-07-28\", \"2009-07-29\", \"2009-07-30\", \"2009-07-31\", \"2009-08-01\", \"2009-08-02\", \"2009-08-03\", \"2009-08-04\", \"2009-08-05\", \"2009-08-06\", \"2009-08-07\", \"2009-08-08\", \"2009-08-09\", \"2009-08-10\", \"2009-08-11\", \"2009-08-12\", \"2009-08-13\", \"2009-08-14\", \"2009-08-15\", \"2009-08-16\", \"2009-08-17\", \"2009-08-18\", \"2009-08-19\", \"2009-08-20\", \"2009-08-21\", \"2009-08-22\", \"2009-08-23\", \"2009-08-24\", \"2009-08-25\", \"2009-08-26\", \"2009-08-27\", \"2009-08-28\", \"2009-08-29\", \"2009-08-30\", \"2009-08-31\", \"2009-09-01\", \"2009-09-02\", \"2009-09-03\", \"2009-09-04\", \"2009-09-05\", \"2009-09-06\", \"2009-09-07\", \"2009-09-08\", \"2009-09-09\", \"2009-09-10\", \"2009-09-11\", \"2009-09-12\", \"2009-09-13\", \"2009-09-14\", \"2009-09-15\", \"2009-09-16\", \"2009-09-17\", \"2009-09-18\", \"2009-09-19\", \"2009-09-20\", \"2009-09-21\", \"2009-09-22\", \"2009-09-23\", \"2009-09-24\", \"2009-09-25\", \"2009-09-26\", \"2009-09-27\", \"2009-09-28\", \"2009-09-29\", \"2009-09-30\", \"2009-10-01\", \"2009-10-02\", \"2009-10-03\", \"2009-10-04\", \"2009-10-05\", \"2009-10-06\", \"2009-10-07\", \"2009-10-08\", \"2009-10-09\", \"2009-10-10\", \"2009-10-11\", \"2009-10-12\", \"2009-10-13\", \"2009-10-14\", \"2009-10-15\", \"2009-10-16\", \"2009-10-17\", \"2009-10-18\", \"2009-10-19\", \"2009-10-20\", \"2009-10-21\", \"2009-10-22\", \"2009-10-23\", \"2009-10-24\", \"2009-10-25\", \"2009-10-26\", \"2009-10-27\", \"2009-10-28\", \"2009-10-29\", \"2009-10-30\", \"2009-10-31\", \"2009-11-01\", \"2009-11-02\", \"2009-11-03\", \"2009-11-04\", \"2009-11-05\", \"2009-11-06\", \"2009-11-07\", \"2009-11-08\", \"2009-11-09\", \"2009-11-10\", \"2009-11-11\", \"2009-11-12\", \"2009-11-13\", \"2009-11-14\", \"2009-11-15\", \"2009-11-16\", \"2009-11-17\", \"2009-11-18\", \"2009-11-19\", \"2009-11-20\", \"2009-11-21\", \"2009-11-22\", \"2009-11-23\", \"2009-11-24\", \"2009-11-25\", \"2009-11-26\", \"2009-11-27\", \"2009-11-28\", \"2009-11-29\", \"2009-11-30\", \"2009-12-01\", \"2009-12-02\", \"2009-12-03\", \"2009-12-04\", \"2009-12-05\", \"2009-12-06\", \"2009-12-07\", \"2009-12-08\", \"2009-12-09\", \"2009-12-10\", \"2009-12-11\", \"2009-12-12\", \"2009-12-13\", \"2009-12-14\", \"2009-12-15\", \"2009-12-16\", \"2009-12-17\", \"2009-12-18\", \"2009-12-19\", \"2009-12-20\", \"2009-12-21\", \"2009-12-22\", \"2009-12-23\", \"2009-12-24\", \"2009-12-25\", \"2009-12-26\", \"2009-12-27\", \"2009-12-28\", \"2009-12-29\", \"2009-12-30\", \"2009-12-31\", \"2010-01-01\", \"2010-01-02\", \"2010-01-03\", \"2010-01-04\", \"2010-01-05\", \"2010-01-06\", \"2010-01-07\", \"2010-01-08\", \"2010-01-09\", \"2010-01-10\", \"2010-01-11\", \"2010-01-12\", \"2010-01-13\", \"2010-01-14\", \"2010-01-15\", \"2010-01-16\", \"2010-01-17\", \"2010-01-18\", \"2010-01-19\", \"2010-01-20\", \"2010-01-21\", \"2010-01-22\", \"2010-01-23\", \"2010-01-24\", \"2010-01-25\", \"2010-01-26\", \"2010-01-27\", \"2010-01-28\", \"2010-01-29\", \"2010-01-30\", \"2010-01-31\", \"2010-02-01\", \"2010-02-02\", \"2010-02-03\", \"2010-02-04\", \"2010-02-05\", \"2010-02-06\", \"2010-02-07\", \"2010-02-08\", \"2010-02-09\", \"2010-02-10\", \"2010-02-11\", \"2010-02-12\", \"2010-02-13\", \"2010-02-14\", \"2010-02-15\", \"2010-02-16\", \"2010-02-17\", \"2010-02-18\", \"2010-02-19\", \"2010-02-20\", \"2010-02-21\", \"2010-02-22\", \"2010-02-23\", \"2010-02-24\", \"2010-02-25\", \"2010-02-26\", \"2010-02-27\", \"2010-02-28\", \"2010-03-01\", \"2010-03-02\", \"2010-03-03\", \"2010-03-04\", \"2010-03-05\", \"2010-03-06\", \"2010-03-07\", \"2010-03-08\", \"2010-03-09\", \"2010-03-10\", \"2010-03-11\", \"2010-03-12\", \"2010-03-13\", \"2010-03-14\", \"2010-03-15\", \"2010-03-16\", \"2010-03-17\", \"2010-03-18\", \"2010-03-19\", \"2010-03-20\", \"2010-03-21\", \"2010-03-22\", \"2010-03-23\", \"2010-03-24\", \"2010-03-25\", \"2010-03-26\", \"2010-03-27\", \"2010-03-28\", \"2010-03-29\", \"2010-03-30\", \"2010-03-31\", \"2010-04-01\", \"2010-04-02\", \"2010-04-03\", \"2010-04-04\", \"2010-04-05\", \"2010-04-06\", \"2010-04-07\", \"2010-04-08\", \"2010-04-09\", \"2010-04-10\", \"2010-04-11\", \"2010-04-12\", \"2010-04-13\", \"2010-04-14\", \"2010-04-15\", \"2010-04-16\", \"2010-04-17\", \"2010-04-18\", \"2010-04-19\", \"2010-04-20\", \"2010-04-21\", \"2010-04-22\", \"2010-04-23\", \"2010-04-24\", \"2010-04-25\", \"2010-04-26\", \"2010-04-27\", \"2010-04-28\", \"2010-04-29\", \"2010-04-30\", \"2010-05-01\", \"2010-05-02\", \"2010-05-03\", \"2010-05-04\", \"2010-05-05\", \"2010-05-06\", \"2010-05-07\", \"2010-05-08\", \"2010-05-09\", \"2010-05-10\", \"2010-05-11\", \"2010-05-12\", \"2010-05-13\", \"2010-05-14\", \"2010-05-15\", \"2010-05-16\", \"2010-05-17\", \"2010-05-18\", \"2010-05-19\", \"2010-05-20\", \"2010-05-21\", \"2010-05-22\", \"2010-05-23\", \"2010-05-24\", \"2010-05-25\", \"2010-05-26\", \"2010-05-27\", \"2010-05-28\", \"2010-05-29\", \"2010-05-30\", \"2010-05-31\", \"2010-06-01\", \"2010-06-02\", \"2010-06-03\", \"2010-06-04\", \"2010-06-05\", \"2010-06-06\", \"2010-06-07\", \"2010-06-08\", \"2010-06-09\", \"2010-06-10\", \"2010-06-11\", \"2010-06-12\", \"2010-06-13\", \"2010-06-14\", \"2010-06-15\", \"2010-06-16\", \"2010-06-17\", \"2010-06-18\", \"2010-06-19\", \"2010-06-20\", \"2010-06-21\", \"2010-06-22\", \"2010-06-23\", \"2010-06-24\", \"2010-06-25\", \"2010-06-26\", \"2010-06-27\", \"2010-06-28\", \"2010-06-29\", \"2010-06-30\", \"2010-07-01\", \"2010-07-02\", \"2010-07-03\", \"2010-07-04\", \"2010-07-05\", \"2010-07-06\", \"2010-07-07\", \"2010-07-08\", \"2010-07-09\", \"2010-07-10\", \"2010-07-11\", \"2010-07-12\", \"2010-07-13\", \"2010-07-14\", \"2010-07-15\", \"2010-07-16\", \"2010-07-17\", \"2010-07-18\", \"2010-07-19\", \"2010-07-20\", \"2010-07-21\", \"2010-07-22\", \"2010-07-23\", \"2010-07-24\", \"2010-07-25\", \"2010-07-26\", \"2010-07-27\", \"2010-07-28\", \"2010-07-29\", \"2010-07-30\", \"2010-07-31\", \"2010-08-01\", \"2010-08-02\", \"2010-08-03\", \"2010-08-04\", \"2010-08-05\", \"2010-08-06\", \"2010-08-07\", \"2010-08-08\", \"2010-08-09\", \"2010-08-10\", \"2010-08-11\", \"2010-08-12\", \"2010-08-13\", \"2010-08-14\", \"2010-08-15\", \"2010-08-16\", \"2010-08-17\", \"2010-08-18\", \"2010-08-19\", \"2010-08-20\", \"2010-08-21\", \"2010-08-22\", \"2010-08-23\", \"2010-08-24\", \"2010-08-25\", \"2010-08-26\", \"2010-08-27\", \"2010-08-28\", \"2010-08-29\", \"2010-08-30\", \"2010-08-31\", \"2010-09-01\", \"2010-09-02\", \"2010-09-03\", \"2010-09-04\", \"2010-09-05\", \"2010-09-06\", \"2010-09-07\", \"2010-09-08\", \"2010-09-09\", \"2010-09-10\", \"2010-09-11\", \"2010-09-12\", \"2010-09-13\", \"2010-09-14\", \"2010-09-15\", \"2010-09-16\", \"2010-09-17\", \"2010-09-18\", \"2010-09-19\", \"2010-09-20\", \"2010-09-21\", \"2010-09-22\", \"2010-09-23\", \"2010-09-24\", \"2010-09-25\", \"2010-09-26\", \"2010-09-27\", \"2010-09-28\", \"2010-09-29\", \"2010-09-30\", \"2010-10-01\", \"2010-10-02\", \"2010-10-03\", \"2010-10-04\", \"2010-10-05\", \"2010-10-06\", \"2010-10-07\", \"2010-10-08\", \"2010-10-09\", \"2010-10-10\", \"2010-10-11\", \"2010-10-12\", \"2010-10-13\", \"2010-10-14\", \"2010-10-15\", \"2010-10-16\", \"2010-10-17\", \"2010-10-18\", \"2010-10-19\", \"2010-10-20\", \"2010-10-21\", \"2010-10-22\", \"2010-10-23\", \"2010-10-24\", \"2010-10-25\", \"2010-10-26\", \"2010-10-27\", \"2010-10-28\", \"2010-10-29\", \"2010-10-30\", \"2010-10-31\", \"2010-11-01\", \"2010-11-02\", \"2010-11-03\", \"2010-11-04\", \"2010-11-05\", \"2010-11-06\", \"2010-11-07\", \"2010-11-08\", \"2010-11-09\", \"2010-11-10\", \"2010-11-11\", \"2010-11-12\", \"2010-11-13\", \"2010-11-14\", \"2010-11-15\", \"2010-11-16\", \"2010-11-17\", \"2010-11-18\", \"2010-11-19\", \"2010-11-20\", \"2010-11-21\", \"2010-11-22\", \"2010-11-23\", \"2010-11-24\", \"2010-11-25\", \"2010-11-26\", \"2010-11-27\", \"2010-11-28\", \"2010-11-29\", \"2010-11-30\", \"2010-12-01\", \"2010-12-02\", \"2010-12-03\", \"2010-12-04\", \"2010-12-05\", \"2010-12-06\", \"2010-12-07\", \"2010-12-08\", \"2010-12-09\", \"2010-12-10\", \"2010-12-11\", \"2010-12-12\", \"2010-12-13\", \"2010-12-14\", \"2010-12-15\", \"2010-12-16\", \"2010-12-17\", \"2010-12-18\", \"2010-12-19\", \"2010-12-20\", \"2010-12-21\", \"2010-12-22\", \"2010-12-23\", \"2010-12-24\", \"2010-12-25\", \"2010-12-26\", \"2010-12-27\", \"2010-12-28\", \"2010-12-29\", \"2010-12-30\", \"2010-12-31\", \"2011-01-01\", \"2011-01-02\", \"2011-01-03\", \"2011-01-04\", \"2011-01-05\", \"2011-01-06\", \"2011-01-07\", \"2011-01-08\", \"2011-01-09\", \"2011-01-10\", \"2011-01-11\", \"2011-01-12\", \"2011-01-13\", \"2011-01-14\", \"2011-01-15\", \"2011-01-16\", \"2011-01-17\", \"2011-01-18\", \"2011-01-19\", \"2011-01-20\", \"2011-01-21\", \"2011-01-22\", \"2011-01-23\", \"2011-01-24\", \"2011-01-25\", \"2011-01-26\", \"2011-01-27\", \"2011-01-28\", \"2011-01-29\", \"2011-01-30\", \"2011-01-31\", \"2011-02-01\", \"2011-02-02\", \"2011-02-03\", \"2011-02-04\", \"2011-02-05\", \"2011-02-06\", \"2011-02-07\", \"2011-02-08\", \"2011-02-09\", \"2011-02-10\", \"2011-02-11\", \"2011-02-12\", \"2011-02-13\", \"2011-02-14\", \"2011-02-15\", \"2011-02-16\", \"2011-02-17\", \"2011-02-18\", \"2011-02-19\", \"2011-02-20\", \"2011-02-21\", \"2011-02-22\", \"2011-02-23\", \"2011-02-24\", \"2011-02-25\", \"2011-02-26\", \"2011-02-27\", \"2011-02-28\", \"2011-03-01\", \"2011-03-02\", \"2011-03-03\", \"2011-03-04\", \"2011-03-05\", \"2011-03-06\", \"2011-03-07\", \"2011-03-08\", \"2011-03-09\", \"2011-03-10\", \"2011-03-11\", \"2011-03-12\", \"2011-03-13\", \"2011-03-14\", \"2011-03-15\", \"2011-03-16\", \"2011-03-17\", \"2011-03-18\", \"2011-03-19\", \"2011-03-20\", \"2011-03-21\", \"2011-03-22\", \"2011-03-23\", \"2011-03-24\", \"2011-03-25\", \"2011-03-26\", \"2011-03-27\", \"2011-03-28\", \"2011-03-29\", \"2011-03-30\", \"2011-03-31\", \"2011-04-01\", \"2011-04-02\", \"2011-04-03\", \"2011-04-04\", \"2011-04-05\", \"2011-04-06\", \"2011-04-07\", \"2011-04-08\", \"2011-04-09\", \"2011-04-10\", \"2011-04-11\", \"2011-04-12\", \"2011-04-13\", \"2011-04-14\", \"2011-04-15\", \"2011-04-16\", \"2011-04-17\", \"2011-04-18\", \"2011-04-19\", \"2011-04-20\", \"2011-04-21\", \"2011-04-22\", \"2011-04-23\", \"2011-04-24\", \"2011-04-25\", \"2011-04-26\", \"2011-04-27\", \"2011-04-28\", \"2011-04-29\", \"2011-04-30\", \"2011-05-01\", \"2011-05-02\", \"2011-05-03\", \"2011-05-04\", \"2011-05-05\", \"2011-05-06\", \"2011-05-07\", \"2011-05-08\", \"2011-05-09\", \"2011-05-10\", \"2011-05-11\", \"2011-05-12\", \"2011-05-13\", \"2011-05-14\", \"2011-05-15\", \"2011-05-16\", \"2011-05-17\", \"2011-05-18\", \"2011-05-19\", \"2011-05-20\", \"2011-05-21\", \"2011-05-22\", \"2011-05-23\", \"2011-05-24\", \"2011-05-25\", \"2011-05-26\", \"2011-05-27\", \"2011-05-28\", \"2011-05-29\", \"2011-05-30\", \"2011-05-31\", \"2011-06-01\", \"2011-06-02\", \"2011-06-03\", \"2011-06-04\", \"2011-06-05\", \"2011-06-06\", \"2011-06-07\", \"2011-06-08\", \"2011-06-09\", \"2011-06-10\", \"2011-06-11\", \"2011-06-12\", \"2011-06-13\", \"2011-06-14\", \"2011-06-15\", \"2011-06-16\", \"2011-06-17\", \"2011-06-18\", \"2011-06-19\", \"2011-06-20\", \"2011-06-21\", \"2011-06-22\", \"2011-06-23\", \"2011-06-24\", \"2011-06-25\", \"2011-06-26\", \"2011-06-27\", \"2011-06-28\", \"2011-06-29\", \"2011-06-30\", \"2011-07-01\", \"2011-07-02\", \"2011-07-03\", \"2011-07-04\", \"2011-07-05\", \"2011-07-06\", \"2011-07-07\", \"2011-07-08\", \"2011-07-09\", \"2011-07-10\", \"2011-07-11\", \"2011-07-12\", \"2011-07-13\", \"2011-07-14\", \"2011-07-15\", \"2011-07-16\", \"2011-07-17\", \"2011-07-18\", \"2011-07-19\", \"2011-07-20\", \"2011-07-21\", \"2011-07-22\", \"2011-07-23\", \"2011-07-24\", \"2011-07-25\", \"2011-07-26\", \"2011-07-27\", \"2011-07-28\", \"2011-07-29\", \"2011-07-30\", \"2011-07-31\", \"2011-08-01\", \"2011-08-02\", \"2011-08-03\", \"2011-08-04\", \"2011-08-05\", \"2011-08-06\", \"2011-08-07\", \"2011-08-08\", \"2011-08-09\", \"2011-08-10\", \"2011-08-11\", \"2011-08-12\", \"2011-08-13\", \"2011-08-14\", \"2011-08-15\", \"2011-08-16\", \"2011-08-17\", \"2011-08-18\", \"2011-08-19\", \"2011-08-20\", \"2011-08-21\", \"2011-08-22\", \"2011-08-23\", \"2011-08-24\", \"2011-08-25\", \"2011-08-26\", \"2011-08-27\", \"2011-08-28\", \"2011-08-29\", \"2011-08-30\", \"2011-08-31\", \"2011-09-01\", \"2011-09-02\", \"2011-09-03\", \"2011-09-04\", \"2011-09-05\", \"2011-09-06\", \"2011-09-07\", \"2011-09-08\", \"2011-09-09\", \"2011-09-10\", \"2011-09-11\", \"2011-09-12\", \"2011-09-13\", \"2011-09-14\", \"2011-09-15\", \"2011-09-16\", \"2011-09-17\", \"2011-09-18\", \"2011-09-19\", \"2011-09-20\", \"2011-09-21\", \"2011-09-22\", \"2011-09-23\", \"2011-09-24\", \"2011-09-25\", \"2011-09-26\", \"2011-09-27\", \"2011-09-28\", \"2011-09-29\", \"2011-09-30\", \"2011-10-01\", \"2011-10-02\", \"2011-10-03\", \"2011-10-04\", \"2011-10-05\", \"2011-10-06\", \"2011-10-07\", \"2011-10-08\", \"2011-10-09\", \"2011-10-10\", \"2011-10-11\", \"2011-10-12\", \"2011-10-13\", \"2011-10-14\", \"2011-10-15\", \"2011-10-16\", \"2011-10-17\", \"2011-10-18\", \"2011-10-19\", \"2011-10-20\", \"2011-10-21\", \"2011-10-22\", \"2011-10-23\", \"2011-10-24\", \"2011-10-25\", \"2011-10-26\", \"2011-10-27\", \"2011-10-28\", \"2011-10-29\", \"2011-10-30\", \"2011-10-31\", \"2011-11-01\", \"2011-11-02\", \"2011-11-03\", \"2011-11-04\", \"2011-11-05\", \"2011-11-06\", \"2011-11-07\", \"2011-11-08\", \"2011-11-09\", \"2011-11-10\", \"2011-11-11\", \"2011-11-12\", \"2011-11-13\", \"2011-11-14\", \"2011-11-15\", \"2011-11-16\", \"2011-11-17\", \"2011-11-18\", \"2011-11-19\", \"2011-11-20\", \"2011-11-21\", \"2011-11-22\", \"2011-11-23\", \"2011-11-24\", \"2011-11-25\", \"2011-11-26\", \"2011-11-27\", \"2011-11-28\", \"2011-11-29\", \"2011-11-30\", \"2011-12-01\", \"2011-12-02\", \"2011-12-03\", \"2011-12-04\", \"2011-12-05\", \"2011-12-06\", \"2011-12-07\", \"2011-12-08\", \"2011-12-09\", \"2011-12-10\", \"2011-12-11\", \"2011-12-12\", \"2011-12-13\", \"2011-12-14\", \"2011-12-15\", \"2011-12-16\", \"2011-12-17\", \"2011-12-18\", \"2011-12-19\", \"2011-12-20\", \"2011-12-21\", \"2011-12-22\", \"2011-12-23\", \"2011-12-24\", \"2011-12-25\", \"2011-12-26\", \"2011-12-27\", \"2011-12-28\", \"2011-12-29\", \"2011-12-30\", \"2011-12-31\", \"2012-01-01\", \"2012-01-02\", \"2012-01-03\", \"2012-01-04\", \"2012-01-05\", \"2012-01-06\", \"2012-01-07\", \"2012-01-08\", \"2012-01-09\", \"2012-01-10\", \"2012-01-11\"], \"y\": [1, 1, 1, 1, 1, 2, 2, 1, 1, 2, 2, 1, 1, 1, 1, 1, 1, 1, 2, 1, 2, 1, 1, 1, 1, 3, 1, 1, 1, 1, 1, 2, 2, 1, 1, 2, 5, 2, 5, 1, 1, 1, 1, 1, 1, 1, 1, 1, 1, 1, 1, 2, 1, 3, 1, 1, 1, 1, 4, 1, 1, 1, 1, 1, 4, 1, 3, 1, 1, 1, 1, 1, 2, 1, 1, 2, 1, 1, 1, 1, 1, 2, 2, 1, 1, 1, 5, 1, 4, 1, 1, 1, 1, 3, 1, 1, 3, 3, 1, 1, 1, 3, 1, 1, 1, 3, 1, 1, 1, 1, 2, 3, 2, 3, 3, 3, 2, 2, 1, 1, 2, 2, 1, 1, 1, 1, 4, 1, 1, 3, 1, 2, 1, 2, 2, 2, 2, 2, 2, 7, 1, 2, 1, 1, 7, 7, 1, 1, 2, 2, 2, 1, 4, 2, 1, 1, 4, 2, 1, 2, 1, 1, 7, 1, 4, 2, 1, 1, 1, 5, 1, 1, 2, 1, 1, 1, 1, 2, 9, 2, 1, 2, 1, 2, 1, 2, 2, 1, 1, 2, 1, 3, 1, 1, 2, 1, 1, 4, 1, 2, 1, 12, 1, 4, 1, 4, 1, 1, 1, 11, 9, 2, 17, 1, 4, 24, 1, 1, 2, 6, 1, 2, 1, 1, 1, 1, 1, 2, 2, 1, 6, 3, 1, 1, 5, 5, 7, 4, 9, 2, 8, 4, 6, 5, 18, 15, 5, 5, 8, 3, 13, 13, 3, 2, 3, 10, 1, 9, 2, 9, 7, 3, 2, 7, 5, 1, 2, 10, 4, 25, 5, 3, 9, 9, 8, 28, 8, 6, 8, 6, 7, 20, 15, 10, 6, 6, 1, 9, 5, 20, 25, 3, 14, 8, 1, 18, 5, 9, 6, 15, 4, 12, 17, 13, 15, 17, 43, 13, 15, 14, 23, 22, 18, 21, 13, 14, 25, 12, 10, 20, 12, 14, 14, 14, 9, 21, 13, 19, 4, 10, 17, 9, 15, 12, 13, 7, 6, 19, 13, 11, 2, 2, 10, 10, 11, 4, 10, 11, 7, 9, 10, 15, 5, 7, 5, 12, 3, 12, 29, 5, 7, 16, 4, 10, 10, 7, 10, 6, 6, 9, 12, 3, 4, 9, 6, 11, 11, 5, 13, 11, 13, 6, 16, 2, 6, 15, 9, 13, 9, 14, 5, 21, 10, 4, 4, 9, 8, 6, 21, 14, 15, 16, 8, 15, 4, 11, 11, 18, 13, 5, 27, 18, 18, 23, 3, 14, 17, 22, 23, 9, 27, 18, 35, 19, 27, 44, 39, 45, 26, 29, 26, 27, 13, 8, 26, 19, 32, 19, 33, 25, 19, 25, 19, 17, 26, 16, 24, 34, 34, 16, 31, 24, 20, 13, 21, 34, 25, 14, 23, 24, 31, 34, 27, 65, 65, 41, 30, 28, 38, 68, 46, 44, 40, 59, 50, 34, 44, 61, 62, 67, 50, 43, 37, 55, 56, 47, 28, 46, 53, 40, 38, 43, 56, 59, 59, 36, 61, 29, 24, 31, 55, 67, 37, 58, 47, 40, 54, 46, 31, 45, 58, 68, 48, 46, 49, 65, 47, 50, 49, 48, 60, 65, 71, 49, 57, 71, 60, 88, 66, 63, 59, 52, 59, 58, 48, 39, 32, 60, 52, 47, 50, 51, 62, 61, 63, 40, 73, 49, 48, 69, 55, 61, 73, 61, 67, 61, 57, 40, 21, 54, 64, 49, 52, 46, 55, 58, 71, 55, 56, 66, 76, 54, 50, 57, 77, 54, 52, 69, 38, 35, 59, 86, 63, 48, 52, 39, 54, 37, 61, 58, 46, 64, 55, 45, 62, 67, 66, 83, 73, 71, 70, 59, 70, 58, 45, 57, 55, 66, 60, 60, 54, 43, 79, 58, 37, 53, 64, 56, 51, 57, 45, 48, 50, 61, 52, 61, 38, 46, 54, 65, 55, 67, 59, 37, 53, 54, 68, 74, 61, 76, 68, 72, 66, 85, 71, 71, 48, 57, 68, 63, 99, 72, 82, 71, 92, 94, 62, 76, 94, 69, 62, 83, 71, 77, 73, 93, 72, 122, 83, 106, 84, 88, 69, 82, 59, 84, 83, 61, 90, 68, 81, 47, 62, 81, 57, 83, 73, 83, 102, 80, 76, 68, 91, 109, 82, 74, 75, 94, 90, 107, 114, 103, 120, 84, 85, 90, 80, 125, 117, 100, 65, 95, 93, 100, 127, 139, 118, 119, 122, 89, 95, 109, 105, 90, 88, 86, 96, 56, 96, 94, 96, 109, 85, 93, 90, 101, 72, 87, 97, 110, 95, 107, 103, 99, 120, 122, 137, 119, 115, 149, 131, 133, 120, 124, 126, 138, 170, 116, 105, 121, 131, 107, 110, 145, 113, 114, 105, 115, 95, 109, 106, 104, 108, 105, 101, 110, 159, 131, 113, 104, 121, 142, 146, 139, 112, 102, 121, 115, 101, 121, 137, 140, 112, 133, 111, 96, 106, 139, 150, 114, 109, 102, 100, 92, 119, 116, 125, 105, 126, 106, 116, 115, 161, 80, 57, 125, 126, 117, 108, 123, 138, 115, 125, 80, 131, 140, 166, 129, 144, 131, 136, 127, 155, 142, 127, 109, 119, 136, 70, 133, 118, 129, 97, 110, 97, 78, 121, 105, 105, 122, 142, 91, 94, 119, 132, 44, 169, 131, 101, 120, 137, 109, 104, 121, 115, 112, 130, 97, 81, 109, 124, 101, 103, 167, 118, 115, 96, 112, 97, 108, 115, 153, 119, 104, 125, 119, 113, 132, 111, 160, 132, 124, 135, 116, 112, 123, 107, 137, 106, 116, 116, 124, 141, 171, 131, 128, 140, 135, 112, 136, 131, 120, 63, 170, 134, 121, 110, 126, 151, 107, 111, 112, 123, 124, 134, 103, 146, 103, 107, 157, 155, 122, 152, 158, 161, 139, 120, 152, 76, 145, 131, 137, 135, 151, 170, 161, 134, 131, 148, 123, 122, 112, 154, 91, 143, 159, 144, 160, 162, 144, 143, 157, 166, 151, 161, 119, 140, 154, 129, 126, 105, 132, 141, 150, 147, 160, 147, 138, 143, 200, 161, 196, 167, 129, 166, 147, 175, 208, 200, 165, 162, 142, 113, 163, 183, 204, 165, 172, 116, 125, 159, 156, 164, 195, 163, 118, 128, 232, 183, 148, 199, 176, 167, 163, 200, 199, 139, 183, 179, 127, 138, 161, 169, 163, 128, 151, 129, 167, 183, 188, 136, 152, 147, 152, 168, 182, 154, 144, 182, 160, 173, 204, 148, 156, 183, 137, 197, 164, 179, 206, 218, 219, 192, 187, 185, 175, 171, 139, 168, 160, 169, 169, 124, 199, 181, 195, 175, 170, 143, 154, 174, 161, 160, 103, 141, 134, 186, 222, 224, 175, 167, 173, 164, 243, 232, 196, 188, 168, 174, 148, 165, 182, 172, 134, 177, 175, 161, 164, 199, 167, 199, 86, 125, 138, 155, 172, 207, 171, 206, 210, 208, 235, 206, 163, 172, 146, 187, 205, 230, 158, 233, 164, 175, 192, 160, 158, 206, 148, 179, 167, 159, 183, 209, 136, 173, 180, 139, 123, 193, 215, 195, 179, 146, 181, 185, 208, 204, 197, 157, 169, 185, 158, 161, 225, 201, 224, 184, 177, 178, 193, 193, 225, 176, 135, 161, 164, 157, 202, 203, 182, 187, 168, 168, 207, 214, 206, 194, 184, 179, 193, 172, 195, 209, 186, 161, 195, 171, 195, 256, 169, 198, 214, 213, 187, 199, 204, 192, 213, 194, 203, 175, 213, 225, 186, 190, 190, 140, 133, 138, 175, 176, 220, 166, 189, 172, 150, 154, 153, 152, 160, 159, 189, 181, 192, 180, 155, 174, 180, 135, 147, 187, 163, 159, 167, 156, 146, 143, 153, 187, 168, 185, 212, 139, 119, 155, 162, 164, 154, 118, 139, 119, 165, 164, 167, 143, 112, 146, 109, 137, 181, 147, 153, 114, 163, 142, 191, 195, 141, 162, 134, 148, 160, 189, 212, 191, 190, 142, 207, 139, 155, 197, 180, 204, 193, 163, 161, 216, 171, 196, 174, 143, 172, 148, 160, 197, 165, 180, 166, 188, 151, 184, 173, 166, 179, 149, 140, 135, 176, 140, 189, 169, 178, 172, 141, 199, 174, 184, 169, 176, 140, 172, 196, 123, 126, 160, 180, 189, 132, 184, 173, 166, 154, 154, 166, 158, 136, 187, 197, 144, 171, 147, 131, 132, 168, 150, 149, 148, 170, 156, 148, 200, 190, 209, 169, 190, 142, 189, 187, 208, 172, 189, 162, 158, 153, 190, 176, 121, 159, 175, 168, 173, 221, 182, 136, 139, 180, 149, 164, 203, 195, 126, 170, 194, 133, 205, 187, 143, 123, 140, 124, 155, 177, 176, 176, 151, 155, 132, 140, 177, 166, 164, 220, 144, 167, 140, 165, 270, 174, 175, 170, 141, 163, 199, 228, 174, 197, 141, 181, 164, 170, 173, 166, 189, 181, 189, 147, 175, 208, 163, 161, 166, 219, 179, 230, 177, 172, 187, 155, 141, 115, 161, 195, 194, 177, 128, 204, 214, 179, 187, 224, 164, 210, 192, 210, 168, 212, 187, 146, 193, 192, 195, 201, 215, 197, 185, 159, 145, 132, 115, 158, 213, 215, 198, 198, 175, 195, 207, 233, 212, 209, 227, 236, 227, 194, 213, 203, 199, 201, 185, 191, 206, 185, 171, 152, 188, 213, 224, 184, 152, 146, 157, 155, 189, 211, 195, 202, 174, 181, 138, 185, 210, 174, 160, 175, 141, 186, 174, 204, 178, 169, 179, 162, 186, 174, 186, 212, 189, 190, 208, 239, 202, 195, 222, 222, 171, 168, 182, 209, 224, 187, 207, 206, 164, 180, 190, 205, 194, 178, 212, 186, 179, 170, 224, 206, 196, 215, 210, 186, 215, 207, 205, 214, 205, 228, 228, 201, 211, 152, 196, 173, 164, 150, 202, 220, 147, 182, 187, 183, 204, 163, 217, 199, 218, 182, 179, 188, 220, 254, 160, 162, 178, 160, 200, 187, 228, 194, 233, 209, 171, 177, 197, 178, 174, 194, 195, 171, 178, 185, 243, 201, 179, 174, 187, 193, 207, 200, 196, 196, 167, 193, 161, 149, 207, 213, 180, 184, 216, 197, 182, 227, 198, 221, 153, 194, 210, 227, 245, 198, 215, 215, 217, 215, 198, 228, 196, 211, 228, 233, 179, 212, 234, 188, 236, 240, 233, 235, 230, 199, 248, 229, 256, 224, 271, 248, 236, 235, 244, 232, 273, 212, 246, 280, 255, 309, 264, 233, 260, 250, 218, 234, 215, 264, 225, 228, 200, 247, 267, 193, 199, 270, 249, 207, 227, 259, 243, 223, 178, 226, 252, 236, 271, 243, 241, 253, 194, 208, 274, 296, 274, 288, 254, 258, 232, 262, 253, 267, 247, 229, 196, 191, 194, 264, 223, 225, 190, 248, 213, 262, 230, 224, 217, 253, 254, 255, 233, 227, 223, 251, 245, 209, 215, 260, 211, 230, 285, 215, 263, 215, 261, 224, 234, 284, 261, 209, 262, 261, 267, 249, 254, 256, 234, 204, 240, 252, 238, 235, 272, 252, 213, 267, 291, 283, 293, 226, 231, 231, 232, 231, 243, 262, 270, 260, 281, 294, 297, 295, 289, 296, 273, 239, 249, 281, 260, 274, 272, 229, 266, 295, 304, 297, 268, 302, 218, 269, 309, 295, 314, 273, 287, 290, 303, 327, 298, 313, 273, 264, 292, 315, 328, 257, 287, 289, 278, 271, 290, 297, 267, 263, 319, 269, 312, 265, 245, 250, 264, 256, 308, 304, 318, 272, 319, 348, 308, 271, 234, 294, 338, 299, 276, 263, 287, 295, 297, 326, 339, 348, 300, 276, 344, 339, 341, 387, 329, 328, 337, 315, 373, 355, 329, 301, 286, 285, 297, 347, 360, 253, 259, 309, 300, 312, 294, 339, 280, 233, 271, 228, 365, 323, 414, 402, 368, 315, 304, 315, 353, 428, 341, 319, 316, 275, 336, 358, 388, 345, 316, 294, 286, 319, 316, 363, 311, 351, 296, 349, 315, 302, 414, 354, 305, 292, 334, 310, 311, 363, 361, 336, 339, 308, 321, 318, 334, 315, 322, 295, 288, 316, 297, 305, 370, 321, 350, 292, 340, 333, 322, 353, 373, 324, 316, 337, 354, 376, 312, 294, 299, 283, 301, 286, 366, 310, 247, 328, 324, 280, 291, 331, 291, 334, 290, 309, 280, 299, 354, 341, 331, 301, 317, 349, 339, 393, 330, 277, 379, 287, 342, 307, 314, 306, 306, 264, 294, 307, 332, 329, 318, 315, 336, 344, 313, 308, 329, 366, 260, 273, 275, 355, 277, 315, 352, 298, 302, 317, 310, 305, 344, 325, 281, 326, 347, 327, 297, 312, 296, 378, 270, 305, 304, 312, 354, 323, 348, 337, 293, 303, 295, 306, 365, 325, 139, 287, 290, 319, 416, 348, 347, 331, 342, 332, 311, 319, 290, 106, 442, 353, 371, 311, 358, 366, 338, 371, 360, 364, 345, 379, 390, 355, 309, 316, 290, 366, 444, 369, 345, 365, 336, 361, 359, 383, 375, 317, 379, 361, 359, 317, 316, 364, 370, 279, 364, 315, 339, 350, 328, 371, 368, 348, 327, 327, 365, 342, 336, 329, 306, 325, 308, 345, 356, 320, 307, 321, 329, 350, 408, 338, 371, 295, 339, 323, 341, 403, 349, 372, 358, 335, 353, 356, 356, 344, 326, 294, 330, 353, 364, 387, 351, 353, 353, 388, 317, 347, 347, 352, 306, 275, 299, 292, 310, 414, 343, 356, 409, 305, 359, 337, 480, 304, 384, 355, 331, 370, 344, 404, 350, 317, 342, 318, 276, 337, 393, 394, 352, 322, 342, 317, 376, 401, 298, 313, 306, 393, 359, 368, 402, 351, 309, 311, 351, 337, 329, 364, 329, 360, 314, 339, 326, 384, 333, 282, 346, 339, 350, 319, 346, 384, 371, 391, 306, 362, 353, 341, 385, 295, 332, 294, 330, 301, 381, 437, 449, 361, 363, 323, 341, 387, 484, 323, 344, 343, 306, 334, 412, 511, 377, 330, 375, 396, 436, 436, 491, 356, 328, 310, 338, 322, 455, 460, 395, 393, 353, 348, 377, 413, 448, 404, 366, 315, 277, 365, 450, 470, 439, 375, 323, 346, 353, 387, 412, 315, 307, 365, 338, 350, 362, 406, 365, 347, 308, 325, 359, 358, 384, 305, 321, 357, 322, 351, 356, 396, 357, 323, 351, 352, 320, 362, 418, 326, 353, 324, 351, 356, 385, 376, 363, 286, 290, 354, 308, 401, 443, 390, 312, 310, 278, 336, 375, 339, 304, 316, 295, 284, 285, 321, 352, 331, 335, 356, 307, 384, 358, 371, 346, 313, 282, 332, 351, 327, 316, 327, 335, 325, 359, 325, 339, 385, 325, 290, 310, 326, 294, 323, 405, 380, 294, 273, 330, 301, 367, 349, 317, 305, 320, 302, 292, 353, 323, 323, 320, 358, 314, 305, 376, 374, 306, 323, 325, 337, 365, 341, 373, 344, 348, 342, 314, 287, 353, 356, 302, 301, 381, 301, 356, 342, 415, 320, 364, 302, 289, 327, 306, 378, 311, 314, 346, 300, 324, 343, 312, 359, 330, 309, 304, 308, 350, 442, 359, 289, 280, 292, 301, 321, 382, 261, 372, 355, 294, 266, 365, 395, 332, 389, 324, 330, 332, 389, 407, 387, 366, 327, 377, 347, 355, 395, 319, 343, 334, 335, 315, 347, 344, 344, 354, 368, 360, 315, 374, 451, 327, 376, 410, 393, 334, 391, 415, 348, 362, 319, 318, 400, 405, 388, 319, 349, 329, 383, 339, 383, 418, 350, 303, 356, 446, 393, 432, 427, 388, 432, 340, 426, 314, 360, 416, 349, 419, 386, 401, 418, 418, 491, 401, 444, 416, 414, 365, 439, 432, 368, 383, 356, 340, 386, 438, 533, 364, 396, 360, 400, 369, 485, 470, 407, 378, 377, 389, 359, 471, 481, 362, 378, 398, 334, 314, 408, 299, 459, 413, 408, 455, 402, 441, 508, 402, 336, 376, 418, 413, 397, 487, 380, 390, 358, 389, 376, 454, 495, 387, 488, 433, 416, 445, 486, 431, 426, 361, 407, 449, 517, 478, 865, 773, 732, 463, 540, 496, 597, 617, 478, 403, 425, 556, 512, 511, 622, 456, 480, 479, 470, 516, 504, 603, 468, 443, 452, 490, 414, 535, 543, 473, 466, 464, 555, 468, 509, 581, 397, 433, 486, 564, 480, 563, 686, 504, 492, 583, 454, 415, 511, 683, 564, 516, 558, 494, 646, 529, 676, 554, 574, 537, 454, 536, 636, 641, 576, 387, 436, 549, 460, 575, 557, 526, 494, 423, 472, 491, 590, 567, 468, 470, 544, 456, 566, 539, 564, 515, 479, 570, 517, 551, 636, 553, 476, 512, 472, 475, 479, 605, 797, 451, 511, 450, 469, 466, 514, 527, 471, 441, 484, 476, 462, 425, 526, 483, 477, 473, 527, 447, 474, 453, 494, 489, 454, 445, 462, 564, 566, 529, 569, 431, 525, 447, 485, 535, 631, 528, 504, 470, 515, 486, 514, 507, 518, 520, 462, 464, 459, 460, 505, 491, 484, 467, 458, 562, 489, 484, 426, 417, 485, 435, 471, 490, 480, 402, 440, 415, 485, 499, 517, 453, 528, 504, 452, 517, 471, 476, 430, 575, 498, 476, 475, 446, 465, 624, 492, 437, 497, 472, 414, 526, 455, 465, 514, 444, 469, 478, 545, 443, 506, 487, 437, 503, 509, 480, 480, 502, 540, 510, 465, 474, 551, 519, 576, 460, 497, 508, 478, 485, 581, 561, 514, 556, 461, 503, 579, 532, 615, 519, 578, 476, 548, 496, 537, 509, 654, 617, 439, 713, 690, 466, 529, 572, 539, 469, 511, 543, 570, 534, 549, 496, 474, 557, 606, 495, 501, 550, 535, 499, 585, 619, 481, 492, 478, 425, 471, 582, 600, 492, 540, 519, 525, 502, 549, 596, 545, 559, 515, 495, 471, 613, 660, 520, 531, 497, 491, 507, 562, 603, 525, 559, 556, 535, 526, 557, 579, 487, 604, 493, 543, 575, 519, 559, 501, 559, 519, 507, 576, 550, 569, 510, 517, 540, 556, 521, 655, 728, 671, 648, 656, 700, 590, 662, 717, 715, 558, 532, 659, 813, 823, 880, 817, 762, 635, 678, 601, 628, 804, 694, 765, 579, 694, 817, 673, 863, 711, 691, 813, 785, 746, 684, 760, 693, 761, 633, 645, 662, 974, 722, 585, 702, 551, 460, 603, 745, 853, 703, 661, 734, 596, 647, 836, 783, 673, 707, 636, 638, 700, 780, 909, 687, 693, 700, 653, 634, 761, 853, 675, 665, 617, 605, 663, 797, 812, 734, 672, 681, 600, 686, 810, 954, 552, 587, 564, 609, 664, 679, 725, 627, 595, 663, 626, 652, 701, 798, 707, 712, 590, 598, 714, 799, 884, 437, 672, 655, 613, 628, 718, 813, 828, 686, 656, 571, 639, 693, 757, 644, 715, 588, 615, 597, 748, 708, 666, 568, 606, 592, 678, 718, 784, 590, 591, 641, 674, 621, 802, 787, 606, 698, 641, 637, 670, 730, 750, 653, 597, 649, 638, 760, 692, 697, 581, 624, 640, 678, 616, 708, 738, 626, 672, 634, 653, 640, 631, 651, 612, 643, 674, 647, 693, 698, 753, 728, 702, 582, 640, 619, 686, 684, 630, 633, 633, 670, 628, 711, 745, 621, 606, 566, 597, 684, 649, 646, 639, 610, 628, 554, 583, 664, 647, 601, 573, 521, 536, 548, 618, 660, 550, 655, 580, 539, 552, 607, 658, 604, 530, 571, 560, 606, 536, 608, 543, 570, 545, 509, 577, 628, 643, 589, 638, 588, 350, 557, 347, 608, 682, 662, 594, 586, 458, 784, 644, 695, 618, 557, 571, 636, 578, 602, 665, 619, 635, 566, 594, 575, 628, 634, 545, 653, 596, 671, 660, 718, 621, 616, 521, 640, 571, 606, 758, 650, 582, 564, 605, 582, 595, 700, 692, 549, 567, 593, 604, 645, 761, 551, 562, 573, 602, 583, 620, 682, 568, 553, 592, 571, 618, 608, 619, 598, 597, 559, 656, 615, 635, 658, 589, 548, 505, 604, 489, 619, 683, 616, 549, 545, 645, 616, 623, 678, 556, 545, 554, 615, 603, 156, 251, 478, 734, 671, 614, 620, 657, 694, 647, 584, 656, 637, 672, 669, 676, 633, 583, 602, 589, 558, 1, 9, 454, 700, 485, 483, 698, 792, 683, 648, 625, 615, 642, 633, 761, 733, 620, 611, 562, 672, 700, 698, 704, 599, 602, 541, 619, 503, 792, 719, 649, 743, 684, 693, 514, 638, 690, 639, 617, 617, 562, 594, 722, 768, 722, 649, 617, 566, 619, 734, 765, 597, 594, 540, 609, 596, 418, 725, 752, 677, 720, 707, 640, 624, 755, 775, 754, 887, 863, 753, 755, 891, 673, 621, 609, 664, 726, 745, 876, 765, 548, 587, 698, 738, 693, 916, 685, 596, 651, 643, 633, 802, 892, 738, 619, 562, 593, 720, 885, 910, 725, 695, 572, 596, 566, 750, 889, 663, 607, 719, 670, 650, 694, 853, 743, 743, 732, 629, 624, 746, 924, 709, 659, 701, 698, 717, 722, 815, 636, 619, 618, 656, 603, 734, 912, 665, 631, 621, 687, 669, 747, 748, 717, 622, 639, 520, 619, 698, 740, 714, 600, 612, 695, 746, 730, 814, 700, 601, 539, 606, 649, 679, 684, 644, 629, 626, 541, 630, 774, 821, 630, 594, 540, 533, 659, 729, 826, 697, 614, 616, 603, 628, 633, 777, 674, 629, 682, 549, 673, 703, 777, 706, 611, 644, 632, 637, 718, 712, 647, 671, 663, 694, 676, 672, 709, 640, 630, 655, 630, 698, 717, 842, 682, 615, 603, 625, 685, 658, 676, 794, 654, 553, 576, 613, 768, 739, 690, 657, 660, 566, 681, 627, 734, 696, 608, 582, 651, 569, 593, 660, 574, 592, 687, 594, 650, 727, 716, 663, 584, 573, 616, 672, 726, 744, 632, 603, 687, 654, 630, 766, 758, 644, 642, 642, 594, 661, 706, 649, 657, 729, 643, 651, 771, 746, 730, 745, 671, 706, 600, 719, 708, 789, 661, 756, 655, 661, 642, 751, 691, 753, 749, 772, 740, 719, 695, 769, 712, 765, 705, 697, 961, 817, 803, 825, 691, 745, 747, 697, 805, 820, 780, 689, 636, 670, 692, 838, 735, 810, 800, 686, 734, 717, 670, 841, 735, 678, 700, 643, 689, 754, 822, 816, 676, 716, 668, 793, 834, 836, 799, 709, 744, 658, 734, 784, 833, 721, 806, 809, 708, 802, 777, 865, 830, 783, 679, 725, 830, 844, 898, 705, 762, 691, 732, 769, 759, 966, 897, 728, 707, 711, 704, 733, 975, 712, 717, 780, 798, 741, 852, 889, 784, 699, 734, 742, 853, 946, 1112, 825, 805, 799, 725, 791, 887, 844, 811, 705, 881, 790, 649, 838, 865, 801, 706, 758, 766, 782, 937, 1000, 843, 801, 856, 798, 856, 941, 1018, 785, 838, 786, 820, 817, 870, 999, 878, 886, 877, 1138, 998, 802, 801, 873, 934, 1088, 1002, 1031, 907, 984, 990, 984, 892, 822, 897, 1019, 1098, 912, 1065, 907, 895, 947, 984, 1084, 915, 807, 766, 840, 937, 1023, 1035, 852, 775, 851, 907, 888, 967, 962, 971, 865, 961, 860, 1054, 1042, 1116, 815, 783, 916, 791, 953, 960, 1233, 1004, 789, 775, 861, 967, 1104, 1096, 1060, 904, 948, 933, 1080, 1180, 1076, 944, 912, 901, 926, 886, 929, 997, 964, 846, 994, 931, 891, 1038, 1026, 900, 783, 780, 822, 826, 958, 1124, 925, 880, 807, 883, 878, 940, 978, 878, 776, 801, 723, 950, 991, 974, 802, 847, 767, 823, 842, 955, 868, 824, 688, 823, 775, 930, 968, 1012, 764, 806, 854, 731, 825, 900, 872, 821, 763, 839, 849, 884, 821, 823, 782, 818, 914, 926, 887, 958, 998, 862, 814, 856, 887, 851, 987, 961, 966, 805, 882, 863, 950, 1059, 880, 922, 808, 790, 824, 971, 935, 837, 937, 836, 864, 814, 805, 946, 878, 912, 870, 872, 840, 977, 900, 919, 815, 817, 856, 823, 860, 818, 879, 928, 819, 888, 809, 880, 847, 881, 887, 785, 840, 843, 786, 912, 926, 961, 839, 822, 837, 772, 932, 903, 906, 909, 775, 828, 787, 1012, 887, 944, 855, 810, 828, 879, 955, 987, 832, 855, 830, 853, 607, 890, 926, 890, 789, 799, 843, 815, 915, 906, 907, 874, 824, 813, 801, 974, 1029, 905, 804, 787, 839, 894, 958, 1044, 877, 847, 788, 943, 982, 1178, 1082, 943, 868, 876, 868, 867, 915, 968, 983, 850, 849, 778, 807, 875, 934, 904, 779, 815, 805, 782, 971, 1001, 791, 758, 737, 833, 876, 845, 975, 749, 852, 710, 845, 806, 845, 896, 771, 778, 783, 802, 816, 986, 903, 835, 772, 748, 817, 822, 938, 921, 790, 825, 729, 821, 773, 751, 862, 764, 782, 828, 748, 788, 1036, 905, 786, 653, 683, 795, 911, 1040, 1091, 776, 908, 812, 802, 836, 948, 949, 774, 765, 791, 815, 767, 1009, 978, 827, 848, 814, 836, 629, 828, 964, 817, 683, 727, 677, 823, 893, 1000, 787, 781, 783, 709, 811, 928, 936, 792, 725, 645, 760, 749, 894, 941, 740, 753, 719, 830, 853, 888, 724, 759, 840, 821, 838, 948, 1002, 842, 1015, 809, 848, 797, 865, 956, 1157, 850, 722, 416]}],\n",
       "                        {\"template\": {\"data\": {\"bar\": [{\"error_x\": {\"color\": \"#2a3f5f\"}, \"error_y\": {\"color\": \"#2a3f5f\"}, \"marker\": {\"line\": {\"color\": \"#E5ECF6\", \"width\": 0.5}}, \"type\": \"bar\"}], \"barpolar\": [{\"marker\": {\"line\": {\"color\": \"#E5ECF6\", \"width\": 0.5}}, \"type\": \"barpolar\"}], \"carpet\": [{\"aaxis\": {\"endlinecolor\": \"#2a3f5f\", \"gridcolor\": \"white\", \"linecolor\": \"white\", \"minorgridcolor\": \"white\", \"startlinecolor\": \"#2a3f5f\"}, \"baxis\": {\"endlinecolor\": \"#2a3f5f\", \"gridcolor\": \"white\", \"linecolor\": \"white\", \"minorgridcolor\": \"white\", \"startlinecolor\": \"#2a3f5f\"}, \"type\": \"carpet\"}], \"choropleth\": [{\"colorbar\": {\"outlinewidth\": 0, \"ticks\": \"\"}, \"type\": \"choropleth\"}], \"contour\": [{\"colorbar\": {\"outlinewidth\": 0, \"ticks\": \"\"}, \"colorscale\": [[0.0, \"#0d0887\"], [0.1111111111111111, \"#46039f\"], [0.2222222222222222, \"#7201a8\"], [0.3333333333333333, \"#9c179e\"], [0.4444444444444444, \"#bd3786\"], [0.5555555555555556, \"#d8576b\"], [0.6666666666666666, \"#ed7953\"], [0.7777777777777778, \"#fb9f3a\"], [0.8888888888888888, \"#fdca26\"], [1.0, \"#f0f921\"]], \"type\": \"contour\"}], \"contourcarpet\": [{\"colorbar\": {\"outlinewidth\": 0, \"ticks\": \"\"}, \"type\": \"contourcarpet\"}], \"heatmap\": [{\"colorbar\": {\"outlinewidth\": 0, \"ticks\": \"\"}, \"colorscale\": [[0.0, \"#0d0887\"], [0.1111111111111111, \"#46039f\"], [0.2222222222222222, \"#7201a8\"], [0.3333333333333333, \"#9c179e\"], [0.4444444444444444, \"#bd3786\"], [0.5555555555555556, \"#d8576b\"], [0.6666666666666666, \"#ed7953\"], [0.7777777777777778, \"#fb9f3a\"], [0.8888888888888888, \"#fdca26\"], [1.0, \"#f0f921\"]], \"type\": \"heatmap\"}], \"heatmapgl\": [{\"colorbar\": {\"outlinewidth\": 0, \"ticks\": \"\"}, \"colorscale\": [[0.0, \"#0d0887\"], [0.1111111111111111, \"#46039f\"], [0.2222222222222222, \"#7201a8\"], [0.3333333333333333, \"#9c179e\"], [0.4444444444444444, \"#bd3786\"], [0.5555555555555556, \"#d8576b\"], [0.6666666666666666, \"#ed7953\"], [0.7777777777777778, \"#fb9f3a\"], [0.8888888888888888, \"#fdca26\"], [1.0, \"#f0f921\"]], \"type\": \"heatmapgl\"}], \"histogram\": [{\"marker\": {\"colorbar\": {\"outlinewidth\": 0, \"ticks\": \"\"}}, \"type\": \"histogram\"}], \"histogram2d\": [{\"colorbar\": {\"outlinewidth\": 0, \"ticks\": \"\"}, \"colorscale\": [[0.0, \"#0d0887\"], [0.1111111111111111, \"#46039f\"], [0.2222222222222222, \"#7201a8\"], [0.3333333333333333, \"#9c179e\"], [0.4444444444444444, \"#bd3786\"], [0.5555555555555556, \"#d8576b\"], [0.6666666666666666, \"#ed7953\"], [0.7777777777777778, \"#fb9f3a\"], [0.8888888888888888, \"#fdca26\"], [1.0, \"#f0f921\"]], \"type\": \"histogram2d\"}], \"histogram2dcontour\": [{\"colorbar\": {\"outlinewidth\": 0, \"ticks\": \"\"}, \"colorscale\": [[0.0, \"#0d0887\"], [0.1111111111111111, \"#46039f\"], [0.2222222222222222, \"#7201a8\"], [0.3333333333333333, \"#9c179e\"], [0.4444444444444444, \"#bd3786\"], [0.5555555555555556, \"#d8576b\"], [0.6666666666666666, \"#ed7953\"], [0.7777777777777778, \"#fb9f3a\"], [0.8888888888888888, \"#fdca26\"], [1.0, \"#f0f921\"]], \"type\": \"histogram2dcontour\"}], \"mesh3d\": [{\"colorbar\": {\"outlinewidth\": 0, \"ticks\": \"\"}, \"type\": \"mesh3d\"}], \"parcoords\": [{\"line\": {\"colorbar\": {\"outlinewidth\": 0, \"ticks\": \"\"}}, \"type\": \"parcoords\"}], \"pie\": [{\"automargin\": true, \"type\": \"pie\"}], \"scatter\": [{\"marker\": {\"colorbar\": {\"outlinewidth\": 0, \"ticks\": \"\"}}, \"type\": \"scatter\"}], \"scatter3d\": [{\"line\": {\"colorbar\": {\"outlinewidth\": 0, \"ticks\": \"\"}}, \"marker\": {\"colorbar\": {\"outlinewidth\": 0, \"ticks\": \"\"}}, \"type\": \"scatter3d\"}], \"scattercarpet\": [{\"marker\": {\"colorbar\": {\"outlinewidth\": 0, \"ticks\": \"\"}}, \"type\": \"scattercarpet\"}], \"scattergeo\": [{\"marker\": {\"colorbar\": {\"outlinewidth\": 0, \"ticks\": \"\"}}, \"type\": \"scattergeo\"}], \"scattergl\": [{\"marker\": {\"colorbar\": {\"outlinewidth\": 0, \"ticks\": \"\"}}, \"type\": \"scattergl\"}], \"scattermapbox\": [{\"marker\": {\"colorbar\": {\"outlinewidth\": 0, \"ticks\": \"\"}}, \"type\": \"scattermapbox\"}], \"scatterpolar\": [{\"marker\": {\"colorbar\": {\"outlinewidth\": 0, \"ticks\": \"\"}}, \"type\": \"scatterpolar\"}], \"scatterpolargl\": [{\"marker\": {\"colorbar\": {\"outlinewidth\": 0, \"ticks\": \"\"}}, \"type\": \"scatterpolargl\"}], \"scatterternary\": [{\"marker\": {\"colorbar\": {\"outlinewidth\": 0, \"ticks\": \"\"}}, \"type\": \"scatterternary\"}], \"surface\": [{\"colorbar\": {\"outlinewidth\": 0, \"ticks\": \"\"}, \"colorscale\": [[0.0, \"#0d0887\"], [0.1111111111111111, \"#46039f\"], [0.2222222222222222, \"#7201a8\"], [0.3333333333333333, \"#9c179e\"], [0.4444444444444444, \"#bd3786\"], [0.5555555555555556, \"#d8576b\"], [0.6666666666666666, \"#ed7953\"], [0.7777777777777778, \"#fb9f3a\"], [0.8888888888888888, \"#fdca26\"], [1.0, \"#f0f921\"]], \"type\": \"surface\"}], \"table\": [{\"cells\": {\"fill\": {\"color\": \"#EBF0F8\"}, \"line\": {\"color\": \"white\"}}, \"header\": {\"fill\": {\"color\": \"#C8D4E3\"}, \"line\": {\"color\": \"white\"}}, \"type\": \"table\"}]}, \"layout\": {\"annotationdefaults\": {\"arrowcolor\": \"#2a3f5f\", \"arrowhead\": 0, \"arrowwidth\": 1}, \"coloraxis\": {\"colorbar\": {\"outlinewidth\": 0, \"ticks\": \"\"}}, \"colorscale\": {\"diverging\": [[0, \"#8e0152\"], [0.1, \"#c51b7d\"], [0.2, \"#de77ae\"], [0.3, \"#f1b6da\"], [0.4, \"#fde0ef\"], [0.5, \"#f7f7f7\"], [0.6, \"#e6f5d0\"], [0.7, \"#b8e186\"], [0.8, \"#7fbc41\"], [0.9, \"#4d9221\"], [1, \"#276419\"]], \"sequential\": [[0.0, \"#0d0887\"], [0.1111111111111111, \"#46039f\"], [0.2222222222222222, \"#7201a8\"], [0.3333333333333333, \"#9c179e\"], [0.4444444444444444, \"#bd3786\"], [0.5555555555555556, \"#d8576b\"], [0.6666666666666666, \"#ed7953\"], [0.7777777777777778, \"#fb9f3a\"], [0.8888888888888888, \"#fdca26\"], [1.0, \"#f0f921\"]], \"sequentialminus\": [[0.0, \"#0d0887\"], [0.1111111111111111, \"#46039f\"], [0.2222222222222222, \"#7201a8\"], [0.3333333333333333, \"#9c179e\"], [0.4444444444444444, \"#bd3786\"], [0.5555555555555556, \"#d8576b\"], [0.6666666666666666, \"#ed7953\"], [0.7777777777777778, \"#fb9f3a\"], [0.8888888888888888, \"#fdca26\"], [1.0, \"#f0f921\"]]}, \"colorway\": [\"#636efa\", \"#EF553B\", \"#00cc96\", \"#ab63fa\", \"#FFA15A\", \"#19d3f3\", \"#FF6692\", \"#B6E880\", \"#FF97FF\", \"#FECB52\"], \"font\": {\"color\": \"#2a3f5f\"}, \"geo\": {\"bgcolor\": \"white\", \"lakecolor\": \"white\", \"landcolor\": \"#E5ECF6\", \"showlakes\": true, \"showland\": true, \"subunitcolor\": \"white\"}, \"hoverlabel\": {\"align\": \"left\"}, \"hovermode\": \"closest\", \"mapbox\": {\"style\": \"light\"}, \"paper_bgcolor\": \"white\", \"plot_bgcolor\": \"#E5ECF6\", \"polar\": {\"angularaxis\": {\"gridcolor\": \"white\", \"linecolor\": \"white\", \"ticks\": \"\"}, \"bgcolor\": \"#E5ECF6\", \"radialaxis\": {\"gridcolor\": \"white\", \"linecolor\": \"white\", \"ticks\": \"\"}}, \"scene\": {\"xaxis\": {\"backgroundcolor\": \"#E5ECF6\", \"gridcolor\": \"white\", \"gridwidth\": 2, \"linecolor\": \"white\", \"showbackground\": true, \"ticks\": \"\", \"zerolinecolor\": \"white\"}, \"yaxis\": {\"backgroundcolor\": \"#E5ECF6\", \"gridcolor\": \"white\", \"gridwidth\": 2, \"linecolor\": \"white\", \"showbackground\": true, \"ticks\": \"\", \"zerolinecolor\": \"white\"}, \"zaxis\": {\"backgroundcolor\": \"#E5ECF6\", \"gridcolor\": \"white\", \"gridwidth\": 2, \"linecolor\": \"white\", \"showbackground\": true, \"ticks\": \"\", \"zerolinecolor\": \"white\"}}, \"shapedefaults\": {\"line\": {\"color\": \"#2a3f5f\"}}, \"ternary\": {\"aaxis\": {\"gridcolor\": \"white\", \"linecolor\": \"white\", \"ticks\": \"\"}, \"baxis\": {\"gridcolor\": \"white\", \"linecolor\": \"white\", \"ticks\": \"\"}, \"bgcolor\": \"#E5ECF6\", \"caxis\": {\"gridcolor\": \"white\", \"linecolor\": \"white\", \"ticks\": \"\"}}, \"title\": {\"x\": 0.05}, \"xaxis\": {\"automargin\": true, \"gridcolor\": \"white\", \"linecolor\": \"white\", \"ticks\": \"\", \"title\": {\"standoff\": 15}, \"zerolinecolor\": \"white\", \"zerolinewidth\": 2}, \"yaxis\": {\"automargin\": true, \"gridcolor\": \"white\", \"linecolor\": \"white\", \"ticks\": \"\", \"title\": {\"standoff\": 15}, \"zerolinecolor\": \"white\", \"zerolinewidth\": 2}}}, \"title\": {\"text\": \"The time-series line chart of reviews\"}, \"xaxis\": {\"title\": {\"text\": \"Date\"}}, \"yaxis\": {\"title\": {\"text\": \"Count of reviews\"}}},\n",
       "                        {\"responsive\": true}\n",
       "                    ).then(function(){\n",
       "                            \n",
       "var gd = document.getElementById('9f427668-fc58-4def-a8ea-b00c5ca62d9e');\n",
       "var x = new MutationObserver(function (mutations, observer) {{\n",
       "        var display = window.getComputedStyle(gd).display;\n",
       "        if (!display || display === 'none') {{\n",
       "            console.log([gd, 'removed!']);\n",
       "            Plotly.purge(gd);\n",
       "            observer.disconnect();\n",
       "        }}\n",
       "}});\n",
       "\n",
       "// Listen for the removal of the full notebook cells\n",
       "var notebookContainer = gd.closest('#notebook-container');\n",
       "if (notebookContainer) {{\n",
       "    x.observe(notebookContainer, {childList: true});\n",
       "}}\n",
       "\n",
       "// Listen for the clearing of the current output cell\n",
       "var outputEl = gd.closest('.output');\n",
       "if (outputEl) {{\n",
       "    x.observe(outputEl, {childList: true});\n",
       "}}\n",
       "\n",
       "                        })\n",
       "                };\n",
       "                });\n",
       "            </script>\n",
       "        </div>"
      ]
     },
     "metadata": {},
     "output_type": "display_data"
    }
   ],
   "source": [
    "time=df[\"review_time\"].groupby(df.review_time.dt.date).agg('count')\n",
    "fig = go.Figure(data=go.Scatter(x=time.index, y=time.values))\n",
    "fig.update_layout(title='The time-series line chart of reviews',\n",
    "                   xaxis_title='Date',\n",
    "                   yaxis_title='Count of reviews')\n",
    "fig.show()"
   ]
  },
  {
   "cell_type": "markdown",
   "metadata": {},
   "source": [
    "The beer review data was first generated in 1998, but the number of daily beer reviews only began to increase in 2002, and reached a peak in early 2011, about 1,000 reviews per day."
   ]
  },
  {
   "cell_type": "markdown",
   "metadata": {},
   "source": [
    "# Conclusion"
   ]
  },
  {
   "cell_type": "code",
   "execution_count": null,
   "metadata": {},
   "outputs": [],
   "source": []
  }
 ],
 "metadata": {
  "kernelspec": {
   "display_name": "Python 3",
   "language": "python",
   "name": "python3"
  },
  "language_info": {
   "codemirror_mode": {
    "name": "ipython",
    "version": 3
   },
   "file_extension": ".py",
   "mimetype": "text/x-python",
   "name": "python",
   "nbconvert_exporter": "python",
   "pygments_lexer": "ipython3",
   "version": "3.7.6"
  },
  "toc": {
   "base_numbering": 1,
   "nav_menu": {},
   "number_sections": true,
   "sideBar": true,
   "skip_h1_title": false,
   "title_cell": "Table of Contents",
   "title_sidebar": "Contents",
   "toc_cell": true,
   "toc_position": {},
   "toc_section_display": true,
   "toc_window_display": false
  }
 },
 "nbformat": 4,
 "nbformat_minor": 2
}
