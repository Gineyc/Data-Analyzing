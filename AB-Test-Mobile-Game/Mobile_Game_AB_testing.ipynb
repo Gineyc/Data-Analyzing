{
 "cells": [
  {
   "cell_type": "markdown",
   "metadata": {},
   "source": [
    "# 1 Project Backgroud\n",
    "The dataset of this project is from Datacamp.It is about a popular mobile puzzle game called Cookie Cats developed by Tactile Entertainment.\n",
    "\n",
    "In this project, we're going to analyze an AB test to see where the first gate should be located. level 30 or level 40? To do the AB test, let's start from the analysis of player retention. "
   ]
  },
  {
   "cell_type": "code",
   "execution_count": 3,
   "metadata": {
    "scrolled": true
   },
   "outputs": [
    {
     "data": {
      "text/html": [
       "<div>\n",
       "<style scoped>\n",
       "    .dataframe tbody tr th:only-of-type {\n",
       "        vertical-align: middle;\n",
       "    }\n",
       "\n",
       "    .dataframe tbody tr th {\n",
       "        vertical-align: top;\n",
       "    }\n",
       "\n",
       "    .dataframe thead th {\n",
       "        text-align: right;\n",
       "    }\n",
       "</style>\n",
       "<table border=\"1\" class=\"dataframe\">\n",
       "  <thead>\n",
       "    <tr style=\"text-align: right;\">\n",
       "      <th></th>\n",
       "      <th>userid</th>\n",
       "      <th>version</th>\n",
       "      <th>sum_gamerounds</th>\n",
       "      <th>retention_1</th>\n",
       "      <th>retention_7</th>\n",
       "    </tr>\n",
       "  </thead>\n",
       "  <tbody>\n",
       "    <tr>\n",
       "      <th>0</th>\n",
       "      <td>116</td>\n",
       "      <td>gate_30</td>\n",
       "      <td>3</td>\n",
       "      <td>False</td>\n",
       "      <td>False</td>\n",
       "    </tr>\n",
       "    <tr>\n",
       "      <th>1</th>\n",
       "      <td>337</td>\n",
       "      <td>gate_30</td>\n",
       "      <td>38</td>\n",
       "      <td>True</td>\n",
       "      <td>False</td>\n",
       "    </tr>\n",
       "    <tr>\n",
       "      <th>2</th>\n",
       "      <td>377</td>\n",
       "      <td>gate_40</td>\n",
       "      <td>165</td>\n",
       "      <td>True</td>\n",
       "      <td>False</td>\n",
       "    </tr>\n",
       "    <tr>\n",
       "      <th>3</th>\n",
       "      <td>483</td>\n",
       "      <td>gate_40</td>\n",
       "      <td>1</td>\n",
       "      <td>False</td>\n",
       "      <td>False</td>\n",
       "    </tr>\n",
       "    <tr>\n",
       "      <th>4</th>\n",
       "      <td>488</td>\n",
       "      <td>gate_40</td>\n",
       "      <td>179</td>\n",
       "      <td>True</td>\n",
       "      <td>True</td>\n",
       "    </tr>\n",
       "    <tr>\n",
       "      <th>5</th>\n",
       "      <td>540</td>\n",
       "      <td>gate_40</td>\n",
       "      <td>187</td>\n",
       "      <td>True</td>\n",
       "      <td>True</td>\n",
       "    </tr>\n",
       "    <tr>\n",
       "      <th>6</th>\n",
       "      <td>1066</td>\n",
       "      <td>gate_30</td>\n",
       "      <td>0</td>\n",
       "      <td>False</td>\n",
       "      <td>False</td>\n",
       "    </tr>\n",
       "    <tr>\n",
       "      <th>7</th>\n",
       "      <td>1444</td>\n",
       "      <td>gate_40</td>\n",
       "      <td>2</td>\n",
       "      <td>False</td>\n",
       "      <td>False</td>\n",
       "    </tr>\n",
       "    <tr>\n",
       "      <th>8</th>\n",
       "      <td>1574</td>\n",
       "      <td>gate_40</td>\n",
       "      <td>108</td>\n",
       "      <td>True</td>\n",
       "      <td>True</td>\n",
       "    </tr>\n",
       "    <tr>\n",
       "      <th>9</th>\n",
       "      <td>1587</td>\n",
       "      <td>gate_40</td>\n",
       "      <td>153</td>\n",
       "      <td>True</td>\n",
       "      <td>False</td>\n",
       "    </tr>\n",
       "  </tbody>\n",
       "</table>\n",
       "</div>"
      ],
      "text/plain": [
       "   userid  version  sum_gamerounds  retention_1  retention_7\n",
       "0     116  gate_30               3        False        False\n",
       "1     337  gate_30              38         True        False\n",
       "2     377  gate_40             165         True        False\n",
       "3     483  gate_40               1        False        False\n",
       "4     488  gate_40             179         True         True\n",
       "5     540  gate_40             187         True         True\n",
       "6    1066  gate_30               0        False        False\n",
       "7    1444  gate_40               2        False        False\n",
       "8    1574  gate_40             108         True         True\n",
       "9    1587  gate_40             153         True        False"
      ]
     },
     "execution_count": 3,
     "metadata": {},
     "output_type": "execute_result"
    }
   ],
   "source": [
    "import pandas as pd\n",
    "import numpy as np\n",
    "import seaborn as sns\n",
    "import matplotlib.patches as mpatches\n",
    "import matplotlib.pyplot as plt\n",
    "import statsmodels.api as sm\n",
    "from scipy.stats import norm\n",
    "df = pd.read_csv(\"./cookie_cats.csv\")\n",
    "df.head(10)"
   ]
  },
  {
   "cell_type": "markdown",
   "metadata": {},
   "source": [
    "the dataset contains the items of 90189 plyaers\n",
    "\n",
    "- userid: a unique number to identify each player\n",
    "- version: we use the version gate_30 to label the players in the control group, and gate_40 for test group.\n",
    "- sum_gategrounds: the number of game rounds played by the player during the first week after installation.\n",
    "- retention_1: did the player come back and play 1 day after installing?\n",
    "- retention_2: did the player come back and play 7 days after installing?\n",
    "\n",
    "Note: the assignment to control group or test group of each player is random."
   ]
  },
  {
   "cell_type": "markdown",
   "metadata": {},
   "source": [
    "# 2 Data Overview\n",
    "- check the missing value\n",
    "- understand the information of players in each group."
   ]
  },
  {
   "cell_type": "code",
   "execution_count": 4,
   "metadata": {},
   "outputs": [
    {
     "name": "stdout",
     "output_type": "stream",
     "text": [
      "<class 'pandas.core.frame.DataFrame'>\n",
      "RangeIndex: 90189 entries, 0 to 90188\n",
      "Data columns (total 5 columns):\n",
      "userid            90189 non-null int64\n",
      "version           90189 non-null object\n",
      "sum_gamerounds    90189 non-null int64\n",
      "retention_1       90189 non-null bool\n",
      "retention_7       90189 non-null bool\n",
      "dtypes: bool(2), int64(2), object(1)\n",
      "memory usage: 2.2+ MB\n"
     ]
    }
   ],
   "source": [
    "df.info()"
   ]
  },
  {
   "cell_type": "markdown",
   "metadata": {},
   "source": [
    "There is no missing value in this dataset. It is clean and easy of use.\n"
   ]
  },
  {
   "cell_type": "code",
   "execution_count": 5,
   "metadata": {},
   "outputs": [
    {
     "data": {
      "image/png": "[encoded data removed]",
      "text/plain": [
       "<Figure size 432x288 with 1 Axes>"
      ]
     },
     "metadata": {
      "needs_background": "light"
     },
     "output_type": "display_data"
    },
    {
     "data": {
      "image/png": "[encoded data removed]",
      "text/plain": [
       "<Figure size 432x288 with 1 Axes>"
      ]
     },
     "metadata": {
      "needs_background": "light"
     },
     "output_type": "display_data"
    }
   ],
   "source": [
    "test=df[df.version==\"gate_40\"]\n",
    "control=df[df.version==\"gate_30\"]\n",
    "sns.boxplot(control.sum_gamerounds)\n",
    "plt.title(\"boxplot of players' game rounds sum in control group\")\n",
    "plt.show()\n",
    "\n",
    "sns.boxplot(test.sum_gamerounds)\n",
    "plt.title(\"boxplot of players' game rounds sum in test group\")\n",
    "plt.show()"
   ]
  },
  {
   "cell_type": "markdown",
   "metadata": {},
   "source": [
    "Here we can see, there is a outlier in the control group. This player played nearly 50000 rounds during the first week. Therefore the lower boxplot is heavily skewed and not informative.\n",
    "\n",
    "Therefore, we need to check the statistical metrics of data from both groups and frequency of each sum_gamerounds"
   ]
  },
  {
   "cell_type": "code",
   "execution_count": 6,
   "metadata": {},
   "outputs": [
    {
     "data": {
      "text/plain": [
       "count    45489.000000\n",
       "mean        51.298776\n",
       "std        103.294416\n",
       "min          0.000000\n",
       "25%          5.000000\n",
       "50%         16.000000\n",
       "75%         52.000000\n",
       "max       2640.000000\n",
       "Name: sum_gamerounds, dtype: float64"
      ]
     },
     "execution_count": 6,
     "metadata": {},
     "output_type": "execute_result"
    }
   ],
   "source": [
    "test.sum_gamerounds.describe()"
   ]
  },
  {
   "cell_type": "code",
   "execution_count": 7,
   "metadata": {},
   "outputs": [
    {
     "data": {
      "text/plain": [
       "count    44700.000000\n",
       "mean        52.456264\n",
       "std        256.716423\n",
       "min          0.000000\n",
       "25%          5.000000\n",
       "50%         17.000000\n",
       "75%         50.000000\n",
       "max      49854.000000\n",
       "Name: sum_gamerounds, dtype: float64"
      ]
     },
     "execution_count": 7,
     "metadata": {},
     "output_type": "execute_result"
    }
   ],
   "source": [
    "control.sum_gamerounds.describe()"
   ]
  },
  {
   "cell_type": "code",
   "execution_count": 8,
   "metadata": {},
   "outputs": [
    {
     "name": "stdout",
     "output_type": "stream",
     "text": [
      "99 percentail of the sum_gamerounds:  493.0\n",
      "90 percentail of the sum_gamerounds:  134.0\n"
     ]
    }
   ],
   "source": [
    "print(\"99 percentail of the sum_gamerounds: \",np.percentile(df.sum_gamerounds,99))\n",
    "print(\"90 percentail of the sum_gamerounds: \",np.percentile(df.sum_gamerounds,90))"
   ]
  },
  {
   "cell_type": "code",
   "execution_count": 9,
   "metadata": {},
   "outputs": [
    {
     "data": {
      "text/plain": [
       "Text(0.5, 1.0, 'The number of players that played 0 - 150 game rounds during the first week ')"
      ]
     },
     "execution_count": 9,
     "metadata": {},
     "output_type": "execute_result"
    },
    {
     "data": {
      "image/png": "[encoded data removed]",
      "text/plain": [
       "<Figure size 432x288 with 1 Axes>"
      ]
     },
     "metadata": {
      "needs_background": "light"
     },
     "output_type": "display_data"
    }
   ],
   "source": [
    "sns.countplot(df[df['sum_gamerounds']<150].sum_gamerounds)\n",
    "plt.title(\"The number of players that played 0 - 150 game rounds during the first week \")"
   ]
  },
  {
   "cell_type": "code",
   "execution_count": 10,
   "metadata": {},
   "outputs": [
    {
     "data": {
      "text/plain": [
       "sum_gamerounds\n",
       "0        3994\n",
       "1        5538\n",
       "2        4606\n",
       "3        3958\n",
       "4        3629\n",
       "         ... \n",
       "2294        1\n",
       "2438        1\n",
       "2640        1\n",
       "2961        1\n",
       "49854       1\n",
       "Name: userid, Length: 942, dtype: int64"
      ]
     },
     "execution_count": 10,
     "metadata": {},
     "output_type": "execute_result"
    }
   ],
   "source": [
    "\n",
    "count = df.groupby('sum_gamerounds')['userid'].count()\n",
    "count"
   ]
  },
  {
   "cell_type": "markdown",
   "metadata": {},
   "source": [
    "From the information above, we can get the information and possible reasons below：\n",
    "### Information 1\n",
    "  + Nearly 4000 players didn't even play a single round after installations:\n",
    "#### Possible reasons:\n",
    "  + They haven't playing the game after installing it.\n",
    "  + The loading page/ interface design/ music and sound/ theme is not what players want, so they leave the game before playing the game.\n",
    "  + The game is not as good as they see in the promotional video.\n",
    "\n",
    "  \n",
    "### Information 2\n",
    "   + A quarter of players (around 22000 players) only played 5 levels during the first week after installing the game.\n",
    "   + Around 14000 players played fewer than three rounds.\n",
    "#### Possible reasons:\n",
    "   + They used up the health points in the first few rounds. After quitting the game and wait for their health points to recover, they never open the game again.(The game is too hard to play)\n",
    "   + The level settings is too easy or unattractive, so that players were easy to get bored.\n",
    "   + They did not enjoy the game (under expectation, don't like puzzle games)\n",
    "   \n",
    "   \n",
    "### Information 3 \n",
    "  + Less one percent of players have played more than 500 rounds.\n",
    "  + Over 90% of players are concentrated in 0-150 rounds\n",
    "#### Possible reasons:\n",
    "  + There may be professional players or game reviewers,and the game company can explore potential partnerships.\n",
    "  + There may be users with highly stickiness that keep buying game props."
   ]
  },
  {
   "cell_type": "markdown",
   "metadata": {},
   "source": [
    "# 3 Comparing 1-day Retention"
   ]
  },
  {
   "cell_type": "markdown",
   "metadata": {},
   "source": [
    "Retention rate is the common metric to measure how fun and engaging a game is.\n",
    "\n",
    "The definition of 1-day retention: the percentage of players that comes back and plays the game one day after they have installed it."
   ]
  },
  {
   "cell_type": "code",
   "execution_count": 11,
   "metadata": {},
   "outputs": [
    {
     "name": "stdout",
     "output_type": "stream",
     "text": [
      "The 1-day retention rate of the game:  0.4452095044850259\n",
      "The 1-day retention rate of the test group (gate_40):  0.44228274967574577\n",
      "The 1-day retention rate of the control group (gate_30):  0.4481879194630872\n",
      "1-day retention difference of A/B group:  0.005905169787341458\n"
     ]
    }
   ],
   "source": [
    "print(\"The 1-day retention rate of the game: \",df.retention_1.sum()/df.retention_1.count())\n",
    "test1=test.retention_1.sum()/test.retention_1.count()\n",
    "control1=control.retention_1.sum()/control.retention_1.count()\n",
    "print(\"The 1-day retention rate of the test group (gate_40): \",test1)\n",
    "print(\"The 1-day retention rate of the control group (gate_30): \",control1)\n",
    "print(\"1-day retention difference of A/B group: \",abs(test1-control1))"
   ]
  },
  {
   "cell_type": "markdown",
   "metadata": {},
   "source": [
    "The retention rate of test group and control group is showed above. \n",
    "\n",
    "We can find out that there is a slight decrease in 1-day retention rate when the gate was moved from 30(44.22%) to 40(44.82%)\n",
    "\n",
    "  \n",
    "However, it doesn't mean that a gate at 40 level will be worse in the future.\n",
    "Here we use bootstrapping to reapeatedly resample our dataset with replacement and calculate 1-day retention for those samples. By observing the variation in 1-day retention, we can have a indication of how uncertain the retention numbers are.\n",
    "\n",
    "### Therefore, the hypothesis would be:\n",
    "- Null Hypothesis: There is no difference between the control and experiment group.\n",
    "  + The retention rates are same in both groups.\n",
    "  + There is no statistical significant result.\n",
    "  \n",
    "- Alternate Hypothesis: There is difference between the control and experiment group.\n",
    "  + Retention rates are different in both groups.\n",
    "  + It shows a statistical significant.\n",
    "\n",
    "To avoid Type I/Type II error, we need to make sure the sample size is large enough,and the significance level must be specified while calculating the sample size.\n",
    "Baseline Concersion rate：45%\n",
    "\n",
    "Minimum Detectable Effect: 5%\n",
    "\n",
    "Significance level:5%\n",
    "\n",
    "Statistical power: 80%\n",
    "\n",
    "sample size: 1550"
   ]
  },
  {
   "cell_type": "code",
   "execution_count": 12,
   "metadata": {},
   "outputs": [
    {
     "data": {
      "text/plain": [
       "<matplotlib.axes._subplots.AxesSubplot at 0x18fd5334748>"
      ]
     },
     "execution_count": 12,
     "metadata": {},
     "output_type": "execute_result"
    },
    {
     "data": {
      "image/png": "[encoded data removed]",
      "text/plain": [
       "<Figure size 432x288 with 1 Axes>"
      ]
     },
     "metadata": {
      "needs_background": "light"
     },
     "output_type": "display_data"
    }
   ],
   "source": [
    "#define a function to get the mean of resampled dataset\n",
    "def boot(size,dataset):\n",
    "    resample=[]\n",
    "    for i in range(size):\n",
    "        boot_mean=df.sample(frac = 1,replace = True).groupby('version').retention_1.mean()\n",
    "        resample.append(boot_mean)\n",
    "    return resample\n",
    "\n",
    "#sampling in size of 150 of resampling, do resample with df\n",
    "\n",
    "boot_1d=pd.DataFrame(boot(1550,df))\n",
    "\n",
    "sns.kdeplot(boot_1d.gate_30,shade=True)\n",
    "sns.kdeplot(boot_1d.gate_40,shade=True)"
   ]
  },
  {
   "cell_type": "markdown",
   "metadata": {},
   "source": [
    "The two distribution represents the bootstrap uncertainty over the 1-day retention of A/B groups. And we can observe difference between two groups.\n",
    "\n",
    "Here we need to calculate AB group percent difference to see which group has he higher possibility to show a greater 1-day retention.\n",
    "  \n"
   ]
  },
  {
   "cell_type": "code",
   "execution_count": 13,
   "metadata": {
    "scrolled": true
   },
   "outputs": [
    {
     "name": "stdout",
     "output_type": "stream",
     "text": [
      "The possibility that 1-day retension is greater when gate is at level 30:  96.77 %\n"
     ]
    },
    {
     "data": {
      "image/png": "[encoded data removed]",
      "text/plain": [
       "<Figure size 432x288 with 1 Axes>"
      ]
     },
     "metadata": {
      "needs_background": "light"
     },
     "output_type": "display_data"
    }
   ],
   "source": [
    "boot_1d[\"diff\"]=100* (boot_1d.gate_30-boot_1d.gate_40)/boot_1d.gate_40\n",
    "\n",
    "sns.kdeplot(boot_1d['diff'] )\n",
    "plt.axvline(x=0,c='r')\n",
    "print(\"The possibility that 1-day retension is greater when gate is at level 30: \" ,round(100*((boot_1d['diff']>0).mean()),2),\"%\")"
   ]
  },
  {
   "cell_type": "markdown",
   "metadata": {},
   "source": [
    "The most likely difference is around 0.5% to 2%, and 96.77% of the distribution is above 0, which shows a better retention rate of a gate at level 30"
   ]
  },
  {
   "cell_type": "markdown",
   "metadata": {},
   "source": [
    "## T-test"
   ]
  },
  {
   "cell_type": "code",
   "execution_count": 23,
   "metadata": {},
   "outputs": [
    {
     "name": "stdout",
     "output_type": "stream",
     "text": [
      "retension_30:  20034\n",
      "retension_40:  20119\n",
      "n_40:  45489\n",
      "n_30:  44700\n"
     ]
    }
   ],
   "source": [
    "retension1_30 = control.retention_1.sum()\n",
    "retension1_40 = test.retention_1.sum()\n",
    "n1_30=len(control)\n",
    "n1_40=len(test)\n",
    "print(\"retension_30: \",retension1_30)\n",
    "print(\"retension_40: \",retension1_40)\n",
    "print(\"n_40: \",n1_40)\n",
    "print(\"n_30: \",n1_30)"
   ]
  },
  {
   "cell_type": "code",
   "execution_count": 26,
   "metadata": {},
   "outputs": [
    {
     "name": "stdout",
     "output_type": "stream",
     "text": [
      "z_score:  -1.7840862247974725\n",
      "p_value:  0.9627951723515404\n"
     ]
    }
   ],
   "source": [
    "z_score, p_value = sm.stats.proportions_ztest([retension1_40,retension1_30],[n1_40, n1_30],alternative='larger')\n",
    "print(\"z_score: \",z_score)\n",
    "print(\"p_value: \",p_value)"
   ]
  },
  {
   "cell_type": "markdown",
   "metadata": {},
   "source": [
    "According to the z_score and p_value,there was not a significant difference between the 1-day retention of control group and treatment group."
   ]
  },
  {
   "cell_type": "markdown",
   "metadata": {},
   "source": [
    "# 4 Comparing 7-day Retention"
   ]
  },
  {
   "cell_type": "markdown",
   "metadata": {},
   "source": [
    "By applying bootstrap analysis, we understand that there is a high probaility that 1-day retention is better when the gate is at level 30. However, players may not able to reach level 30 in one day, which means there is still possibitlity that the 1-day retention haven't affected by the gate, no matter 30 or 40.\n",
    "Therefore, there is still a need to look at 7-day retention as we assume more players should have reached level 40 after having played for a week."
   ]
  },
  {
   "cell_type": "code",
   "execution_count": 177,
   "metadata": {},
   "outputs": [
    {
     "name": "stdout",
     "output_type": "stream",
     "text": [
      "The 7-day retention rate of the game:  0.1860648194347426\n",
      "The 7-day retention rate of the test group (gate_40):  0.18200004396667327\n",
      "The 7-day retention rate of the control group (gate_30):  0.19020134228187918\n",
      "7-day retention difference of A/B group:  0.008201298315205913\n"
     ]
    }
   ],
   "source": [
    "print(\"The 7-day retention rate of the game: \",df.retention_7.sum()/df.retention_7.count())\n",
    "test7=test['retention_7'].sum()/test['retention_7'].count()\n",
    "control7=control.retention_7.sum()/control.retention_7.count()\n",
    "print(\"The 7-day retention rate of the test group (gate_40): \",test7)\n",
    "print(\"The 7-day retention rate of the control group (gate_30): \",control7)\n",
    "print(\"7-day retention difference of A/B group: \",abs(test7-control7))"
   ]
  },
  {
   "cell_type": "markdown",
   "metadata": {},
   "source": [
    "We can easily understand that:\n",
    "    - The overall 7-day retention rate is lower than 1-day retention rate: it may affected by decreaing user activity and increasing churn.\n",
    "    \n",
    "    - The difference between test group and control group has increased (from 0.0059 to 0.0082)\n",
    "    \n",
    "    - Like with 1-day retention, 7-day retention is slightly lower when gate is at level 40(18.2%) than the gate is at level 30(19%).\n",
    "    \n",
    "As before, We still use the same approach - bootstrap analysis to figure out the difference between AB groups with high possibility.\n",
    "\n",
    "Baseline Concersion rate：18%\n",
    "\n",
    "Minimum Detectable Effect: 5%\n",
    "\n",
    "Significance level:5%\n",
    "\n",
    "sample size: 1000"
   ]
  },
  {
   "cell_type": "code",
   "execution_count": 178,
   "metadata": {},
   "outputs": [
    {
     "data": {
      "text/plain": [
       "<matplotlib.axes._subplots.AxesSubplot at 0x20514a81208>"
      ]
     },
     "execution_count": 178,
     "metadata": {},
     "output_type": "execute_result"
    },
    {
     "data": {
      "image/png": "[encoded data removed]",
      "text/plain": [
       "<Figure size 432x288 with 1 Axes>"
      ]
     },
     "metadata": {
      "needs_background": "light"
     },
     "output_type": "display_data"
    }
   ],
   "source": [
    "boot_7d=pd.DataFrame(boot(1000,df))\n",
    "sns.kdeplot(boot_1d.gate_30,shade=True)\n",
    "sns.kdeplot(boot_1d.gate_40,shade=True)"
   ]
  },
  {
   "cell_type": "markdown",
   "metadata": {},
   "source": [
    "The two distribution represents the bootstrap uncertainty over the 7-day retention of A/B groups. And we can observe difference between two groups.\n",
    "\n",
    "Here we need to calculate AB group percent difference to see which group has he higher possibility to show a greater 7-day retention.\n",
    "  "
   ]
  },
  {
   "cell_type": "code",
   "execution_count": 179,
   "metadata": {},
   "outputs": [
    {
     "name": "stdout",
     "output_type": "stream",
     "text": [
      "The possibility that 7-day retension is greater when gate is at level 30:  95.3 %\n"
     ]
    },
    {
     "data": {
      "image/png": "[encoded data removed]",
      "text/plain": [
       "<Figure size 432x288 with 1 Axes>"
      ]
     },
     "metadata": {
      "needs_background": "light"
     },
     "output_type": "display_data"
    }
   ],
   "source": [
    "boot_7d[\"diff\"]=100* (boot_7d.gate_30-boot_7d.gate_40)/boot_7d.gate_40\n",
    "\n",
    "sns.kdeplot(boot_7d['diff'] )\n",
    "plt.axvline(x=0,c='r')\n",
    "print(\"The proportion that 7-day retension is greater when gate is at level 30: \" ,round(100*((boot_7d['diff']>0).mean()),2),\"%\")"
   ]
  },
  {
   "cell_type": "markdown",
   "metadata": {},
   "source": [
    "The most likely difference is around 1% to 2%, and 96.4% of the distribution is above 0%, which shows a better retention rate of a gate at level 30 then when it is at level 40."
   ]
  },
  {
   "cell_type": "code",
   "execution_count": 24,
   "metadata": {},
   "outputs": [
    {
     "name": "stdout",
     "output_type": "stream",
     "text": [
      "retension_30:  8502\n",
      "retension_40:  8279\n",
      "n_40:  45489\n",
      "n_30:  44700\n"
     ]
    }
   ],
   "source": [
    "retension7_30 = control.retention_7.sum()\n",
    "retension7_40 = test.retention_7.sum()\n",
    "n7_30=len(control)\n",
    "n7_40=len(test)\n",
    "print(\"retension_30: \",retension7_30)\n",
    "print(\"retension_40: \",retension7_40)\n",
    "print(\"n_40: \",n7_40)\n",
    "print(\"n_30: \",n7_30)"
   ]
  },
  {
   "cell_type": "code",
   "execution_count": 27,
   "metadata": {},
   "outputs": [
    {
     "name": "stdout",
     "output_type": "stream",
     "text": [
      "z_score:  -3.164358912748191\n",
      "p_value:  0.9992228750121929\n"
     ]
    }
   ],
   "source": [
    "z_score, p_value = sm.stats.proportions_ztest([retension7_40,retension7_30],[n7_40, n7_30],alternative='larger')\n",
    "print(\"z_score: \",z_score)\n",
    "print(\"p_value: \",p_value)"
   ]
  },
  {
   "cell_type": "markdown",
   "metadata": {},
   "source": [
    "According to the z_score and p_value,there was not a significant difference between the 7-day retention of control group and treatment group."
   ]
  },
  {
   "cell_type": "markdown",
   "metadata": {},
   "source": [
    "# 5 Conclusion\n",
    "In the bootstrap analysis, both 1-day retention and 7-day retention is higher when the gate is at level 30 than when it is at level 40. And there is no statistics significance to rejcet the null hypothesis.  We can make a conclusion that:\n",
    "\n",
    "### In this case, we shouldn't move the gate from level 30 to level 40.\n",
    "\n",
    "Also, as the metrics in dataset is limited, we also need to consider the metrics like:\n",
    "\n",
    "- Active users weekly\n",
    "- In-game purchase\n",
    "- Weekly churn rate\n",
    "\n",
    "to make this decision: whether to move the gate from level 30 to level 40."
   ]
  }
 ],
 "metadata": {
  "kernelspec": {
   "display_name": "Python 3",
   "language": "python",
   "name": "python3"
  },
  "language_info": {
   "codemirror_mode": {
    "name": "ipython",
    "version": 3
   },
   "file_extension": ".py",
   "mimetype": "text/x-python",
   "name": "python",
   "nbconvert_exporter": "python",
   "pygments_lexer": "ipython3",
   "version": "3.7.6"
  }
 },
 "nbformat": 4,
 "nbformat_minor": 2
}
