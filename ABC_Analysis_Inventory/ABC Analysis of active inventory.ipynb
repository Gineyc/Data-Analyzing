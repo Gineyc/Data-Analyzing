{
 "cells": [
  {
   "cell_type": "markdown",
   "metadata": {},
   "source": [
    "#### Step 1: Calculate the annual spend for all the parts by multiplying the unit cost with the annual unit demand\n",
    "#### Step 2: Sort inventory in decreasing order of annual spend\n",
    "#### Step 3: Calculate the cumulative annual spend and the percent spend\n",
    "#### Step 4: Divide the inventory into classes\n",
    "#### Step 5: Analyze the classes and make appropriate decisions"
   ]
  },
  {
   "cell_type": "code",
   "execution_count": 7,
   "metadata": {},
   "outputs": [
    {
     "name": "stdout",
     "output_type": "stream",
     "text": [
      "               Order    SKU_number      SoldFlag  ...      ItemCount   LowUserPrice    LowNetPrice\n",
      "count  198917.000000  1.989170e+05  75996.000000  ...  198917.000000  198917.000000  198917.000000\n",
      "mean   106483.543242  8.613626e+05      0.171009  ...      41.426283      30.982487      46.832053\n",
      "std     60136.716784  8.699794e+05      0.376519  ...      37.541215      69.066155     128.513236\n",
      "min         2.000000  5.000100e+04      0.000000  ...       0.000000       0.000000       0.000000\n",
      "25%     55665.000000  2.172520e+05      0.000000  ...      21.000000       4.910000      17.950000\n",
      "50%    108569.000000  6.122080e+05      0.000000  ...      32.000000      16.080000      33.980000\n",
      "75%    158298.000000  9.047510e+05      0.000000  ...      50.000000      40.240000      55.490000\n",
      "max    208027.000000  3.960788e+06      1.000000  ...    2542.000000   14140.210000   19138.790000\n",
      "\n",
      "[8 rows x 12 columns]\n",
      "Index(['Order', 'File_Type', 'SKU_number', 'SoldFlag', 'SoldCount',\n",
      "       'MarketingType', 'ReleaseNumber', 'New_Release_Flag', 'StrengthFactor',\n",
      "       'PriceReg', 'ReleaseYear', 'ItemCount', 'LowUserPrice', 'LowNetPrice'],\n",
      "      dtype='object')\n"
     ]
    }
   ],
   "source": [
    "import pandas as pd\n",
    "import numpy as np\n",
    "import seaborn as sn\n",
    "import matplotlib.pyplot as plt\n",
    "\n",
    "data= pd.read_csv(\"Sales_analysis.csv\")\n",
    "\n",
    "print(data.describe())\n",
    "print(data.columns)"
   ]
  },
  {
   "cell_type": "code",
   "execution_count": 21,
   "metadata": {},
   "outputs": [
    {
     "name": "stdout",
     "output_type": "stream",
     "text": [
      "       SKU_number  PriceReg  ItemCount   File_Type   AddCost       Cumcost      TotalSum   Runperc\n",
      "685        145889     244.6        851  Historical  208154.6  2.081546e+05  3.426320e+08  0.000608\n",
      "601        435034     281.8        616  Historical  173588.8  3.817434e+05  3.426320e+08  0.001114\n",
      "75056      538479    2645.3         49  Historical  129619.7  5.113631e+05  3.426320e+08  0.001492\n",
      "5752       212633     235.6        521  Historical  122747.6  6.341107e+05  3.426320e+08  0.001851\n",
      "3758       212480     208.8        579  Historical  120895.2  7.550059e+05  3.426320e+08  0.002204\n",
      "...           ...       ...        ...         ...       ...           ...           ...       ...\n",
      "4214       494166       0.0          7  Historical       0.0  3.426320e+08  3.426320e+08  1.000000\n",
      "57965     1758095       0.0          8  Historical       0.0  3.426320e+08  3.426320e+08  1.000000\n",
      "40803      744731       0.0          0  Historical       0.0  3.426320e+08  3.426320e+08  1.000000\n",
      "40847      878815       0.0         29  Historical       0.0  3.426320e+08  3.426320e+08  1.000000\n",
      "16367      874179       0.0         29  Historical       0.0  3.426320e+08  3.426320e+08  1.000000\n",
      "\n",
      "[75996 rows x 8 columns]\n"
     ]
    }
   ],
   "source": [
    "#subset of the dataset\n",
    "subdata = data[['SKU_number','PriceReg','ItemCount','File_Type']][(data['File_Type'] == 'Historical')]\n",
    "#new coloumn for recording additive Cost per SKU\n",
    "subdata['AddCost']=subdata['PriceReg']*subdata['ItemCount']\n",
    "#reorder columns by addcost\n",
    "subdata=subdata.sort_values(by=['AddCost'],ascending=False)\n",
    "#add column for recording cum sum of Addcost\n",
    "subdata['Cumcost']=subdata['AddCost'].cumsum().round(decimals=2)\n",
    "#add column for recording sum of Addcost\n",
    "subdata['TotalSum']=subdata['AddCost'].sum()\n",
    "# add the column of the running percentage  cumcost/totalsum\n",
    "subdata['Runperc']=subdata['Cumcost']/subdata['TotalSum']\n",
    "print(subdata)"
   ]
  },
  {
   "cell_type": "code",
   "execution_count": 23,
   "metadata": {},
   "outputs": [
    {
     "name": "stdout",
     "output_type": "stream",
     "text": [
      "<bound method NDFrame.head of        SKU_number  PriceReg  ItemCount   File_Type   AddCost       Cumcost      TotalSum   Runperc Class\n",
      "685        145889     244.6        851  Historical  208154.6  2.081546e+05  3.426320e+08  0.000608     A\n",
      "601        435034     281.8        616  Historical  173588.8  3.817434e+05  3.426320e+08  0.001114     A\n",
      "75056      538479    2645.3         49  Historical  129619.7  5.113631e+05  3.426320e+08  0.001492     A\n",
      "5752       212633     235.6        521  Historical  122747.6  6.341107e+05  3.426320e+08  0.001851     A\n",
      "3758       212480     208.8        579  Historical  120895.2  7.550059e+05  3.426320e+08  0.002204     A\n",
      "...           ...       ...        ...         ...       ...           ...           ...       ...   ...\n",
      "4214       494166       0.0          7  Historical       0.0  3.426320e+08  3.426320e+08  1.000000     C\n",
      "57965     1758095       0.0          8  Historical       0.0  3.426320e+08  3.426320e+08  1.000000     C\n",
      "40803      744731       0.0          0  Historical       0.0  3.426320e+08  3.426320e+08  1.000000     C\n",
      "40847      878815       0.0         29  Historical       0.0  3.426320e+08  3.426320e+08  1.000000     C\n",
      "16367      874179       0.0         29  Historical       0.0  3.426320e+08  3.426320e+08  1.000000     C\n",
      "\n",
      "[75996 rows x 9 columns]>\n"
     ]
    }
   ],
   "source": [
    "def  ABC_segmentation(perc):\n",
    "    if perc>0 and perc<0.6:\n",
    "        return \"A\"\n",
    "    elif perc>=0.6 and perc<0.85:\n",
    "        return \"B\"\n",
    "    elif perc>=0.85:\n",
    "        return \"C\"\n",
    "    \n",
    "subdata['Class']=subdata['Runperc'].apply(ABC_segmentation)\n",
    "print(subdata.head)"
   ]
  },
  {
   "cell_type": "code",
   "execution_count": 25,
   "metadata": {},
   "outputs": [
    {
     "data": {
      "text/plain": [
       "C    37413\n",
       "B    22288\n",
       "A    16295\n",
       "Name: Class, dtype: int64"
      ]
     },
     "execution_count": 25,
     "metadata": {},
     "output_type": "execute_result"
    }
   ],
   "source": [
    "subdata['Class'].value_counts()"
   ]
  },
  {
   "cell_type": "code",
   "execution_count": 30,
   "metadata": {},
   "outputs": [
    {
     "name": "stdout",
     "output_type": "stream",
     "text": [
      "Cost of Class A:  205577451.4\n",
      "Cost of Class B:  85658215.25999999\n",
      "Cost of Class C:  51396361.129999995\n"
     ]
    }
   ],
   "source": [
    "print('Cost of Class A: ', subdata['AddCost'][subdata.Class=='A'].sum())\n",
    "print('Cost of Class B: ', subdata['AddCost'][subdata.Class=='B'].sum())\n",
    "print('Cost of Class C: ', subdata['AddCost'][subdata.Class=='C'].sum())"
   ]
  },
  {
   "cell_type": "code",
   "execution_count": 32,
   "metadata": {},
   "outputs": [
    {
     "name": "stdout",
     "output_type": "stream",
     "text": [
      "Percent of Class A:  0.5999948479013728\n",
      "Percent of Class B:  0.2500006079773141\n",
      "Percent of Class C:  0.15000454412131298\n"
     ]
    }
   ],
   "source": [
    "print('Percent of Class A: ', subdata['AddCost'][subdata.Class=='A'].sum()/subdata['AddCost'].sum())\n",
    "print('Percent of Class B: ', subdata['AddCost'][subdata.Class=='B'].sum()/subdata['AddCost'].sum())\n",
    "print('Percent of Class C: ', subdata['AddCost'][subdata.Class=='C'].sum()/subdata['AddCost'].sum())"
   ]
  },
  {
   "cell_type": "code",
   "execution_count": 43,
   "metadata": {},
   "outputs": [
    {
     "data": {
      "image/png": "[encoded data removed]",
      "text/plain": [
       "<Figure size 432x288 with 1 Axes>"
      ]
     },
     "metadata": {
      "needs_background": "light"
     },
     "output_type": "display_data"
    }
   ],
   "source": [
    "performance = subdata['AddCost'].tolist()\n",
    "y_pos=np.arange(len(performance))\n",
    "\n",
    "plt.plot(y_pos,performance)\n",
    "plt.ylabel('Cost')\n",
    "plt.xlabel('SKU')\n",
    "plt.title('ABC Analysis - Cost per SKU')\n",
    "plt.grid(True)\n",
    "plt.ylim(0,250000)\n",
    "plt.show()"
   ]
  },
  {
   "cell_type": "code",
   "execution_count": 45,
   "metadata": {},
   "outputs": [
    {
     "data": {
      "image/png": "[encoded data removed]",
      "text/plain": [
       "<Figure size 432x288 with 1 Axes>"
      ]
     },
     "metadata": {
      "needs_background": "light"
     },
     "output_type": "display_data"
    }
   ],
   "source": [
    "performance=subdata['Runperc'].tolist()\n",
    "y_pos=np.arange(len(performance))\n",
    "\n",
    "plt.plot(y_pos,performance)\n",
    "plt.ylabel('Running Total Percentage')\n",
    "plt.title('ABC Analysis - Cumulative Cost per SKU')\n",
    "plt.xlabel('SKU')\n",
    "plt.grid(True)\n",
    "plt.show()"
   ]
  },
  {
   "cell_type": "code",
   "execution_count": null,
   "metadata": {},
   "outputs": [],
   "source": []
  }
 ],
 "metadata": {
  "kernelspec": {
   "display_name": "Python 3",
   "language": "python",
   "name": "python3"
  },
  "language_info": {
   "codemirror_mode": {
    "name": "ipython",
    "version": 3
   },
   "file_extension": ".py",
   "mimetype": "text/x-python",
   "name": "python",
   "nbconvert_exporter": "python",
   "pygments_lexer": "ipython3",
   "version": "3.7.6"
  }
 },
 "nbformat": 4,
 "nbformat_minor": 2
}
