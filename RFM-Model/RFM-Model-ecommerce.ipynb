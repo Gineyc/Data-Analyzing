{
 "cells": [
  {
   "cell_type": "markdown",
   "metadata": {
    "toc": true
   },
   "source": [
    "<h1>Contents<span class=\"tocSkip\"></span></h1>\n",
    "<div class=\"toc\"><ul class=\"toc-item\"><li><span><a href=\"#Project-Background\" data-toc-modified-id=\"Project-Background-1\"><span class=\"toc-item-num\">1&nbsp;&nbsp;</span>Project Background</a></span></li><li><span><a href=\"#Data-cleaning\" data-toc-modified-id=\"Data-cleaning-2\"><span class=\"toc-item-num\">2&nbsp;&nbsp;</span>Data cleaning</a></span><ul class=\"toc-item\"><li><span><a href=\"#Missing-values\" data-toc-modified-id=\"Missing-values-2.1\"><span class=\"toc-item-num\">2.1&nbsp;&nbsp;</span>Missing values</a></span></li><li><span><a href=\"#Duplicated-Items\" data-toc-modified-id=\"Duplicated-Items-2.2\"><span class=\"toc-item-num\">2.2&nbsp;&nbsp;</span>Duplicated Items</a></span></li></ul></li><li><span><a href=\"#Data-Understanding\" data-toc-modified-id=\"Data-Understanding-3\"><span class=\"toc-item-num\">3&nbsp;&nbsp;</span>Data Understanding</a></span></li><li><span><a href=\"#RFM-Model\" data-toc-modified-id=\"RFM-Model-4\"><span class=\"toc-item-num\">4&nbsp;&nbsp;</span>RFM Model</a></span><ul class=\"toc-item\"><li><span><a href=\"#Recency\" data-toc-modified-id=\"Recency-4.1\"><span class=\"toc-item-num\">4.1&nbsp;&nbsp;</span>Recency</a></span></li><li><span><a href=\"#Frequency\" data-toc-modified-id=\"Frequency-4.2\"><span class=\"toc-item-num\">4.2&nbsp;&nbsp;</span>Frequency</a></span></li><li><span><a href=\"#Monetary\" data-toc-modified-id=\"Monetary-4.3\"><span class=\"toc-item-num\">4.3&nbsp;&nbsp;</span>Monetary</a></span></li><li><span><a href=\"#RFM-Model\" data-toc-modified-id=\"RFM-Model-4.4\"><span class=\"toc-item-num\">4.4&nbsp;&nbsp;</span>RFM Model</a></span></li><li><span><a href=\"#RFM-Analysis\" data-toc-modified-id=\"RFM-Analysis-4.5\"><span class=\"toc-item-num\">4.5&nbsp;&nbsp;</span>RFM Analysis</a></span></li></ul></li></ul></div>"
   ]
  },
  {
   "cell_type": "markdown",
   "metadata": {},
   "source": [
    "# Project Background\n",
    "RFM Model is an essential model for customer segmentation. In this case, I will use the e-commerce dataset to implement this RFM model and 3D scatter plot in Python."
   ]
  },
  {
   "cell_type": "code",
   "execution_count": 160,
   "metadata": {},
   "outputs": [],
   "source": [
    "import pandas as pd\n",
    "import numpy as np\n",
    "import matplotlib.pyplot as plt\n",
    "import seaborn as sns\n",
    "import datetime\n",
    "import plotly.express as px\n",
    "from scipy import stats\n"
   ]
  },
  {
   "cell_type": "code",
   "execution_count": 161,
   "metadata": {},
   "outputs": [
    {
     "data": {
      "text/html": [
       "<div>\n",
       "<style scoped>\n",
       "    .dataframe tbody tr th:only-of-type {\n",
       "        vertical-align: middle;\n",
       "    }\n",
       "\n",
       "    .dataframe tbody tr th {\n",
       "        vertical-align: top;\n",
       "    }\n",
       "\n",
       "    .dataframe thead th {\n",
       "        text-align: right;\n",
       "    }\n",
       "</style>\n",
       "<table border=\"1\" class=\"dataframe\">\n",
       "  <thead>\n",
       "    <tr style=\"text-align: right;\">\n",
       "      <th></th>\n",
       "      <th>InvoiceNo</th>\n",
       "      <th>StockCode</th>\n",
       "      <th>Description</th>\n",
       "      <th>Quantity</th>\n",
       "      <th>InvoiceDate</th>\n",
       "      <th>UnitPrice</th>\n",
       "      <th>CustomerID</th>\n",
       "      <th>Country</th>\n",
       "    </tr>\n",
       "  </thead>\n",
       "  <tbody>\n",
       "    <tr>\n",
       "      <th>0</th>\n",
       "      <td>536365</td>\n",
       "      <td>85123A</td>\n",
       "      <td>WHITE HANGING HEART T-LIGHT HOLDER</td>\n",
       "      <td>6</td>\n",
       "      <td>12/1/2010 8:26</td>\n",
       "      <td>2.55</td>\n",
       "      <td>17850.0</td>\n",
       "      <td>United Kingdom</td>\n",
       "    </tr>\n",
       "    <tr>\n",
       "      <th>1</th>\n",
       "      <td>536365</td>\n",
       "      <td>71053</td>\n",
       "      <td>WHITE METAL LANTERN</td>\n",
       "      <td>6</td>\n",
       "      <td>12/1/2010 8:26</td>\n",
       "      <td>3.39</td>\n",
       "      <td>17850.0</td>\n",
       "      <td>United Kingdom</td>\n",
       "    </tr>\n",
       "    <tr>\n",
       "      <th>2</th>\n",
       "      <td>536365</td>\n",
       "      <td>84406B</td>\n",
       "      <td>CREAM CUPID HEARTS COAT HANGER</td>\n",
       "      <td>8</td>\n",
       "      <td>12/1/2010 8:26</td>\n",
       "      <td>2.75</td>\n",
       "      <td>17850.0</td>\n",
       "      <td>United Kingdom</td>\n",
       "    </tr>\n",
       "    <tr>\n",
       "      <th>3</th>\n",
       "      <td>536365</td>\n",
       "      <td>84029G</td>\n",
       "      <td>KNITTED UNION FLAG HOT WATER BOTTLE</td>\n",
       "      <td>6</td>\n",
       "      <td>12/1/2010 8:26</td>\n",
       "      <td>3.39</td>\n",
       "      <td>17850.0</td>\n",
       "      <td>United Kingdom</td>\n",
       "    </tr>\n",
       "    <tr>\n",
       "      <th>4</th>\n",
       "      <td>536365</td>\n",
       "      <td>84029E</td>\n",
       "      <td>RED WOOLLY HOTTIE WHITE HEART.</td>\n",
       "      <td>6</td>\n",
       "      <td>12/1/2010 8:26</td>\n",
       "      <td>3.39</td>\n",
       "      <td>17850.0</td>\n",
       "      <td>United Kingdom</td>\n",
       "    </tr>\n",
       "  </tbody>\n",
       "</table>\n",
       "</div>"
      ],
      "text/plain": [
       "  InvoiceNo StockCode                          Description  Quantity  \\\n",
       "0    536365    85123A   WHITE HANGING HEART T-LIGHT HOLDER         6   \n",
       "1    536365     71053                  WHITE METAL LANTERN         6   \n",
       "2    536365    84406B       CREAM CUPID HEARTS COAT HANGER         8   \n",
       "3    536365    84029G  KNITTED UNION FLAG HOT WATER BOTTLE         6   \n",
       "4    536365    84029E       RED WOOLLY HOTTIE WHITE HEART.         6   \n",
       "\n",
       "      InvoiceDate  UnitPrice  CustomerID         Country  \n",
       "0  12/1/2010 8:26       2.55     17850.0  United Kingdom  \n",
       "1  12/1/2010 8:26       3.39     17850.0  United Kingdom  \n",
       "2  12/1/2010 8:26       2.75     17850.0  United Kingdom  \n",
       "3  12/1/2010 8:26       3.39     17850.0  United Kingdom  \n",
       "4  12/1/2010 8:26       3.39     17850.0  United Kingdom  "
      ]
     },
     "execution_count": 161,
     "metadata": {},
     "output_type": "execute_result"
    }
   ],
   "source": [
    "df = pd.read_csv(\"./data.csv\",encoding = \"ISO-8859-1\")\n",
    "df.head(5)"
   ]
  },
  {
   "cell_type": "markdown",
   "metadata": {},
   "source": [
    "# Data cleaning "
   ]
  },
  {
   "cell_type": "markdown",
   "metadata": {},
   "source": [
    "## Missing values \n",
    "We load the dataset successful. Now we gonna check if there are the missing values in the dataset and remove the missing values"
   ]
  },
  {
   "cell_type": "code",
   "execution_count": 162,
   "metadata": {},
   "outputs": [
    {
     "name": "stdout",
     "output_type": "stream",
     "text": [
      "<class 'pandas.core.frame.DataFrame'>\n",
      "RangeIndex: 541909 entries, 0 to 541908\n",
      "Data columns (total 8 columns):\n",
      "InvoiceNo      541909 non-null object\n",
      "StockCode      541909 non-null object\n",
      "Description    540455 non-null object\n",
      "Quantity       541909 non-null int64\n",
      "InvoiceDate    541909 non-null object\n",
      "UnitPrice      541909 non-null float64\n",
      "CustomerID     406829 non-null float64\n",
      "Country        541909 non-null object\n",
      "dtypes: float64(2), int64(1), object(5)\n",
      "memory usage: 33.1+ MB\n"
     ]
    }
   ],
   "source": [
    "df.info()"
   ]
  },
  {
   "cell_type": "markdown",
   "metadata": {},
   "source": [
    "Here are some missing values in the dataset. Now we gonna drop those missing values."
   ]
  },
  {
   "cell_type": "code",
   "execution_count": 163,
   "metadata": {},
   "outputs": [
    {
     "name": "stdout",
     "output_type": "stream",
     "text": [
      "<class 'pandas.core.frame.DataFrame'>\n",
      "Int64Index: 406829 entries, 0 to 541908\n",
      "Data columns (total 8 columns):\n",
      "InvoiceNo      406829 non-null object\n",
      "StockCode      406829 non-null object\n",
      "Description    406829 non-null object\n",
      "Quantity       406829 non-null int64\n",
      "InvoiceDate    406829 non-null object\n",
      "UnitPrice      406829 non-null float64\n",
      "CustomerID     406829 non-null float64\n",
      "Country        406829 non-null object\n",
      "dtypes: float64(2), int64(1), object(5)\n",
      "memory usage: 27.9+ MB\n"
     ]
    }
   ],
   "source": [
    "df=df.dropna()\n",
    "df.info()"
   ]
  },
  {
   "cell_type": "markdown",
   "metadata": {},
   "source": [
    "## Duplicated Items"
   ]
  },
  {
   "cell_type": "code",
   "execution_count": 164,
   "metadata": {},
   "outputs": [
    {
     "name": "stdout",
     "output_type": "stream",
     "text": [
      "The sum of duplicated items:  5225\n"
     ]
    }
   ],
   "source": [
    "print(\"The sum of duplicated items: \",df.duplicated().sum())"
   ]
  },
  {
   "cell_type": "code",
   "execution_count": 165,
   "metadata": {},
   "outputs": [
    {
     "name": "stdout",
     "output_type": "stream",
     "text": [
      "<class 'pandas.core.frame.DataFrame'>\n",
      "Int64Index: 401604 entries, 0 to 541908\n",
      "Data columns (total 8 columns):\n",
      "InvoiceNo      401604 non-null object\n",
      "StockCode      401604 non-null object\n",
      "Description    401604 non-null object\n",
      "Quantity       401604 non-null int64\n",
      "InvoiceDate    401604 non-null object\n",
      "UnitPrice      401604 non-null float64\n",
      "CustomerID     401604 non-null float64\n",
      "Country        401604 non-null object\n",
      "dtypes: float64(2), int64(1), object(5)\n",
      "memory usage: 27.6+ MB\n"
     ]
    }
   ],
   "source": [
    "df=df.drop_duplicates()\n",
    "df.info()"
   ]
  },
  {
   "cell_type": "markdown",
   "metadata": {},
   "source": [
    "# Data Understanding\n",
    "InvoiceNo: the unique number represent each transaction. If the code starts with \"c\" it indicates a cancellation.\n",
    "StockCode: the unique number of distinct product (item)\n",
    "Description: the name of unique number-\n",
    "Quantity: the quantities of each product per transaction\n",
    "InvoiceDate: the day and time when each transaction was generated.\n",
    "UnitPrice: the unit price of each product.\n",
    "CustomerID: the unique number of each customer.\n",
    "Country: the country where each customer resides.\n"
   ]
  },
  {
   "cell_type": "code",
   "execution_count": 166,
   "metadata": {},
   "outputs": [
    {
     "data": {
      "text/html": [
       "<div>\n",
       "<style scoped>\n",
       "    .dataframe tbody tr th:only-of-type {\n",
       "        vertical-align: middle;\n",
       "    }\n",
       "\n",
       "    .dataframe tbody tr th {\n",
       "        vertical-align: top;\n",
       "    }\n",
       "\n",
       "    .dataframe thead th {\n",
       "        text-align: right;\n",
       "    }\n",
       "</style>\n",
       "<table border=\"1\" class=\"dataframe\">\n",
       "  <thead>\n",
       "    <tr style=\"text-align: right;\">\n",
       "      <th></th>\n",
       "      <th>Quantity</th>\n",
       "      <th>UnitPrice</th>\n",
       "      <th>CustomerID</th>\n",
       "    </tr>\n",
       "  </thead>\n",
       "  <tbody>\n",
       "    <tr>\n",
       "      <th>count</th>\n",
       "      <td>401604.000000</td>\n",
       "      <td>401604.000000</td>\n",
       "      <td>401604.000000</td>\n",
       "    </tr>\n",
       "    <tr>\n",
       "      <th>mean</th>\n",
       "      <td>12.183273</td>\n",
       "      <td>3.474064</td>\n",
       "      <td>15281.160818</td>\n",
       "    </tr>\n",
       "    <tr>\n",
       "      <th>std</th>\n",
       "      <td>250.283037</td>\n",
       "      <td>69.764035</td>\n",
       "      <td>1714.006089</td>\n",
       "    </tr>\n",
       "    <tr>\n",
       "      <th>min</th>\n",
       "      <td>-80995.000000</td>\n",
       "      <td>0.000000</td>\n",
       "      <td>12346.000000</td>\n",
       "    </tr>\n",
       "    <tr>\n",
       "      <th>25%</th>\n",
       "      <td>2.000000</td>\n",
       "      <td>1.250000</td>\n",
       "      <td>13939.000000</td>\n",
       "    </tr>\n",
       "    <tr>\n",
       "      <th>50%</th>\n",
       "      <td>5.000000</td>\n",
       "      <td>1.950000</td>\n",
       "      <td>15145.000000</td>\n",
       "    </tr>\n",
       "    <tr>\n",
       "      <th>75%</th>\n",
       "      <td>12.000000</td>\n",
       "      <td>3.750000</td>\n",
       "      <td>16784.000000</td>\n",
       "    </tr>\n",
       "    <tr>\n",
       "      <th>max</th>\n",
       "      <td>80995.000000</td>\n",
       "      <td>38970.000000</td>\n",
       "      <td>18287.000000</td>\n",
       "    </tr>\n",
       "  </tbody>\n",
       "</table>\n",
       "</div>"
      ],
      "text/plain": [
       "            Quantity      UnitPrice     CustomerID\n",
       "count  401604.000000  401604.000000  401604.000000\n",
       "mean       12.183273       3.474064   15281.160818\n",
       "std       250.283037      69.764035    1714.006089\n",
       "min    -80995.000000       0.000000   12346.000000\n",
       "25%         2.000000       1.250000   13939.000000\n",
       "50%         5.000000       1.950000   15145.000000\n",
       "75%        12.000000       3.750000   16784.000000\n",
       "max     80995.000000   38970.000000   18287.000000"
      ]
     },
     "execution_count": 166,
     "metadata": {},
     "output_type": "execute_result"
    }
   ],
   "source": [
    "df.describe()"
   ]
  },
  {
   "cell_type": "code",
   "execution_count": 167,
   "metadata": {},
   "outputs": [
    {
     "name": "stdout",
     "output_type": "stream",
     "text": [
      "Number of transactions:  22190\n",
      "Number of products bought:  3684\n",
      "Number of customers: 4372\n"
     ]
    }
   ],
   "source": [
    "print(\"Number of transactions: \", df['InvoiceNo'].nunique())\n",
    "print(\"Number of products bought: \",df['StockCode'].nunique())\n",
    "print(\"Number of customers:\", df['CustomerID'].nunique() )"
   ]
  },
  {
   "cell_type": "code",
   "execution_count": 168,
   "metadata": {},
   "outputs": [
    {
     "data": {
      "text/plain": [
       "United Kingdom    356728\n",
       "Germany             9480\n",
       "France              8475\n",
       "EIRE                7475\n",
       "Spain               2528\n",
       "Netherlands         2371\n",
       "Belgium             2069\n",
       "Switzerland         1877\n",
       "Portugal            1471\n",
       "Australia           1258\n",
       "Name: Country, dtype: int64"
      ]
     },
     "execution_count": 168,
     "metadata": {},
     "output_type": "execute_result"
    }
   ],
   "source": [
    "df.Country.value_counts().head(10)"
   ]
  },
  {
   "cell_type": "markdown",
   "metadata": {},
   "source": [
    "# RFM Model\n",
    "The majority of transaction is generated in UK, we tend to apply RFM Model to the customer in UK.\n",
    "RFM analysis is a customer segmentation mothod that uses the historical purchase behavior data of customers to divide them into difference groups, which helps the e-commerce company to identify the grand client and provide personalization services in the future.\n",
    "\n",
    "- Recency(R): Days since last purchase\n",
    "- Frequency(F): Total number of purchases\n",
    "- Monetary(M): Total amount of money customer spent."
   ]
  },
  {
   "cell_type": "code",
   "execution_count": 169,
   "metadata": {},
   "outputs": [
    {
     "name": "stdout",
     "output_type": "stream",
     "text": [
      "Number of transactions:  19857\n",
      "Number of products bought:  3661\n",
      "Number of customers: 3950\n"
     ]
    }
   ],
   "source": [
    "df_uk=df[df.Country == \"United Kingdom\"]\n",
    "print(\"Number of transactions: \", df_uk['InvoiceNo'].nunique())\n",
    "print(\"Number of products bought: \",df_uk['StockCode'].nunique())\n",
    "print(\"Number of customers:\", df_uk['CustomerID'].nunique() )\n"
   ]
  },
  {
   "cell_type": "markdown",
   "metadata": {},
   "source": [
    "## Recency"
   ]
  },
  {
   "cell_type": "markdown",
   "metadata": {},
   "source": [
    "Here we suppose the time we apply RFM model is 10 days after the latest transaction day in the dataset.\n",
    "\n",
    "As we only use the date of the invoice while calculating the recency, we add a new column named \"Date\" and extract the date of transaction.\n",
    "\n",
    "Also, we are going to calculate the last transaction time of each customer."
   ]
  },
  {
   "cell_type": "code",
   "execution_count": 171,
   "metadata": {},
   "outputs": [
    {
     "name": "stderr",
     "output_type": "stream",
     "text": [
      "c:\\python37\\lib\\site-packages\\ipykernel_launcher.py:1: SettingWithCopyWarning:\n",
      "\n",
      "\n",
      "A value is trying to be set on a copy of a slice from a DataFrame.\n",
      "Try using .loc[row_indexer,col_indexer] = value instead\n",
      "\n",
      "See the caveats in the documentation: http://pandas.pydata.org/pandas-docs/stable/user_guide/indexing.html#returning-a-view-versus-a-copy\n",
      "\n"
     ]
    },
    {
     "data": {
      "text/html": [
       "<div>\n",
       "<style scoped>\n",
       "    .dataframe tbody tr th:only-of-type {\n",
       "        vertical-align: middle;\n",
       "    }\n",
       "\n",
       "    .dataframe tbody tr th {\n",
       "        vertical-align: top;\n",
       "    }\n",
       "\n",
       "    .dataframe thead th {\n",
       "        text-align: right;\n",
       "    }\n",
       "</style>\n",
       "<table border=\"1\" class=\"dataframe\">\n",
       "  <thead>\n",
       "    <tr style=\"text-align: right;\">\n",
       "      <th></th>\n",
       "      <th>InvoiceNo</th>\n",
       "      <th>StockCode</th>\n",
       "      <th>Description</th>\n",
       "      <th>Quantity</th>\n",
       "      <th>InvoiceDate</th>\n",
       "      <th>UnitPrice</th>\n",
       "      <th>CustomerID</th>\n",
       "      <th>Country</th>\n",
       "      <th>Date</th>\n",
       "    </tr>\n",
       "  </thead>\n",
       "  <tbody>\n",
       "    <tr>\n",
       "      <th>0</th>\n",
       "      <td>536365</td>\n",
       "      <td>85123A</td>\n",
       "      <td>WHITE HANGING HEART T-LIGHT HOLDER</td>\n",
       "      <td>6</td>\n",
       "      <td>12/1/2010 8:26</td>\n",
       "      <td>2.55</td>\n",
       "      <td>17850.0</td>\n",
       "      <td>United Kingdom</td>\n",
       "      <td>2010-12-01</td>\n",
       "    </tr>\n",
       "    <tr>\n",
       "      <th>1</th>\n",
       "      <td>536365</td>\n",
       "      <td>71053</td>\n",
       "      <td>WHITE METAL LANTERN</td>\n",
       "      <td>6</td>\n",
       "      <td>12/1/2010 8:26</td>\n",
       "      <td>3.39</td>\n",
       "      <td>17850.0</td>\n",
       "      <td>United Kingdom</td>\n",
       "      <td>2010-12-01</td>\n",
       "    </tr>\n",
       "    <tr>\n",
       "      <th>2</th>\n",
       "      <td>536365</td>\n",
       "      <td>84406B</td>\n",
       "      <td>CREAM CUPID HEARTS COAT HANGER</td>\n",
       "      <td>8</td>\n",
       "      <td>12/1/2010 8:26</td>\n",
       "      <td>2.75</td>\n",
       "      <td>17850.0</td>\n",
       "      <td>United Kingdom</td>\n",
       "      <td>2010-12-01</td>\n",
       "    </tr>\n",
       "    <tr>\n",
       "      <th>3</th>\n",
       "      <td>536365</td>\n",
       "      <td>84029G</td>\n",
       "      <td>KNITTED UNION FLAG HOT WATER BOTTLE</td>\n",
       "      <td>6</td>\n",
       "      <td>12/1/2010 8:26</td>\n",
       "      <td>3.39</td>\n",
       "      <td>17850.0</td>\n",
       "      <td>United Kingdom</td>\n",
       "      <td>2010-12-01</td>\n",
       "    </tr>\n",
       "    <tr>\n",
       "      <th>4</th>\n",
       "      <td>536365</td>\n",
       "      <td>84029E</td>\n",
       "      <td>RED WOOLLY HOTTIE WHITE HEART.</td>\n",
       "      <td>6</td>\n",
       "      <td>12/1/2010 8:26</td>\n",
       "      <td>3.39</td>\n",
       "      <td>17850.0</td>\n",
       "      <td>United Kingdom</td>\n",
       "      <td>2010-12-01</td>\n",
       "    </tr>\n",
       "  </tbody>\n",
       "</table>\n",
       "</div>"
      ],
      "text/plain": [
       "  InvoiceNo StockCode                          Description  Quantity  \\\n",
       "0    536365    85123A   WHITE HANGING HEART T-LIGHT HOLDER         6   \n",
       "1    536365     71053                  WHITE METAL LANTERN         6   \n",
       "2    536365    84406B       CREAM CUPID HEARTS COAT HANGER         8   \n",
       "3    536365    84029G  KNITTED UNION FLAG HOT WATER BOTTLE         6   \n",
       "4    536365    84029E       RED WOOLLY HOTTIE WHITE HEART.         6   \n",
       "\n",
       "      InvoiceDate  UnitPrice  CustomerID         Country        Date  \n",
       "0  12/1/2010 8:26       2.55     17850.0  United Kingdom  2010-12-01  \n",
       "1  12/1/2010 8:26       3.39     17850.0  United Kingdom  2010-12-01  \n",
       "2  12/1/2010 8:26       2.75     17850.0  United Kingdom  2010-12-01  \n",
       "3  12/1/2010 8:26       3.39     17850.0  United Kingdom  2010-12-01  \n",
       "4  12/1/2010 8:26       3.39     17850.0  United Kingdom  2010-12-01  "
      ]
     },
     "execution_count": 171,
     "metadata": {},
     "output_type": "execute_result"
    }
   ],
   "source": [
    "df_uk['Date']=pd.DatetimeIndex(df_uk.InvoiceDate).date\n",
    "df_uk.head(5)"
   ]
  },
  {
   "cell_type": "code",
   "execution_count": null,
   "metadata": {},
   "outputs": [],
   "source": [
    "r_df=df_uk.groupby(by='CustomerID',as_index=False)['Date'].max()\n",
    "r_df.columns = ['CustomerID','LastPurshaceDate'] \n",
    "r_df.head()\n"
   ]
  },
  {
   "cell_type": "code",
   "execution_count": null,
   "metadata": {},
   "outputs": [],
   "source": [
    "print(\"The lastest transaction date in this dataset: \",df_uk.Date.max())\n",
    "now = r_df.LastPurshaceDate.max()+ datetime.timedelta(days=10)\n",
    "now"
   ]
  },
  {
   "cell_type": "code",
   "execution_count": null,
   "metadata": {},
   "outputs": [],
   "source": [
    "r_df[\"Recency\"]=r_df[\"LastPurshaceDate\"].apply(lambda x: (now-x).days)\n",
    "r_df.head(5)"
   ]
  },
  {
   "cell_type": "markdown",
   "metadata": {},
   "source": [
    " ## Frequency\n",
    " Frequency helps us to identify how many times a customer purchased from this e-commerce company, we need to calculate how many invoices(InvoiceNo) are mapped to the same customer (CustomerID)"
   ]
  },
  {
   "cell_type": "code",
   "execution_count": null,
   "metadata": {},
   "outputs": [],
   "source": [
    "temp=df_uk\n",
    "temp.drop_duplicates(subset=['InvoiceNo','CustomerID'],keep='first',inplace=True)\n",
    "f_df=temp.groupby(by='CustomerID',as_index=False)['InvoiceNo'].count()\n",
    "f_df.columns=['CustomerID','Frequency']\n",
    "f_df"
   ]
  },
  {
   "cell_type": "markdown",
   "metadata": {},
   "source": [
    "## Monetary\n",
    "Monetary is to measure how much did the customer spent over time, which is the sum of all the invoice the same customer has spent."
   ]
  },
  {
   "cell_type": "code",
   "execution_count": null,
   "metadata": {},
   "outputs": [],
   "source": [
    "df_uk['Cost']=df_uk.Quantity * df_uk.UnitPrice\n",
    "df_uk.head(5)"
   ]
  },
  {
   "cell_type": "code",
   "execution_count": null,
   "metadata": {},
   "outputs": [],
   "source": [
    "m_df=df_uk.groupby(by='CustomerID',as_index=False)['Cost'].sum()\n",
    "m_df.columns=['CustomerID','Monetary']\n",
    "m_df"
   ]
  },
  {
   "cell_type": "markdown",
   "metadata": {},
   "source": [
    "## RFM Model\n",
    "In this section, we are going to build a RFM to segment customer in terms of Recency, Frequency and Monetary. We assign a score from 1 to 4 to R, F and M. 4 score is the highest "
   ]
  },
  {
   "cell_type": "code",
   "execution_count": null,
   "metadata": {},
   "outputs": [],
   "source": [
    "RFM=r_df[['CustomerID','Recency']]\n",
    "RFM=RFM.merge(f_df,on=\"CustomerID\")\n",
    "RFM=RFM.merge(m_df,on=\"CustomerID\")\n",
    "RFM.CustomerID=RFM.CustomerID.astype(int)\n",
    "RFM.head(5)"
   ]
  },
  {
   "cell_type": "code",
   "execution_count": null,
   "metadata": {},
   "outputs": [],
   "source": [
    "quantiles= RFM.quantile(q=[0.25,0.5,0.75])\n",
    "quantiles.to_dict()"
   ]
  },
  {
   "cell_type": "code",
   "execution_count": null,
   "metadata": {},
   "outputs": [],
   "source": [
    "def Rscore(x,p,d):\n",
    "    if x<= d[p][0.25]:\n",
    "        return 4\n",
    "    elif x<= d[p][0.5]:\n",
    "        return 3\n",
    "    elif x<= d[p][0.75]:\n",
    "        return 2\n",
    "    else:\n",
    "        return 1\n",
    "    \n",
    "def FMscore(x,p,d):\n",
    "    if x<= d[p][0.25]:\n",
    "        return 1\n",
    "    elif x<= d[p][0.5]:\n",
    "        return 2\n",
    "    elif x<= d[p][0.75]:\n",
    "        return 3\n",
    "    else:\n",
    "        return 4"
   ]
  },
  {
   "cell_type": "code",
   "execution_count": null,
   "metadata": {},
   "outputs": [],
   "source": [
    "rfm_seg=RFM\n",
    "rfm_seg['R_Score']=rfm_seg.Recency.apply(Rscore,args=('Recency',quantiles))\n",
    "rfm_seg['F_Score']=rfm_seg.Frequency.apply(FMscore,args=('Frequency',quantiles))\n",
    "rfm_seg['M_Score']=rfm_seg.Monetary.apply(FMscore,args=('Monetary',quantiles))\n",
    "rfm_seg"
   ]
  },
  {
   "cell_type": "code",
   "execution_count": null,
   "metadata": {},
   "outputs": [],
   "source": [
    "rfm_seg['RFM_Score']=rfm_seg.R_Score.map(str)+rfm_seg.F_Score.map(str)+rfm_seg.M_Score.map(str)\n",
    "rfm_seg"
   ]
  },
  {
   "cell_type": "markdown",
   "metadata": {},
   "source": [
    "## RFM Analysis\n",
    "In this section we are going to segment our customers according to theire RFM score, the rules are as follows:\n",
    "- Grand customers: 444\n",
    "- Loyal customers: x4x\n",
    "- Big Spenders: xx4\n",
    "- Almost lost big customers: 244 or 234 or 243 or 233\n",
    "- Lost Big customers: 144 or 134 or 143 or 133\n",
    "- Less important lost customers:111\n",
    "\n",
    "We can also define as follows:\n",
    "- A-class: 444\n",
    "- B-class: 344,443,434\n",
    "- C-class: 334,343,433\n",
    "- Almost lost big customers: 244 or 234 or 243 or 233\n",
    "- Lost Big customers: 144 or 134 or 143 or 133\n",
    "- Less important lost customers: 111\n",
    "- Regular customers: Others"
   ]
  },
  {
   "cell_type": "code",
   "execution_count": null,
   "metadata": {},
   "outputs": [],
   "source": [
    "rfm_seg[rfm_seg['RFM_Score']==\"444\"]"
   ]
  },
  {
   "cell_type": "code",
   "execution_count": null,
   "metadata": {},
   "outputs": [],
   "source": [
    "print(\"Number of grand customers: \",rfm_seg[rfm_seg['RFM_Score']==\"444\"].shape[0])\n",
    "print(\"Number of loyal customers: \",rfm_seg[rfm_seg['F_Score']==4].shape[0])\n",
    "print(\"Number of big spenders: \",rfm_seg[rfm_seg['M_Score']==4].shape[0])\n",
    "print(\"Number of almost lost big customers: \",(rfm_seg[(rfm_seg['RFM_Score']==\"244\")].shape[0]+ rfm_seg[rfm_seg['RFM_Score']==\"243\"].shape[0]+ rfm_seg[rfm_seg['RFM_Score']==\"234\"].shape[0] + rfm_seg[rfm_seg['RFM_Score']==\"233\"].shape[0]))\n",
    "print(\"Number of lost big customers: \",(rfm_seg[(rfm_seg['RFM_Score']==\"144\")].shape[0]+ rfm_seg[rfm_seg['RFM_Score']==\"143\"].shape[0]+ rfm_seg[rfm_seg['RFM_Score']==\"134\"].shape[0] + rfm_seg[rfm_seg['RFM_Score']==\"133\"].shape[0]))\n",
    "print(\"Number of less important lost customers: \",rfm_seg[rfm_seg['RFM_Score']==\"111\"].shape[0])"
   ]
  },
  {
   "cell_type": "code",
   "execution_count": null,
   "metadata": {},
   "outputs": [],
   "source": [
    "rfm_seg['r_percentile']= rfm_seg.Recency.apply(lambda x : 100-stats.percentileofscore(a.Recency, x))\n",
    "rfm_seg['f_percentile']= rfm_seg.Frequency.apply(lambda x : stats.percentileofscore(a.Frequency, x))\n",
    "rfm_seg['m_percentile']= rfm_seg.Monetary.apply(lambda x : stats.percentileofscore(a.Monetary, x))"
   ]
  },
  {
   "cell_type": "code",
   "execution_count": null,
   "metadata": {},
   "outputs": [],
   "source": [
    "fig = px.scatter_3d(rfm_seg, x='r_percentile', y='f_percentile', z='m_percentile',color=\"RFM_Score\",opacity=0.8,hover_name=\"CustomerID\")\n",
    "fig.show()"
   ]
  }
 ],
 "metadata": {
  "kernelspec": {
   "display_name": "Python 3",
   "language": "python",
   "name": "python3"
  },
  "language_info": {
   "codemirror_mode": {
    "name": "ipython",
    "version": 3
   },
   "file_extension": ".py",
   "mimetype": "text/x-python",
   "name": "python",
   "nbconvert_exporter": "python",
   "pygments_lexer": "ipython3",
   "version": "3.7.6"
  },
  "toc": {
   "base_numbering": 1,
   "nav_menu": {},
   "number_sections": true,
   "sideBar": true,
   "skip_h1_title": false,
   "title_cell": "Contents",
   "title_sidebar": "Contents",
   "toc_cell": true,
   "toc_position": {
    "height": "calc(100% - 180px)",
    "left": "10px",
    "top": "150px",
    "width": "165px"
   },
   "toc_section_display": true,
   "toc_window_display": true
  }
 },
 "nbformat": 4,
 "nbformat_minor": 2
}
